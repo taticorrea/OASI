{
 "cells": [
  {
   "cell_type": "code",
   "execution_count": 1,
   "metadata": {},
   "outputs": [],
   "source": [
    "import pandas as pd\n",
    "import matplotlib.pyplot as plt\n",
    "import numpy as np\n",
    "from astropy.io import fits\n",
    "from astropy.time import Time\n",
    "plt.style.use('classic')\n",
    "import statistics as std\n",
    "%matplotlib inline"
   ]
  },
  {
   "cell_type": "markdown",
   "metadata": {},
   "source": [
    "<h1>JANEIRO</h1>"
   ]
  },
  {
   "cell_type": "code",
   "execution_count": 2,
   "metadata": {},
   "outputs": [],
   "source": [
    "dia_5_raw = pd.read_csv('JAN/2019-01-05/2019.01.05.dat',sep='\\t',names=['FILTER','EXP-TIME','DATE-OBS','XBINNING','IMAGE-NAME'])\n",
    "dia_8_raw = pd.read_csv('JAN/2019-01-08/2019.01.08.dat',sep='\\t',names=['FILTER','EXP-TIME','DATE-OBS','XBINNING','IMAGE-NAME'])\n",
    "dia_10 = pd.read_csv('JAN/2019-01-10/2019.01.10.dat',sep='\\t',names=['FILTER','EXP-TIME','DATE-OBS','XBINNING','IMAGE-NAME'])\n",
    "dia_11 = pd.read_csv('JAN/2019-01-11/2019.01.11.dat',sep='\\t',names=['FILTER','EXP-TIME','DATE-OBS','XBINNING','IMAGE-NAME'])\n",
    "dia_12 = pd.read_csv('JAN/2019-01-12/2019.01.12.dat',sep='\\t',names=['FILTER','EXP-TIME','DATE-OBS','XBINNING','IMAGE-NAME'])\n",
    "dia_13 = pd.read_csv('JAN/2019-01-13/2019.01.13.dat',sep='\\t',names=['FILTER','EXP-TIME','DATE-OBS','XBINNING','IMAGE-NAME'])\n",
    "dia_28 = pd.read_csv('JAN/2019-01-28/2019.01.28.dat',sep='\\t',names=['FILTER','EXP-TIME','DATE-OBS','XBINNING','IMAGE-NAME'])\n",
    "dia_29 = pd.read_csv('JAN/2019-01-29/2019.01.29.dat',sep='\\t',names=['FILTER','EXP-TIME','DATE-OBS','XBINNING','IMAGE-NAME'])\n",
    "dia_30 = pd.read_csv('JAN/2019-01-30/2019.01.30.dat',sep='\\t',names=['FILTER','EXP-TIME','DATE-OBS','XBINNING','IMAGE-NAME'])\n",
    "dia_31 = pd.read_csv('JAN/2019-01-31/2019.01.31.dat',sep='\\t',names=['FILTER','EXP-TIME','DATE-OBS','XBINNING','IMAGE-NAME'])"
   ]
  },
  {
   "cell_type": "code",
   "execution_count": 3,
   "metadata": {},
   "outputs": [
    {
     "data": {
      "text/html": [
       "<div>\n",
       "<style scoped>\n",
       "    .dataframe tbody tr th:only-of-type {\n",
       "        vertical-align: middle;\n",
       "    }\n",
       "\n",
       "    .dataframe tbody tr th {\n",
       "        vertical-align: top;\n",
       "    }\n",
       "\n",
       "    .dataframe thead th {\n",
       "        text-align: right;\n",
       "    }\n",
       "</style>\n",
       "<table border=\"1\" class=\"dataframe\">\n",
       "  <thead>\n",
       "    <tr style=\"text-align: right;\">\n",
       "      <th></th>\n",
       "      <th>FILTER</th>\n",
       "      <th>EXP-TIME</th>\n",
       "      <th>DATE-OBS</th>\n",
       "      <th>XBINNING</th>\n",
       "      <th>IMAGE-NAME</th>\n",
       "    </tr>\n",
       "  </thead>\n",
       "  <tbody>\n",
       "    <tr>\n",
       "      <th>0</th>\n",
       "      <td>R</td>\n",
       "      <td>80.0</td>\n",
       "      <td>2019-01-05T22:28:49</td>\n",
       "      <td>2</td>\n",
       "      <td>2002LJ3_80s_b2x2-001_R.fit</td>\n",
       "    </tr>\n",
       "    <tr>\n",
       "      <th>1</th>\n",
       "      <td>R</td>\n",
       "      <td>80.0</td>\n",
       "      <td>2019-01-05T22:31:12</td>\n",
       "      <td>2</td>\n",
       "      <td>2002LJ3_80s_b2x2-002_R.fit</td>\n",
       "    </tr>\n",
       "    <tr>\n",
       "      <th>2</th>\n",
       "      <td>R</td>\n",
       "      <td>80.0</td>\n",
       "      <td>2019-01-05T22:33:35</td>\n",
       "      <td>2</td>\n",
       "      <td>2002LJ3_80s_b2x2-003_R.fit</td>\n",
       "    </tr>\n",
       "    <tr>\n",
       "      <th>3</th>\n",
       "      <td>R</td>\n",
       "      <td>80.0</td>\n",
       "      <td>2019-01-05T22:35:59</td>\n",
       "      <td>2</td>\n",
       "      <td>2002LJ3_80s_b2x2-004_R.fit</td>\n",
       "    </tr>\n",
       "    <tr>\n",
       "      <th>4</th>\n",
       "      <td>R</td>\n",
       "      <td>80.0</td>\n",
       "      <td>2019-01-05T23:13:07</td>\n",
       "      <td>2</td>\n",
       "      <td>2002LJ3_80s_b2x2-005_R.fit</td>\n",
       "    </tr>\n",
       "    <tr>\n",
       "      <th>...</th>\n",
       "      <td>...</td>\n",
       "      <td>...</td>\n",
       "      <td>...</td>\n",
       "      <td>...</td>\n",
       "      <td>...</td>\n",
       "    </tr>\n",
       "    <tr>\n",
       "      <th>304</th>\n",
       "      <td>R</td>\n",
       "      <td>15.0</td>\n",
       "      <td>2019-02-01T02:40:10</td>\n",
       "      <td>2</td>\n",
       "      <td>GD108_15s_b2x2-022_R.fit</td>\n",
       "    </tr>\n",
       "    <tr>\n",
       "      <th>305</th>\n",
       "      <td>R</td>\n",
       "      <td>15.0</td>\n",
       "      <td>2019-02-01T02:40:28</td>\n",
       "      <td>2</td>\n",
       "      <td>GD108_15s_b2x2-023_R.fit</td>\n",
       "    </tr>\n",
       "    <tr>\n",
       "      <th>306</th>\n",
       "      <td>R</td>\n",
       "      <td>15.0</td>\n",
       "      <td>2019-02-01T02:40:47</td>\n",
       "      <td>2</td>\n",
       "      <td>GD108_15s_b2x2-024_R.fit</td>\n",
       "    </tr>\n",
       "    <tr>\n",
       "      <th>307</th>\n",
       "      <td>R</td>\n",
       "      <td>15.0</td>\n",
       "      <td>2019-02-01T02:41:04</td>\n",
       "      <td>2</td>\n",
       "      <td>GD108_15s_b2x2-025_R.fit</td>\n",
       "    </tr>\n",
       "    <tr>\n",
       "      <th>308</th>\n",
       "      <td>R</td>\n",
       "      <td>15.0</td>\n",
       "      <td>2019-02-01T02:41:22</td>\n",
       "      <td>2</td>\n",
       "      <td>GD108_15s_b2x2-026_R.fit</td>\n",
       "    </tr>\n",
       "  </tbody>\n",
       "</table>\n",
       "<p>2883 rows × 5 columns</p>\n",
       "</div>"
      ],
      "text/plain": [
       "    FILTER  EXP-TIME             DATE-OBS  XBINNING  \\\n",
       "0        R      80.0  2019-01-05T22:28:49         2   \n",
       "1        R      80.0  2019-01-05T22:31:12         2   \n",
       "2        R      80.0  2019-01-05T22:33:35         2   \n",
       "3        R      80.0  2019-01-05T22:35:59         2   \n",
       "4        R      80.0  2019-01-05T23:13:07         2   \n",
       "..     ...       ...                  ...       ...   \n",
       "304      R      15.0  2019-02-01T02:40:10         2   \n",
       "305      R      15.0  2019-02-01T02:40:28         2   \n",
       "306      R      15.0  2019-02-01T02:40:47         2   \n",
       "307      R      15.0  2019-02-01T02:41:04         2   \n",
       "308      R      15.0  2019-02-01T02:41:22         2   \n",
       "\n",
       "                     IMAGE-NAME  \n",
       "0    2002LJ3_80s_b2x2-001_R.fit  \n",
       "1    2002LJ3_80s_b2x2-002_R.fit  \n",
       "2    2002LJ3_80s_b2x2-003_R.fit  \n",
       "3    2002LJ3_80s_b2x2-004_R.fit  \n",
       "4    2002LJ3_80s_b2x2-005_R.fit  \n",
       "..                          ...  \n",
       "304    GD108_15s_b2x2-022_R.fit  \n",
       "305    GD108_15s_b2x2-023_R.fit  \n",
       "306    GD108_15s_b2x2-024_R.fit  \n",
       "307    GD108_15s_b2x2-025_R.fit  \n",
       "308    GD108_15s_b2x2-026_R.fit  \n",
       "\n",
       "[2883 rows x 5 columns]"
      ]
     },
     "execution_count": 3,
     "metadata": {},
     "output_type": "execute_result"
    }
   ],
   "source": [
    "JAN = pd.concat([dia_5_raw,dia_8_raw,dia_10,dia_11,dia_12,dia_13,dia_28,dia_29,dia_30,dia_31], sort=False)\n",
    "JAN.to_csv('JAN_dados.csv')\n",
    "JAN"
   ]
  },
  {
   "cell_type": "markdown",
   "metadata": {},
   "source": [
    "<h1>FEVEREIRO</h1>"
   ]
  },
  {
   "cell_type": "code",
   "execution_count": 4,
   "metadata": {},
   "outputs": [],
   "source": [
    "dia_1 = pd.read_csv('FEV/2019-02-01/2019.02.01.dat',sep='\\t',names=['FILTER','EXP-TIME','DATE-OBS','XBINNING','IMAGE-NAME'])\n",
    "dia_3 = pd.read_csv('FEV/2019-02-03/2019.02.03.dat',sep='\\t',names=['FILTER','EXP-TIME','DATE-OBS','XBINNING','IMAGE-NAME'])\n",
    "dia_4 = pd.read_csv('FEV/2019-02-04/2019.02.04.dat',sep='\\t',names=['FILTER','EXP-TIME','DATE-OBS','XBINNING','IMAGE-NAME'])\n",
    "dia_5 = pd.read_csv('FEV/2019-02-05/2019.02.05.dat',sep='\\t',names=['FILTER','EXP-TIME','DATE-OBS','XBINNING','IMAGE-NAME'])\n",
    "dia_7 = pd.read_csv('FEV/2019-02-07/2019.02.07.dat',sep='\\t',names=['FILTER','EXP-TIME','DATE-OBS','XBINNING','IMAGE-NAME'])\n",
    "dia_8 = pd.read_csv('FEV/2019-02-08/2019.02.08.dat',sep='\\t',names=['FILTER','EXP-TIME','DATE-OBS','XBINNING','IMAGE-NAME'])\n",
    "dia_9 = pd.read_csv('FEV/2019-02-09/2019.02.09.dat',sep='\\t',names=['FILTER','EXP-TIME','DATE-OBS','XBINNING','IMAGE-NAME'])\n",
    "dia_10 = pd.read_csv('FEV/2019-02-10/2019.02.10.dat',sep='\\t',names=['FILTER','EXP-TIME','DATE-OBS','XBINNING','IMAGE-NAME'])\n",
    "dia_11 = pd.read_csv('FEV/2019-02-11/2019.02.11.dat',sep='\\t',names=['FILTER','EXP-TIME','DATE-OBS','XBINNING','IMAGE-NAME'])\n",
    "dia_27 = pd.read_csv('FEV/2019-02-27/2019.02.27.dat',sep='\\t',names=['FILTER','EXP-TIME','DATE-OBS','XBINNING','IMAGE-NAME'])\n",
    "dia_28 = pd.read_csv('FEV/2019-02-28/2019.02.28.dat',sep='\\t',names=['FILTER','EXP-TIME','DATE-OBS','XBINNING','IMAGE-NAME'])"
   ]
  },
  {
   "cell_type": "code",
   "execution_count": 5,
   "metadata": {},
   "outputs": [
    {
     "data": {
      "text/html": [
       "<div>\n",
       "<style scoped>\n",
       "    .dataframe tbody tr th:only-of-type {\n",
       "        vertical-align: middle;\n",
       "    }\n",
       "\n",
       "    .dataframe tbody tr th {\n",
       "        vertical-align: top;\n",
       "    }\n",
       "\n",
       "    .dataframe thead th {\n",
       "        text-align: right;\n",
       "    }\n",
       "</style>\n",
       "<table border=\"1\" class=\"dataframe\">\n",
       "  <thead>\n",
       "    <tr style=\"text-align: right;\">\n",
       "      <th></th>\n",
       "      <th>FILTER</th>\n",
       "      <th>EXP-TIME</th>\n",
       "      <th>DATE-OBS</th>\n",
       "      <th>XBINNING</th>\n",
       "      <th>IMAGE-NAME</th>\n",
       "    </tr>\n",
       "  </thead>\n",
       "  <tbody>\n",
       "    <tr>\n",
       "      <th>0</th>\n",
       "      <td>R</td>\n",
       "      <td>50.0</td>\n",
       "      <td>2019-02-01T22:29:58</td>\n",
       "      <td>2</td>\n",
       "      <td>2003YE45_50s_b2x2-001_R.fit</td>\n",
       "    </tr>\n",
       "    <tr>\n",
       "      <th>1</th>\n",
       "      <td>R</td>\n",
       "      <td>50.0</td>\n",
       "      <td>2019-02-01T22:48:21</td>\n",
       "      <td>2</td>\n",
       "      <td>2003YE45_50s_b2x2-002_R.fit</td>\n",
       "    </tr>\n",
       "    <tr>\n",
       "      <th>2</th>\n",
       "      <td>R</td>\n",
       "      <td>50.0</td>\n",
       "      <td>2019-02-01T22:49:14</td>\n",
       "      <td>2</td>\n",
       "      <td>2003YE45_50s_b2x2-003_R.fit</td>\n",
       "    </tr>\n",
       "    <tr>\n",
       "      <th>3</th>\n",
       "      <td>R</td>\n",
       "      <td>50.0</td>\n",
       "      <td>2019-02-01T22:50:07</td>\n",
       "      <td>2</td>\n",
       "      <td>2003YE45_50s_b2x2-004_R.fit</td>\n",
       "    </tr>\n",
       "    <tr>\n",
       "      <th>4</th>\n",
       "      <td>R</td>\n",
       "      <td>50.0</td>\n",
       "      <td>2019-02-01T22:51:01</td>\n",
       "      <td>2</td>\n",
       "      <td>2003YE45_50s_b2x2-005_R.fit</td>\n",
       "    </tr>\n",
       "    <tr>\n",
       "      <th>...</th>\n",
       "      <td>...</td>\n",
       "      <td>...</td>\n",
       "      <td>...</td>\n",
       "      <td>...</td>\n",
       "      <td>...</td>\n",
       "    </tr>\n",
       "    <tr>\n",
       "      <th>221</th>\n",
       "      <td>R</td>\n",
       "      <td>15.0</td>\n",
       "      <td>2019-03-01T04:24:07</td>\n",
       "      <td>2</td>\n",
       "      <td>GD108_15s_b2x2-011_R.fit</td>\n",
       "    </tr>\n",
       "    <tr>\n",
       "      <th>222</th>\n",
       "      <td>R</td>\n",
       "      <td>15.0</td>\n",
       "      <td>2019-03-01T04:25:25</td>\n",
       "      <td>2</td>\n",
       "      <td>GD108_15s_b2x2-012_R.fit</td>\n",
       "    </tr>\n",
       "    <tr>\n",
       "      <th>223</th>\n",
       "      <td>R</td>\n",
       "      <td>15.0</td>\n",
       "      <td>2019-03-01T04:26:43</td>\n",
       "      <td>2</td>\n",
       "      <td>GD108_15s_b2x2-013_R.fit</td>\n",
       "    </tr>\n",
       "    <tr>\n",
       "      <th>224</th>\n",
       "      <td>R</td>\n",
       "      <td>15.0</td>\n",
       "      <td>2019-03-01T04:28:01</td>\n",
       "      <td>2</td>\n",
       "      <td>GD108_15s_b2x2-014_R.fit</td>\n",
       "    </tr>\n",
       "    <tr>\n",
       "      <th>225</th>\n",
       "      <td>R</td>\n",
       "      <td>15.0</td>\n",
       "      <td>2019-03-01T04:29:20</td>\n",
       "      <td>2</td>\n",
       "      <td>GD108_15s_b2x2-015_R.fit</td>\n",
       "    </tr>\n",
       "  </tbody>\n",
       "</table>\n",
       "<p>2158 rows × 5 columns</p>\n",
       "</div>"
      ],
      "text/plain": [
       "    FILTER  EXP-TIME             DATE-OBS  XBINNING  \\\n",
       "0        R      50.0  2019-02-01T22:29:58         2   \n",
       "1        R      50.0  2019-02-01T22:48:21         2   \n",
       "2        R      50.0  2019-02-01T22:49:14         2   \n",
       "3        R      50.0  2019-02-01T22:50:07         2   \n",
       "4        R      50.0  2019-02-01T22:51:01         2   \n",
       "..     ...       ...                  ...       ...   \n",
       "221      R      15.0  2019-03-01T04:24:07         2   \n",
       "222      R      15.0  2019-03-01T04:25:25         2   \n",
       "223      R      15.0  2019-03-01T04:26:43         2   \n",
       "224      R      15.0  2019-03-01T04:28:01         2   \n",
       "225      R      15.0  2019-03-01T04:29:20         2   \n",
       "\n",
       "                      IMAGE-NAME  \n",
       "0    2003YE45_50s_b2x2-001_R.fit  \n",
       "1    2003YE45_50s_b2x2-002_R.fit  \n",
       "2    2003YE45_50s_b2x2-003_R.fit  \n",
       "3    2003YE45_50s_b2x2-004_R.fit  \n",
       "4    2003YE45_50s_b2x2-005_R.fit  \n",
       "..                           ...  \n",
       "221     GD108_15s_b2x2-011_R.fit  \n",
       "222     GD108_15s_b2x2-012_R.fit  \n",
       "223     GD108_15s_b2x2-013_R.fit  \n",
       "224     GD108_15s_b2x2-014_R.fit  \n",
       "225     GD108_15s_b2x2-015_R.fit  \n",
       "\n",
       "[2158 rows x 5 columns]"
      ]
     },
     "execution_count": 5,
     "metadata": {},
     "output_type": "execute_result"
    }
   ],
   "source": [
    "FEV = pd.concat([dia_1,dia_3,dia_4,dia_5,dia_7,dia_8,dia_9,dia_10,dia_11,dia_27,dia_28], sort=False)\n",
    "FEV.to_csv('FEV_dados.csv')\n",
    "FEV"
   ]
  },
  {
   "cell_type": "markdown",
   "metadata": {},
   "source": [
    "<h1>MARÇO</h1>"
   ]
  },
  {
   "cell_type": "code",
   "execution_count": 6,
   "metadata": {},
   "outputs": [],
   "source": [
    "dia_1 = pd.read_csv('MAR/2019-03-01/2019.03.01.dat',sep='\\t',names=['FILTER','EXP-TIME','DATE-OBS','XBINNING','IMAGE-NAME'])\n",
    "dia_2 = pd.read_csv('MAR/2019-03-02/2019.03.02.dat',sep='\\t',names=['FILTER','EXP-TIME','DATE-OBS','XBINNING','IMAGE-NAME'])\n",
    "dia_5 = pd.read_csv('MAR/2019-03-05/2019.03.05.dat',sep='\\t',names=['FILTER','EXP-TIME','DATE-OBS','XBINNING','IMAGE-NAME'])\n",
    "dia_6 = pd.read_csv('MAR/2019-03-06/2019.03.06.dat',sep='\\t',names=['FILTER','EXP-TIME','DATE-OBS','XBINNING','IMAGE-NAME'])\n",
    "dia_8 = pd.read_csv('MAR/2019-03-08/2019.03.08.dat',sep='\\t',names=['FILTER','EXP-TIME','DATE-OBS','XBINNING','IMAGE-NAME'])\n",
    "dia_9 = pd.read_csv('MAR/2019-03-09/2019.03.09.dat',sep='\\t',names=['FILTER','EXP-TIME','DATE-OBS','XBINNING','IMAGE-NAME'])\n",
    "dia_10 = pd.read_csv('MAR/2019-03-10/2019.03.10.dat',sep='\\t',names=['FILTER','EXP-TIME','DATE-OBS','XBINNING','IMAGE-NAME'])\n",
    "dia_11 = pd.read_csv('MAR/2019-03-11/2019.03.11.dat',sep='\\t',names=['FILTER','EXP-TIME','DATE-OBS','XBINNING','IMAGE-NAME'])\n",
    "dia_12 = pd.read_csv('MAR/2019-03-12/2019.03.12.dat',sep='\\t',names=['FILTER','EXP-TIME','DATE-OBS','XBINNING','IMAGE-NAME'])\n",
    "dia_29 = pd.read_csv('MAR/2019-03-29/2019.03.29.dat',sep='\\t',names=['FILTER','EXP-TIME','DATE-OBS','XBINNING','IMAGE-NAME'])\n",
    "dia_31 = pd.read_csv('MAR/2019-03-31/2019.03.31.dat',sep='\\t',names=['FILTER','EXP-TIME','DATE-OBS','XBINNING','IMAGE-NAME'])"
   ]
  },
  {
   "cell_type": "code",
   "execution_count": 7,
   "metadata": {},
   "outputs": [
    {
     "data": {
      "text/html": [
       "<div>\n",
       "<style scoped>\n",
       "    .dataframe tbody tr th:only-of-type {\n",
       "        vertical-align: middle;\n",
       "    }\n",
       "\n",
       "    .dataframe tbody tr th {\n",
       "        vertical-align: top;\n",
       "    }\n",
       "\n",
       "    .dataframe thead th {\n",
       "        text-align: right;\n",
       "    }\n",
       "</style>\n",
       "<table border=\"1\" class=\"dataframe\">\n",
       "  <thead>\n",
       "    <tr style=\"text-align: right;\">\n",
       "      <th></th>\n",
       "      <th>FILTER</th>\n",
       "      <th>EXP-TIME</th>\n",
       "      <th>DATE-OBS</th>\n",
       "      <th>XBINNING</th>\n",
       "      <th>IMAGE-NAME</th>\n",
       "    </tr>\n",
       "  </thead>\n",
       "  <tbody>\n",
       "    <tr>\n",
       "      <th>0</th>\n",
       "      <td>R</td>\n",
       "      <td>40.0</td>\n",
       "      <td>2019-03-01T22:46:58</td>\n",
       "      <td>2</td>\n",
       "      <td>1998NU_40s_b2x2-001_R.fit</td>\n",
       "    </tr>\n",
       "    <tr>\n",
       "      <th>1</th>\n",
       "      <td>R</td>\n",
       "      <td>40.0</td>\n",
       "      <td>2019-03-01T22:48:41</td>\n",
       "      <td>2</td>\n",
       "      <td>1998NU_40s_b2x2-002_R.fit</td>\n",
       "    </tr>\n",
       "    <tr>\n",
       "      <th>2</th>\n",
       "      <td>R</td>\n",
       "      <td>40.0</td>\n",
       "      <td>2019-03-01T22:50:24</td>\n",
       "      <td>2</td>\n",
       "      <td>1998NU_40s_b2x2-003_R.fit</td>\n",
       "    </tr>\n",
       "    <tr>\n",
       "      <th>3</th>\n",
       "      <td>R</td>\n",
       "      <td>40.0</td>\n",
       "      <td>2019-03-01T22:52:06</td>\n",
       "      <td>2</td>\n",
       "      <td>1998NU_40s_b2x2-004_R.fit</td>\n",
       "    </tr>\n",
       "    <tr>\n",
       "      <th>4</th>\n",
       "      <td>R</td>\n",
       "      <td>40.0</td>\n",
       "      <td>2019-03-01T22:53:49</td>\n",
       "      <td>2</td>\n",
       "      <td>1998NU_40s_b2x2-005_R.fit</td>\n",
       "    </tr>\n",
       "    <tr>\n",
       "      <th>...</th>\n",
       "      <td>...</td>\n",
       "      <td>...</td>\n",
       "      <td>...</td>\n",
       "      <td>...</td>\n",
       "      <td>...</td>\n",
       "    </tr>\n",
       "    <tr>\n",
       "      <th>156</th>\n",
       "      <td>R</td>\n",
       "      <td>50.0</td>\n",
       "      <td>2019-04-01T03:33:52</td>\n",
       "      <td>2</td>\n",
       "      <td>666_50s_b2x2-077_R.fit</td>\n",
       "    </tr>\n",
       "    <tr>\n",
       "      <th>157</th>\n",
       "      <td>R</td>\n",
       "      <td>50.0</td>\n",
       "      <td>2019-04-01T03:34:44</td>\n",
       "      <td>2</td>\n",
       "      <td>666_50s_b2x2-078_R.fit</td>\n",
       "    </tr>\n",
       "    <tr>\n",
       "      <th>158</th>\n",
       "      <td>R</td>\n",
       "      <td>50.0</td>\n",
       "      <td>2019-04-01T03:35:36</td>\n",
       "      <td>2</td>\n",
       "      <td>666_50s_b2x2-079_R.fit</td>\n",
       "    </tr>\n",
       "    <tr>\n",
       "      <th>159</th>\n",
       "      <td>R</td>\n",
       "      <td>50.0</td>\n",
       "      <td>2019-04-01T03:36:27</td>\n",
       "      <td>2</td>\n",
       "      <td>666_50s_b2x2-080_R.fit</td>\n",
       "    </tr>\n",
       "    <tr>\n",
       "      <th>160</th>\n",
       "      <td>R</td>\n",
       "      <td>50.0</td>\n",
       "      <td>2019-04-01T03:37:20</td>\n",
       "      <td>2</td>\n",
       "      <td>666_50s_b2x2-081_R.fit</td>\n",
       "    </tr>\n",
       "  </tbody>\n",
       "</table>\n",
       "<p>2358 rows × 5 columns</p>\n",
       "</div>"
      ],
      "text/plain": [
       "    FILTER  EXP-TIME             DATE-OBS  XBINNING                 IMAGE-NAME\n",
       "0        R      40.0  2019-03-01T22:46:58         2  1998NU_40s_b2x2-001_R.fit\n",
       "1        R      40.0  2019-03-01T22:48:41         2  1998NU_40s_b2x2-002_R.fit\n",
       "2        R      40.0  2019-03-01T22:50:24         2  1998NU_40s_b2x2-003_R.fit\n",
       "3        R      40.0  2019-03-01T22:52:06         2  1998NU_40s_b2x2-004_R.fit\n",
       "4        R      40.0  2019-03-01T22:53:49         2  1998NU_40s_b2x2-005_R.fit\n",
       "..     ...       ...                  ...       ...                        ...\n",
       "156      R      50.0  2019-04-01T03:33:52         2     666_50s_b2x2-077_R.fit\n",
       "157      R      50.0  2019-04-01T03:34:44         2     666_50s_b2x2-078_R.fit\n",
       "158      R      50.0  2019-04-01T03:35:36         2     666_50s_b2x2-079_R.fit\n",
       "159      R      50.0  2019-04-01T03:36:27         2     666_50s_b2x2-080_R.fit\n",
       "160      R      50.0  2019-04-01T03:37:20         2     666_50s_b2x2-081_R.fit\n",
       "\n",
       "[2358 rows x 5 columns]"
      ]
     },
     "execution_count": 7,
     "metadata": {},
     "output_type": "execute_result"
    }
   ],
   "source": [
    "MAR = pd.concat([dia_1,dia_2,dia_5,dia_6,dia_8,dia_9,dia_10,dia_11,dia_12,dia_29,dia_31], sort=False)\n",
    "MAR.to_csv('MAR_dados.csv')\n",
    "MAR"
   ]
  },
  {
   "cell_type": "markdown",
   "metadata": {},
   "source": [
    "<h1>ABRIL</h1>"
   ]
  },
  {
   "cell_type": "code",
   "execution_count": 8,
   "metadata": {},
   "outputs": [],
   "source": [
    "dia_1 = pd.read_csv('ABR/2019-04-01/2019.04.01.dat',sep='\\t',names=['FILTER','EXP-TIME','DATE-OBS','XBINNING','IMAGE-NAME'])\n",
    "dia_2 = pd.read_csv('ABR/2019-04-02/2019.04.02.dat',sep='\\t',names=['FILTER','EXP-TIME','DATE-OBS','XBINNING','IMAGE-NAME'])\n",
    "dia_3 = pd.read_csv('ABR/2019-04-03/2019.04.03.dat',sep='\\t',names=['FILTER','EXP-TIME','DATE-OBS','XBINNING','IMAGE-NAME'])\n",
    "dia_4 = pd.read_csv('ABR/2019-04-04/2019.04.04.dat',sep='\\t',names=['FILTER','EXP-TIME','DATE-OBS','XBINNING','IMAGE-NAME'])\n",
    "dia_5 = pd.read_csv('ABR/2019-04-05/2019.04.05.dat',sep='\\t',names=['FILTER','EXP-TIME','DATE-OBS','XBINNING','IMAGE-NAME'])\n",
    "dia_7 = pd.read_csv('ABR/2019-04-07/2019.04.07.dat',sep='\\t',names=['FILTER','EXP-TIME','DATE-OBS','XBINNING','IMAGE-NAME'])\n",
    "dia_9 = pd.read_csv('ABR/2019-04-09/2019.04.09.dat',sep='\\t',names=['FILTER','EXP-TIME','DATE-OBS','XBINNING','IMAGE-NAME'])\n",
    "dia_10 = pd.read_csv('ABR/2019-04-10/2019.04.10.dat',sep='\\t',names=['FILTER','EXP-TIME','DATE-OBS','XBINNING','IMAGE-NAME'])\n",
    "dia_11 = pd.read_csv('ABR/2019-04-11/2019.04.11.dat',sep='\\t',names=['FILTER','EXP-TIME','DATE-OBS','XBINNING','IMAGE-NAME'])\n",
    "dia_12 = pd.read_csv('ABR/2019-04-12/2019.04.12.dat',sep='\\t',names=['FILTER','EXP-TIME','DATE-OBS','XBINNING','IMAGE-NAME'])\n",
    "dia_27 = pd.read_csv('ABR/2019-04-27/2019.04.27.dat',sep='\\t',names=['FILTER','EXP-TIME','DATE-OBS','XBINNING','IMAGE-NAME'])\n",
    "dia_29 = pd.read_csv('ABR/2019-04-29/2019.04.29.dat',sep='\\t',names=['FILTER','EXP-TIME','DATE-OBS','XBINNING','IMAGE-NAME'])"
   ]
  },
  {
   "cell_type": "code",
   "execution_count": 9,
   "metadata": {},
   "outputs": [
    {
     "data": {
      "text/html": [
       "<div>\n",
       "<style scoped>\n",
       "    .dataframe tbody tr th:only-of-type {\n",
       "        vertical-align: middle;\n",
       "    }\n",
       "\n",
       "    .dataframe tbody tr th {\n",
       "        vertical-align: top;\n",
       "    }\n",
       "\n",
       "    .dataframe thead th {\n",
       "        text-align: right;\n",
       "    }\n",
       "</style>\n",
       "<table border=\"1\" class=\"dataframe\">\n",
       "  <thead>\n",
       "    <tr style=\"text-align: right;\">\n",
       "      <th></th>\n",
       "      <th>FILTER</th>\n",
       "      <th>EXP-TIME</th>\n",
       "      <th>DATE-OBS</th>\n",
       "      <th>XBINNING</th>\n",
       "      <th>IMAGE-NAME</th>\n",
       "    </tr>\n",
       "  </thead>\n",
       "  <tbody>\n",
       "    <tr>\n",
       "      <th>0</th>\n",
       "      <td>g</td>\n",
       "      <td>15.0</td>\n",
       "      <td>2019-04-02T00:11:06</td>\n",
       "      <td>2</td>\n",
       "      <td>PG0918_15s_b2x2-001_g.fit</td>\n",
       "    </tr>\n",
       "    <tr>\n",
       "      <th>1</th>\n",
       "      <td>i</td>\n",
       "      <td>15.0</td>\n",
       "      <td>2019-04-02T00:11:44</td>\n",
       "      <td>2</td>\n",
       "      <td>PG0918_15s_b2x2-001_i.fit</td>\n",
       "    </tr>\n",
       "    <tr>\n",
       "      <th>2</th>\n",
       "      <td>r</td>\n",
       "      <td>15.0</td>\n",
       "      <td>2019-04-02T00:11:25</td>\n",
       "      <td>2</td>\n",
       "      <td>PG0918_15s_b2x2-001_r.fit</td>\n",
       "    </tr>\n",
       "    <tr>\n",
       "      <th>3</th>\n",
       "      <td>z</td>\n",
       "      <td>15.0</td>\n",
       "      <td>2019-04-02T00:12:03</td>\n",
       "      <td>2</td>\n",
       "      <td>PG0918_15s_b2x2-001_z.fit</td>\n",
       "    </tr>\n",
       "    <tr>\n",
       "      <th>4</th>\n",
       "      <td>g</td>\n",
       "      <td>15.0</td>\n",
       "      <td>2019-04-02T00:12:23</td>\n",
       "      <td>2</td>\n",
       "      <td>PG0918_15s_b2x2-002_g.fit</td>\n",
       "    </tr>\n",
       "    <tr>\n",
       "      <th>...</th>\n",
       "      <td>...</td>\n",
       "      <td>...</td>\n",
       "      <td>...</td>\n",
       "      <td>...</td>\n",
       "      <td>...</td>\n",
       "    </tr>\n",
       "    <tr>\n",
       "      <th>168</th>\n",
       "      <td>R</td>\n",
       "      <td>6.0</td>\n",
       "      <td>2019-04-30T01:34:52</td>\n",
       "      <td>2</td>\n",
       "      <td>PG1407-013_6s_b2x2-011_R.fit</td>\n",
       "    </tr>\n",
       "    <tr>\n",
       "      <th>169</th>\n",
       "      <td>R</td>\n",
       "      <td>6.0</td>\n",
       "      <td>2019-04-30T01:35:00</td>\n",
       "      <td>2</td>\n",
       "      <td>PG1407-013_6s_b2x2-012_R.fit</td>\n",
       "    </tr>\n",
       "    <tr>\n",
       "      <th>170</th>\n",
       "      <td>R</td>\n",
       "      <td>6.0</td>\n",
       "      <td>2019-04-30T01:35:08</td>\n",
       "      <td>2</td>\n",
       "      <td>PG1407-013_6s_b2x2-013_R.fit</td>\n",
       "    </tr>\n",
       "    <tr>\n",
       "      <th>171</th>\n",
       "      <td>R</td>\n",
       "      <td>6.0</td>\n",
       "      <td>2019-04-30T01:35:17</td>\n",
       "      <td>2</td>\n",
       "      <td>PG1407-013_6s_b2x2-014_R.fit</td>\n",
       "    </tr>\n",
       "    <tr>\n",
       "      <th>172</th>\n",
       "      <td>R</td>\n",
       "      <td>6.0</td>\n",
       "      <td>2019-04-30T01:35:25</td>\n",
       "      <td>2</td>\n",
       "      <td>PG1407-013_6s_b2x2-015_R.fit</td>\n",
       "    </tr>\n",
       "  </tbody>\n",
       "</table>\n",
       "<p>2283 rows × 5 columns</p>\n",
       "</div>"
      ],
      "text/plain": [
       "    FILTER  EXP-TIME             DATE-OBS  XBINNING  \\\n",
       "0        g      15.0  2019-04-02T00:11:06         2   \n",
       "1        i      15.0  2019-04-02T00:11:44         2   \n",
       "2        r      15.0  2019-04-02T00:11:25         2   \n",
       "3        z      15.0  2019-04-02T00:12:03         2   \n",
       "4        g      15.0  2019-04-02T00:12:23         2   \n",
       "..     ...       ...                  ...       ...   \n",
       "168      R       6.0  2019-04-30T01:34:52         2   \n",
       "169      R       6.0  2019-04-30T01:35:00         2   \n",
       "170      R       6.0  2019-04-30T01:35:08         2   \n",
       "171      R       6.0  2019-04-30T01:35:17         2   \n",
       "172      R       6.0  2019-04-30T01:35:25         2   \n",
       "\n",
       "                       IMAGE-NAME  \n",
       "0       PG0918_15s_b2x2-001_g.fit  \n",
       "1       PG0918_15s_b2x2-001_i.fit  \n",
       "2       PG0918_15s_b2x2-001_r.fit  \n",
       "3       PG0918_15s_b2x2-001_z.fit  \n",
       "4       PG0918_15s_b2x2-002_g.fit  \n",
       "..                            ...  \n",
       "168  PG1407-013_6s_b2x2-011_R.fit  \n",
       "169  PG1407-013_6s_b2x2-012_R.fit  \n",
       "170  PG1407-013_6s_b2x2-013_R.fit  \n",
       "171  PG1407-013_6s_b2x2-014_R.fit  \n",
       "172  PG1407-013_6s_b2x2-015_R.fit  \n",
       "\n",
       "[2283 rows x 5 columns]"
      ]
     },
     "execution_count": 9,
     "metadata": {},
     "output_type": "execute_result"
    }
   ],
   "source": [
    "ABR = pd.concat([dia_1,dia_2,dia_3,dia_4,dia_5,dia_7,dia_9,dia_10,dia_11,dia_12,dia_27,dia_29], sort=False)\n",
    "ABR.to_csv('ABR_dados.csv')\n",
    "ABR"
   ]
  },
  {
   "cell_type": "markdown",
   "metadata": {},
   "source": [
    "<h1>MAIO</h1>"
   ]
  },
  {
   "cell_type": "code",
   "execution_count": 10,
   "metadata": {},
   "outputs": [],
   "source": [
    "dia_1 = pd.read_csv('MAI/2019-05-01/2019.05.01.dat',sep='\\t',names=['FILTER','EXP-TIME','DATE-OBS','XBINNING','IMAGE-NAME'])\n",
    "dia_2 = pd.read_csv('MAI/2019-05-02/2019.05.02.dat',sep='\\t',names=['FILTER','EXP-TIME','DATE-OBS','XBINNING','IMAGE-NAME'])\n",
    "dia_3 = pd.read_csv('MAI/2019-05-03/2019.05.03.dat',sep='\\t',names=['FILTER','EXP-TIME','DATE-OBS','XBINNING','IMAGE-NAME'])\n",
    "dia_4 = pd.read_csv('MAI/2019-05-04/2019.05.04.dat',sep='\\t',names=['FILTER','EXP-TIME','DATE-OBS','XBINNING','IMAGE-NAME'])\n",
    "dia_5 = pd.read_csv('MAI/2019-05-05/2019.05.05.dat',sep='\\t',names=['FILTER','EXP-TIME','DATE-OBS','XBINNING','IMAGE-NAME'])\n",
    "dia_6 = pd.read_csv('MAI/2019-05-06/2019.05.06.dat',sep='\\t',names=['FILTER','EXP-TIME','DATE-OBS','XBINNING','IMAGE-NAME'])\n",
    "dia_9 = pd.read_csv('MAI/2019-05-09/2019.05.09.dat',sep='\\t',names=['FILTER','EXP-TIME','DATE-OBS','XBINNING','IMAGE-NAME'])\n",
    "dia_10 = pd.read_csv('MAI/2019-05-10/2019.05.10.dat',sep='\\t',names=['FILTER','EXP-TIME','DATE-OBS','XBINNING','IMAGE-NAME'])\n",
    "dia_11 = pd.read_csv('MAI/2019-05-11/2019.05.11.dat',sep='\\t',names=['FILTER','EXP-TIME','DATE-OBS','XBINNING','IMAGE-NAME'])\n",
    "dia_27 = pd.read_csv('MAI/2019-05-27/2019.05.27.dat',sep=',',names=['FILTER','EXP-TIME','DATE-OBS','XBINNING','IMAGE-NAME'])\n",
    "dia_28 = pd.read_csv('MAI/2019-05-28/2019.05.28.dat',sep='\\t',names=['FILTER','EXP-TIME','DATE-OBS','XBINNING','IMAGE-NAME'])\n",
    "dia_29 = pd.read_csv('MAI/2019-05-29/2019.05.29.dat',sep='\\t',names=['FILTER','EXP-TIME','DATE-OBS','XBINNING','IMAGE-NAME'])\n",
    "dia_30 = pd.read_csv('MAI/2019-05-30/2019.05.30.dat',sep='\\t',names=['FILTER','EXP-TIME','DATE-OBS','XBINNING','IMAGE-NAME'])\n",
    "dia_29 = pd.read_csv('MAI/2019-05-31/2019.05.31.dat',sep='\\t',names=['FILTER','EXP-TIME','DATE-OBS','XBINNING','IMAGE-NAME'])"
   ]
  },
  {
   "cell_type": "code",
   "execution_count": 11,
   "metadata": {},
   "outputs": [
    {
     "data": {
      "text/html": [
       "<div>\n",
       "<style scoped>\n",
       "    .dataframe tbody tr th:only-of-type {\n",
       "        vertical-align: middle;\n",
       "    }\n",
       "\n",
       "    .dataframe tbody tr th {\n",
       "        vertical-align: top;\n",
       "    }\n",
       "\n",
       "    .dataframe thead th {\n",
       "        text-align: right;\n",
       "    }\n",
       "</style>\n",
       "<table border=\"1\" class=\"dataframe\">\n",
       "  <thead>\n",
       "    <tr style=\"text-align: right;\">\n",
       "      <th></th>\n",
       "      <th>FILTER</th>\n",
       "      <th>EXP-TIME</th>\n",
       "      <th>DATE-OBS</th>\n",
       "      <th>XBINNING</th>\n",
       "      <th>IMAGE-NAME</th>\n",
       "    </tr>\n",
       "  </thead>\n",
       "  <tbody>\n",
       "    <tr>\n",
       "      <th>0</th>\n",
       "      <td>R</td>\n",
       "      <td>40.0</td>\n",
       "      <td>2019-05-01T23:58:57</td>\n",
       "      <td>2</td>\n",
       "      <td>1998NU_40s_b2x2-001_R.fit</td>\n",
       "    </tr>\n",
       "    <tr>\n",
       "      <th>1</th>\n",
       "      <td>R</td>\n",
       "      <td>40.0</td>\n",
       "      <td>2019-05-01T23:59:39</td>\n",
       "      <td>2</td>\n",
       "      <td>1998NU_40s_b2x2-002_R.fit</td>\n",
       "    </tr>\n",
       "    <tr>\n",
       "      <th>2</th>\n",
       "      <td>R</td>\n",
       "      <td>40.0</td>\n",
       "      <td>2019-05-02T00:07:43</td>\n",
       "      <td>2</td>\n",
       "      <td>1998NU_40s_b2x2-003_R.fit</td>\n",
       "    </tr>\n",
       "    <tr>\n",
       "      <th>3</th>\n",
       "      <td>R</td>\n",
       "      <td>40.0</td>\n",
       "      <td>2019-05-02T00:08:26</td>\n",
       "      <td>2</td>\n",
       "      <td>1998NU_40s_b2x2-004_R.fit</td>\n",
       "    </tr>\n",
       "    <tr>\n",
       "      <th>4</th>\n",
       "      <td>R</td>\n",
       "      <td>40.0</td>\n",
       "      <td>2019-05-02T00:09:09</td>\n",
       "      <td>2</td>\n",
       "      <td>1998NU_40s_b2x2-005_R.fit</td>\n",
       "    </tr>\n",
       "    <tr>\n",
       "      <th>...</th>\n",
       "      <td>...</td>\n",
       "      <td>...</td>\n",
       "      <td>...</td>\n",
       "      <td>...</td>\n",
       "      <td>...</td>\n",
       "    </tr>\n",
       "    <tr>\n",
       "      <th>156</th>\n",
       "      <td>R</td>\n",
       "      <td>50.0</td>\n",
       "      <td>2019-04-01T03:33:52</td>\n",
       "      <td>2</td>\n",
       "      <td>666_50s_b2x2-077_R.fit</td>\n",
       "    </tr>\n",
       "    <tr>\n",
       "      <th>157</th>\n",
       "      <td>R</td>\n",
       "      <td>50.0</td>\n",
       "      <td>2019-04-01T03:34:44</td>\n",
       "      <td>2</td>\n",
       "      <td>666_50s_b2x2-078_R.fit</td>\n",
       "    </tr>\n",
       "    <tr>\n",
       "      <th>158</th>\n",
       "      <td>R</td>\n",
       "      <td>50.0</td>\n",
       "      <td>2019-04-01T03:35:36</td>\n",
       "      <td>2</td>\n",
       "      <td>666_50s_b2x2-079_R.fit</td>\n",
       "    </tr>\n",
       "    <tr>\n",
       "      <th>159</th>\n",
       "      <td>R</td>\n",
       "      <td>50.0</td>\n",
       "      <td>2019-04-01T03:36:27</td>\n",
       "      <td>2</td>\n",
       "      <td>666_50s_b2x2-080_R.fit</td>\n",
       "    </tr>\n",
       "    <tr>\n",
       "      <th>160</th>\n",
       "      <td>R</td>\n",
       "      <td>50.0</td>\n",
       "      <td>2019-04-01T03:37:20</td>\n",
       "      <td>2</td>\n",
       "      <td>666_50s_b2x2-081_R.fit</td>\n",
       "    </tr>\n",
       "  </tbody>\n",
       "</table>\n",
       "<p>2107 rows × 5 columns</p>\n",
       "</div>"
      ],
      "text/plain": [
       "    FILTER  EXP-TIME             DATE-OBS  XBINNING                 IMAGE-NAME\n",
       "0        R      40.0  2019-05-01T23:58:57         2  1998NU_40s_b2x2-001_R.fit\n",
       "1        R      40.0  2019-05-01T23:59:39         2  1998NU_40s_b2x2-002_R.fit\n",
       "2        R      40.0  2019-05-02T00:07:43         2  1998NU_40s_b2x2-003_R.fit\n",
       "3        R      40.0  2019-05-02T00:08:26         2  1998NU_40s_b2x2-004_R.fit\n",
       "4        R      40.0  2019-05-02T00:09:09         2  1998NU_40s_b2x2-005_R.fit\n",
       "..     ...       ...                  ...       ...                        ...\n",
       "156      R      50.0  2019-04-01T03:33:52         2     666_50s_b2x2-077_R.fit\n",
       "157      R      50.0  2019-04-01T03:34:44         2     666_50s_b2x2-078_R.fit\n",
       "158      R      50.0  2019-04-01T03:35:36         2     666_50s_b2x2-079_R.fit\n",
       "159      R      50.0  2019-04-01T03:36:27         2     666_50s_b2x2-080_R.fit\n",
       "160      R      50.0  2019-04-01T03:37:20         2     666_50s_b2x2-081_R.fit\n",
       "\n",
       "[2107 rows x 5 columns]"
      ]
     },
     "execution_count": 11,
     "metadata": {},
     "output_type": "execute_result"
    }
   ],
   "source": [
    "MAI = pd.concat([dia_1,dia_3,dia_4,dia_5,dia_6,dia_8,dia_9,dia_10,dia_11,dia_27,dia_28,dia_29,dia_30,dia_31], sort=False)\n",
    "MAI.to_csv('MAI_dados.csv')\n",
    "MAI"
   ]
  },
  {
   "cell_type": "markdown",
   "metadata": {},
   "source": [
    "<h1>JUNHO</h1>"
   ]
  },
  {
   "cell_type": "code",
   "execution_count": 12,
   "metadata": {},
   "outputs": [],
   "source": [
    "dia_1 = pd.read_csv('JUN/2019-06-01/2019.06.01.dat',sep='\\t',names=['FILTER','EXP-TIME','DATE-OBS','XBINNING','IMAGE-NAME'])\n",
    "dia_2 = pd.read_csv('JUN/2019-06-02/2019.06.02.dat',sep='\\t',names=['FILTER','EXP-TIME','DATE-OBS','XBINNING','IMAGE-NAME'])\n",
    "dia_3 = pd.read_csv('JUN/2019-06-03/2019.06.03.dat',sep='\\t',names=['FILTER','EXP-TIME','DATE-OBS','XBINNING','IMAGE-NAME'])\n",
    "dia_4 = pd.read_csv('JUN/2019-06-04/2019.06.04.dat',sep=',',names=['FILTER','EXP-TIME','DATE-OBS','XBINNING','IMAGE-NAME'])\n",
    "dia_5 = pd.read_csv('JUN/2019-06-05/2019.06.05.dat',sep='\\t',names=['FILTER','EXP-TIME','DATE-OBS','XBINNING','IMAGE-NAME'])\n",
    "dia_6 = pd.read_csv('JUN/2019-06-06/2019.06.06.dat',sep='\\t',names=['FILTER','EXP-TIME','DATE-OBS','XBINNING','IMAGE-NAME'])\n",
    "#dia_7 = pd.read_csv('JUN/2019-06-07/2019.06.07.dat',sep='\\t',names=['FILTER','EXP-TIME','DATE-OBS','XBINNING','IMAGE-NAME'])\n",
    "dia_8 = pd.read_csv('JUN/2019-06-08/2019.06.08.dat',sep='\\t',names=['FILTER','EXP-TIME','DATE-OBS','XBINNING','IMAGE-NAME'])\n",
    "dia_9 = pd.read_csv('JUN/2019-06-09/2019.06.09.dat',sep='\\t',names=['FILTER','EXP-TIME','DATE-OBS','XBINNING','IMAGE-NAME'])\n",
    "dia_10 = pd.read_csv('JUN/2019-06-10/2019.06.10.dat',sep='\\t',names=['FILTER','EXP-TIME','DATE-OBS','XBINNING','IMAGE-NAME'])\n",
    "dia_16 = pd.read_csv('JUN/2019-06-16/2019.06.16.dat',sep='\\t',names=['FILTER','EXP-TIME','DATE-OBS','XBINNING','IMAGE-NAME'])\n",
    "dia_25 = pd.read_csv('JUN/2019-06-25/2019.06.25.dat',sep='\\t',names=['FILTER','EXP-TIME','DATE-OBS','XBINNING','IMAGE-NAME'])\n",
    "dia_26 = pd.read_csv('JUN/2019-06-26/2019.06.26.dat',sep='\\t',names=['FILTER','EXP-TIME','DATE-OBS','XBINNING','IMAGE-NAME'])\n",
    "#dia_28 = pd.read_csv('JUN/2019-06-28/2019-06-28.dat',sep='\\t',names=['EXP-TIME', 'FILTER'])\n",
    "#dia_29 = pd.read_csv('JUN/2019-06-29/2019-06-29.dat',sep='\\t',names=['EXP-TIME', 'FILTER'])"
   ]
  },
  {
   "cell_type": "code",
   "execution_count": 13,
   "metadata": {},
   "outputs": [
    {
     "data": {
      "text/html": [
       "<div>\n",
       "<style scoped>\n",
       "    .dataframe tbody tr th:only-of-type {\n",
       "        vertical-align: middle;\n",
       "    }\n",
       "\n",
       "    .dataframe tbody tr th {\n",
       "        vertical-align: top;\n",
       "    }\n",
       "\n",
       "    .dataframe thead th {\n",
       "        text-align: right;\n",
       "    }\n",
       "</style>\n",
       "<table border=\"1\" class=\"dataframe\">\n",
       "  <thead>\n",
       "    <tr style=\"text-align: right;\">\n",
       "      <th></th>\n",
       "      <th>FILTER</th>\n",
       "      <th>EXP-TIME</th>\n",
       "      <th>DATE-OBS</th>\n",
       "      <th>XBINNING</th>\n",
       "      <th>IMAGE-NAME</th>\n",
       "    </tr>\n",
       "  </thead>\n",
       "  <tbody>\n",
       "    <tr>\n",
       "      <th>0</th>\n",
       "      <td>g</td>\n",
       "      <td>50.0</td>\n",
       "      <td>2019-06-07T00:20:10</td>\n",
       "      <td>2</td>\n",
       "      <td>1998OH_b2x2-001_g.fit</td>\n",
       "    </tr>\n",
       "    <tr>\n",
       "      <th>1</th>\n",
       "      <td>g</td>\n",
       "      <td>50.0</td>\n",
       "      <td>2019-06-07T00:23:19</td>\n",
       "      <td>2</td>\n",
       "      <td>1998OH_b2x2-002_g.fit</td>\n",
       "    </tr>\n",
       "    <tr>\n",
       "      <th>2</th>\n",
       "      <td>i</td>\n",
       "      <td>50.0</td>\n",
       "      <td>2019-06-07T00:25:15</td>\n",
       "      <td>2</td>\n",
       "      <td>1998OH_b2x2-002_i.fit</td>\n",
       "    </tr>\n",
       "    <tr>\n",
       "      <th>3</th>\n",
       "      <td>r</td>\n",
       "      <td>50.0</td>\n",
       "      <td>2019-06-07T00:24:17</td>\n",
       "      <td>2</td>\n",
       "      <td>1998OH_b2x2-002_r.fit</td>\n",
       "    </tr>\n",
       "    <tr>\n",
       "      <th>4</th>\n",
       "      <td>z</td>\n",
       "      <td>90.0</td>\n",
       "      <td>2019-06-07T00:26:12</td>\n",
       "      <td>2</td>\n",
       "      <td>1998OH_b2x2-002_z.fit</td>\n",
       "    </tr>\n",
       "    <tr>\n",
       "      <th>...</th>\n",
       "      <td>...</td>\n",
       "      <td>...</td>\n",
       "      <td>...</td>\n",
       "      <td>...</td>\n",
       "      <td>...</td>\n",
       "    </tr>\n",
       "    <tr>\n",
       "      <th>173</th>\n",
       "      <td>z</td>\n",
       "      <td>15.0</td>\n",
       "      <td>2019-06-07T03:41:59</td>\n",
       "      <td>2</td>\n",
       "      <td>SA110503_b2x2-020_z.fit</td>\n",
       "    </tr>\n",
       "    <tr>\n",
       "      <th>174</th>\n",
       "      <td>R</td>\n",
       "      <td>7.0</td>\n",
       "      <td>2019-06-07T03:43:02</td>\n",
       "      <td>2</td>\n",
       "      <td>SA110503_b2x2-021_R.fit</td>\n",
       "    </tr>\n",
       "    <tr>\n",
       "      <th>175</th>\n",
       "      <td>R</td>\n",
       "      <td>7.0</td>\n",
       "      <td>2019-06-07T03:43:12</td>\n",
       "      <td>2</td>\n",
       "      <td>SA110503_b2x2-022_R.fit</td>\n",
       "    </tr>\n",
       "    <tr>\n",
       "      <th>176</th>\n",
       "      <td>R</td>\n",
       "      <td>7.0</td>\n",
       "      <td>2019-06-07T03:43:20</td>\n",
       "      <td>2</td>\n",
       "      <td>SA110503_b2x2-023_R.fit</td>\n",
       "    </tr>\n",
       "    <tr>\n",
       "      <th>177</th>\n",
       "      <td>R</td>\n",
       "      <td>7.0</td>\n",
       "      <td>2019-06-07T03:43:29</td>\n",
       "      <td>2</td>\n",
       "      <td>SA110503_b2x2-024_R.fit</td>\n",
       "    </tr>\n",
       "  </tbody>\n",
       "</table>\n",
       "<p>178 rows × 5 columns</p>\n",
       "</div>"
      ],
      "text/plain": [
       "    FILTER  EXP-TIME             DATE-OBS  XBINNING               IMAGE-NAME\n",
       "0        g      50.0  2019-06-07T00:20:10         2    1998OH_b2x2-001_g.fit\n",
       "1        g      50.0  2019-06-07T00:23:19         2    1998OH_b2x2-002_g.fit\n",
       "2        i      50.0  2019-06-07T00:25:15         2    1998OH_b2x2-002_i.fit\n",
       "3        r      50.0  2019-06-07T00:24:17         2    1998OH_b2x2-002_r.fit\n",
       "4        z      90.0  2019-06-07T00:26:12         2    1998OH_b2x2-002_z.fit\n",
       "..     ...       ...                  ...       ...                      ...\n",
       "173      z      15.0  2019-06-07T03:41:59         2  SA110503_b2x2-020_z.fit\n",
       "174      R       7.0  2019-06-07T03:43:02         2  SA110503_b2x2-021_R.fit\n",
       "175      R       7.0  2019-06-07T03:43:12         2  SA110503_b2x2-022_R.fit\n",
       "176      R       7.0  2019-06-07T03:43:20         2  SA110503_b2x2-023_R.fit\n",
       "177      R       7.0  2019-06-07T03:43:29         2  SA110503_b2x2-024_R.fit\n",
       "\n",
       "[178 rows x 5 columns]"
      ]
     },
     "execution_count": 13,
     "metadata": {},
     "output_type": "execute_result"
    }
   ],
   "source": [
    "dia_6"
   ]
  },
  {
   "cell_type": "code",
   "execution_count": 14,
   "metadata": {},
   "outputs": [
    {
     "data": {
      "text/html": [
       "<div>\n",
       "<style scoped>\n",
       "    .dataframe tbody tr th:only-of-type {\n",
       "        vertical-align: middle;\n",
       "    }\n",
       "\n",
       "    .dataframe tbody tr th {\n",
       "        vertical-align: top;\n",
       "    }\n",
       "\n",
       "    .dataframe thead th {\n",
       "        text-align: right;\n",
       "    }\n",
       "</style>\n",
       "<table border=\"1\" class=\"dataframe\">\n",
       "  <thead>\n",
       "    <tr style=\"text-align: right;\">\n",
       "      <th></th>\n",
       "      <th>FILTER</th>\n",
       "      <th>EXP-TIME</th>\n",
       "      <th>DATE-OBS</th>\n",
       "      <th>XBINNING</th>\n",
       "      <th>IMAGE-NAME</th>\n",
       "    </tr>\n",
       "  </thead>\n",
       "  <tbody>\n",
       "    <tr>\n",
       "      <th>0</th>\n",
       "      <td>R</td>\n",
       "      <td>90.0</td>\n",
       "      <td>2019-06-01T23:53:40</td>\n",
       "      <td>2</td>\n",
       "      <td>1998NU_90s_b2x2-001_R.fit</td>\n",
       "    </tr>\n",
       "    <tr>\n",
       "      <th>1</th>\n",
       "      <td>R</td>\n",
       "      <td>90.0</td>\n",
       "      <td>2019-06-01T23:56:00</td>\n",
       "      <td>2</td>\n",
       "      <td>1998NU_90s_b2x2-002_R.fit</td>\n",
       "    </tr>\n",
       "    <tr>\n",
       "      <th>2</th>\n",
       "      <td>R</td>\n",
       "      <td>90.0</td>\n",
       "      <td>2019-06-01T23:58:20</td>\n",
       "      <td>2</td>\n",
       "      <td>1998NU_90s_b2x2-003_R.fit</td>\n",
       "    </tr>\n",
       "    <tr>\n",
       "      <th>3</th>\n",
       "      <td>R</td>\n",
       "      <td>90.0</td>\n",
       "      <td>2019-06-01T23:59:52</td>\n",
       "      <td>2</td>\n",
       "      <td>1998NU_90s_b2x2-004_R.fit</td>\n",
       "    </tr>\n",
       "    <tr>\n",
       "      <th>4</th>\n",
       "      <td>R</td>\n",
       "      <td>90.0</td>\n",
       "      <td>2019-06-02T00:01:25</td>\n",
       "      <td>2</td>\n",
       "      <td>1998NU_90s_b2x2-005_R.fit</td>\n",
       "    </tr>\n",
       "    <tr>\n",
       "      <th>...</th>\n",
       "      <td>...</td>\n",
       "      <td>...</td>\n",
       "      <td>...</td>\n",
       "      <td>...</td>\n",
       "      <td>...</td>\n",
       "    </tr>\n",
       "    <tr>\n",
       "      <th>66</th>\n",
       "      <td>z</td>\n",
       "      <td>5.0</td>\n",
       "      <td>2019-06-26T23:53:03</td>\n",
       "      <td>2</td>\n",
       "      <td>SA105815_5s_b2x2-001_z.fit</td>\n",
       "    </tr>\n",
       "    <tr>\n",
       "      <th>67</th>\n",
       "      <td>z</td>\n",
       "      <td>5.0</td>\n",
       "      <td>2019-06-26T23:53:48</td>\n",
       "      <td>2</td>\n",
       "      <td>SA105815_5s_b2x2-002_z.fit</td>\n",
       "    </tr>\n",
       "    <tr>\n",
       "      <th>68</th>\n",
       "      <td>z</td>\n",
       "      <td>5.0</td>\n",
       "      <td>2019-06-26T23:54:18</td>\n",
       "      <td>2</td>\n",
       "      <td>SA105815_5s_b2x2-003_z.fit</td>\n",
       "    </tr>\n",
       "    <tr>\n",
       "      <th>69</th>\n",
       "      <td>z</td>\n",
       "      <td>5.0</td>\n",
       "      <td>2019-06-26T23:54:46</td>\n",
       "      <td>2</td>\n",
       "      <td>SA105815_5s_b2x2-004_z.fit</td>\n",
       "    </tr>\n",
       "    <tr>\n",
       "      <th>70</th>\n",
       "      <td>z</td>\n",
       "      <td>5.0</td>\n",
       "      <td>2019-06-26T23:55:13</td>\n",
       "      <td>2</td>\n",
       "      <td>SA105815_5s_b2x2-005_z.fit</td>\n",
       "    </tr>\n",
       "  </tbody>\n",
       "</table>\n",
       "<p>2434 rows × 5 columns</p>\n",
       "</div>"
      ],
      "text/plain": [
       "   FILTER  EXP-TIME             DATE-OBS  XBINNING                  IMAGE-NAME\n",
       "0       R      90.0  2019-06-01T23:53:40         2   1998NU_90s_b2x2-001_R.fit\n",
       "1       R      90.0  2019-06-01T23:56:00         2   1998NU_90s_b2x2-002_R.fit\n",
       "2       R      90.0  2019-06-01T23:58:20         2   1998NU_90s_b2x2-003_R.fit\n",
       "3       R      90.0  2019-06-01T23:59:52         2   1998NU_90s_b2x2-004_R.fit\n",
       "4       R      90.0  2019-06-02T00:01:25         2   1998NU_90s_b2x2-005_R.fit\n",
       "..    ...       ...                  ...       ...                         ...\n",
       "66      z       5.0  2019-06-26T23:53:03         2  SA105815_5s_b2x2-001_z.fit\n",
       "67      z       5.0  2019-06-26T23:53:48         2  SA105815_5s_b2x2-002_z.fit\n",
       "68      z       5.0  2019-06-26T23:54:18         2  SA105815_5s_b2x2-003_z.fit\n",
       "69      z       5.0  2019-06-26T23:54:46         2  SA105815_5s_b2x2-004_z.fit\n",
       "70      z       5.0  2019-06-26T23:55:13         2  SA105815_5s_b2x2-005_z.fit\n",
       "\n",
       "[2434 rows x 5 columns]"
      ]
     },
     "execution_count": 14,
     "metadata": {},
     "output_type": "execute_result"
    }
   ],
   "source": [
    "JUN = pd.concat([dia_1,dia_2,dia_3,dia_4,dia_5,dia_6,dia_8,dia_9,dia_10,dia_16,dia_25,dia_26], sort=False)\n",
    "JUN.to_csv('JUN_dados.csv')\n",
    "JUN"
   ]
  },
  {
   "cell_type": "markdown",
   "metadata": {},
   "source": [
    "<h1>JULHO</h1>"
   ]
  },
  {
   "cell_type": "code",
   "execution_count": 15,
   "metadata": {},
   "outputs": [],
   "source": [
    "#dia_1 = pd.read_csv('JUL/2019-07-01/2019-07-01.dat',sep='\\t',names=['EXP-TIME', 'FILTER'])\n",
    "dia_2 = pd.read_csv('JUL/2019-07-02/2019.07.02.dat',sep='\\t',names=['FILTER','EXP-TIME','DATE-OBS','XBINNING','IMAGE-NAME'])\n",
    "dia_3 = pd.read_csv('JUL/2019-07-03/2019.07.03.dat',sep='\\t',names=['FILTER','EXP-TIME','DATE-OBS','XBINNING','IMAGE-NAME'])\n",
    "dia_4 = pd.read_csv('JUL/2019-07-04/2019.07.04.dat',sep='\\t',names=['FILTER','EXP-TIME','DATE-OBS','XBINNING','IMAGE-NAME'])\n",
    "dia_5 = pd.read_csv('JUL/2019-07-05/2019.07.05.dat',sep='\\t',names=['FILTER','EXP-TIME','DATE-OBS','XBINNING','IMAGE-NAME'])\n",
    "dia_6 = pd.read_csv('JUL/2019-07-06/2019.07.06.dat',sep='\\t',names=['FILTER','EXP-TIME','DATE-OBS','XBINNING','IMAGE-NAME'])\n",
    "dia_7 = pd.read_csv('JUL/2019-07-07/2019.07.07.dat',sep='\\t',names=['FILTER','EXP-TIME','DATE-OBS','XBINNING','IMAGE-NAME'])\n",
    "#dia_8 = pd.read_csv('JUL/2019-07-08/2019-07-08.dat',sep='\\t',names=['EXP-TIME', 'FILTER'])\n",
    "#dia_9 = pd.read_csv('JUL/2019-07-09/2019-07-09.dat',sep='\\t',names=['EXP-TIME', 'FILTER'])\n",
    "dia_26 = pd.read_csv('JUL/2019-07-26/2019.07.26.dat',sep='\\t',names=['FILTER','EXP-TIME','DATE-OBS','XBINNING','IMAGE-NAME'])\n",
    "dia_27 = pd.read_csv('JUL/2019-07-27/2019.07.27.dat',sep='\\t',names=['FILTER','EXP-TIME','DATE-OBS','XBINNING','IMAGE-NAME'])\n",
    "dia_28 = pd.read_csv('JUL/2019-07-28/2019.07.28.dat',sep='\\t',names=['FILTER','EXP-TIME','DATE-OBS','XBINNING','IMAGE-NAME'])\n",
    "dia_29 = pd.read_csv('JUL/2019-07-29/2019.07.29.dat',sep='\\t',names=['FILTER','EXP-TIME','DATE-OBS','XBINNING','IMAGE-NAME'])\n",
    "#dia_30 = pd.read_csv('JUL/2019-07-30/2019-07-30.dat',sep='\\t',names=['EXP-TIME', 'FILTER'])\n",
    "dia_31 = pd.read_csv('JUL/2019-07-31/2019.07.31.dat',sep='\\t',names=['FILTER','EXP-TIME','DATE-OBS','XBINNING','IMAGE-NAME'])"
   ]
  },
  {
   "cell_type": "code",
   "execution_count": 16,
   "metadata": {},
   "outputs": [
    {
     "data": {
      "text/html": [
       "<div>\n",
       "<style scoped>\n",
       "    .dataframe tbody tr th:only-of-type {\n",
       "        vertical-align: middle;\n",
       "    }\n",
       "\n",
       "    .dataframe tbody tr th {\n",
       "        vertical-align: top;\n",
       "    }\n",
       "\n",
       "    .dataframe thead th {\n",
       "        text-align: right;\n",
       "    }\n",
       "</style>\n",
       "<table border=\"1\" class=\"dataframe\">\n",
       "  <thead>\n",
       "    <tr style=\"text-align: right;\">\n",
       "      <th></th>\n",
       "      <th>FILTER</th>\n",
       "      <th>EXP-TIME</th>\n",
       "      <th>DATE-OBS</th>\n",
       "      <th>XBINNING</th>\n",
       "      <th>IMAGE-NAME</th>\n",
       "    </tr>\n",
       "  </thead>\n",
       "  <tbody>\n",
       "    <tr>\n",
       "      <th>0</th>\n",
       "      <td>R</td>\n",
       "      <td>50.0</td>\n",
       "      <td>2019-07-03T00:41:13</td>\n",
       "      <td>2</td>\n",
       "      <td>110229_20s_b2x2-001_R.fit</td>\n",
       "    </tr>\n",
       "    <tr>\n",
       "      <th>1</th>\n",
       "      <td>R</td>\n",
       "      <td>20.0</td>\n",
       "      <td>2019-07-03T00:43:03</td>\n",
       "      <td>2</td>\n",
       "      <td>110229_20s_b2x2-002_R.fit</td>\n",
       "    </tr>\n",
       "    <tr>\n",
       "      <th>2</th>\n",
       "      <td>R</td>\n",
       "      <td>20.0</td>\n",
       "      <td>2019-07-03T00:43:24</td>\n",
       "      <td>2</td>\n",
       "      <td>110229_20s_b2x2-003_R.fit</td>\n",
       "    </tr>\n",
       "    <tr>\n",
       "      <th>3</th>\n",
       "      <td>R</td>\n",
       "      <td>20.0</td>\n",
       "      <td>2019-07-03T00:43:46</td>\n",
       "      <td>2</td>\n",
       "      <td>110229_20s_b2x2-004_R.fit</td>\n",
       "    </tr>\n",
       "    <tr>\n",
       "      <th>4</th>\n",
       "      <td>R</td>\n",
       "      <td>20.0</td>\n",
       "      <td>2019-07-03T00:44:08</td>\n",
       "      <td>2</td>\n",
       "      <td>110229_20s_b2x2-005_R.fit</td>\n",
       "    </tr>\n",
       "    <tr>\n",
       "      <th>...</th>\n",
       "      <td>...</td>\n",
       "      <td>...</td>\n",
       "      <td>...</td>\n",
       "      <td>...</td>\n",
       "      <td>...</td>\n",
       "    </tr>\n",
       "    <tr>\n",
       "      <th>92</th>\n",
       "      <td>R</td>\n",
       "      <td>4.0</td>\n",
       "      <td>2019-07-28T22:41:21</td>\n",
       "      <td>2</td>\n",
       "      <td>S_PG1407_013_4s_b2x2-004_R.fit</td>\n",
       "    </tr>\n",
       "    <tr>\n",
       "      <th>93</th>\n",
       "      <td>R</td>\n",
       "      <td>4.0</td>\n",
       "      <td>2019-07-28T23:58:25</td>\n",
       "      <td>2</td>\n",
       "      <td>S_PG1407_013_4s_b2x2-005_R.fit</td>\n",
       "    </tr>\n",
       "    <tr>\n",
       "      <th>94</th>\n",
       "      <td>R</td>\n",
       "      <td>4.0</td>\n",
       "      <td>2019-07-28T23:58:30</td>\n",
       "      <td>2</td>\n",
       "      <td>S_PG1407_013_4s_b2x2-006_R.fit</td>\n",
       "    </tr>\n",
       "    <tr>\n",
       "      <th>95</th>\n",
       "      <td>R</td>\n",
       "      <td>4.0</td>\n",
       "      <td>2019-07-28T23:58:36</td>\n",
       "      <td>2</td>\n",
       "      <td>S_PG1407_013_4s_b2x2-007_R.fit</td>\n",
       "    </tr>\n",
       "    <tr>\n",
       "      <th>96</th>\n",
       "      <td>R</td>\n",
       "      <td>4.0</td>\n",
       "      <td>2019-07-28T23:58:41</td>\n",
       "      <td>2</td>\n",
       "      <td>S_PG1407_013_4s_b2x2-008_R.fit</td>\n",
       "    </tr>\n",
       "  </tbody>\n",
       "</table>\n",
       "<p>3187 rows × 5 columns</p>\n",
       "</div>"
      ],
      "text/plain": [
       "   FILTER  EXP-TIME             DATE-OBS XBINNING  \\\n",
       "0       R      50.0  2019-07-03T00:41:13        2   \n",
       "1       R      20.0  2019-07-03T00:43:03        2   \n",
       "2       R      20.0  2019-07-03T00:43:24        2   \n",
       "3       R      20.0  2019-07-03T00:43:46        2   \n",
       "4       R      20.0  2019-07-03T00:44:08        2   \n",
       "..    ...       ...                  ...      ...   \n",
       "92      R       4.0  2019-07-28T22:41:21        2   \n",
       "93      R       4.0  2019-07-28T23:58:25        2   \n",
       "94      R       4.0  2019-07-28T23:58:30        2   \n",
       "95      R       4.0  2019-07-28T23:58:36        2   \n",
       "96      R       4.0  2019-07-28T23:58:41        2   \n",
       "\n",
       "                        IMAGE-NAME  \n",
       "0        110229_20s_b2x2-001_R.fit  \n",
       "1        110229_20s_b2x2-002_R.fit  \n",
       "2        110229_20s_b2x2-003_R.fit  \n",
       "3        110229_20s_b2x2-004_R.fit  \n",
       "4        110229_20s_b2x2-005_R.fit  \n",
       "..                             ...  \n",
       "92  S_PG1407_013_4s_b2x2-004_R.fit  \n",
       "93  S_PG1407_013_4s_b2x2-005_R.fit  \n",
       "94  S_PG1407_013_4s_b2x2-006_R.fit  \n",
       "95  S_PG1407_013_4s_b2x2-007_R.fit  \n",
       "96  S_PG1407_013_4s_b2x2-008_R.fit  \n",
       "\n",
       "[3187 rows x 5 columns]"
      ]
     },
     "execution_count": 16,
     "metadata": {},
     "output_type": "execute_result"
    }
   ],
   "source": [
    "JUL = pd.concat([dia_2,dia_3,dia_4,dia_5,dia_6,dia_7,dia_26,dia_29,dia_31,dia_27,dia_28], sort=False)\n",
    "JUL.to_csv('JUL_dados.csv')\n",
    "JUL"
   ]
  },
  {
   "cell_type": "markdown",
   "metadata": {},
   "source": [
    "<h1>AGOSTO</h1>"
   ]
  },
  {
   "cell_type": "code",
   "execution_count": 17,
   "metadata": {},
   "outputs": [],
   "source": [
    "dia_1 = pd.read_csv('AGO/2019-08-01/2019.08.01.dat',sep='\\t',names=['FILTER','EXP-TIME','DATE-OBS','XBINNING','IMAGE-NAME'])\n",
    "dia_2 = pd.read_csv('AGO/2019-08-02/2019.08.02.dat',sep='\\t',names=['FILTER','EXP-TIME','DATE-OBS','XBINNING','IMAGE-NAME'])\n",
    "# MUITA IMAGEM dia_3 = pd.read_csv('AGO/2019-08-03/2019-08-03.dat',sep='\\t',names=['EXP-TIME', 'FILTER'])\n",
    "dia_4 = pd.read_csv('AGO/2019-08-04/2019.08.04.dat',sep='\\t',names=['FILTER','EXP-TIME','DATE-OBS','XBINNING','IMAGE-NAME'])\n",
    "#dia_6 = pd.read_csv('AGO/2019-08-06/2019-08-06.dat',sep='\\t',names=['EXP-TIME', 'FILTER'])\n",
    "dia_7 = pd.read_csv('AGO/2019-08-07/2019.08.07.dat',sep='\\t',names=['FILTER','EXP-TIME','DATE-OBS','XBINNING','IMAGE-NAME'])\n",
    "dia_23 = pd.read_csv('AGO/2019-08-23/2019.08.23.dat',sep='\\t',names=['FILTER','EXP-TIME','DATE-OBS','XBINNING','IMAGE-NAME'])\n",
    "dia_24 = pd.read_csv('AGO/2019-08-24/2019.08.24.dat',sep='\\t',names=['FILTER','EXP-TIME','DATE-OBS','XBINNING','IMAGE-NAME'])\n",
    "dia_25 = pd.read_csv('AGO/2019-08-25/2019.08.25.dat',sep='\\t',names=['FILTER','EXP-TIME','DATE-OBS','XBINNING','IMAGE-NAME'])\n",
    "dia_26 = pd.read_csv('AGO/2019-08-26/2019.08.26.dat',sep='\\t',names=['FILTER','EXP-TIME','DATE-OBS','XBINNING','IMAGE-NAME'])\n",
    "dia_27 = pd.read_csv('AGO/2019-08-27/2019.08.27.dat',sep='\\t',names=['FILTER','EXP-TIME','DATE-OBS','XBINNING','IMAGE-NAME'])\n",
    "dia_28 = pd.read_csv('AGO/2019-08-28/2019.08.28.dat',sep='\\t',names=['FILTER','EXP-TIME','DATE-OBS','XBINNING','IMAGE-NAME'])\n",
    "dia_29 = pd.read_csv('AGO/2019-08-29/2019.08.29.dat',sep='\\t',names=['FILTER','EXP-TIME','DATE-OBS','XBINNING','IMAGE-NAME'])\n",
    "dia_30 = pd.read_csv('AGO/2019-08-30/2019.08.30.dat',sep='\\t',names=['FILTER','EXP-TIME','DATE-OBS','XBINNING','IMAGE-NAME'])\n",
    "dia_31 = pd.read_csv('AGO/2019-08-31/2019.08.31.dat',sep='\\t',names=['FILTER','EXP-TIME','DATE-OBS','XBINNING','IMAGE-NAME'])"
   ]
  },
  {
   "cell_type": "code",
   "execution_count": 18,
   "metadata": {},
   "outputs": [
    {
     "data": {
      "text/html": [
       "<div>\n",
       "<style scoped>\n",
       "    .dataframe tbody tr th:only-of-type {\n",
       "        vertical-align: middle;\n",
       "    }\n",
       "\n",
       "    .dataframe tbody tr th {\n",
       "        vertical-align: top;\n",
       "    }\n",
       "\n",
       "    .dataframe thead th {\n",
       "        text-align: right;\n",
       "    }\n",
       "</style>\n",
       "<table border=\"1\" class=\"dataframe\">\n",
       "  <thead>\n",
       "    <tr style=\"text-align: right;\">\n",
       "      <th></th>\n",
       "      <th>FILTER</th>\n",
       "      <th>EXP-TIME</th>\n",
       "      <th>DATE-OBS</th>\n",
       "      <th>XBINNING</th>\n",
       "      <th>IMAGE-NAME</th>\n",
       "    </tr>\n",
       "  </thead>\n",
       "  <tbody>\n",
       "    <tr>\n",
       "      <th>0</th>\n",
       "      <td>g</td>\n",
       "      <td>5.0</td>\n",
       "      <td>2019-08-02T00:57:28</td>\n",
       "      <td>2</td>\n",
       "      <td>747_5s_b2x2-001_g.fit</td>\n",
       "    </tr>\n",
       "    <tr>\n",
       "      <th>1</th>\n",
       "      <td>i</td>\n",
       "      <td>5.0</td>\n",
       "      <td>2019-08-02T00:58:09</td>\n",
       "      <td>2</td>\n",
       "      <td>747_5s_b2x2-001_i.fit</td>\n",
       "    </tr>\n",
       "    <tr>\n",
       "      <th>2</th>\n",
       "      <td>r</td>\n",
       "      <td>5.0</td>\n",
       "      <td>2019-08-02T00:57:49</td>\n",
       "      <td>2</td>\n",
       "      <td>747_5s_b2x2-001_r.fit</td>\n",
       "    </tr>\n",
       "    <tr>\n",
       "      <th>3</th>\n",
       "      <td>z</td>\n",
       "      <td>5.0</td>\n",
       "      <td>2019-08-02T00:58:30</td>\n",
       "      <td>2</td>\n",
       "      <td>747_5s_b2x2-001_z.fit</td>\n",
       "    </tr>\n",
       "    <tr>\n",
       "      <th>4</th>\n",
       "      <td>g</td>\n",
       "      <td>5.0</td>\n",
       "      <td>2019-08-02T00:58:51</td>\n",
       "      <td>2</td>\n",
       "      <td>747_5s_b2x2-002_g.fit</td>\n",
       "    </tr>\n",
       "    <tr>\n",
       "      <th>...</th>\n",
       "      <td>...</td>\n",
       "      <td>...</td>\n",
       "      <td>...</td>\n",
       "      <td>...</td>\n",
       "      <td>...</td>\n",
       "    </tr>\n",
       "    <tr>\n",
       "      <th>156</th>\n",
       "      <td>R</td>\n",
       "      <td>40.0</td>\n",
       "      <td>2019-09-01T00:22:57</td>\n",
       "      <td>2</td>\n",
       "      <td>2001RB18_40s_b2x2-157_R.fit</td>\n",
       "    </tr>\n",
       "    <tr>\n",
       "      <th>157</th>\n",
       "      <td>R</td>\n",
       "      <td>40.0</td>\n",
       "      <td>2019-09-01T00:23:38</td>\n",
       "      <td>2</td>\n",
       "      <td>2001RB18_40s_b2x2-158_R.fit</td>\n",
       "    </tr>\n",
       "    <tr>\n",
       "      <th>158</th>\n",
       "      <td>R</td>\n",
       "      <td>40.0</td>\n",
       "      <td>2019-09-01T00:24:19</td>\n",
       "      <td>2</td>\n",
       "      <td>2001RB18_40s_b2x2-159_R.fit</td>\n",
       "    </tr>\n",
       "    <tr>\n",
       "      <th>159</th>\n",
       "      <td>R</td>\n",
       "      <td>40.0</td>\n",
       "      <td>2019-09-01T00:25:01</td>\n",
       "      <td>2</td>\n",
       "      <td>2001RB18_40s_b2x2-160_R.fit</td>\n",
       "    </tr>\n",
       "    <tr>\n",
       "      <th>160</th>\n",
       "      <td>R</td>\n",
       "      <td>40.0</td>\n",
       "      <td>2019-09-01T00:25:42</td>\n",
       "      <td>2</td>\n",
       "      <td>2001RB18_40s_b2x2-161_R.fit</td>\n",
       "    </tr>\n",
       "  </tbody>\n",
       "</table>\n",
       "<p>3168 rows × 5 columns</p>\n",
       "</div>"
      ],
      "text/plain": [
       "    FILTER  EXP-TIME             DATE-OBS  XBINNING  \\\n",
       "0        g       5.0  2019-08-02T00:57:28         2   \n",
       "1        i       5.0  2019-08-02T00:58:09         2   \n",
       "2        r       5.0  2019-08-02T00:57:49         2   \n",
       "3        z       5.0  2019-08-02T00:58:30         2   \n",
       "4        g       5.0  2019-08-02T00:58:51         2   \n",
       "..     ...       ...                  ...       ...   \n",
       "156      R      40.0  2019-09-01T00:22:57         2   \n",
       "157      R      40.0  2019-09-01T00:23:38         2   \n",
       "158      R      40.0  2019-09-01T00:24:19         2   \n",
       "159      R      40.0  2019-09-01T00:25:01         2   \n",
       "160      R      40.0  2019-09-01T00:25:42         2   \n",
       "\n",
       "                      IMAGE-NAME  \n",
       "0          747_5s_b2x2-001_g.fit  \n",
       "1          747_5s_b2x2-001_i.fit  \n",
       "2          747_5s_b2x2-001_r.fit  \n",
       "3          747_5s_b2x2-001_z.fit  \n",
       "4          747_5s_b2x2-002_g.fit  \n",
       "..                           ...  \n",
       "156  2001RB18_40s_b2x2-157_R.fit  \n",
       "157  2001RB18_40s_b2x2-158_R.fit  \n",
       "158  2001RB18_40s_b2x2-159_R.fit  \n",
       "159  2001RB18_40s_b2x2-160_R.fit  \n",
       "160  2001RB18_40s_b2x2-161_R.fit  \n",
       "\n",
       "[3168 rows x 5 columns]"
      ]
     },
     "execution_count": 18,
     "metadata": {},
     "output_type": "execute_result"
    }
   ],
   "source": [
    "AGO = pd.concat([dia_1,dia_2,dia_3,dia_4,dia_7,dia_23,dia_24,dia_25,dia_26,dia_27,dia_28,dia_29,dia_30,dia_31], sort=False)\n",
    "AGO.to_csv('AGO_dados.csv')\n",
    "AGO"
   ]
  },
  {
   "cell_type": "markdown",
   "metadata": {},
   "source": [
    "<h1>SETEMBRO</h1>"
   ]
  },
  {
   "cell_type": "code",
   "execution_count": 19,
   "metadata": {},
   "outputs": [],
   "source": [
    "dia_1 = pd.read_csv('SET/2019-09-01/2019.09.01.dat',sep='\\t',names=['FILTER','EXP-TIME','DATE-OBS','XBINNING','IMAGE-NAME'])\n",
    "dia_2 = pd.read_csv('SET/2019-09-02/2019.09.02.dat',sep='\\t',names=['FILTER','EXP-TIME','DATE-OBS','XBINNING','IMAGE-NAME'])\n",
    "dia_3 = pd.read_csv('SET/2019-09-03/2019.09.03.dat',sep='\\t',names=['FILTER','EXP-TIME','DATE-OBS','XBINNING','IMAGE-NAME'])\n",
    "dia_4 = pd.read_csv('SET/2019-09-04/2019.09.04.dat',sep='\\t',names=['FILTER','EXP-TIME','DATE-OBS','XBINNING','IMAGE-NAME'])\n",
    "dia_5 = pd.read_csv('SET/2019-09-05/2019.09.05.dat',sep='\\t',names=['FILTER','EXP-TIME','DATE-OBS','XBINNING','IMAGE-NAME'])\n",
    "dia_6 = pd.read_csv('SET/2019-09-06/2019.09.06.dat',sep='\\t',names=['FILTER','EXP-TIME','DATE-OBS','XBINNING','IMAGE-NAME'])\n",
    "#dia_21 = pd.read_csv('SET/2019-09-21/2019-09-21.dat',sep='\\t',names=['EXP-TIME', 'FILTER'])\n",
    "dia_22 = pd.read_csv('SET/2019-09-22/2019.09.22.dat',sep='\\t',names=['FILTER','EXP-TIME','DATE-OBS','XBINNING','IMAGE-NAME'])\n",
    "#dia_23 = pd.read_csv('SET/2019-09-23/2019-09-23.dat',sep='\\t',names=['EXP-TIME', 'FILTER'])\n",
    "dia_24 = pd.read_csv('SET/2019-09-24/2019.09.24.dat',sep='\\t',names=['FILTER','EXP-TIME','DATE-OBS','XBINNING','IMAGE-NAME'])\n",
    "dia_25 = pd.read_csv('SET/2019-09-25/2019.09.25.dat',sep='\\t',names=['FILTER','EXP-TIME','DATE-OBS','XBINNING','IMAGE-NAME'])\n"
   ]
  },
  {
   "cell_type": "code",
   "execution_count": 20,
   "metadata": {},
   "outputs": [
    {
     "data": {
      "text/html": [
       "<div>\n",
       "<style scoped>\n",
       "    .dataframe tbody tr th:only-of-type {\n",
       "        vertical-align: middle;\n",
       "    }\n",
       "\n",
       "    .dataframe tbody tr th {\n",
       "        vertical-align: top;\n",
       "    }\n",
       "\n",
       "    .dataframe thead th {\n",
       "        text-align: right;\n",
       "    }\n",
       "</style>\n",
       "<table border=\"1\" class=\"dataframe\">\n",
       "  <thead>\n",
       "    <tr style=\"text-align: right;\">\n",
       "      <th></th>\n",
       "      <th>FILTER</th>\n",
       "      <th>EXP-TIME</th>\n",
       "      <th>DATE-OBS</th>\n",
       "      <th>XBINNING</th>\n",
       "      <th>IMAGE-NAME</th>\n",
       "    </tr>\n",
       "  </thead>\n",
       "  <tbody>\n",
       "    <tr>\n",
       "      <th>0</th>\n",
       "      <td>R</td>\n",
       "      <td>30.0</td>\n",
       "      <td>2019-09-01T23:09:24</td>\n",
       "      <td>2</td>\n",
       "      <td>2001RB18_30s_b2x2-001_R.fit</td>\n",
       "    </tr>\n",
       "    <tr>\n",
       "      <th>1</th>\n",
       "      <td>R</td>\n",
       "      <td>30.0</td>\n",
       "      <td>2019-09-01T23:09:56</td>\n",
       "      <td>2</td>\n",
       "      <td>2001RB18_30s_b2x2-002_R.fit</td>\n",
       "    </tr>\n",
       "    <tr>\n",
       "      <th>2</th>\n",
       "      <td>R</td>\n",
       "      <td>30.0</td>\n",
       "      <td>2019-09-01T23:10:29</td>\n",
       "      <td>2</td>\n",
       "      <td>2001RB18_30s_b2x2-003_R.fit</td>\n",
       "    </tr>\n",
       "    <tr>\n",
       "      <th>3</th>\n",
       "      <td>R</td>\n",
       "      <td>30.0</td>\n",
       "      <td>2019-09-01T23:11:02</td>\n",
       "      <td>2</td>\n",
       "      <td>2001RB18_30s_b2x2-004_R.fit</td>\n",
       "    </tr>\n",
       "    <tr>\n",
       "      <th>4</th>\n",
       "      <td>R</td>\n",
       "      <td>30.0</td>\n",
       "      <td>2019-09-01T23:11:34</td>\n",
       "      <td>2</td>\n",
       "      <td>2001RB18_30s_b2x2-005_R.fit</td>\n",
       "    </tr>\n",
       "    <tr>\n",
       "      <th>...</th>\n",
       "      <td>...</td>\n",
       "      <td>...</td>\n",
       "      <td>...</td>\n",
       "      <td>...</td>\n",
       "      <td>...</td>\n",
       "    </tr>\n",
       "    <tr>\n",
       "      <th>79</th>\n",
       "      <td>R</td>\n",
       "      <td>25.0</td>\n",
       "      <td>2019-09-26T01:22:49</td>\n",
       "      <td>2</td>\n",
       "      <td>PG2349+002_25s_b2x2-005_R.fit</td>\n",
       "    </tr>\n",
       "    <tr>\n",
       "      <th>80</th>\n",
       "      <td>V</td>\n",
       "      <td>25.0</td>\n",
       "      <td>2019-09-26T01:23:22</td>\n",
       "      <td>2</td>\n",
       "      <td>PG2349+002_25s_b2x2-005_V.fit</td>\n",
       "    </tr>\n",
       "    <tr>\n",
       "      <th>81</th>\n",
       "      <td>R</td>\n",
       "      <td>25.0</td>\n",
       "      <td>2019-09-26T03:44:20</td>\n",
       "      <td>2</td>\n",
       "      <td>PG2349+002_25s_b2x2-006_R.fit</td>\n",
       "    </tr>\n",
       "    <tr>\n",
       "      <th>82</th>\n",
       "      <td>R</td>\n",
       "      <td>25.0</td>\n",
       "      <td>2019-09-26T03:45:52</td>\n",
       "      <td>2</td>\n",
       "      <td>PG2349+002_25s_b2x2-007_R.fit</td>\n",
       "    </tr>\n",
       "    <tr>\n",
       "      <th>83</th>\n",
       "      <td>V</td>\n",
       "      <td>25.0</td>\n",
       "      <td>2019-09-26T03:46:25</td>\n",
       "      <td>2</td>\n",
       "      <td>PG2349+002_25s_b2x2-007_V.fit</td>\n",
       "    </tr>\n",
       "  </tbody>\n",
       "</table>\n",
       "<p>1574 rows × 5 columns</p>\n",
       "</div>"
      ],
      "text/plain": [
       "   FILTER  EXP-TIME             DATE-OBS  XBINNING  \\\n",
       "0       R      30.0  2019-09-01T23:09:24         2   \n",
       "1       R      30.0  2019-09-01T23:09:56         2   \n",
       "2       R      30.0  2019-09-01T23:10:29         2   \n",
       "3       R      30.0  2019-09-01T23:11:02         2   \n",
       "4       R      30.0  2019-09-01T23:11:34         2   \n",
       "..    ...       ...                  ...       ...   \n",
       "79      R      25.0  2019-09-26T01:22:49         2   \n",
       "80      V      25.0  2019-09-26T01:23:22         2   \n",
       "81      R      25.0  2019-09-26T03:44:20         2   \n",
       "82      R      25.0  2019-09-26T03:45:52         2   \n",
       "83      V      25.0  2019-09-26T03:46:25         2   \n",
       "\n",
       "                       IMAGE-NAME  \n",
       "0     2001RB18_30s_b2x2-001_R.fit  \n",
       "1     2001RB18_30s_b2x2-002_R.fit  \n",
       "2     2001RB18_30s_b2x2-003_R.fit  \n",
       "3     2001RB18_30s_b2x2-004_R.fit  \n",
       "4     2001RB18_30s_b2x2-005_R.fit  \n",
       "..                            ...  \n",
       "79  PG2349+002_25s_b2x2-005_R.fit  \n",
       "80  PG2349+002_25s_b2x2-005_V.fit  \n",
       "81  PG2349+002_25s_b2x2-006_R.fit  \n",
       "82  PG2349+002_25s_b2x2-007_R.fit  \n",
       "83  PG2349+002_25s_b2x2-007_V.fit  \n",
       "\n",
       "[1574 rows x 5 columns]"
      ]
     },
     "execution_count": 20,
     "metadata": {},
     "output_type": "execute_result"
    }
   ],
   "source": [
    "SET = pd.concat([dia_1,dia_2,dia_3,dia_4,dia_5,dia_22,dia_24,dia_25], sort=False)\n",
    "SET.to_csv('SET_dados.csv')\n",
    "SET"
   ]
  },
  {
   "cell_type": "markdown",
   "metadata": {},
   "source": [
    "<h1>OUTUBRO</h1>"
   ]
  },
  {
   "cell_type": "code",
   "execution_count": 21,
   "metadata": {},
   "outputs": [],
   "source": [
    "dia_23 = pd.read_csv('OUT/2019-10-23/2019.10.23.dat',sep='\\t',names=['FILTER','EXP-TIME','DATE-OBS','XBINNING','IMAGE-NAME'])\n",
    "dia_24 = pd.read_csv('OUT/2019-10-24/2019.10.24.dat',sep='\\t',names=['FILTER','EXP-TIME','DATE-OBS','XBINNING','IMAGE-NAME'])\n",
    "dia_25 = pd.read_csv('OUT/2019-10-25/2019.10.25.dat',sep='\\t',names=['FILTER','EXP-TIME','DATE-OBS','XBINNING','IMAGE-NAME'])\n",
    "dia_26 = pd.read_csv('OUT/2019-10-26/2019.10.26.dat',sep='\\t',names=['FILTER','EXP-TIME','DATE-OBS','XBINNING','IMAGE-NAME'])\n",
    "dia_27 = pd.read_csv('OUT/2019-10-27/2019.10.27.dat',sep='\\t',names=['FILTER','EXP-TIME','DATE-OBS','XBINNING','IMAGE-NAME'])\n",
    "dia_28 = pd.read_csv('OUT/2019-10-28/2019.10.28.dat',sep='\\t',names=['FILTER','EXP-TIME','DATE-OBS','XBINNING','IMAGE-NAME'])\n",
    "dia_29 = pd.read_csv('OUT/2019-10-29/2019.10.29.dat',sep='\\t',names=['FILTER','EXP-TIME','DATE-OBS','XBINNING','IMAGE-NAME'])\n",
    "dia_30 = pd.read_csv('OUT/2019-10-30/2019.10.30.dat',sep='\\t',names=['FILTER','EXP-TIME','DATE-OBS','XBINNING','IMAGE-NAME'])\n",
    "dia_31 = pd.read_csv('OUT/2019-10-31/2019.10.31.dat',sep='\\t',names=['FILTER','EXP-TIME','DATE-OBS','XBINNING','IMAGE-NAME'])"
   ]
  },
  {
   "cell_type": "code",
   "execution_count": 22,
   "metadata": {},
   "outputs": [
    {
     "data": {
      "text/html": [
       "<div>\n",
       "<style scoped>\n",
       "    .dataframe tbody tr th:only-of-type {\n",
       "        vertical-align: middle;\n",
       "    }\n",
       "\n",
       "    .dataframe tbody tr th {\n",
       "        vertical-align: top;\n",
       "    }\n",
       "\n",
       "    .dataframe thead th {\n",
       "        text-align: right;\n",
       "    }\n",
       "</style>\n",
       "<table border=\"1\" class=\"dataframe\">\n",
       "  <thead>\n",
       "    <tr style=\"text-align: right;\">\n",
       "      <th></th>\n",
       "      <th>FILTER</th>\n",
       "      <th>EXP-TIME</th>\n",
       "      <th>DATE-OBS</th>\n",
       "      <th>XBINNING</th>\n",
       "      <th>IMAGE-NAME</th>\n",
       "    </tr>\n",
       "  </thead>\n",
       "  <tbody>\n",
       "    <tr>\n",
       "      <th>0</th>\n",
       "      <td>R</td>\n",
       "      <td>120.0</td>\n",
       "      <td>2019-10-24T03:46:56</td>\n",
       "      <td>2</td>\n",
       "      <td>1990UQ_b2x2_120s-001_R.fit</td>\n",
       "    </tr>\n",
       "    <tr>\n",
       "      <th>1</th>\n",
       "      <td>R</td>\n",
       "      <td>120.0</td>\n",
       "      <td>2019-10-24T03:48:57</td>\n",
       "      <td>2</td>\n",
       "      <td>1990UQ_b2x2_120s-002_R.fit</td>\n",
       "    </tr>\n",
       "    <tr>\n",
       "      <th>2</th>\n",
       "      <td>R</td>\n",
       "      <td>120.0</td>\n",
       "      <td>2019-10-24T03:50:58</td>\n",
       "      <td>2</td>\n",
       "      <td>1990UQ_b2x2_120s-003_R.fit</td>\n",
       "    </tr>\n",
       "    <tr>\n",
       "      <th>3</th>\n",
       "      <td>R</td>\n",
       "      <td>120.0</td>\n",
       "      <td>2019-10-24T03:53:00</td>\n",
       "      <td>2</td>\n",
       "      <td>1990UQ_b2x2_120s-004_R.fit</td>\n",
       "    </tr>\n",
       "    <tr>\n",
       "      <th>4</th>\n",
       "      <td>R</td>\n",
       "      <td>120.0</td>\n",
       "      <td>2019-10-24T03:55:01</td>\n",
       "      <td>2</td>\n",
       "      <td>1990UQ_b2x2_120s-005_R.fit</td>\n",
       "    </tr>\n",
       "    <tr>\n",
       "      <th>...</th>\n",
       "      <td>...</td>\n",
       "      <td>...</td>\n",
       "      <td>...</td>\n",
       "      <td>...</td>\n",
       "      <td>...</td>\n",
       "    </tr>\n",
       "    <tr>\n",
       "      <th>169</th>\n",
       "      <td>z</td>\n",
       "      <td>10.0</td>\n",
       "      <td>2019-11-01T06:07:49</td>\n",
       "      <td>2</td>\n",
       "      <td>S_Hilt_566_10s_b2x2-011_z.fit</td>\n",
       "    </tr>\n",
       "    <tr>\n",
       "      <th>170</th>\n",
       "      <td>g</td>\n",
       "      <td>10.0</td>\n",
       "      <td>2019-11-01T06:08:14</td>\n",
       "      <td>2</td>\n",
       "      <td>S_Hilt_566_10s_b2x2-012_g.fit</td>\n",
       "    </tr>\n",
       "    <tr>\n",
       "      <th>171</th>\n",
       "      <td>i</td>\n",
       "      <td>10.0</td>\n",
       "      <td>2019-11-01T06:09:05</td>\n",
       "      <td>2</td>\n",
       "      <td>S_Hilt_566_10s_b2x2-012_i.fit</td>\n",
       "    </tr>\n",
       "    <tr>\n",
       "      <th>172</th>\n",
       "      <td>r</td>\n",
       "      <td>10.0</td>\n",
       "      <td>2019-11-01T06:08:39</td>\n",
       "      <td>2</td>\n",
       "      <td>S_Hilt_566_10s_b2x2-012_r.fit</td>\n",
       "    </tr>\n",
       "    <tr>\n",
       "      <th>173</th>\n",
       "      <td>z</td>\n",
       "      <td>10.0</td>\n",
       "      <td>2019-11-01T06:09:30</td>\n",
       "      <td>2</td>\n",
       "      <td>S_Hilt_566_10s_b2x2-012_z.fit</td>\n",
       "    </tr>\n",
       "  </tbody>\n",
       "</table>\n",
       "<p>1728 rows × 5 columns</p>\n",
       "</div>"
      ],
      "text/plain": [
       "    FILTER  EXP-TIME             DATE-OBS  XBINNING  \\\n",
       "0        R     120.0  2019-10-24T03:46:56         2   \n",
       "1        R     120.0  2019-10-24T03:48:57         2   \n",
       "2        R     120.0  2019-10-24T03:50:58         2   \n",
       "3        R     120.0  2019-10-24T03:53:00         2   \n",
       "4        R     120.0  2019-10-24T03:55:01         2   \n",
       "..     ...       ...                  ...       ...   \n",
       "169      z      10.0  2019-11-01T06:07:49         2   \n",
       "170      g      10.0  2019-11-01T06:08:14         2   \n",
       "171      i      10.0  2019-11-01T06:09:05         2   \n",
       "172      r      10.0  2019-11-01T06:08:39         2   \n",
       "173      z      10.0  2019-11-01T06:09:30         2   \n",
       "\n",
       "                        IMAGE-NAME  \n",
       "0       1990UQ_b2x2_120s-001_R.fit  \n",
       "1       1990UQ_b2x2_120s-002_R.fit  \n",
       "2       1990UQ_b2x2_120s-003_R.fit  \n",
       "3       1990UQ_b2x2_120s-004_R.fit  \n",
       "4       1990UQ_b2x2_120s-005_R.fit  \n",
       "..                             ...  \n",
       "169  S_Hilt_566_10s_b2x2-011_z.fit  \n",
       "170  S_Hilt_566_10s_b2x2-012_g.fit  \n",
       "171  S_Hilt_566_10s_b2x2-012_i.fit  \n",
       "172  S_Hilt_566_10s_b2x2-012_r.fit  \n",
       "173  S_Hilt_566_10s_b2x2-012_z.fit  \n",
       "\n",
       "[1728 rows x 5 columns]"
      ]
     },
     "execution_count": 22,
     "metadata": {},
     "output_type": "execute_result"
    }
   ],
   "source": [
    "OUT = pd.concat([dia_23,dia_24,dia_25,dia_26,dia_27,dia_28,dia_29,dia_30,dia_31], sort=False)\n",
    "OUT.to_csv('OUT_dados.csv')\n",
    "OUT"
   ]
  },
  {
   "cell_type": "markdown",
   "metadata": {},
   "source": [
    "<h1>NOVEMBRO</h1>"
   ]
  },
  {
   "cell_type": "code",
   "execution_count": 23,
   "metadata": {},
   "outputs": [],
   "source": [
    "#dia_1 = pd.read_csv('NOV/2019-11-01/2019-11-01.dat',sep='\\t',names=['EXP-TIME', 'FILTER'])\n",
    "#dia_2 = pd.read_csv('NOV/2019-11-02/2019-11-02.dat',sep='\\t',names=['EXP-TIME', 'FILTER'])\n",
    "dia_3 = pd.read_csv('NOV/2019-11-03/2019.11.03.dat',sep='\\t',names=['FILTER','EXP-TIME','DATE-OBS','XBINNING','IMAGE-NAME'])\n",
    "dia_4 = pd.read_csv('NOV/2019-11-04/2019.11.04.dat',sep='\\t',names=['FILTER','EXP-TIME','DATE-OBS','XBINNING','IMAGE-NAME'])\n",
    "dia_19 = pd.read_csv('NOV/2019-11-19/2019.11.19.dat',sep='\\t',names=['FILTER','EXP-TIME','DATE-OBS','XBINNING','IMAGE-NAME'])\n",
    "dia_20 = pd.read_csv('NOV/2019-11-20/2019.11.20.dat',sep='\\t',names=['FILTER','EXP-TIME','DATE-OBS','XBINNING','IMAGE-NAME'])\n",
    "dia_21 = pd.read_csv('NOV/2019-11-21/2019.11.21.dat',sep='\\t',names=['FILTER','EXP-TIME','DATE-OBS','XBINNING','IMAGE-NAME'])\n",
    "dia_22 = pd.read_csv('NOV/2019-11-22/2019.11.22.dat',sep='\\t',names=['FILTER','EXP-TIME','DATE-OBS','XBINNING','IMAGE-NAME'])\n",
    "dia_23 = pd.read_csv('NOV/2019-11-23/2019.11.23.dat',sep='\\t',names=['FILTER','EXP-TIME','DATE-OBS','XBINNING','IMAGE-NAME'])\n",
    "#dia_24 = pd.read_csv('NOV/2019-11-24/2019-11-24.dat',sep='\\t',names=['EXP-TIME', 'FILTER'])\n",
    "#dia_25 = pd.read_csv('NOV/2019-11-25/2019-11-25.dat',sep='\\t',names=['EXP-TIME', 'FILTER'])\n",
    "dia_26 = pd.read_csv('NOV/2019-11-26/2019.11.26.dat',sep='\\t',names=['FILTER','EXP-TIME','DATE-OBS','XBINNING','IMAGE-NAME'])\n",
    "dia_27 = pd.read_csv('NOV/2019-11-27/2019.11.27.dat',sep='\\t',names=['FILTER','EXP-TIME','DATE-OBS','XBINNING','IMAGE-NAME'])\n",
    "dia_28 = pd.read_csv('NOV/2019-11-28/2019.11.28.dat',sep='\\t',names=['FILTER','EXP-TIME','DATE-OBS','XBINNING','IMAGE-NAME'])\n",
    "dia_29 = pd.read_csv('NOV/2019-11-29/2019.11.29.dat',sep='\\t',names=['FILTER','EXP-TIME','DATE-OBS','XBINNING','IMAGE-NAME'])\n",
    "dia_30 = pd.read_csv('NOV/2019-11-30/2019.11.30.dat',sep='\\t',names=['FILTER','EXP-TIME','DATE-OBS','XBINNING','IMAGE-NAME'])"
   ]
  },
  {
   "cell_type": "code",
   "execution_count": 24,
   "metadata": {},
   "outputs": [
    {
     "data": {
      "text/html": [
       "<div>\n",
       "<style scoped>\n",
       "    .dataframe tbody tr th:only-of-type {\n",
       "        vertical-align: middle;\n",
       "    }\n",
       "\n",
       "    .dataframe tbody tr th {\n",
       "        vertical-align: top;\n",
       "    }\n",
       "\n",
       "    .dataframe thead th {\n",
       "        text-align: right;\n",
       "    }\n",
       "</style>\n",
       "<table border=\"1\" class=\"dataframe\">\n",
       "  <thead>\n",
       "    <tr style=\"text-align: right;\">\n",
       "      <th></th>\n",
       "      <th>FILTER</th>\n",
       "      <th>EXP-TIME</th>\n",
       "      <th>DATE-OBS</th>\n",
       "      <th>XBINNING</th>\n",
       "      <th>IMAGE-NAME</th>\n",
       "    </tr>\n",
       "  </thead>\n",
       "  <tbody>\n",
       "    <tr>\n",
       "      <th>0</th>\n",
       "      <td>R</td>\n",
       "      <td>100.0</td>\n",
       "      <td>2019-11-04T04:38:19</td>\n",
       "      <td>2</td>\n",
       "      <td>1998KV2_100s_b2x2-001_R.fit</td>\n",
       "    </tr>\n",
       "    <tr>\n",
       "      <th>1</th>\n",
       "      <td>R</td>\n",
       "      <td>100.0</td>\n",
       "      <td>2019-11-04T04:40:01</td>\n",
       "      <td>2</td>\n",
       "      <td>1998KV2_100s_b2x2-002_R.fit</td>\n",
       "    </tr>\n",
       "    <tr>\n",
       "      <th>2</th>\n",
       "      <td>R</td>\n",
       "      <td>100.0</td>\n",
       "      <td>2019-11-04T04:44:04</td>\n",
       "      <td>2</td>\n",
       "      <td>1998KV2_100s_b2x2-003_R.fit</td>\n",
       "    </tr>\n",
       "    <tr>\n",
       "      <th>3</th>\n",
       "      <td>R</td>\n",
       "      <td>100.0</td>\n",
       "      <td>2019-11-04T04:45:46</td>\n",
       "      <td>2</td>\n",
       "      <td>1998KV2_100s_b2x2-004_R.fit</td>\n",
       "    </tr>\n",
       "    <tr>\n",
       "      <th>4</th>\n",
       "      <td>R</td>\n",
       "      <td>100.0</td>\n",
       "      <td>2019-11-04T04:47:27</td>\n",
       "      <td>2</td>\n",
       "      <td>1998KV2_100s_b2x2-005_R.fit</td>\n",
       "    </tr>\n",
       "    <tr>\n",
       "      <th>...</th>\n",
       "      <td>...</td>\n",
       "      <td>...</td>\n",
       "      <td>...</td>\n",
       "      <td>...</td>\n",
       "      <td>...</td>\n",
       "    </tr>\n",
       "    <tr>\n",
       "      <th>169</th>\n",
       "      <td>z</td>\n",
       "      <td>10.0</td>\n",
       "      <td>2019-11-01T06:07:49</td>\n",
       "      <td>2</td>\n",
       "      <td>S_Hilt_566_10s_b2x2-011_z.fit</td>\n",
       "    </tr>\n",
       "    <tr>\n",
       "      <th>170</th>\n",
       "      <td>g</td>\n",
       "      <td>10.0</td>\n",
       "      <td>2019-11-01T06:08:14</td>\n",
       "      <td>2</td>\n",
       "      <td>S_Hilt_566_10s_b2x2-012_g.fit</td>\n",
       "    </tr>\n",
       "    <tr>\n",
       "      <th>171</th>\n",
       "      <td>i</td>\n",
       "      <td>10.0</td>\n",
       "      <td>2019-11-01T06:09:05</td>\n",
       "      <td>2</td>\n",
       "      <td>S_Hilt_566_10s_b2x2-012_i.fit</td>\n",
       "    </tr>\n",
       "    <tr>\n",
       "      <th>172</th>\n",
       "      <td>r</td>\n",
       "      <td>10.0</td>\n",
       "      <td>2019-11-01T06:08:39</td>\n",
       "      <td>2</td>\n",
       "      <td>S_Hilt_566_10s_b2x2-012_r.fit</td>\n",
       "    </tr>\n",
       "    <tr>\n",
       "      <th>173</th>\n",
       "      <td>z</td>\n",
       "      <td>10.0</td>\n",
       "      <td>2019-11-01T06:09:30</td>\n",
       "      <td>2</td>\n",
       "      <td>S_Hilt_566_10s_b2x2-012_z.fit</td>\n",
       "    </tr>\n",
       "  </tbody>\n",
       "</table>\n",
       "<p>1864 rows × 5 columns</p>\n",
       "</div>"
      ],
      "text/plain": [
       "    FILTER  EXP-TIME             DATE-OBS  XBINNING  \\\n",
       "0        R     100.0  2019-11-04T04:38:19         2   \n",
       "1        R     100.0  2019-11-04T04:40:01         2   \n",
       "2        R     100.0  2019-11-04T04:44:04         2   \n",
       "3        R     100.0  2019-11-04T04:45:46         2   \n",
       "4        R     100.0  2019-11-04T04:47:27         2   \n",
       "..     ...       ...                  ...       ...   \n",
       "169      z      10.0  2019-11-01T06:07:49         2   \n",
       "170      g      10.0  2019-11-01T06:08:14         2   \n",
       "171      i      10.0  2019-11-01T06:09:05         2   \n",
       "172      r      10.0  2019-11-01T06:08:39         2   \n",
       "173      z      10.0  2019-11-01T06:09:30         2   \n",
       "\n",
       "                        IMAGE-NAME  \n",
       "0      1998KV2_100s_b2x2-001_R.fit  \n",
       "1      1998KV2_100s_b2x2-002_R.fit  \n",
       "2      1998KV2_100s_b2x2-003_R.fit  \n",
       "3      1998KV2_100s_b2x2-004_R.fit  \n",
       "4      1998KV2_100s_b2x2-005_R.fit  \n",
       "..                             ...  \n",
       "169  S_Hilt_566_10s_b2x2-011_z.fit  \n",
       "170  S_Hilt_566_10s_b2x2-012_g.fit  \n",
       "171  S_Hilt_566_10s_b2x2-012_i.fit  \n",
       "172  S_Hilt_566_10s_b2x2-012_r.fit  \n",
       "173  S_Hilt_566_10s_b2x2-012_z.fit  \n",
       "\n",
       "[1864 rows x 5 columns]"
      ]
     },
     "execution_count": 24,
     "metadata": {},
     "output_type": "execute_result"
    }
   ],
   "source": [
    "NOV = pd.concat([dia_3,dia_4,dia_19,dia_20,dia_21,dia_22,dia_23,dia_26,dia_27,dia_28,dia_29,dia_30,dia_31], sort=False)\n",
    "NOV.to_csv('NOV_dados.csv')\n",
    "NOV"
   ]
  },
  {
   "cell_type": "markdown",
   "metadata": {},
   "source": [
    "<h1>DEZEMBRO</h1>"
   ]
  },
  {
   "cell_type": "code",
   "execution_count": 25,
   "metadata": {},
   "outputs": [],
   "source": [
    "dia_1 = pd.read_csv('DEZ/2019-12-01/2019.12.01.dat',sep='\\t',names=['FILTER','EXP-TIME','DATE-OBS','XBINNING','IMAGE-NAME'])\n",
    "dia_2 = pd.read_csv('DEZ/2019-12-02/2019.12.02.dat',sep='\\t',names=['FILTER','EXP-TIME','DATE-OBS','XBINNING','IMAGE-NAME'])\n",
    "dia_3 = pd.read_csv('DEZ/2019-12-03/2019.12.03.dat',sep='\\t',names=['FILTER','EXP-TIME','DATE-OBS','XBINNING','IMAGE-NAME'])\n",
    "dia_18 = pd.read_csv('DEZ/2019-12-18/2019.12.18.dat',sep='\\t',names=['FILTER','EXP-TIME','DATE-OBS','XBINNING','IMAGE-NAME'])\n",
    "dia_19 = pd.read_csv('DEZ/2019-12-19/2019.12.19.dat',sep='\\t',names=['FILTER','EXP-TIME','DATE-OBS','XBINNING','IMAGE-NAME'])\n",
    "dia_20 = pd.read_csv('DEZ/2019-12-20/2019.12.20.dat',sep='\\t',names=['FILTER','EXP-TIME','DATE-OBS','XBINNING','IMAGE-NAME'])\n",
    "dia_21 = pd.read_csv('DEZ/2019-12-21/2019.12.21.dat',sep='\\t',names=['FILTER','EXP-TIME','DATE-OBS','XBINNING','IMAGE-NAME'])"
   ]
  },
  {
   "cell_type": "code",
   "execution_count": 26,
   "metadata": {},
   "outputs": [
    {
     "data": {
      "text/html": [
       "<div>\n",
       "<style scoped>\n",
       "    .dataframe tbody tr th:only-of-type {\n",
       "        vertical-align: middle;\n",
       "    }\n",
       "\n",
       "    .dataframe tbody tr th {\n",
       "        vertical-align: top;\n",
       "    }\n",
       "\n",
       "    .dataframe thead th {\n",
       "        text-align: right;\n",
       "    }\n",
       "</style>\n",
       "<table border=\"1\" class=\"dataframe\">\n",
       "  <thead>\n",
       "    <tr style=\"text-align: right;\">\n",
       "      <th></th>\n",
       "      <th>FILTER</th>\n",
       "      <th>EXP-TIME</th>\n",
       "      <th>DATE-OBS</th>\n",
       "      <th>XBINNING</th>\n",
       "      <th>IMAGE-NAME</th>\n",
       "    </tr>\n",
       "  </thead>\n",
       "  <tbody>\n",
       "    <tr>\n",
       "      <th>0</th>\n",
       "      <td>R</td>\n",
       "      <td>100.0</td>\n",
       "      <td>2019-12-02T00:46:25</td>\n",
       "      <td>2</td>\n",
       "      <td>22322_100s_b2x2-001_R.fit</td>\n",
       "    </tr>\n",
       "    <tr>\n",
       "      <th>1</th>\n",
       "      <td>V</td>\n",
       "      <td>100.0</td>\n",
       "      <td>2019-12-02T00:48:13</td>\n",
       "      <td>2</td>\n",
       "      <td>22322_100s_b2x2-001_V.fit</td>\n",
       "    </tr>\n",
       "    <tr>\n",
       "      <th>2</th>\n",
       "      <td>R</td>\n",
       "      <td>100.0</td>\n",
       "      <td>2019-12-02T00:49:56</td>\n",
       "      <td>2</td>\n",
       "      <td>22322_100s_b2x2-002_R.fit</td>\n",
       "    </tr>\n",
       "    <tr>\n",
       "      <th>3</th>\n",
       "      <td>V</td>\n",
       "      <td>100.0</td>\n",
       "      <td>2019-12-02T00:51:43</td>\n",
       "      <td>2</td>\n",
       "      <td>22322_100s_b2x2-002_V.fit</td>\n",
       "    </tr>\n",
       "    <tr>\n",
       "      <th>4</th>\n",
       "      <td>R</td>\n",
       "      <td>100.0</td>\n",
       "      <td>2019-12-02T00:53:26</td>\n",
       "      <td>2</td>\n",
       "      <td>22322_100s_b2x2-003_R.fit</td>\n",
       "    </tr>\n",
       "    <tr>\n",
       "      <th>...</th>\n",
       "      <td>...</td>\n",
       "      <td>...</td>\n",
       "      <td>...</td>\n",
       "      <td>...</td>\n",
       "      <td>...</td>\n",
       "    </tr>\n",
       "    <tr>\n",
       "      <th>170</th>\n",
       "      <td>z</td>\n",
       "      <td>10.0</td>\n",
       "      <td>2019-12-22T01:59:32</td>\n",
       "      <td>2</td>\n",
       "      <td>S_SA95236s_b2x2-003_z.fit</td>\n",
       "    </tr>\n",
       "    <tr>\n",
       "      <th>171</th>\n",
       "      <td>g</td>\n",
       "      <td>10.0</td>\n",
       "      <td>2019-12-22T01:59:57</td>\n",
       "      <td>2</td>\n",
       "      <td>S_SA95236s_b2x2-004_g.fit</td>\n",
       "    </tr>\n",
       "    <tr>\n",
       "      <th>172</th>\n",
       "      <td>i</td>\n",
       "      <td>10.0</td>\n",
       "      <td>2019-12-22T02:00:48</td>\n",
       "      <td>2</td>\n",
       "      <td>S_SA95236s_b2x2-004_i.fit</td>\n",
       "    </tr>\n",
       "    <tr>\n",
       "      <th>173</th>\n",
       "      <td>r</td>\n",
       "      <td>10.0</td>\n",
       "      <td>2019-12-22T02:00:23</td>\n",
       "      <td>2</td>\n",
       "      <td>S_SA95236s_b2x2-004_r.fit</td>\n",
       "    </tr>\n",
       "    <tr>\n",
       "      <th>174</th>\n",
       "      <td>z</td>\n",
       "      <td>10.0</td>\n",
       "      <td>2019-12-22T02:01:12</td>\n",
       "      <td>2</td>\n",
       "      <td>S_SA95236s_b2x2-004_z.fit</td>\n",
       "    </tr>\n",
       "  </tbody>\n",
       "</table>\n",
       "<p>1562 rows × 5 columns</p>\n",
       "</div>"
      ],
      "text/plain": [
       "    FILTER  EXP-TIME             DATE-OBS  XBINNING                 IMAGE-NAME\n",
       "0        R     100.0  2019-12-02T00:46:25         2  22322_100s_b2x2-001_R.fit\n",
       "1        V     100.0  2019-12-02T00:48:13         2  22322_100s_b2x2-001_V.fit\n",
       "2        R     100.0  2019-12-02T00:49:56         2  22322_100s_b2x2-002_R.fit\n",
       "3        V     100.0  2019-12-02T00:51:43         2  22322_100s_b2x2-002_V.fit\n",
       "4        R     100.0  2019-12-02T00:53:26         2  22322_100s_b2x2-003_R.fit\n",
       "..     ...       ...                  ...       ...                        ...\n",
       "170      z      10.0  2019-12-22T01:59:32         2  S_SA95236s_b2x2-003_z.fit\n",
       "171      g      10.0  2019-12-22T01:59:57         2  S_SA95236s_b2x2-004_g.fit\n",
       "172      i      10.0  2019-12-22T02:00:48         2  S_SA95236s_b2x2-004_i.fit\n",
       "173      r      10.0  2019-12-22T02:00:23         2  S_SA95236s_b2x2-004_r.fit\n",
       "174      z      10.0  2019-12-22T02:01:12         2  S_SA95236s_b2x2-004_z.fit\n",
       "\n",
       "[1562 rows x 5 columns]"
      ]
     },
     "execution_count": 26,
     "metadata": {},
     "output_type": "execute_result"
    }
   ],
   "source": [
    "DEZ = pd.concat([dia_1,dia_2,dia_3,dia_18,dia_19,dia_20,dia_21], sort=False)\n",
    "DEZ.to_csv('DEZ_dados.csv')\n",
    "DEZ"
   ]
  },
  {
   "cell_type": "markdown",
   "metadata": {},
   "source": [
    "<h1>2019</h1>"
   ]
  },
  {
   "cell_type": "code",
   "execution_count": 27,
   "metadata": {},
   "outputs": [
    {
     "data": {
      "text/html": [
       "<div>\n",
       "<style scoped>\n",
       "    .dataframe tbody tr th:only-of-type {\n",
       "        vertical-align: middle;\n",
       "    }\n",
       "\n",
       "    .dataframe tbody tr th {\n",
       "        vertical-align: top;\n",
       "    }\n",
       "\n",
       "    .dataframe thead th {\n",
       "        text-align: right;\n",
       "    }\n",
       "</style>\n",
       "<table border=\"1\" class=\"dataframe\">\n",
       "  <thead>\n",
       "    <tr style=\"text-align: right;\">\n",
       "      <th></th>\n",
       "      <th>FILTER</th>\n",
       "      <th>EXP-TIME</th>\n",
       "      <th>DATE-OBS</th>\n",
       "      <th>XBINNING</th>\n",
       "      <th>IMAGE-NAME</th>\n",
       "    </tr>\n",
       "  </thead>\n",
       "  <tbody>\n",
       "    <tr>\n",
       "      <th>0</th>\n",
       "      <td>R</td>\n",
       "      <td>80.0</td>\n",
       "      <td>2019-01-05T22:28:49</td>\n",
       "      <td>2</td>\n",
       "      <td>2002LJ3_80s_b2x2-001_R.fit</td>\n",
       "    </tr>\n",
       "    <tr>\n",
       "      <th>1</th>\n",
       "      <td>R</td>\n",
       "      <td>80.0</td>\n",
       "      <td>2019-01-05T22:31:12</td>\n",
       "      <td>2</td>\n",
       "      <td>2002LJ3_80s_b2x2-002_R.fit</td>\n",
       "    </tr>\n",
       "    <tr>\n",
       "      <th>2</th>\n",
       "      <td>R</td>\n",
       "      <td>80.0</td>\n",
       "      <td>2019-01-05T22:33:35</td>\n",
       "      <td>2</td>\n",
       "      <td>2002LJ3_80s_b2x2-003_R.fit</td>\n",
       "    </tr>\n",
       "    <tr>\n",
       "      <th>3</th>\n",
       "      <td>R</td>\n",
       "      <td>80.0</td>\n",
       "      <td>2019-01-05T22:35:59</td>\n",
       "      <td>2</td>\n",
       "      <td>2002LJ3_80s_b2x2-004_R.fit</td>\n",
       "    </tr>\n",
       "    <tr>\n",
       "      <th>4</th>\n",
       "      <td>R</td>\n",
       "      <td>80.0</td>\n",
       "      <td>2019-01-05T23:13:07</td>\n",
       "      <td>2</td>\n",
       "      <td>2002LJ3_80s_b2x2-005_R.fit</td>\n",
       "    </tr>\n",
       "    <tr>\n",
       "      <th>...</th>\n",
       "      <td>...</td>\n",
       "      <td>...</td>\n",
       "      <td>...</td>\n",
       "      <td>...</td>\n",
       "      <td>...</td>\n",
       "    </tr>\n",
       "    <tr>\n",
       "      <th>170</th>\n",
       "      <td>z</td>\n",
       "      <td>10.0</td>\n",
       "      <td>2019-12-22T01:59:32</td>\n",
       "      <td>2</td>\n",
       "      <td>S_SA95236s_b2x2-003_z.fit</td>\n",
       "    </tr>\n",
       "    <tr>\n",
       "      <th>171</th>\n",
       "      <td>g</td>\n",
       "      <td>10.0</td>\n",
       "      <td>2019-12-22T01:59:57</td>\n",
       "      <td>2</td>\n",
       "      <td>S_SA95236s_b2x2-004_g.fit</td>\n",
       "    </tr>\n",
       "    <tr>\n",
       "      <th>172</th>\n",
       "      <td>i</td>\n",
       "      <td>10.0</td>\n",
       "      <td>2019-12-22T02:00:48</td>\n",
       "      <td>2</td>\n",
       "      <td>S_SA95236s_b2x2-004_i.fit</td>\n",
       "    </tr>\n",
       "    <tr>\n",
       "      <th>173</th>\n",
       "      <td>r</td>\n",
       "      <td>10.0</td>\n",
       "      <td>2019-12-22T02:00:23</td>\n",
       "      <td>2</td>\n",
       "      <td>S_SA95236s_b2x2-004_r.fit</td>\n",
       "    </tr>\n",
       "    <tr>\n",
       "      <th>174</th>\n",
       "      <td>z</td>\n",
       "      <td>10.0</td>\n",
       "      <td>2019-12-22T02:01:12</td>\n",
       "      <td>2</td>\n",
       "      <td>S_SA95236s_b2x2-004_z.fit</td>\n",
       "    </tr>\n",
       "  </tbody>\n",
       "</table>\n",
       "<p>27306 rows × 5 columns</p>\n",
       "</div>"
      ],
      "text/plain": [
       "    FILTER  EXP-TIME             DATE-OBS XBINNING                  IMAGE-NAME\n",
       "0        R      80.0  2019-01-05T22:28:49        2  2002LJ3_80s_b2x2-001_R.fit\n",
       "1        R      80.0  2019-01-05T22:31:12        2  2002LJ3_80s_b2x2-002_R.fit\n",
       "2        R      80.0  2019-01-05T22:33:35        2  2002LJ3_80s_b2x2-003_R.fit\n",
       "3        R      80.0  2019-01-05T22:35:59        2  2002LJ3_80s_b2x2-004_R.fit\n",
       "4        R      80.0  2019-01-05T23:13:07        2  2002LJ3_80s_b2x2-005_R.fit\n",
       "..     ...       ...                  ...      ...                         ...\n",
       "170      z      10.0  2019-12-22T01:59:32        2   S_SA95236s_b2x2-003_z.fit\n",
       "171      g      10.0  2019-12-22T01:59:57        2   S_SA95236s_b2x2-004_g.fit\n",
       "172      i      10.0  2019-12-22T02:00:48        2   S_SA95236s_b2x2-004_i.fit\n",
       "173      r      10.0  2019-12-22T02:00:23        2   S_SA95236s_b2x2-004_r.fit\n",
       "174      z      10.0  2019-12-22T02:01:12        2   S_SA95236s_b2x2-004_z.fit\n",
       "\n",
       "[27306 rows x 5 columns]"
      ]
     },
     "execution_count": 27,
     "metadata": {},
     "output_type": "execute_result"
    }
   ],
   "source": [
    "year = pd.concat([JAN,FEV,MAR,ABR,MAI,JUN,JUL,AGO,SET,OUT,NOV,DEZ], sort=False)\n",
    "year.to_csv('2019_dados.csv')\n",
    "year"
   ]
  },
  {
   "cell_type": "code",
   "execution_count": 28,
   "metadata": {},
   "outputs": [
    {
     "data": {
      "text/html": [
       "<div>\n",
       "<style scoped>\n",
       "    .dataframe tbody tr th:only-of-type {\n",
       "        vertical-align: middle;\n",
       "    }\n",
       "\n",
       "    .dataframe tbody tr th {\n",
       "        vertical-align: top;\n",
       "    }\n",
       "\n",
       "    .dataframe thead th {\n",
       "        text-align: right;\n",
       "    }\n",
       "</style>\n",
       "<table border=\"1\" class=\"dataframe\">\n",
       "  <thead>\n",
       "    <tr style=\"text-align: right;\">\n",
       "      <th></th>\n",
       "      <th>FILTER</th>\n",
       "      <th>EXP-TIME</th>\n",
       "    </tr>\n",
       "  </thead>\n",
       "  <tbody>\n",
       "    <tr>\n",
       "      <th>0</th>\n",
       "      <td>R</td>\n",
       "      <td>80.0</td>\n",
       "    </tr>\n",
       "    <tr>\n",
       "      <th>1</th>\n",
       "      <td>R</td>\n",
       "      <td>80.0</td>\n",
       "    </tr>\n",
       "    <tr>\n",
       "      <th>2</th>\n",
       "      <td>R</td>\n",
       "      <td>80.0</td>\n",
       "    </tr>\n",
       "    <tr>\n",
       "      <th>3</th>\n",
       "      <td>R</td>\n",
       "      <td>80.0</td>\n",
       "    </tr>\n",
       "    <tr>\n",
       "      <th>4</th>\n",
       "      <td>R</td>\n",
       "      <td>80.0</td>\n",
       "    </tr>\n",
       "    <tr>\n",
       "      <th>...</th>\n",
       "      <td>...</td>\n",
       "      <td>...</td>\n",
       "    </tr>\n",
       "    <tr>\n",
       "      <th>170</th>\n",
       "      <td>z</td>\n",
       "      <td>10.0</td>\n",
       "    </tr>\n",
       "    <tr>\n",
       "      <th>171</th>\n",
       "      <td>g</td>\n",
       "      <td>10.0</td>\n",
       "    </tr>\n",
       "    <tr>\n",
       "      <th>172</th>\n",
       "      <td>i</td>\n",
       "      <td>10.0</td>\n",
       "    </tr>\n",
       "    <tr>\n",
       "      <th>173</th>\n",
       "      <td>r</td>\n",
       "      <td>10.0</td>\n",
       "    </tr>\n",
       "    <tr>\n",
       "      <th>174</th>\n",
       "      <td>z</td>\n",
       "      <td>10.0</td>\n",
       "    </tr>\n",
       "  </tbody>\n",
       "</table>\n",
       "<p>27306 rows × 2 columns</p>\n",
       "</div>"
      ],
      "text/plain": [
       "    FILTER  EXP-TIME\n",
       "0        R      80.0\n",
       "1        R      80.0\n",
       "2        R      80.0\n",
       "3        R      80.0\n",
       "4        R      80.0\n",
       "..     ...       ...\n",
       "170      z      10.0\n",
       "171      g      10.0\n",
       "172      i      10.0\n",
       "173      r      10.0\n",
       "174      z      10.0\n",
       "\n",
       "[27306 rows x 2 columns]"
      ]
     },
     "execution_count": 28,
     "metadata": {},
     "output_type": "execute_result"
    }
   ],
   "source": [
    "tabela = year.filter(items=['FILTER','EXP-TIME'])\n",
    "tabela"
   ]
  },
  {
   "cell_type": "code",
   "execution_count": 29,
   "metadata": {},
   "outputs": [],
   "source": [
    "grupos = tabela.groupby(['FILTER'])                       #Agrupando por filtros\n",
    "count = pd.DataFrame(grupos.count())                    #Criando dataFrame com o número de imagens por filtro"
   ]
  },
  {
   "cell_type": "code",
   "execution_count": 30,
   "metadata": {},
   "outputs": [
    {
     "data": {
      "text/plain": [
       "{'B': Int64Index([0, 9, 19, 29, 39, 50, 82, 92, 102, 112, 122], dtype='int64'),\n",
       " 'Clear': Int64Index([51], dtype='int64'),\n",
       " 'I': Int64Index([10, 20, 30, 40, 52, 83, 93, 103, 113, 123], dtype='int64'),\n",
       " 'No Filter': Int64Index([236, 237, 238, 239, 240, 241, 242, 243, 244, 245,\n",
       "             ...\n",
       "             293, 294, 295, 296, 297, 298, 299, 300, 301,  53],\n",
       "            dtype='int64', length=345),\n",
       " 'R': Int64Index([  0,   1,   2,   3,   4,   5,   6,   7,   8,   9,\n",
       "             ...\n",
       "             107, 109, 127, 129, 131, 133, 135, 137, 139, 141],\n",
       "            dtype='int64', length=21439),\n",
       " 'U': Int64Index([2, 12, 22, 32, 42, 55, 85, 95, 105, 115, 125], dtype='int64'),\n",
       " 'V': Int64Index([ 13,  14,  15,  16,  17,  18,  19,  20,  21,  22,\n",
       "             ...\n",
       "             108, 110, 128, 130, 132, 134, 136, 138, 140, 142],\n",
       "            dtype='int64', length=560),\n",
       " 'g': Int64Index([  8,   9,  13,  22,  23,  29,  33,  37,  41,  45,\n",
       "             ...\n",
       "             119, 123, 143, 147, 151, 155, 159, 163, 167, 171],\n",
       "            dtype='int64', length=1224),\n",
       " 'i': Int64Index([ 10,  14,  24,  27,  28,  30,  34,  38,  42,  46,\n",
       "             ...\n",
       "             120, 124, 144, 148, 152, 156, 160, 164, 168, 172],\n",
       "            dtype='int64', length=1231),\n",
       " 'r': Int64Index([ 11,  15,  25,  31,  35,  39,  43,  47,  51,  55,\n",
       "             ...\n",
       "             121, 125, 145, 149, 153, 157, 161, 165, 169, 173],\n",
       "            dtype='int64', length=1222),\n",
       " 'u': Int64Index([7, 17, 27, 37, 47, 49, 61, 90, 100, 110, 120, 130], dtype='int64'),\n",
       " 'z': Int64Index([ 12,  16,  26,  32,  36,  40,  44,  48,  52,  56,\n",
       "             ...\n",
       "             122, 126, 146, 150, 154, 158, 162, 166, 170, 174],\n",
       "            dtype='int64', length=1240)}"
      ]
     },
     "execution_count": 30,
     "metadata": {},
     "output_type": "execute_result"
    }
   ],
   "source": [
    "grupos.groups"
   ]
  },
  {
   "cell_type": "code",
   "execution_count": 31,
   "metadata": {},
   "outputs": [
    {
     "data": {
      "image/png": "[encoded data removed]",
      "text/plain": [
       "<Figure size 648x504 with 1 Axes>"
      ]
     },
     "metadata": {
      "needs_background": "light"
     },
     "output_type": "display_data"
    }
   ],
   "source": [
    "eixo_x = ['B','Clear','I','No Filter','R','U','V','g','i','r','u','z']                #Plotando o número de imagens por filtro\n",
    "plt.figure(figsize=(9,7))\n",
    "plt.bar(eixo_x,count['EXP-TIME'],facecolor='darkred', alpha = 0.5, lw=1)\n",
    "plt.title('Número de imagens por filtro',size=15)\n",
    "plt.ylabel('Número de imagens',size=12)\n",
    "plt.savefig('imagens_filtro.png')\n",
    "plt.show()"
   ]
  },
  {
   "cell_type": "code",
   "execution_count": 32,
   "metadata": {},
   "outputs": [
    {
     "data": {
      "text/plain": [
       "\"\\neixo_x = ['B','Clear','I','No Filter','R','U','V','g','i','r','u','z']                #Plotando o número de imagens por filtro\\n\""
      ]
     },
     "execution_count": 32,
     "metadata": {},
     "output_type": "execute_result"
    }
   ],
   "source": [
    "'''\n",
    "eixo_x = ['B','Clear','I','No Filter','R','U','V','g','i','r','u','z']                #Plotando o número de imagens por filtro\n",
    "'''"
   ]
  },
  {
   "cell_type": "code",
   "execution_count": 33,
   "metadata": {},
   "outputs": [],
   "source": [
    "filtro_B = grupos.get_group('B')         \n",
    "filtro_I = grupos.get_group('I')         \n",
    "filtro_U = grupos.get_group('U')      \n",
    "filtro_V = grupos.get_group('V')      \n",
    "filtro_u = grupos.get_group('u')        \n",
    "filtro_r = grupos.get_group('r')       \n",
    "filtro_R = grupos.get_group('R')\n",
    "filtro_g = grupos.get_group('g')\n",
    "filtro_z = grupos.get_group('z')\n",
    "filtro_i = grupos.get_group('i')\n",
    "filtro_NF = grupos.get_group('No Filter')\n",
    "filtro_clear = grupos.get_group('Clear')          "
   ]
  },
  {
   "cell_type": "code",
   "execution_count": 196,
   "metadata": {},
   "outputs": [
    {
     "data": {
      "text/plain": [
       "4929"
      ]
     },
     "execution_count": 196,
     "metadata": {},
     "output_type": "execute_result"
    }
   ],
   "source": [
    "a = (len(filtro_i) + len(filtro_r) + len(filtro_g) + len(filtro_z) + len(filtro_u))\n",
    "a"
   ]
  },
  {
   "cell_type": "code",
   "execution_count": 201,
   "metadata": {},
   "outputs": [
    {
     "data": {
      "text/plain": [
       "0.2483262325015216"
      ]
     },
     "execution_count": 201,
     "metadata": {},
     "output_type": "execute_result"
    }
   ],
   "source": [
    "len(filtro_g)/4929"
   ]
  },
  {
   "cell_type": "code",
   "execution_count": 215,
   "metadata": {},
   "outputs": [
    {
     "data": {
      "image/png": "[encoded data removed]",
      "text/plain": [
       "<Figure size 432x288 with 1 Axes>"
      ]
     },
     "metadata": {},
     "output_type": "display_data"
    }
   ],
   "source": [
    "# Pie chart, where the slices will be ordered and plotted counter-clockwise:\n",
    "labels = 'Johnson-Cousins','SLOAN'\n",
    "colors = ['darkblue', 'darkorange']\n",
    "sizes = [80.68,19.32]        \n",
    "explode = (0, 0.1,)  # only \"explode\" the 2nd slice (i.e. 'Hogs')\n",
    "\n",
    "fig1, ax1 = plt.subplots()\n",
    "ax1.pie(sizes, explode=explode, labels=labels, autopct='%1.1f%%',\n",
    "        shadow=True, startangle=90, colors=colors)\n",
    "ax1.axis('equal')  # Equal aspect ratio ensures that pie is drawn as a circle.\n",
    "\n",
    "plt.savefig('filters.png')\n",
    "plt.show()\n"
   ]
  },
  {
   "cell_type": "code",
   "execution_count": 214,
   "metadata": {},
   "outputs": [
    {
     "data": {
      "image/png": "[encoded data removed]",
      "text/plain": [
       "<Figure size 432x288 with 1 Axes>"
      ]
     },
     "metadata": {},
     "output_type": "display_data"
    }
   ],
   "source": [
    "# Pie chart, where the slices will be ordered and plotted counter-clockwise:\n",
    "labels = 'U','B','V','R','I'\n",
    "colors = ['blue', 'red','green','yellow','orange']\n",
    "sizes = [0.49,0.49,2.5,97.31,0.045]        \n",
    "explode = (0, 0, 0 ,0, 0)  # only \"explode\" the 2nd slice (i.e. 'Hogs')\n",
    "\n",
    "fig1, ax1 = plt.subplots()\n",
    "ax1.pie(sizes, explode=explode,\n",
    "        shadow=True, startangle=45, colors=colors)\n",
    "ax1.axis('equal')  # Equal aspect ratio ensures that pie is drawn as a circle.\n",
    "plt.title('Johnson-Cousins')\n",
    "ax1.legend(labels, loc = 'upper right') \n",
    "\n",
    "plt.savefig('jonhsoncousins_filter.png')\n",
    "plt.show()\n"
   ]
  },
  {
   "cell_type": "code",
   "execution_count": 213,
   "metadata": {},
   "outputs": [
    {
     "data": {
      "image/png": "[encoded data removed]",
      "text/plain": [
       "<Figure size 432x288 with 1 Axes>"
      ]
     },
     "metadata": {},
     "output_type": "display_data"
    }
   ],
   "source": [
    "# Pie chart, where the slices will be ordered and plotted counter-clockwise:\n",
    "labels = 'u','r','g','z','i'\n",
    "colors = ['black', 'red','green','yellow','orange']\n",
    "sizes = [0.243,24.79,24.83,25.1,24.9]        \n",
    "explode = (0, 0, 0 ,0, 0)  # only \"explode\" the 2nd slice (i.e. 'Hogs')\n",
    "\n",
    "fig1, ax1 = plt.subplots()\n",
    "ax1.pie(sizes, explode=explode, autopct='%1.1f%%',\n",
    "        shadow=True, startangle=45, colors=colors)\n",
    "ax1.axis('equal')  # Equal aspect ratio ensures that pie is drawn as a circle.\n",
    "plt.title('SLOAN')\n",
    "ax1.legend(labels, loc = 'upper right') \n",
    "\n",
    "plt.savefig('sloan_filter.png')\n",
    "plt.show()\n"
   ]
  },
  {
   "cell_type": "markdown",
   "metadata": {},
   "source": [
    "<h1>Histogramas por filtro</h1>"
   ]
  },
  {
   "cell_type": "markdown",
   "metadata": {},
   "source": [
    "<h2>Filtro Clear</h2>"
   ]
  },
  {
   "cell_type": "code",
   "execution_count": 34,
   "metadata": {},
   "outputs": [
    {
     "name": "stdout",
     "output_type": "stream",
     "text": [
      "FILTRO Clear\n",
      "moda: 300.0 s\n",
      "média:  300.0 s\n",
      "mediana:  300.0 s\n"
     ]
    }
   ],
   "source": [
    "mean_exp_time_clear = std.mean(filtro_clear['EXP-TIME'])\n",
    "median_exp_time_clear = std.median(filtro_clear['EXP-TIME'])\n",
    "#desvpad_exp_time_clear = std.stdev(filtro_clear['EXP-TIME'])\n",
    "moda_exp_time_clear = std.mode(filtro_clear['EXP-TIME'])\n",
    "\n",
    "print('FILTRO Clear')\n",
    "print('moda:',moda_exp_time_clear,'s')\n",
    "print('média: ',mean_exp_time_clear,'s')\n",
    "print('mediana: ',median_exp_time_clear,'s')\n",
    "#print('desvio padrão: ',desvpad_exp_time_clear,'s')"
   ]
  },
  {
   "cell_type": "code",
   "execution_count": 35,
   "metadata": {},
   "outputs": [
    {
     "data": {
      "image/png": "[encoded data removed]",
      "text/plain": [
       "<Figure size 648x504 with 1 Axes>"
      ]
     },
     "metadata": {
      "needs_background": "light"
     },
     "output_type": "display_data"
    }
   ],
   "source": [
    "plt.figure(figsize=(9,7))\n",
    "plt.hist(filtro_clear['EXP-TIME'],label='Filtro Clear',bins=1,facecolor='brown', alpha = 0.5, lw=1, edgecolor='black')\n",
    "#plt.title(desvpad_exp_time_clear + 's',size=15)\n",
    "plt.ylabel('Frequência de ocorrência',size=15)\n",
    "plt.xlabel('Tempo de exposição (segundos)',size=15)\n",
    "plt.legend(prop={'size': 10},frameon = True,loc = 'upper right', fancybox = True, framealpha = 1, shadow = True, borderpad = 0.5 )\n",
    "plt.xticks(np.arange(0, 420, 20))  \n",
    "plt.yticks(np.arange(0,2,0.5))\n",
    "plt.savefig('exptime-hist_Clear.png')\n",
    "plt.show()"
   ]
  },
  {
   "cell_type": "markdown",
   "metadata": {},
   "source": [
    "<h2>Filtro u</h2>"
   ]
  },
  {
   "cell_type": "code",
   "execution_count": 36,
   "metadata": {},
   "outputs": [
    {
     "name": "stdout",
     "output_type": "stream",
     "text": [
      "FILTRO u\n",
      "média:  151.66666666666666 s\n",
      "mediana:  150.0 s\n",
      "desvio padrão:  112.47895426040887 s\n"
     ]
    }
   ],
   "source": [
    "mean_exp_time_u = std.mean(filtro_u['EXP-TIME'])\n",
    "median_exp_time_u = std.median(filtro_u['EXP-TIME'])\n",
    "desvpad_exp_time_u = std.stdev(filtro_u['EXP-TIME'])\n",
    "#moda_exp_time_u = std.multimode(filtro_u['EXP-TIME'])\n",
    "\n",
    "print('FILTRO u')\n",
    "#print('moda:',moda_exp_time_u,'s')\n",
    "print('média: ',mean_exp_time_u,'s')\n",
    "print('mediana: ',median_exp_time_u,'s')\n",
    "print('desvio padrão: ',desvpad_exp_time_u,'s')"
   ]
  },
  {
   "cell_type": "code",
   "execution_count": 37,
   "metadata": {},
   "outputs": [
    {
     "data": {
      "image/png": "[encoded data removed]",
      "text/plain": [
       "<Figure size 648x504 with 1 Axes>"
      ]
     },
     "metadata": {
      "needs_background": "light"
     },
     "output_type": "display_data"
    }
   ],
   "source": [
    "plt.figure(figsize=(9,7))\n",
    "plt.hist(filtro_u['EXP-TIME'],label='Filtro u',bins = 100,facecolor='darkgreen', alpha = 0.5, lw=1, edgecolor='black')\n",
    "plt.title('$\\sigma = 112.4 s$',size=13)\n",
    "plt.ylabel('Frequência de ocorrência',size=15)\n",
    "plt.xlabel('Tempo de exposição (segundos)',size=15)\n",
    "plt.legend(prop={'size': 10},frameon = True,loc = 'upper right', fancybox = True, framealpha = 1, shadow = True, borderpad = 0.5 )\n",
    "plt.xticks(np.arange(0, 420, 20))  \n",
    "plt.yticks(np.arange(0,4,0.5))\n",
    "plt.savefig('exptime-hist_u.png')\n",
    "plt.show()"
   ]
  },
  {
   "cell_type": "markdown",
   "metadata": {},
   "source": [
    "<h2>Filtro V</h2>"
   ]
  },
  {
   "cell_type": "code",
   "execution_count": 38,
   "metadata": {},
   "outputs": [
    {
     "name": "stdout",
     "output_type": "stream",
     "text": [
      "FILTRO V\n",
      "moda: 180.0 s\n",
      "média:  70.78214285714286 s\n",
      "mediana:  25.0 s\n",
      "desvio padrão:  75.86811149915523 s\n"
     ]
    }
   ],
   "source": [
    "mean_exp_time_V = std.mean(filtro_V['EXP-TIME'])\n",
    "median_exp_time_V = std.median(filtro_V['EXP-TIME'])\n",
    "desvpad_exp_time_V = std.stdev(filtro_V['EXP-TIME'])\n",
    "moda_exp_time_V = std.mode(filtro_V['EXP-TIME'])\n",
    "\n",
    "print('FILTRO V')\n",
    "print('moda:',moda_exp_time_V,'s')\n",
    "print('média: ',mean_exp_time_V,'s')\n",
    "print('mediana: ',median_exp_time_V,'s')\n",
    "print('desvio padrão: ',desvpad_exp_time_V,'s')"
   ]
  },
  {
   "cell_type": "code",
   "execution_count": 39,
   "metadata": {},
   "outputs": [
    {
     "data": {
      "image/png": "[encoded data removed]",
      "text/plain": [
       "<Figure size 648x504 with 1 Axes>"
      ]
     },
     "metadata": {
      "needs_background": "light"
     },
     "output_type": "display_data"
    }
   ],
   "source": [
    "plt.figure(figsize=(9,7))\n",
    "plt.hist(filtro_V['EXP-TIME'],label='Filtro V',bins=100,facecolor='black', alpha = 0.5, lw=1, edgecolor='black')\n",
    "plt.title('$\\sigma = 75.9 s$',size=13)\n",
    "plt.ylabel('Frequência de ocorrência',size=15)\n",
    "plt.xlabel('Tempo de exposição (segundos)',size=15)\n",
    "plt.legend(prop={'size': 10},frameon = True,loc = 'upper right', fancybox = True, framealpha = 1, shadow = True, borderpad = 0.5 )\n",
    "plt.xticks(np.arange(0, 420, 20))  \n",
    "plt.savefig('exptime-hist_V.png')\n",
    "plt.show()"
   ]
  },
  {
   "cell_type": "markdown",
   "metadata": {},
   "source": [
    "<h2>Filtro U</h2>"
   ]
  },
  {
   "cell_type": "code",
   "execution_count": 40,
   "metadata": {},
   "outputs": [
    {
     "name": "stdout",
     "output_type": "stream",
     "text": [
      "FILTRO B\n",
      "moda: 300.0 s\n",
      "média:  147.27272727272728 s\n",
      "mediana:  100.0 s\n",
      "desvio padrão:  116.88378066189587 s\n"
     ]
    }
   ],
   "source": [
    "mean_exp_time_U = std.mean(filtro_U['EXP-TIME'])\n",
    "median_exp_time_U = std.median(filtro_U['EXP-TIME'])\n",
    "desvpad_exp_time_U = std.stdev(filtro_U['EXP-TIME'])\n",
    "moda_exp_time_U = std.mode(filtro_U['EXP-TIME'])\n",
    "\n",
    "print('FILTRO B')\n",
    "print('moda:',moda_exp_time_U,'s')\n",
    "print('média: ',mean_exp_time_U,'s')\n",
    "print('mediana: ',median_exp_time_U,'s')\n",
    "print('desvio padrão: ',desvpad_exp_time_U,'s')"
   ]
  },
  {
   "cell_type": "code",
   "execution_count": 41,
   "metadata": {},
   "outputs": [
    {
     "data": {
      "image/png": "[encoded data removed]",
      "text/plain": [
       "<Figure size 648x504 with 1 Axes>"
      ]
     },
     "metadata": {
      "needs_background": "light"
     },
     "output_type": "display_data"
    }
   ],
   "source": [
    "plt.figure(figsize=(9,7))\n",
    "plt.hist(filtro_U['EXP-TIME'],label='Filtro U',bins=100,facecolor='darkorange', alpha = 0.5, lw=1, edgecolor='black')\n",
    "plt.title('$\\sigma = 116.9 s$',size=13)\n",
    "plt.ylabel('Frequência de ocorrência',size=15)\n",
    "plt.xlabel('Tempo de exposição (segundos)',size=15)\n",
    "plt.legend(prop={'size': 10},frameon = True,loc = 'upper right', fancybox = True, framealpha = 1, shadow = True, borderpad = 0.5 )\n",
    "plt.xticks(np.arange(0, 420, 20))  \n",
    "plt.yticks(np.arange(0,4,0.5))\n",
    "plt.savefig('exptime-hist_U.png')\n",
    "plt.show()"
   ]
  },
  {
   "cell_type": "markdown",
   "metadata": {},
   "source": [
    "<h2>Filtro I</h2>"
   ]
  },
  {
   "cell_type": "code",
   "execution_count": 42,
   "metadata": {},
   "outputs": [
    {
     "name": "stdout",
     "output_type": "stream",
     "text": [
      "FILTRO I\n",
      "moda: 300.0 s\n",
      "média:  152.0 s\n",
      "mediana:  150.0 s\n",
      "desvio padrão:  122.09286083414814 s\n"
     ]
    }
   ],
   "source": [
    "mean_exp_time_I = std.mean(filtro_I['EXP-TIME'])\n",
    "median_exp_time_I = std.median(filtro_I['EXP-TIME'])\n",
    "desvpad_exp_time_I = std.stdev(filtro_I['EXP-TIME'])\n",
    "moda_exp_time_I = std.mode(filtro_I['EXP-TIME'])\n",
    "\n",
    "print('FILTRO I')\n",
    "print('moda:',moda_exp_time_I,'s')\n",
    "print('média: ',mean_exp_time_I,'s')\n",
    "print('mediana: ',median_exp_time_I,'s')\n",
    "print('desvio padrão: ',desvpad_exp_time_I,'s')"
   ]
  },
  {
   "cell_type": "code",
   "execution_count": 43,
   "metadata": {},
   "outputs": [
    {
     "data": {
      "image/png": "[encoded data removed]",
      "text/plain": [
       "<Figure size 648x504 with 1 Axes>"
      ]
     },
     "metadata": {
      "needs_background": "light"
     },
     "output_type": "display_data"
    }
   ],
   "source": [
    "plt.figure(figsize=(9,7))\n",
    "plt.hist(filtro_I['EXP-TIME'],label='Filtro I',bins=100,facecolor='green', alpha = 0.5, lw=1, edgecolor='black')\n",
    "plt.title('$\\sigma = 122.1 s$',size=13)\n",
    "plt.ylabel('Frequência de ocorrência',size=15)\n",
    "plt.xlabel('Tempo de exposição (segundos)',size=15)\n",
    "plt.legend(prop={'size': 10},frameon = True,loc = 'upper right', fancybox = True, framealpha = 1, shadow = True, borderpad = 0.5 )\n",
    "plt.xticks(np.arange(0, 420, 20))  \n",
    "plt.yticks(np.arange(0,4,0.5))\n",
    "plt.savefig('exptime-hist_I.png')\n",
    "plt.show()"
   ]
  },
  {
   "cell_type": "markdown",
   "metadata": {},
   "source": [
    "<h2>Filtro B</h2>"
   ]
  },
  {
   "cell_type": "code",
   "execution_count": 44,
   "metadata": {},
   "outputs": [
    {
     "name": "stdout",
     "output_type": "stream",
     "text": [
      "FILTRO B\n",
      "moda: 300.0 s\n",
      "média:  147.27272727272728 s\n",
      "mediana:  100.0 s\n",
      "desvio padrão:  116.88378066189587 s\n"
     ]
    }
   ],
   "source": [
    "mean_exp_time_B = std.mean(filtro_B['EXP-TIME'])\n",
    "median_exp_time_B = std.median(filtro_B['EXP-TIME'])\n",
    "desvpad_exp_time_B = std.stdev(filtro_B['EXP-TIME'])\n",
    "moda_exp_time_B = std.mode(filtro_B['EXP-TIME'])\n",
    "\n",
    "print('FILTRO B')\n",
    "print('moda:',moda_exp_time_B,'s')\n",
    "print('média: ',mean_exp_time_B,'s')\n",
    "print('mediana: ',median_exp_time_B,'s')\n",
    "print('desvio padrão: ',desvpad_exp_time_B,'s')"
   ]
  },
  {
   "cell_type": "code",
   "execution_count": 45,
   "metadata": {},
   "outputs": [
    {
     "data": {
      "image/png": "[encoded data removed]",
      "text/plain": [
       "<Figure size 648x504 with 1 Axes>"
      ]
     },
     "metadata": {
      "needs_background": "light"
     },
     "output_type": "display_data"
    }
   ],
   "source": [
    "plt.figure(figsize=(9,7))\n",
    "plt.hist(filtro_B['EXP-TIME'],label='Filtro B',bins=100,facecolor='red', alpha = 0.5, lw=1, edgecolor='black')\n",
    "plt.title('$\\sigma = 116.9 s$',size=13)\n",
    "plt.ylabel('Frequência de ocorrência',size=15)\n",
    "plt.xlabel('Tempo de exposição (segundos)',size=15)\n",
    "plt.legend(prop={'size': 10},frameon = True,loc = 'upper right', fancybox = True, framealpha = 1, shadow = True, borderpad = 0.5 )\n",
    "plt.xticks(np.arange(0, 420, 20))  \n",
    "plt.yticks(np.arange(0,4,0.5))\n",
    "plt.savefig('exptime-hist_B.png')\n",
    "plt.show()"
   ]
  },
  {
   "cell_type": "markdown",
   "metadata": {},
   "source": [
    "<h2>Filtro r</h2>"
   ]
  },
  {
   "cell_type": "code",
   "execution_count": 46,
   "metadata": {},
   "outputs": [
    {
     "name": "stdout",
     "output_type": "stream",
     "text": [
      "FILTRO r\n",
      "moda: 10.0 s\n",
      "média:  39.18494271685761 s\n",
      "mediana:  15.0 s\n",
      "desvio padrão:  43.62837443279111 s\n"
     ]
    }
   ],
   "source": [
    "mean_exp_time_r = std.mean(filtro_r['EXP-TIME'])\n",
    "median_exp_time_r = std.median(filtro_r['EXP-TIME'])\n",
    "desvpad_exp_time_r = std.stdev(filtro_r['EXP-TIME'])\n",
    "moda_exp_time_r = std.mode(filtro_r['EXP-TIME'])\n",
    "\n",
    "print('FILTRO r')\n",
    "print('moda:',moda_exp_time_r,'s')\n",
    "print('média: ',mean_exp_time_r,'s')\n",
    "print('mediana: ',median_exp_time_r,'s')\n",
    "print('desvio padrão: ',desvpad_exp_time_r,'s')"
   ]
  },
  {
   "cell_type": "code",
   "execution_count": 47,
   "metadata": {},
   "outputs": [
    {
     "data": {
      "image/png": "[encoded data removed]",
      "text/plain": [
       "<Figure size 648x504 with 1 Axes>"
      ]
     },
     "metadata": {
      "needs_background": "light"
     },
     "output_type": "display_data"
    }
   ],
   "source": [
    "plt.figure(figsize=(9,7))\n",
    "plt.hist(filtro_r['EXP-TIME'],label='Filtro r',bins=100,facecolor='purple', alpha = 0.5, lw=1, edgecolor='black')\n",
    "plt.title('$\\sigma = 43.6 s$',size=13)\n",
    "plt.ylabel('Frequência de ocorrência',size=15)\n",
    "plt.xlabel('Tempo de exposição (segundos)',size=15)\n",
    "plt.legend(prop={'size': 10},frameon = True,loc = 'upper right', fancybox = True, framealpha = 1, shadow = True, borderpad = 0.5 )\n",
    "plt.xticks(np.arange(0, 420, 20))  \n",
    "plt.savefig('exptime-hist_r.png')\n",
    "plt.show()"
   ]
  },
  {
   "cell_type": "markdown",
   "metadata": {},
   "source": [
    "<h2>Filtro R</h2>"
   ]
  },
  {
   "cell_type": "code",
   "execution_count": 48,
   "metadata": {},
   "outputs": [
    {
     "name": "stdout",
     "output_type": "stream",
     "text": [
      "FILTRO R\n",
      "moda: 40.0 s\n",
      "média:  53.29967349223378 s\n",
      "mediana:  40.0 s\n",
      "desvio padrão:  38.838794129208836 s\n"
     ]
    }
   ],
   "source": [
    "mean_exp_time_R = std.mean(filtro_R['EXP-TIME'])\n",
    "median_exp_time_R = std.median(filtro_R['EXP-TIME'])\n",
    "desvpad_exp_time_R = std.stdev(filtro_R['EXP-TIME'])\n",
    "moda_exp_time_R = std.mode(filtro_R['EXP-TIME'])\n",
    "\n",
    "print('FILTRO R')\n",
    "print('moda:',moda_exp_time_R,'s')\n",
    "print('média: ',mean_exp_time_R,'s')\n",
    "print('mediana: ',median_exp_time_R,'s')\n",
    "print('desvio padrão: ',desvpad_exp_time_R,'s')"
   ]
  },
  {
   "cell_type": "code",
   "execution_count": 49,
   "metadata": {},
   "outputs": [
    {
     "data": {
      "image/png": "[encoded data removed]",
      "text/plain": [
       "<Figure size 648x504 with 1 Axes>"
      ]
     },
     "metadata": {
      "needs_background": "light"
     },
     "output_type": "display_data"
    }
   ],
   "source": [
    "plt.figure(figsize=(9,7))\n",
    "plt.hist(filtro_R['EXP-TIME'],label='Filtro R',bins=150,facecolor='darkorange', alpha = 0.5, lw=1, edgecolor='black')\n",
    "plt.title('$\\sigma = 38.9 s$',size=13)\n",
    "plt.ylabel('Frequência de ocorrência',size=15)\n",
    "plt.xlabel('Tempo de exposição (segundos)',size=15)\n",
    "plt.legend(prop={'size': 10},frameon = True,loc = 'upper right', fancybox = True, framealpha = 1, shadow = True, borderpad = 0.5 )\n",
    "plt.xticks(np.arange(0, 420, 20),rotation=45)  \n",
    "plt.savefig('exptime-hist_R.png')\n",
    "plt.show()"
   ]
  },
  {
   "cell_type": "markdown",
   "metadata": {},
   "source": [
    "<h2>Filtro g</h2>"
   ]
  },
  {
   "cell_type": "code",
   "execution_count": 50,
   "metadata": {},
   "outputs": [
    {
     "name": "stdout",
     "output_type": "stream",
     "text": [
      "FILTRO g\n",
      "moda: 10.0 s\n",
      "média:  40.79983660130719 s\n",
      "mediana:  20.0 s\n",
      "desvio padrão:  45.41497550338742 s\n"
     ]
    }
   ],
   "source": [
    "mean_exp_time_g = std.mean(filtro_g['EXP-TIME'])\n",
    "median_exp_time_g = std.median(filtro_g['EXP-TIME'])\n",
    "desvpad_exp_time_g = std.stdev(filtro_g['EXP-TIME'])\n",
    "moda_exp_time_g = std.mode(filtro_g['EXP-TIME'])\n",
    "\n",
    "print('FILTRO g')\n",
    "print('moda:',moda_exp_time_g,'s')\n",
    "print('média: ',mean_exp_time_g,'s')\n",
    "print('mediana: ',median_exp_time_g,'s')\n",
    "print('desvio padrão: ',desvpad_exp_time_g,'s')"
   ]
  },
  {
   "cell_type": "code",
   "execution_count": 51,
   "metadata": {},
   "outputs": [
    {
     "data": {
      "image/png": "[encoded data removed]",
      "text/plain": [
       "<Figure size 648x504 with 1 Axes>"
      ]
     },
     "metadata": {
      "needs_background": "light"
     },
     "output_type": "display_data"
    }
   ],
   "source": [
    "plt.figure(figsize=(9,7))\n",
    "plt.hist(filtro_g['EXP-TIME'],label='Filtro g',bins=100,color='darkgrey', alpha = 0.5, lw=1, edgecolor='black')\n",
    "plt.title('$\\sigma = 45.4 s$',size=13)\n",
    "plt.ylabel('Frequência de ocorrência',size=15)\n",
    "plt.xlabel('Tempo de exposição (segundos)',size=15)\n",
    "plt.legend(prop={'size': 10},frameon = True,loc = 'upper right', fancybox = True, framealpha = 1, shadow = True, borderpad = 0.5 )\n",
    "plt.xticks(np.arange(0, 420, 20))  \n",
    "plt.savefig('exptime-hist_g.png')\n",
    "plt.show()"
   ]
  },
  {
   "cell_type": "markdown",
   "metadata": {},
   "source": [
    "<h2>Filtro z</h2>"
   ]
  },
  {
   "cell_type": "code",
   "execution_count": 52,
   "metadata": {},
   "outputs": [
    {
     "name": "stdout",
     "output_type": "stream",
     "text": [
      "FILTRO z\n",
      "moda: 10.0 s\n",
      "média:  43.50806451612903 s\n",
      "mediana:  25.0 s\n",
      "desvio padrão:  50.110949697085736 s\n"
     ]
    }
   ],
   "source": [
    "mean_exp_time_z = std.mean(filtro_z['EXP-TIME'])\n",
    "median_exp_time_z = std.median(filtro_z['EXP-TIME'])\n",
    "desvpad_exp_time_z = std.stdev(filtro_z['EXP-TIME'])\n",
    "moda_exp_time_z = std.mode(filtro_z['EXP-TIME'])\n",
    "\n",
    "print('FILTRO z')\n",
    "print('moda:',moda_exp_time_z,'s')\n",
    "print('média: ',mean_exp_time_z,'s')\n",
    "print('mediana: ',median_exp_time_z,'s')\n",
    "print('desvio padrão: ',desvpad_exp_time_z,'s')"
   ]
  },
  {
   "cell_type": "code",
   "execution_count": 53,
   "metadata": {},
   "outputs": [
    {
     "data": {
      "image/png": "[encoded data removed]",
      "text/plain": [
       "<Figure size 648x504 with 1 Axes>"
      ]
     },
     "metadata": {
      "needs_background": "light"
     },
     "output_type": "display_data"
    }
   ],
   "source": [
    "plt.figure(figsize=(9,7))\n",
    "plt.hist(filtro_z['EXP-TIME'],label='Filtro z',bins=100,color='darkred', alpha = 0.5, lw=1, edgecolor='black')\n",
    "plt.title('$\\sigma = 50.1 s$',size=13)\n",
    "plt.ylabel('Frequência de ocorrência',size=15)\n",
    "plt.xlabel('Tempo de exposição (segundos)',size=15)\n",
    "plt.legend(prop={'size': 10},frameon = True,loc = 'upper right', fancybox = True, framealpha = 1, shadow = True, borderpad = 0.5 )\n",
    "plt.xticks(np.arange(0, 420, 20))  \n",
    "plt.savefig('exptime-hist_z.png')\n",
    "plt.show()"
   ]
  },
  {
   "cell_type": "markdown",
   "metadata": {},
   "source": [
    "<h2>Filtro i</h2>"
   ]
  },
  {
   "cell_type": "code",
   "execution_count": 54,
   "metadata": {},
   "outputs": [
    {
     "name": "stdout",
     "output_type": "stream",
     "text": [
      "FILTRO i\n",
      "moda: 10.0 s\n",
      "média:  43.454914703493095 s\n",
      "mediana:  40.0 s\n",
      "desvio padrão:  49.94681112216481 s\n"
     ]
    }
   ],
   "source": [
    "mean_exp_time_i = std.mean(filtro_i['EXP-TIME'])\n",
    "median_exp_time_i = std.median(filtro_i['EXP-TIME'])\n",
    "desvpad_exp_time_i = std.stdev(filtro_i['EXP-TIME'])\n",
    "moda_exp_time_i = std.mode(filtro_i['EXP-TIME'])\n",
    "\n",
    "print('FILTRO i')\n",
    "print('moda:',moda_exp_time_i,'s')\n",
    "print('média: ',mean_exp_time_i,'s')\n",
    "print('mediana: ',median_exp_time_i,'s')\n",
    "print('desvio padrão: ',desvpad_exp_time_i,'s')"
   ]
  },
  {
   "cell_type": "code",
   "execution_count": 55,
   "metadata": {},
   "outputs": [
    {
     "data": {
      "image/png": "[encoded data removed]",
      "text/plain": [
       "<Figure size 648x504 with 1 Axes>"
      ]
     },
     "metadata": {
      "needs_background": "light"
     },
     "output_type": "display_data"
    }
   ],
   "source": [
    "plt.figure(figsize=(9,7))\n",
    "plt.hist(filtro_i['EXP-TIME'],label='Filtro i',bins=100,color='darkblue', alpha = 0.5, lw=1, edgecolor='black')\n",
    "plt.title('$\\sigma = 49.9 s$',size=13)\n",
    "plt.ylabel('Frequência de ocorrência',size=15)\n",
    "plt.xlabel('Tempo de exposição (segundos)',size=15)\n",
    "plt.legend(prop={'size': 10},frameon = True,loc = 'upper right', fancybox = True, framealpha = 1, shadow = True, borderpad = 0.5 )\n",
    "plt.xticks(np.arange(0, 420, 20))  \n",
    "plt.savefig('exptime-hist_i.png')\n",
    "plt.show()"
   ]
  },
  {
   "cell_type": "markdown",
   "metadata": {},
   "source": [
    "<h2>Sem Filtro </h2>"
   ]
  },
  {
   "cell_type": "code",
   "execution_count": 56,
   "metadata": {},
   "outputs": [
    {
     "name": "stdout",
     "output_type": "stream",
     "text": [
      "FILTRO NF\n",
      "moda: 10.0 s\n",
      "média:  27.159420289855074 s\n",
      "mediana:  10.0 s\n",
      "desvio padrão:  34.761071177833415 s\n"
     ]
    }
   ],
   "source": [
    "mean_exp_time_NF = std.mean(filtro_NF['EXP-TIME'])\n",
    "median_exp_time_NF = std.median(filtro_NF['EXP-TIME'])\n",
    "desvpad_exp_time_NF = std.stdev(filtro_NF['EXP-TIME'])\n",
    "moda_exp_time_NF = std.mode(filtro_NF['EXP-TIME'])\n",
    "\n",
    "print('FILTRO NF')\n",
    "print('moda:',moda_exp_time_NF,'s')\n",
    "print('média: ',mean_exp_time_NF,'s')\n",
    "print('mediana: ',median_exp_time_NF,'s')\n",
    "print('desvio padrão: ',desvpad_exp_time_NF,'s')"
   ]
  },
  {
   "cell_type": "code",
   "execution_count": 57,
   "metadata": {},
   "outputs": [
    {
     "data": {
      "image/png": "[encoded data removed]",
      "text/plain": [
       "<Figure size 648x504 with 1 Axes>"
      ]
     },
     "metadata": {
      "needs_background": "light"
     },
     "output_type": "display_data"
    }
   ],
   "source": [
    "plt.figure(figsize=(9,7))\n",
    "plt.hist(filtro_NF['EXP-TIME'],label='Sem Filtro',bins=100,color='darkgreen', alpha = 0.5, lw=1, edgecolor='black')\n",
    "plt.title('$\\sigma = 34.8 s$',size=13)\n",
    "plt.ylabel('Frequência de ocorrência',size=15)\n",
    "plt.xlabel('Tempo de exposição (segundos)',size=15)\n",
    "plt.legend(prop={'size': 10},frameon = True,loc = 'upper right', fancybox = True, framealpha = 1, shadow = True, borderpad = 0.5 )\n",
    "plt.xticks(np.arange(0, 420, 20))  \n",
    "plt.savefig('exptime-hist_NF.png')\n",
    "plt.show()"
   ]
  },
  {
   "cell_type": "markdown",
   "metadata": {},
   "source": [
    "<h2>Todos os filtros</h2>"
   ]
  },
  {
   "cell_type": "code",
   "execution_count": 58,
   "metadata": {},
   "outputs": [
    {
     "data": {
      "image/png": "[encoded data removed]",
      "text/plain": [
       "<Figure size 648x504 with 1 Axes>"
      ]
     },
     "metadata": {
      "needs_background": "light"
     },
     "output_type": "display_data"
    },
    {
     "data": {
      "image/png": "[encoded data removed]",
      "text/plain": [
       "<Figure size 648x504 with 1 Axes>"
      ]
     },
     "metadata": {
      "needs_background": "light"
     },
     "output_type": "display_data"
    },
    {
     "data": {
      "image/png": "[encoded data removed]",
      "text/plain": [
       "<Figure size 648x504 with 1 Axes>"
      ]
     },
     "metadata": {
      "needs_background": "light"
     },
     "output_type": "display_data"
    }
   ],
   "source": [
    "plt.figure(figsize=(9,7))\n",
    "plt.hist(filtro_U['EXP-TIME'],label='Filtro U',bins = 100,facecolor='darkorange', alpha = 0.5, lw=1, edgecolor='black')\n",
    "plt.hist(filtro_B['EXP-TIME'],label='Filtro B',bins = 100,facecolor='darkred', alpha = 0.5, lw=1, edgecolor='black')\n",
    "plt.hist(filtro_V['EXP-TIME'],label='Filtro V',bins = 100,facecolor='yellow', alpha = 0.5, lw=1, edgecolor='black')\n",
    "plt.hist(filtro_R['EXP-TIME'],label='Filtro R',bins = 150,facecolor='darkblue', alpha = 0.5, lw=1, edgecolor='black')\n",
    "plt.hist(filtro_I['EXP-TIME'],label='Filtro I',bins = 100,facecolor='darkgreen', alpha = 0.5, lw=1, edgecolor='black')\n",
    "\n",
    "#plt.title('Tempo de exposição no ano de 2019 - Filtros Johnson Cousin' ,size=20)\n",
    "plt.ylabel('Frequência de ocorrência',size=15)\n",
    "plt.xlabel('Tempo de exposição (segundos)',size=15)\n",
    "plt.legend(prop={'size': 10},frameon = True,loc = 'upper right', fancybox = True, framealpha = 1, shadow = True, borderpad = 0.5 )\n",
    "plt.xticks(np.arange(0, 420, 20),size = 12)  \n",
    "plt.annotate('Filtros Johnson-Cousins ',(100,5000),size = 15)\n",
    "plt.savefig('exptime-hist_JohnsonCousins.png')\n",
    "\n",
    "plt.figure(figsize=(9,7))\n",
    "plt.hist(filtro_u['EXP-TIME'],label='Filtro u',bins = 100,facecolor='darkgreen', alpha = 0.5,lw = 1,edgecolor='black')\n",
    "plt.hist(filtro_g['EXP-TIME'],label='Filtro g',bins = 100,color = 'darkgrey', alpha = 0.5, lw = 1, edgecolor='black')\n",
    "plt.hist(filtro_r['EXP-TIME'],label='Filtro r',bins = 100,facecolor = 'purple', alpha = 0.5, lw = 1, edgecolor='black')\n",
    "plt.hist(filtro_i['EXP-TIME'],label='Filtro i',bins = 100,color = 'darkblue', alpha = 0.5, lw = 1, edgecolor='black')\n",
    "plt.hist(filtro_z['EXP-TIME'],label='Filtro z',bins = 100,color = 'darkred', alpha = 0.5, lw = 1, edgecolor='black')\n",
    "\n",
    "#plt.title('Tempo de exposição no ano de 2019',size=20)\n",
    "plt.ylabel('Frequência de ocorrência',size=15)\n",
    "plt.xlabel('Tempo de exposição (segundos)',size=15)\n",
    "plt.legend(prop={'size': 10},frameon = True,loc = 'upper right', fancybox = True, framealpha = 1, shadow = True, borderpad = 0.5 )\n",
    "plt.xticks(np.arange(0, 420, 20),size = 12)  \n",
    "plt.annotate('Filtros SLOAN ',(180,220),size = 15)\n",
    "plt.savefig('exptime-hist_SLOAN.png')\n",
    "\n",
    "plt.figure(figsize=(9,7))\n",
    "plt.hist(filtro_NF['EXP-TIME'],label='Sem Filtro',bins=100,color='darkgreen', alpha = 0.5, lw=1, edgecolor='black')\n",
    "plt.hist(filtro_clear['EXP-TIME'],label='Filtro Clear',bins=1,facecolor='brown', alpha = 0.5, lw=1, edgecolor='black')\n",
    "#plt.title('Tempo de exposição no ano de 2019',size=20)\n",
    "plt.ylabel('Frequência de ocorrência',size=15)\n",
    "plt.xlabel('Tempo de exposição (segundos)',size=15)\n",
    "plt.legend(prop={'size': 10},frameon = True,loc = 'upper right', fancybox = True, framealpha = 1, shadow = True, borderpad = 0.5 )\n",
    "plt.xticks(np.arange(0, 420, 20),size = 12)  \n",
    "plt.savefig('exptime-hist_NF-CLEAR.png')\n",
    "\n",
    "plt.show()"
   ]
  },
  {
   "cell_type": "code",
   "execution_count": 59,
   "metadata": {},
   "outputs": [
    {
     "name": "stdout",
     "output_type": "stream",
     "text": [
      "SEM FILTRO\n",
      "moda: 10.0 s\n",
      "média:  27.159420289855074 s\n",
      "mediana:  10.0 s\n",
      "desvio padrão:  34.761071177833415 s\n"
     ]
    }
   ],
   "source": [
    "mean_exp_time_NF = std.mean(filtro_NF['EXP-TIME'])\n",
    "median_exp_time_NF = std.median(filtro_NF['EXP-TIME'])\n",
    "desvpad_exp_time_NF = std.stdev(filtro_NF['EXP-TIME'])\n",
    "moda_exp_time_NF = std.mode(filtro_NF['EXP-TIME'])\n",
    "\n",
    "print('SEM FILTRO')\n",
    "print('moda:',moda_exp_time_NF,'s')\n",
    "print('média: ',mean_exp_time_NF,'s')\n",
    "print('mediana: ',median_exp_time_NF,'s')\n",
    "print('desvio padrão: ',desvpad_exp_time_NF,'s')"
   ]
  },
  {
   "cell_type": "markdown",
   "metadata": {},
   "source": [
    "<h1>Tabela Estatística</h1>"
   ]
  },
  {
   "cell_type": "code",
   "execution_count": 60,
   "metadata": {},
   "outputs": [
    {
     "data": {
      "text/html": [
       "<div>\n",
       "<style scoped>\n",
       "    .dataframe tbody tr th:only-of-type {\n",
       "        vertical-align: middle;\n",
       "    }\n",
       "\n",
       "    .dataframe tbody tr th {\n",
       "        vertical-align: top;\n",
       "    }\n",
       "\n",
       "    .dataframe thead th {\n",
       "        text-align: right;\n",
       "    }\n",
       "</style>\n",
       "<table border=\"1\" class=\"dataframe\">\n",
       "  <thead>\n",
       "    <tr style=\"text-align: right;\">\n",
       "      <th></th>\n",
       "      <th>FILTRO</th>\n",
       "      <th>MODA</th>\n",
       "      <th>MEDIA</th>\n",
       "      <th>MEDIANA</th>\n",
       "    </tr>\n",
       "  </thead>\n",
       "  <tbody>\n",
       "    <tr>\n",
       "      <th>0</th>\n",
       "      <td>u</td>\n",
       "      <td>[200,300]</td>\n",
       "      <td>151.666667</td>\n",
       "      <td>150.0</td>\n",
       "    </tr>\n",
       "    <tr>\n",
       "      <th>1</th>\n",
       "      <td>U</td>\n",
       "      <td>300</td>\n",
       "      <td>147.272727</td>\n",
       "      <td>100.0</td>\n",
       "    </tr>\n",
       "    <tr>\n",
       "      <th>2</th>\n",
       "      <td>r</td>\n",
       "      <td>10</td>\n",
       "      <td>39.184943</td>\n",
       "      <td>15.0</td>\n",
       "    </tr>\n",
       "    <tr>\n",
       "      <th>3</th>\n",
       "      <td>R</td>\n",
       "      <td>40</td>\n",
       "      <td>53.299673</td>\n",
       "      <td>40.0</td>\n",
       "    </tr>\n",
       "    <tr>\n",
       "      <th>4</th>\n",
       "      <td>g</td>\n",
       "      <td>10</td>\n",
       "      <td>40.799837</td>\n",
       "      <td>20.0</td>\n",
       "    </tr>\n",
       "    <tr>\n",
       "      <th>5</th>\n",
       "      <td>z</td>\n",
       "      <td>10</td>\n",
       "      <td>43.508065</td>\n",
       "      <td>25.0</td>\n",
       "    </tr>\n",
       "    <tr>\n",
       "      <th>6</th>\n",
       "      <td>i</td>\n",
       "      <td>10</td>\n",
       "      <td>43.454915</td>\n",
       "      <td>40.0</td>\n",
       "    </tr>\n",
       "    <tr>\n",
       "      <th>7</th>\n",
       "      <td>Sem Filtro</td>\n",
       "      <td>10</td>\n",
       "      <td>27.159420</td>\n",
       "      <td>10.0</td>\n",
       "    </tr>\n",
       "    <tr>\n",
       "      <th>8</th>\n",
       "      <td>V</td>\n",
       "      <td>180</td>\n",
       "      <td>70.782143</td>\n",
       "      <td>25.0</td>\n",
       "    </tr>\n",
       "    <tr>\n",
       "      <th>9</th>\n",
       "      <td>B</td>\n",
       "      <td>300</td>\n",
       "      <td>147.272727</td>\n",
       "      <td>100.0</td>\n",
       "    </tr>\n",
       "    <tr>\n",
       "      <th>10</th>\n",
       "      <td>I</td>\n",
       "      <td>300</td>\n",
       "      <td>152.000000</td>\n",
       "      <td>150.0</td>\n",
       "    </tr>\n",
       "    <tr>\n",
       "      <th>11</th>\n",
       "      <td>Clear</td>\n",
       "      <td>300</td>\n",
       "      <td>300.000000</td>\n",
       "      <td>300.0</td>\n",
       "    </tr>\n",
       "  </tbody>\n",
       "</table>\n",
       "</div>"
      ],
      "text/plain": [
       "        FILTRO       MODA       MEDIA  MEDIANA\n",
       "0            u  [200,300]  151.666667    150.0\n",
       "1            U        300  147.272727    100.0\n",
       "2            r         10   39.184943     15.0\n",
       "3            R         40   53.299673     40.0\n",
       "4            g         10   40.799837     20.0\n",
       "5            z         10   43.508065     25.0\n",
       "6            i         10   43.454915     40.0\n",
       "7   Sem Filtro         10   27.159420     10.0\n",
       "8            V        180   70.782143     25.0\n",
       "9            B        300  147.272727    100.0\n",
       "10           I        300  152.000000    150.0\n",
       "11       Clear        300  300.000000    300.0"
      ]
     },
     "execution_count": 60,
     "metadata": {},
     "output_type": "execute_result"
    }
   ],
   "source": [
    "#estatistica = pd.DataFrame({'FILTRO':['z','i'],'MODA':[moda_exp_time_z,moda_exp_time_i],'MEDIA':[mean_exp_time_r,mean_exp_time_R,mean_exp_time_G,mean_exp_time_z,mean_exp_time_i],'MEDIANA':[mean_exp_time_r,mean_exp_time_R,mean_exp_time_G,mean_exp_time_z,mean_exp_time_i]})\n",
    "\n",
    "estatistica = pd.DataFrame({'FILTRO':['u','U','r','R','g','z','i','Sem Filtro','V','B','I','Clear'],\n",
    "                            'MODA':['[200,300]',moda_exp_time_U,moda_exp_time_r,moda_exp_time_R,moda_exp_time_g,moda_exp_time_z,moda_exp_time_i,moda_exp_time_NF,moda_exp_time_V,moda_exp_time_B,moda_exp_time_I,moda_exp_time_clear],\n",
    "                            'MEDIA':[mean_exp_time_u,mean_exp_time_U,mean_exp_time_r,mean_exp_time_R,mean_exp_time_g,mean_exp_time_z,mean_exp_time_i,mean_exp_time_NF,mean_exp_time_V,mean_exp_time_B,mean_exp_time_I,mean_exp_time_clear],\n",
    "                            'MEDIANA':[median_exp_time_u,median_exp_time_U,median_exp_time_r,median_exp_time_R,median_exp_time_g,median_exp_time_z,median_exp_time_i,median_exp_time_NF,median_exp_time_V,median_exp_time_B,median_exp_time_I,mean_exp_time_clear]})\n",
    "\n",
    "estatistica.to_csv('estatistica.csv')\n",
    "estatistica"
   ]
  },
  {
   "cell_type": "code",
   "execution_count": 61,
   "metadata": {},
   "outputs": [
    {
     "data": {
      "text/plain": [
       "Int64Index([  0,   1,   2,   3,   4,   5,   6,   7,   8,   9,\n",
       "            ...\n",
       "            107, 109, 127, 129, 131, 133, 135, 137, 139, 141],\n",
       "           dtype='int64', length=21439)"
      ]
     },
     "execution_count": 61,
     "metadata": {},
     "output_type": "execute_result"
    }
   ],
   "source": [
    "grupoR = year.filter(['FILTER','EXP-TIME']).groupby('FILTER')\n",
    "grupoR.groups['R']"
   ]
  },
  {
   "cell_type": "code",
   "execution_count": 62,
   "metadata": {},
   "outputs": [],
   "source": [
    "it = ['2019-01-01T21:00:00']                             #Inicio das observaçoes\n",
    "itime = Time(it, format = 'isot', scale = 'utc' )"
   ]
  },
  {
   "cell_type": "markdown",
   "metadata": {},
   "source": [
    "<h1> Filtro R 40s </h1>"
   ]
  },
  {
   "cell_type": "code",
   "execution_count": 63,
   "metadata": {},
   "outputs": [],
   "source": [
    "#Filtrando por coluna, agrupando por filtro e pegando filtro R. Agrupando por tempo de exposição e pegando 40.0s\n",
    "filtro_R_40s = year.filter(['FILTER','EXP-TIME','DATE-OBS','IMAGE-NAME']).groupby('FILTER').get_group('R').groupby('EXP-TIME').get_group(40)   \n",
    "filtro_R_40s = filtro_R_40s.sort_values(by='DATE-OBS')\n",
    "filtro_R_40s.to_csv('filtroR_40s.csv')"
   ]
  },
  {
   "cell_type": "code",
   "execution_count": 64,
   "metadata": {},
   "outputs": [
    {
     "data": {
      "text/html": [
       "<div>\n",
       "<style scoped>\n",
       "    .dataframe tbody tr th:only-of-type {\n",
       "        vertical-align: middle;\n",
       "    }\n",
       "\n",
       "    .dataframe tbody tr th {\n",
       "        vertical-align: top;\n",
       "    }\n",
       "\n",
       "    .dataframe thead th {\n",
       "        text-align: right;\n",
       "    }\n",
       "</style>\n",
       "<table border=\"1\" class=\"dataframe\">\n",
       "  <thead>\n",
       "    <tr style=\"text-align: right;\">\n",
       "      <th></th>\n",
       "      <th>FILTER</th>\n",
       "      <th>EXP-TIME</th>\n",
       "      <th>DATE-OBS</th>\n",
       "      <th>IMAGE-NAME</th>\n",
       "    </tr>\n",
       "  </thead>\n",
       "  <tbody>\n",
       "    <tr>\n",
       "      <th>0</th>\n",
       "      <td>R</td>\n",
       "      <td>40.0</td>\n",
       "      <td>2019-01-08T23:11:50</td>\n",
       "      <td>1998NU_40s_b2x2-001_R.fit</td>\n",
       "    </tr>\n",
       "    <tr>\n",
       "      <th>1</th>\n",
       "      <td>R</td>\n",
       "      <td>40.0</td>\n",
       "      <td>2019-01-08T23:12:33</td>\n",
       "      <td>1998NU_40s_b2x2-002_R.fit</td>\n",
       "    </tr>\n",
       "    <tr>\n",
       "      <th>2</th>\n",
       "      <td>R</td>\n",
       "      <td>40.0</td>\n",
       "      <td>2019-01-08T23:13:15</td>\n",
       "      <td>1998NU_40s_b2x2-003_R.fit</td>\n",
       "    </tr>\n",
       "    <tr>\n",
       "      <th>3</th>\n",
       "      <td>R</td>\n",
       "      <td>40.0</td>\n",
       "      <td>2019-01-08T23:13:57</td>\n",
       "      <td>1998NU_40s_b2x2-004_R.fit</td>\n",
       "    </tr>\n",
       "    <tr>\n",
       "      <th>4</th>\n",
       "      <td>R</td>\n",
       "      <td>40.0</td>\n",
       "      <td>2019-01-08T23:14:39</td>\n",
       "      <td>1998NU_40s_b2x2-005_R.fit</td>\n",
       "    </tr>\n",
       "    <tr>\n",
       "      <th>...</th>\n",
       "      <td>...</td>\n",
       "      <td>...</td>\n",
       "      <td>...</td>\n",
       "      <td>...</td>\n",
       "    </tr>\n",
       "    <tr>\n",
       "      <th>49</th>\n",
       "      <td>R</td>\n",
       "      <td>40.0</td>\n",
       "      <td>2019-10-26T02:40:30</td>\n",
       "      <td>2011MD11_40s_b2x2-040_R.fit</td>\n",
       "    </tr>\n",
       "    <tr>\n",
       "      <th>50</th>\n",
       "      <td>R</td>\n",
       "      <td>40.0</td>\n",
       "      <td>2019-10-26T02:41:11</td>\n",
       "      <td>2011MD11_40s_b2x2-041_R.fit</td>\n",
       "    </tr>\n",
       "    <tr>\n",
       "      <th>51</th>\n",
       "      <td>R</td>\n",
       "      <td>40.0</td>\n",
       "      <td>2019-10-26T02:41:52</td>\n",
       "      <td>2011MD11_40s_b2x2-042_R.fit</td>\n",
       "    </tr>\n",
       "    <tr>\n",
       "      <th>52</th>\n",
       "      <td>R</td>\n",
       "      <td>40.0</td>\n",
       "      <td>2019-10-26T02:42:34</td>\n",
       "      <td>2011MD11_40s_b2x2-043_R.fit</td>\n",
       "    </tr>\n",
       "    <tr>\n",
       "      <th>53</th>\n",
       "      <td>R</td>\n",
       "      <td>40.0</td>\n",
       "      <td>2019-10-26T02:43:15</td>\n",
       "      <td>2011MD11_40s_b2x2-044_R.fit</td>\n",
       "    </tr>\n",
       "  </tbody>\n",
       "</table>\n",
       "<p>5169 rows × 4 columns</p>\n",
       "</div>"
      ],
      "text/plain": [
       "   FILTER  EXP-TIME             DATE-OBS                   IMAGE-NAME\n",
       "0       R      40.0  2019-01-08T23:11:50    1998NU_40s_b2x2-001_R.fit\n",
       "1       R      40.0  2019-01-08T23:12:33    1998NU_40s_b2x2-002_R.fit\n",
       "2       R      40.0  2019-01-08T23:13:15    1998NU_40s_b2x2-003_R.fit\n",
       "3       R      40.0  2019-01-08T23:13:57    1998NU_40s_b2x2-004_R.fit\n",
       "4       R      40.0  2019-01-08T23:14:39    1998NU_40s_b2x2-005_R.fit\n",
       "..    ...       ...                  ...                          ...\n",
       "49      R      40.0  2019-10-26T02:40:30  2011MD11_40s_b2x2-040_R.fit\n",
       "50      R      40.0  2019-10-26T02:41:11  2011MD11_40s_b2x2-041_R.fit\n",
       "51      R      40.0  2019-10-26T02:41:52  2011MD11_40s_b2x2-042_R.fit\n",
       "52      R      40.0  2019-10-26T02:42:34  2011MD11_40s_b2x2-043_R.fit\n",
       "53      R      40.0  2019-10-26T02:43:15  2011MD11_40s_b2x2-044_R.fit\n",
       "\n",
       "[5169 rows x 4 columns]"
      ]
     },
     "execution_count": 64,
     "metadata": {},
     "output_type": "execute_result"
    }
   ],
   "source": [
    "filtro_R_40s"
   ]
  },
  {
   "cell_type": "code",
   "execution_count": 65,
   "metadata": {},
   "outputs": [],
   "source": [
    "lista_tempos = Time(list(filtro_R_40s['DATE-OBS']),format='isot',scale='utc')\n",
    "\n",
    "dt = []\n",
    "t = np.empty(len(filtro_R_40s))\n",
    "\n",
    "for i in range(len(filtro_R_40s)):\n",
    "    dt.append(lista_tempos[i] - itime)\n",
    "    t[i] = (dt[i].value)/30"
   ]
  },
  {
   "cell_type": "code",
   "execution_count": 66,
   "metadata": {},
   "outputs": [
    {
     "data": {
      "text/plain": [
       "5169"
      ]
     },
     "execution_count": 66,
     "metadata": {},
     "output_type": "execute_result"
    }
   ],
   "source": [
    "len(t)"
   ]
  },
  {
   "cell_type": "code",
   "execution_count": 67,
   "metadata": {},
   "outputs": [
    {
     "data": {
      "image/png": "[encoded data removed]",
      "text/plain": [
       "<Figure size 648x504 with 1 Axes>"
      ]
     },
     "metadata": {
      "needs_background": "light"
     },
     "output_type": "display_data"
    }
   ],
   "source": [
    "plt.figure(figsize=(9,7))\n",
    "plt.hist(t,bins=100,label = 'Filtro R\\nTempo de exposição = 40s',color='blue',alpha=0.5,lw=1,edgecolor='black')\n",
    "plt.ylabel('Frequência das imagens',size = 15)\n",
    "plt.xlabel('Tempo após 2019-01-01 (meses)',size = 15)\n",
    "plt.xticks(np.arange(0,13,1))\n",
    "plt.yticks(np.arange(0,1100,100))\n",
    "plt.title('$\\sigma =  3.11$ meses',size = 13)\n",
    "plt.legend(prop={'size': 10},frameon = True,loc = 'upper right', fancybox = True, framealpha = 1, shadow = True, borderpad = 0.5 )\n",
    "plt.savefig('frequenciaxtempo_40s.png')\n",
    "plt.show()"
   ]
  },
  {
   "cell_type": "markdown",
   "metadata": {},
   "source": [
    "<h1> Filtro R 30s </h1>"
   ]
  },
  {
   "cell_type": "code",
   "execution_count": 68,
   "metadata": {},
   "outputs": [],
   "source": [
    "#Filtrando por coluna, agrupando por filtro e pegando filtro R. Agrupando por tempo de exposição e pegando 40.0s\n",
    "filtro_R_30s = year.filter(['FILTER','EXP-TIME','DATE-OBS','IMAGE-NAME']).groupby('FILTER').get_group('R').groupby('EXP-TIME').get_group(30)   \n",
    "filtro_R_30s = filtro_R_30s.sort_values(by='DATE-OBS')\n",
    "filtro_R_30s.to_csv('filtroR_30s.csv')"
   ]
  },
  {
   "cell_type": "code",
   "execution_count": 69,
   "metadata": {},
   "outputs": [
    {
     "data": {
      "text/html": [
       "<div>\n",
       "<style scoped>\n",
       "    .dataframe tbody tr th:only-of-type {\n",
       "        vertical-align: middle;\n",
       "    }\n",
       "\n",
       "    .dataframe tbody tr th {\n",
       "        vertical-align: top;\n",
       "    }\n",
       "\n",
       "    .dataframe thead th {\n",
       "        text-align: right;\n",
       "    }\n",
       "</style>\n",
       "<table border=\"1\" class=\"dataframe\">\n",
       "  <thead>\n",
       "    <tr style=\"text-align: right;\">\n",
       "      <th></th>\n",
       "      <th>FILTER</th>\n",
       "      <th>EXP-TIME</th>\n",
       "      <th>DATE-OBS</th>\n",
       "      <th>IMAGE-NAME</th>\n",
       "    </tr>\n",
       "  </thead>\n",
       "  <tbody>\n",
       "    <tr>\n",
       "      <th>0</th>\n",
       "      <td>R</td>\n",
       "      <td>30.0</td>\n",
       "      <td>2019-04-05T23:25:06</td>\n",
       "      <td>1998NU_30s_b2x2-001_R.fit</td>\n",
       "    </tr>\n",
       "    <tr>\n",
       "      <th>1</th>\n",
       "      <td>R</td>\n",
       "      <td>30.0</td>\n",
       "      <td>2019-04-05T23:25:39</td>\n",
       "      <td>1998NU_30s_b2x2-002_R.fit</td>\n",
       "    </tr>\n",
       "    <tr>\n",
       "      <th>2</th>\n",
       "      <td>R</td>\n",
       "      <td>30.0</td>\n",
       "      <td>2019-04-05T23:26:12</td>\n",
       "      <td>1998NU_30s_b2x2-003_R.fit</td>\n",
       "    </tr>\n",
       "    <tr>\n",
       "      <th>3</th>\n",
       "      <td>R</td>\n",
       "      <td>30.0</td>\n",
       "      <td>2019-04-05T23:26:45</td>\n",
       "      <td>1998NU_30s_b2x2-004_R.fit</td>\n",
       "    </tr>\n",
       "    <tr>\n",
       "      <th>4</th>\n",
       "      <td>R</td>\n",
       "      <td>30.0</td>\n",
       "      <td>2019-04-05T23:27:18</td>\n",
       "      <td>1998NU_30s_b2x2-005_R.fit</td>\n",
       "    </tr>\n",
       "    <tr>\n",
       "      <th>...</th>\n",
       "      <td>...</td>\n",
       "      <td>...</td>\n",
       "      <td>...</td>\n",
       "      <td>...</td>\n",
       "    </tr>\n",
       "    <tr>\n",
       "      <th>99</th>\n",
       "      <td>R</td>\n",
       "      <td>30.0</td>\n",
       "      <td>2019-12-04T00:49:46</td>\n",
       "      <td>G2000KD41_30s_b1x1-011_R.fit</td>\n",
       "    </tr>\n",
       "    <tr>\n",
       "      <th>100</th>\n",
       "      <td>R</td>\n",
       "      <td>30.0</td>\n",
       "      <td>2019-12-04T00:50:19</td>\n",
       "      <td>G2000KD41_30s_b1x1-012_R.fit</td>\n",
       "    </tr>\n",
       "    <tr>\n",
       "      <th>101</th>\n",
       "      <td>R</td>\n",
       "      <td>30.0</td>\n",
       "      <td>2019-12-04T00:50:52</td>\n",
       "      <td>G2000KD41_30s_b1x1-013_R.fit</td>\n",
       "    </tr>\n",
       "    <tr>\n",
       "      <th>102</th>\n",
       "      <td>R</td>\n",
       "      <td>30.0</td>\n",
       "      <td>2019-12-04T00:51:24</td>\n",
       "      <td>G2000KD41_30s_b1x1-014_R.fit</td>\n",
       "    </tr>\n",
       "    <tr>\n",
       "      <th>103</th>\n",
       "      <td>R</td>\n",
       "      <td>30.0</td>\n",
       "      <td>2019-12-04T00:51:57</td>\n",
       "      <td>G2000KD41_30s_b1x1-015_R.fit</td>\n",
       "    </tr>\n",
       "  </tbody>\n",
       "</table>\n",
       "<p>2556 rows × 4 columns</p>\n",
       "</div>"
      ],
      "text/plain": [
       "    FILTER  EXP-TIME             DATE-OBS                    IMAGE-NAME\n",
       "0        R      30.0  2019-04-05T23:25:06     1998NU_30s_b2x2-001_R.fit\n",
       "1        R      30.0  2019-04-05T23:25:39     1998NU_30s_b2x2-002_R.fit\n",
       "2        R      30.0  2019-04-05T23:26:12     1998NU_30s_b2x2-003_R.fit\n",
       "3        R      30.0  2019-04-05T23:26:45     1998NU_30s_b2x2-004_R.fit\n",
       "4        R      30.0  2019-04-05T23:27:18     1998NU_30s_b2x2-005_R.fit\n",
       "..     ...       ...                  ...                           ...\n",
       "99       R      30.0  2019-12-04T00:49:46  G2000KD41_30s_b1x1-011_R.fit\n",
       "100      R      30.0  2019-12-04T00:50:19  G2000KD41_30s_b1x1-012_R.fit\n",
       "101      R      30.0  2019-12-04T00:50:52  G2000KD41_30s_b1x1-013_R.fit\n",
       "102      R      30.0  2019-12-04T00:51:24  G2000KD41_30s_b1x1-014_R.fit\n",
       "103      R      30.0  2019-12-04T00:51:57  G2000KD41_30s_b1x1-015_R.fit\n",
       "\n",
       "[2556 rows x 4 columns]"
      ]
     },
     "execution_count": 69,
     "metadata": {},
     "output_type": "execute_result"
    }
   ],
   "source": [
    "filtro_R_30s"
   ]
  },
  {
   "cell_type": "code",
   "execution_count": 70,
   "metadata": {},
   "outputs": [],
   "source": [
    "lista_tempos = Time(list(filtro_R_30s['DATE-OBS']),format='isot',scale='utc')\n",
    "\n",
    "dt = []\n",
    "t = np.empty(len(filtro_R_30s))\n",
    "\n",
    "for i in range(len(filtro_R_30s)):\n",
    "    dt.append(lista_tempos[i] - itime)\n",
    "    t[i] = (dt[i].value)/30"
   ]
  },
  {
   "cell_type": "code",
   "execution_count": 71,
   "metadata": {},
   "outputs": [
    {
     "data": {
      "image/png": "[encoded data removed]",
      "text/plain": [
       "<Figure size 648x504 with 1 Axes>"
      ]
     },
     "metadata": {
      "needs_background": "light"
     },
     "output_type": "display_data"
    }
   ],
   "source": [
    "plt.figure(figsize=(9,7))\n",
    "#plt.hist(t,bins=100, color='orange',alpha=0.5,lw=1,edgecolor='black')\n",
    "plt.hist(t,bins=100,label = 'Filtro R\\nTempo de exposição = 30s',color='darkorange',alpha=0.5,lw=1,edgecolor='black')\n",
    "#plt.annotate('Filtro R\\nTempo de expsição = 30s ',(7,500),size = 15)\n",
    "\n",
    "plt.ylabel('Frequência das imagens',size=15)\n",
    "plt.xlabel('Tempo após 2019-01-01 (meses)',size=15)\n",
    "plt.xticks(np.arange(0,13,1))\n",
    "plt.yticks(np.arange(0,700,100))\n",
    "plt.title('$\\sigma = 2.65$ meses',size = 13)\n",
    "plt.legend(prop={'size': 10},frameon = True,loc = 'best', fancybox = True, framealpha = 1, shadow = True, borderpad = 0.5 )\n",
    "plt.savefig('frequenciaxtempo_30s.png')\n",
    "plt.show()"
   ]
  },
  {
   "cell_type": "code",
   "execution_count": null,
   "metadata": {},
   "outputs": [],
   "source": []
  },
  {
   "cell_type": "code",
   "execution_count": null,
   "metadata": {},
   "outputs": [],
   "source": []
  }
 ],
 "metadata": {
  "kernelspec": {
   "display_name": "Python 3",
   "language": "python",
   "name": "python3"
  },
  "language_info": {
   "codemirror_mode": {
    "name": "ipython",
    "version": 3
   },
   "file_extension": ".py",
   "mimetype": "text/x-python",
   "name": "python",
   "nbconvert_exporter": "python",
   "pygments_lexer": "ipython3",
   "version": "3.7.3"
  },
  "toc": {
   "base_numbering": 1,
   "nav_menu": {},
   "number_sections": true,
   "sideBar": true,
   "skip_h1_title": false,
   "title_cell": "Table of Contents",
   "title_sidebar": "Contents",
   "toc_cell": false,
   "toc_position": {},
   "toc_section_display": true,
   "toc_window_display": false
  }
 },
 "nbformat": 4,
 "nbformat_minor": 4
}
