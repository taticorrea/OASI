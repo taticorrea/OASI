{
 "cells": [
  {
   "cell_type": "code",
   "execution_count": 1,
   "metadata": {},
   "outputs": [],
   "source": [
    "import statistics as std\n",
    "import pandas as pd                                 \n",
    "import numpy as np                          #Importando os módulos necessários\n",
    "import matplotlib.pyplot as plt\n"
   ]
  },
  {
   "cell_type": "code",
   "execution_count": 23,
   "metadata": {},
   "outputs": [],
   "source": [
    "file = open('A10BMLZ','r')                       #Abrindo o arquivo com os dados\n",
    "\n",
    "apert = []\n",
    "mag = []                                       #Lista vazia para salvar os valores do fwhm\n",
    "err = []\n",
    "\n",
    "for indice, linha in enumerate(file):            #Loop para ler as linhas apartir da 480 e pegar o fwhm\n",
    "    if indice > 3 and indice < 21:\n",
    "        apert.append(float((linha.split()[0])))\n",
    "        mag.append(float((linha.split()[1])))\n",
    "        err.append(float((linha.split()[2])))\n"
   ]
  },
  {
   "cell_type": "code",
   "execution_count": 24,
   "metadata": {},
   "outputs": [],
   "source": [
    "file = open('A10BMLZ','r')                       #Abrindo o arquivo com os dados\n",
    "\n",
    "apert2 = []\n",
    "mag2 = []                                       #Lista vazia para salvar os valores do fwhm\n",
    "err2 = []\n",
    "\n",
    "for indice, linha in enumerate(file):            #Loop para ler as linhas apartir da 480 e pegar o fwhm\n",
    "    if indice > 24 and indice < 55:\n",
    "        apert2.append(float((linha.split()[0])))\n",
    "        mag2.append(float((linha.split()[1])))\n",
    "        err2.append(float((linha.split()[2])))"
   ]
  },
  {
   "cell_type": "code",
   "execution_count": 25,
   "metadata": {},
   "outputs": [],
   "source": [
    "file = open('A10BMLZ','r')                       #Abrindo o arquivo com os dados\n",
    "\n",
    "apert3 = []\n",
    "mag3 = []                                       #Lista vazia para salvar os valores do fwhm\n",
    "err3 = []\n",
    "\n",
    "for indice, linha in enumerate(file):            #Loop para ler as linhas apartir da 480 e pegar o fwhm\n",
    "    if indice > 58 and indice < 89:\n",
    "        apert3.append(float((linha.split()[0])))\n",
    "        mag3.append(float((linha.split()[1])))\n",
    "        err3.append(float((linha.split()[2])))"
   ]
  },
  {
   "cell_type": "code",
   "execution_count": 26,
   "metadata": {},
   "outputs": [],
   "source": [
    "file = open('A10BMLZ','r')                       #Abrindo o arquivo com os dados\n",
    "\n",
    "apert4 = []\n",
    "mag4 = []                                       #Lista vazia para salvar os valores do fwhm\n",
    "err4 = []\n",
    "\n",
    "for indice, linha in enumerate(file):            #Loop para ler as linhas apartir da 480 e pegar o fwhm\n",
    "    if indice > 92 and indice < 123:\n",
    "        apert4.append(float((linha.split()[0])))\n",
    "        mag4.append(float((linha.split()[1])))\n",
    "        err4.append(float((linha.split()[2])))"
   ]
  },
  {
   "cell_type": "code",
   "execution_count": 27,
   "metadata": {},
   "outputs": [],
   "source": [
    "file = open('A10BMLZ','r')                       #Abrindo o arquivo com os dados\n",
    "\n",
    "apert5 = []\n",
    "mag5 = []                                       #Lista vazia para salvar os valores do fwhm\n",
    "err5 = []\n",
    "\n",
    "for indice, linha in enumerate(file):            #Loop para ler as linhas apartir da 480 e pegar o fwhm\n",
    "    if indice > 126 and indice < 157:\n",
    "        apert5.append(float((linha.split()[0])))\n",
    "        mag5.append(float((linha.split()[1])))\n",
    "        err5.append(float((linha.split()[2])))"
   ]
  },
  {
   "cell_type": "code",
   "execution_count": null,
   "metadata": {},
   "outputs": [],
   "source": []
  },
  {
   "cell_type": "code",
   "execution_count": null,
   "metadata": {},
   "outputs": [],
   "source": []
  },
  {
   "cell_type": "code",
   "execution_count": 28,
   "metadata": {},
   "outputs": [
    {
     "name": "stdout",
     "output_type": "stream",
     "text": [
      "[19.181, 15.665, 14.809, 14.572, 14.511, 14.491, 14.48, 14.473, 14.468, 14.464, 14.462, 14.46, 14.457, 14.454, 14.452, 14.454, 14.455]\n",
      "[0.022, 0.004, 0.003, 0.003, 0.003, 0.003, 0.003, 0.003, 0.003, 0.003, 0.004, 0.004, 0.004, 0.005, 0.005, 0.005, 0.006]\n"
     ]
    }
   ],
   "source": [
    "print(mag)\n",
    "print(err)"
   ]
  },
  {
   "cell_type": "code",
   "execution_count": 33,
   "metadata": {},
   "outputs": [
    {
     "data": {
      "text/plain": [
       "Text(0.5, 1.0, '2019-01-08T23:11:50 - 1998NU - 40s - Filtro R')"
      ]
     },
     "execution_count": 33,
     "metadata": {},
     "output_type": "execute_result"
    },
    {
     "data": {
      "image/png": "[encoded data removed]",
      "text/plain": [
       "<Figure size 432x288 with 1 Axes>"
      ]
     },
     "metadata": {
      "needs_background": "light"
     },
     "output_type": "display_data"
    }
   ],
   "source": [
    "plt.plot(apert,mag, color = 'red')\n",
    "plt.plot(apert2,mag2, color = 'green')\n",
    "plt.plot(apert3,mag3, color = 'blue')\n",
    "plt.plot(apert4,mag4, color = 'grey')\n",
    "plt.plot(apert5,mag5, color = 'brown')\n",
    "plt.xlabel('Abertura')\n",
    "plt.ylabel('Magnitude relativa')\n",
    "plt.title('2019-02-01T00:58:07 - 1998NU - 40s - Filtro R')\n"
   ]
  }
 ],
 "metadata": {
  "kernelspec": {
   "display_name": "Python 3",
   "language": "python",
   "name": "python3"
  },
  "language_info": {
   "codemirror_mode": {
    "name": "ipython",
    "version": 3
   },
   "file_extension": ".py",
   "mimetype": "text/x-python",
   "name": "python",
   "nbconvert_exporter": "python",
   "pygments_lexer": "ipython3",
   "version": "3.7.3"
  }
 },
 "nbformat": 4,
 "nbformat_minor": 2
}
