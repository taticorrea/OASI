{
 "cells": [
  {
   "cell_type": "code",
   "execution_count": 1,
   "metadata": {},
   "outputs": [],
   "source": [
    "%matplotlib inline\n",
    "import statistics as std\n",
    "import pandas as pd                                 \n",
    "import numpy as np                          #Importando os módulos necessários\n",
    "import matplotlib.pyplot as plt\n",
    "from astropy.io import fits\n",
    "from astropy.time import Time\n",
    "from astropy.io.fits import HDUList"
   ]
  },
  {
   "cell_type": "code",
   "execution_count": 2,
   "metadata": {},
   "outputs": [],
   "source": [
    "it = ['2019-01-13T21:00:00']                             #Inicio das observaçoes\n",
    "itime = Time(it, format = 'isot', scale = 'utc' )"
   ]
  },
  {
   "cell_type": "code",
   "execution_count": 3,
   "metadata": {},
   "outputs": [],
   "source": [
    "file = open('logfile','r')                       #Abrindo o arquivo com os dados\n",
    "fwhm_750 = []\n",
    "fwhm_1998NU = []                                 #Listas vazias para salvar os valores do fwhm\n",
    "\n",
    "#750\n",
    "for indice, linha in enumerate(file):            #Loop para ler as linhas apartir da 1\n",
    "    if indice < 123 :\n",
    "        if linha[:47] == '  Average full width at half maximum (FWHM) of ': \n",
    "            fwhm_750.append(float(linha[47:]))\n",
    "        elif linha[:39] == '  Full width at half maximum (FWHM) of ': \n",
    "            fwhm_750.append(float(linha[39:]))\n",
    "#1998NU  \n",
    "    elif indice > 123:\n",
    "        if linha[:47] == '  Average full width at half maximum (FWHM) of ': \n",
    "            fwhm_1998NU.append(float(linha[47:]))\n",
    "        elif linha[:39] == '  Full width at half maximum (FWHM) of ': \n",
    "            fwhm_1998NU.append(float(linha[39:]))\n",
    "\n",
    "fwhm_750 = sorted(fwhm_750)            \n",
    "fwhm_1998NU = sorted(fwhm_1998NU)"
   ]
  },
  {
   "cell_type": "markdown",
   "metadata": {},
   "source": [
    "<h1>750</h1>"
   ]
  },
  {
   "cell_type": "code",
   "execution_count": 4,
   "metadata": {},
   "outputs": [],
   "source": [
    "#imagens usadas no psfmeasure = 15/30/45/60/75/90/105/120/135/150/175\n",
    "\n",
    "name_750 = '750/750_60s_b2x2-015_R.fit'\n",
    "imagens_750 = []                                                        #Lista com o nome das imagens\n",
    "\n",
    "for i in range(0,90,15):\n",
    "    number_750 = name_750[18:20].replace(name_750[18:20],str(int(name_750[18:20])+i))\n",
    "    imagens_750.append('750/750_60s_b2x2-0' + str(number_750) + '_R.fit' )\n",
    "for i in range(105,160,15):\n",
    "        name_750 = '750/750_60s_b2x2-100_R.fit'\n",
    "        number_750 = name_750[19:20].replace(name_750[19],str(int(name_750[19])+i))\n",
    "        imagens_750.append('750/750_60s_b2x2-' + str(number_750) + '_R.fit' )\n",
    "        \n",
    "imagens_750.append('750/750_60s_b2x2-175_R.fit')"
   ]
  },
  {
   "cell_type": "code",
   "execution_count": 5,
   "metadata": {},
   "outputs": [],
   "source": [
    "datas_750 = []                                                #Lista com as datas\n",
    "\n",
    "for i in imagens_750:                                         #Iterando dentro da lista com os nomes\n",
    "    with fits.open(i) as hdul:                                #Abrindo cada elemento da lista imagens\n",
    "        for hdu in hdul:                                      #Extraindo o header de cada imagem\n",
    "            datas_750.append(hdul[0].header['DATE-OBS'])\n",
    "            \n",
    "tempos_750 = Time(datas_750, format = 'isot', scale = 'utc')      #Instanciando a classe Time com os dados\n",
    "\n",
    "dt_750 = []                                                                 #Inicializando a lista com os pontos\n",
    "t_750 = np.empty(len(tempos_750))                                 #Inicializando array para plotar\n",
    "\n",
    "for i in range(len(tempos_750)):\n",
    "    dt_750.append(tempos_750[i] - itime)\n",
    "    t_750[i] = (dt_750[i].value)*24                               #Calculando os valores de dt em HORAS"
   ]
  },
  {
   "cell_type": "code",
   "execution_count": 6,
   "metadata": {},
   "outputs": [
    {
     "data": {
      "image/png": "[encoded data removed]",
      "text/plain": [
       "<Figure size 720x360 with 1 Axes>"
      ]
     },
     "metadata": {
      "needs_background": "light"
     },
     "output_type": "display_data"
    }
   ],
   "source": [
    "plt.figure(figsize=(10,5))\n",
    "plt.scatter(t_750, fwhm_750, color = 'grey')\n",
    "plt.plot(t_750, fwhm_750, color = 'grey', label  ='750')\n",
    "plt.yticks(np.arange(1, 6, 1)) \n",
    "plt.xticks(np.arange(0, 11, 1)) \n",
    "plt.title('2019-01-13' + ' '*83 + '60s de exposição - filtro R')\n",
    "plt.ylabel('Fwhm')\n",
    "plt.xlabel('Tempo (horas)')\n",
    "plt.legend()\n",
    "plt.show()"
   ]
  },
  {
   "cell_type": "markdown",
   "metadata": {},
   "source": [
    "<h1>1998NU</h1>"
   ]
  },
  {
   "cell_type": "code",
   "execution_count": 7,
   "metadata": {},
   "outputs": [],
   "source": [
    "#imagens usadas no psfmeasure = 10,20,30,40,50\n",
    "name_1998NU = '1998NU/1998NU_40s_b2x2-010_R.fit'\n",
    "imagens_1998NU = []                                                        #Lista com o nome das imagens\n",
    "\n",
    "for i in range(0,50,10):       \n",
    "    number_1998NU = name_1998NU[23:26].replace(name_1998NU[24:26],str(int(name_1998NU[24:26])+i))\n",
    "    imagens_1998NU.append('1998NU/1998NU_40s_b2x2-' + str(number_1998NU) + '_R.fit' )"
   ]
  },
  {
   "cell_type": "code",
   "execution_count": 8,
   "metadata": {},
   "outputs": [],
   "source": [
    "datas_1998NU = []                                                #Lista com as datas\n",
    "\n",
    "for i in imagens_1998NU:                                        #Iterando dentro da lista com os nomes\n",
    "    with fits.open(i) as hdul:                           #Abrindo cada elemento da lista imagens\n",
    "        for hdu in hdul:                                 #Extraindo o header de cada imagem\n",
    "            datas_1998NU.append(hdul[0].header['DATE-OBS'])\n",
    "            \n",
    "tempos_1998NU = Time(datas_1998NU, format = 'isot', scale = 'utc')      #Instanciando a classe Time com os dados\n",
    "\n",
    "dt_1998NU = []                                                   #Inicializando a lista com os pontos\n",
    "t_1998NU = np.empty(len(tempos_1998NU))                                 #Inicializando array para plotar\n",
    "\n",
    "for i in range(len(tempos_1998NU)):\n",
    "    dt_1998NU.append(tempos_1998NU[i] - itime)\n",
    "    t_1998NU[i] = (dt_1998NU[i].value)*24                               #Calculando os valores de dt em HORAS\n",
    "    \n",
    "t_1998NU = sorted(t_1998NU)"
   ]
  },
  {
   "cell_type": "code",
   "execution_count": 9,
   "metadata": {},
   "outputs": [
    {
     "data": {
      "image/png": "[encoded data removed]",
      "text/plain": [
       "<Figure size 720x360 with 1 Axes>"
      ]
     },
     "metadata": {
      "needs_background": "light"
     },
     "output_type": "display_data"
    }
   ],
   "source": [
    "plt.figure(figsize=(10,5))\n",
    "plt.scatter(t_1998NU, fwhm_1998NU, color = 'green')\n",
    "plt.plot(t_1998NU, fwhm_1998NU, color = 'green', label='1998NU')\n",
    "plt.yticks(np.arange(1, 7, 1)) \n",
    "plt.xticks(np.arange(0, 11, 1)) \n",
    "plt.title('2019-01-12' + ' '*85 + '40s de exposição - filtro R')\n",
    "plt.ylabel('Fwhm')\n",
    "plt.xlabel('Tempo (horas)')\n",
    "plt.legend()\n",
    "plt.show()"
   ]
  },
  {
   "cell_type": "code",
   "execution_count": 10,
   "metadata": {},
   "outputs": [
    {
     "data": {
      "image/png": "[encoded data removed]",
      "text/plain": [
       "<Figure size 720x360 with 1 Axes>"
      ]
     },
     "metadata": {
      "needs_background": "light"
     },
     "output_type": "display_data"
    }
   ],
   "source": [
    "plt.figure(figsize=(10,5))\n",
    "plt.plot(t_750, fwhm_750, color = 'brown', label = '750')\n",
    "plt.plot(t_1998NU, fwhm_1998NU, color = 'green', label = '1998NU')\n",
    "\n",
    "plt.yticks(np.arange(1, 6, 1)) \n",
    "plt.xticks(np.arange(0, 11, 1)) \n",
    "plt.title('2019-01-12')\n",
    "plt.ylabel('Fwhm')\n",
    "plt.xlabel('Tempo (horas)')\n",
    "plt.savefig('2019-01-13_plotfwhmxtime.png')\n",
    "plt.legend()\n",
    "plt.show()\n"
   ]
  },
  {
   "cell_type": "code",
   "execution_count": 11,
   "metadata": {},
   "outputs": [
    {
     "data": {
      "image/png": "[encoded data removed]",
      "text/plain": [
       "<Figure size 720x360 with 1 Axes>"
      ]
     },
     "metadata": {
      "needs_background": "light"
     },
     "output_type": "display_data"
    }
   ],
   "source": [
    "plt.figure(figsize=(10,5))\n",
    "plt.scatter(t_750, fwhm_750, color = 'brown', label = '750')\n",
    "plt.scatter(t_1998NU, fwhm_1998NU, color = 'green', label = '1998NU')\n",
    "\n",
    "plt.yticks(np.arange(1, 6, 1)) \n",
    "plt.xticks(np.arange(0, 11, 1)) \n",
    "plt.title('2019-01-12')\n",
    "plt.ylabel('Fwhm')\n",
    "plt.xlabel('Tempo (horas)')\n",
    "plt.savefig('2019-01-13_scatterfwhmxtime.png')\n",
    "plt.legend()\n",
    "plt.show()\n"
   ]
  },
  {
   "cell_type": "code",
   "execution_count": 12,
   "metadata": {},
   "outputs": [
    {
     "name": "stdout",
     "output_type": "stream",
     "text": [
      "3.73575625\n",
      "3.6641\n"
     ]
    }
   ],
   "source": [
    "fwhm = fwhm_1998NU + fwhm_750\n",
    "mean_fwhm = std.mean(fwhm)\n",
    "median_fwhm = std.median(fwhm)\n",
    "\n",
    "print(mean_fwhm)\n",
    "print(median_fwhm)"
   ]
  }
 ],
 "metadata": {
  "kernelspec": {
   "display_name": "Python 3",
   "language": "python",
   "name": "python3"
  },
  "language_info": {
   "codemirror_mode": {
    "name": "ipython",
    "version": 3
   },
   "file_extension": ".py",
   "mimetype": "text/x-python",
   "name": "python",
   "nbconvert_exporter": "python",
   "pygments_lexer": "ipython3",
   "version": "3.7.3"
  }
 },
 "nbformat": 4,
 "nbformat_minor": 4
}
