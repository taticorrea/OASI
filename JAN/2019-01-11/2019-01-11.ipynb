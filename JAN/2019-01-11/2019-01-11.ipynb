{
 "cells": [
  {
   "cell_type": "code",
   "execution_count": 1,
   "metadata": {},
   "outputs": [],
   "source": [
    "%matplotlib inline\n",
    "import statistics as std\n",
    "import pandas as pd                                 \n",
    "import numpy as np                          #Importando os módulos necessários\n",
    "import matplotlib.pyplot as plt\n",
    "from astropy.io import fits\n",
    "from astropy.time import Time\n",
    "from astropy.io.fits import HDUList"
   ]
  },
  {
   "cell_type": "code",
   "execution_count": 2,
   "metadata": {},
   "outputs": [],
   "source": [
    "it = ['2019-01-11T21:00:00']                             #Inicio das observaçoes\n",
    "itime = Time(it, format = 'isot', scale = 'utc' )"
   ]
  },
  {
   "cell_type": "code",
   "execution_count": 3,
   "metadata": {},
   "outputs": [],
   "source": [
    "file = open('logfile','r')                       #Abrindo o arquivo com os dados\n",
    "fwhm = []                                        #Lista vazia para salvar os valores do fwhm\n",
    "\n",
    "for indice, linha in enumerate(file):            #Loop para ler as linhas apartir da 480 e pegar o fwhm\n",
    "    if indice >=1:\n",
    "        if linha[:47] == '  Average full width at half maximum (FWHM) of ': \n",
    "            fwhm.append(float(linha[47:]))\n",
    "        elif linha[:39] == '  Full width at half maximum (FWHM) of ':\n",
    "            fwhm.append(float(linha[39:]))\n",
    "            \n",
    "fwhm = sorted(fwhm)"
   ]
  },
  {
   "cell_type": "markdown",
   "metadata": {},
   "source": [
    "<h1>750</h1>"
   ]
  },
  {
   "cell_type": "code",
   "execution_count": 4,
   "metadata": {},
   "outputs": [],
   "source": [
    "##### imagens usadas no psfmeasure = 5,10,15,20,25,30,35,40,45,50\n",
    "\n",
    "name = '750_60s_b2x2-001_R.fit'\n",
    "imagens = []                                                        #Lista com o nome das imagens\n",
    "\n",
    "for i in range(4,51,5):       \n",
    "    if i < 9:                                                      #Para imagens 001 ate 009 \n",
    "        number = name[13:16].replace(name[15],str(int(name[15])+i))   \n",
    "        imagens.append('750_60s_b2x2-' + str(number) + '_R.fit' )\n",
    "for i in range(0,51,5):       \n",
    "    if i > 9:                                       #Para imagens 010 ate 099 \n",
    "        name = '750_60s_b2x2-010_R.fit'\n",
    "        number = name[15:16].replace(name[15],str(int(name[15])+i))\n",
    "        imagens.append('750_60s_b2x2-0' + str(number) + '_R.fit' )"
   ]
  },
  {
   "cell_type": "code",
   "execution_count": 5,
   "metadata": {},
   "outputs": [],
   "source": [
    "datas = []                                                #Lista com as datas\n",
    "\n",
    "for i in imagens:                                        #Iterando dentro da lista com os nomes\n",
    "    with fits.open(i) as hdul:                           #Abrindo cada elemento da lista imagens\n",
    "        for hdu in hdul:                                 #Extraindo o header de cada imagem\n",
    "            datas.append(hdul[0].header['DATE-OBS'])\n",
    "            \n",
    "tempos = Time(datas, format = 'isot', scale = 'utc')      #Instanciando a classe Time com os dados\n",
    "\n",
    "dt = []                                                   #Inicializando a lista com os pontos\n",
    "t = np.empty(len(tempos))                                 #Inicializando array para plotar\n",
    "\n",
    "for i in range(len(tempos)):\n",
    "    dt.append(tempos[i] - itime)\n",
    "    t[i] = (dt[i].value)*24                               #Calculando os valores de dt em HORAS\n",
    "    \n",
    "t = sorted(t)"
   ]
  },
  {
   "cell_type": "code",
   "execution_count": 6,
   "metadata": {},
   "outputs": [
    {
     "data": {
      "image/png": "[encoded data removed]",
      "text/plain": [
       "<Figure size 720x360 with 1 Axes>"
      ]
     },
     "metadata": {
      "needs_background": "light"
     },
     "output_type": "display_data"
    }
   ],
   "source": [
    "plt.figure(figsize=(10,5))\n",
    "plt.scatter(t, fwhm, color = 'brown',label = '750')\n",
    "plt.yticks(np.arange(1, 4, 1)) \n",
    "plt.xticks(np.arange(0, 11, 1)) \n",
    "plt.title('2019-01-11' + ' '*85 + '60s de exposição - filtro R')\n",
    "plt.ylabel('Fwhm')\n",
    "plt.xlabel('Tempo (horas)')\n",
    "plt.savefig('2019-01-11_scatterfwhmxtime.png')\n",
    "plt.legend()\n",
    "plt.show()"
   ]
  },
  {
   "cell_type": "code",
   "execution_count": 7,
   "metadata": {},
   "outputs": [
    {
     "data": {
      "image/png": "[encoded data removed]",
      "text/plain": [
       "<Figure size 720x360 with 1 Axes>"
      ]
     },
     "metadata": {
      "needs_background": "light"
     },
     "output_type": "display_data"
    }
   ],
   "source": [
    "plt.figure(figsize=(10,5))\n",
    "plt.plot(t, fwhm, color = 'brown', label='750')\n",
    "plt.yticks(np.arange(1, 4, 1)) \n",
    "plt.xticks(np.arange(0, 11, 1)) \n",
    "plt.title('2019-01-11' + ' '*85 + '60s de exposição - filtro R')\n",
    "plt.ylabel('Fwhm')\n",
    "plt.xlabel('Tempo (horas)')\n",
    "plt.savefig('2019-01-11_plotfwhmxtime.png')\n",
    "plt.legend()\n",
    "plt.show()"
   ]
  },
  {
   "cell_type": "code",
   "execution_count": 8,
   "metadata": {},
   "outputs": [
    {
     "name": "stdout",
     "output_type": "stream",
     "text": [
      "1.83733\n",
      "1.8172\n"
     ]
    }
   ],
   "source": [
    "mean_fwhm = std.mean(fwhm)\n",
    "median_fwhm = std.median(fwhm)\n",
    "\n",
    "print(mean_fwhm)\n",
    "print(median_fwhm)"
   ]
  }
 ],
 "metadata": {
  "kernelspec": {
   "display_name": "Python 3",
   "language": "python",
   "name": "python3"
  },
  "language_info": {
   "codemirror_mode": {
    "name": "ipython",
    "version": 3
   },
   "file_extension": ".py",
   "mimetype": "text/x-python",
   "name": "python",
   "nbconvert_exporter": "python",
   "pygments_lexer": "ipython3",
   "version": "3.7.3"
  }
 },
 "nbformat": 4,
 "nbformat_minor": 4
}
