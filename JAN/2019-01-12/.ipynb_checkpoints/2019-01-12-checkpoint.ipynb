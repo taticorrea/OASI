{
 "cells": [
  {
   "cell_type": "code",
   "execution_count": 1,
   "metadata": {},
   "outputs": [],
   "source": [
    "%matplotlib inline\n",
    "import statistics as std\n",
    "import pandas as pd                                 \n",
    "import numpy as np                          #Importando os módulos necessários\n",
    "import matplotlib.pyplot as plt\n",
    "from astropy.io import fits\n",
    "from astropy.time import Time\n",
    "from astropy.io.fits import HDUList"
   ]
  },
  {
   "cell_type": "code",
   "execution_count": 2,
   "metadata": {},
   "outputs": [],
   "source": [
    "it = ['2019-01-12T21:00:00']                             #Inicio das observaçoes\n",
    "itime = Time(it, format = 'isot', scale = 'utc' )"
   ]
  },
  {
   "cell_type": "code",
   "execution_count": 3,
   "metadata": {},
   "outputs": [],
   "source": [
    "file = open('logfile','r')                       #Abrindo o arquivo com os dados\n",
    "fwhm_750 = []\n",
    "fwhm_1998NU = []                                 #Listas vazias para salvar os valores do fwhm\n",
    "fwhm_2000NG11 = []                               \n",
    "fwhm_2003CP20 = []\n",
    "fwhm_2009SV12 = []                          \n",
    "fwhm_2009SV17 = []                          \n",
    "fwhm_2016TL18 = []                                  \n",
    "fwhm_2017BL3 = []\n",
    "fwhm_GD108 = []\n",
    "\n",
    "\n",
    "#750\n",
    "for indice, linha in enumerate(file):            #Loop para ler as linhas apartir da 1\n",
    "    if indice > 1 and indice < 98 :\n",
    "        if linha[:47] == '  Average full width at half maximum (FWHM) of ': \n",
    "            fwhm_750.append(float(linha[47:]))\n",
    "        elif linha[:39] == '  Full width at half maximum (FWHM) of ': \n",
    "            fwhm_750.append(float(linha[39:]))\n",
    "#1998NU  \n",
    "    elif indice > 99 and indice < 231:\n",
    "        if linha[:47] == '  Average full width at half maximum (FWHM) of ': \n",
    "            fwhm_1998NU.append(float(linha[47:]))\n",
    "        elif linha[:39] == '  Full width at half maximum (FWHM) of ': \n",
    "            fwhm_1998NU.append(float(linha[39:]))\n",
    "#200NG11\n",
    "    elif indice > 232 and indice < 334:\n",
    "        if linha[:47] == '  Average full width at half maximum (FWHM) of ': \n",
    "            fwhm_2000NG11.append(float(linha[47:]))\n",
    "        elif linha[:39] == '  Full width at half maximum (FWHM) of ': \n",
    "            fwhm_2000NG11.append(float(linha[39:]))\n",
    "#2003CP20\n",
    "    if indice > 334 and indice < 456 :\n",
    "        if linha[:47] == '  Average full width at half maximum (FWHM) of ': \n",
    "            fwhm_2003CP20.append(float(linha[47:]))\n",
    "        elif linha[:39] == '  Full width at half maximum (FWHM) of ': \n",
    "            fwhm_2003CP20.append(float(linha[39:]))\n",
    "#2009SV12  \n",
    "    elif indice > 457 and indice < 494:\n",
    "        if linha[:47] == '  Average full width at half maximum (FWHM) of ': \n",
    "            fwhm_2009SV12.append(float(linha[47:]))\n",
    "        elif linha[:39] == '  Full width at half maximum (FWHM) of ': \n",
    "            fwhm_2009SV12.append(float(linha[39:]))\n",
    "#2009SV17\n",
    "    elif indice > 495 and indice < 528:\n",
    "        if linha[:47] == '  Average full width at half maximum (FWHM) of ': \n",
    "            fwhm_2009SV17.append(float(linha[47:]))\n",
    "        elif linha[:39] == '  Full width at half maximum (FWHM) of ': \n",
    "            fwhm_2009SV17.append(float(linha[39:]))\n",
    "#2016TL18\n",
    "    if indice > 528 and indice < 593 :\n",
    "        if linha[:47] == '  Average full width at half maximum (FWHM) of ': \n",
    "            fwhm_2016TL18.append(float(linha[47:]))\n",
    "        elif linha[:39] == '  Full width at half maximum (FWHM) of ': \n",
    "            fwhm_2016TL18.append(float(linha[39:]))\n",
    "#2017BL3 \n",
    "    elif indice > 594 and indice < 689:\n",
    "        if linha[:47] == '  Average full width at half maximum (FWHM) of ': \n",
    "            fwhm_2017BL3.append(float(linha[47:]))\n",
    "        elif linha[:39] == '  Full width at half maximum (FWHM) of ': \n",
    "           fwhm_2017BL3.append(float(linha[39:]))\n",
    "#GD108\n",
    "    elif indice > 690:\n",
    "        if linha[:47] == '  Average full width at half maximum (FWHM) of ': \n",
    "            fwhm_GD108.append(float(linha[47:]))\n",
    "        elif linha[:39] == '  Full width at half maximum (FWHM) of ': \n",
    "            fwhm_GD108.append(float(linha[39:]))\n",
    "            \n",
    "fwhm_750 = sorted(fwhm_750)            \n",
    "fwhm_1998NU = sorted(fwhm_1998NU)\n",
    "fwhm_2000NG11 = sorted(fwhm_2000NG11)\n",
    "fwhm_2003CP20 = sorted(fwhm_2003CP20)\n",
    "fwhm_2009SV12 = sorted(fwhm_2009SV12)\n",
    "fwhm_2009SV17 = sorted(fwhm_2009SV17)\n",
    "fwhm_2016TL18 = sorted(fwhm_2016TL18)\n",
    "fwhm_2017BL3 = sorted(fwhm_2017BL3)\n",
    "fwhm_GD108 = sorted(fwhm_GD108)"
   ]
  },
  {
   "cell_type": "markdown",
   "metadata": {},
   "source": [
    "<h1>750</h1>"
   ]
  },
  {
   "cell_type": "code",
   "execution_count": 4,
   "metadata": {},
   "outputs": [],
   "source": [
    "#imagens usadas no psfmeasure = 18,28,38,48,58,68,78,88,98,108,118\n",
    "\n",
    "name_750 = '750/750_60s_b2x2-018_R.fit'\n",
    "imagens_750 = []                                                        #Lista com o nome das imagens\n",
    "\n",
    "for i in range(0,120,10):\n",
    "    if i >= 1 and i <100:                                       #Para imagens 010 até 015\n",
    "        name_750 = '750/750_60s_b2x2-018_R.fit'\n",
    "        number_750 = name_750[19:20].replace(name_750[19],str(int(name_750[19])+i))\n",
    "        imagens_750.append('750/750_60s_b2x2-0' + str(number_750) + '_R.fit' )\n",
    "for i in range(100,120,8):\n",
    "    if i > 100 and i < 110:                                       #Para imagens 010 até 015\n",
    "        name_750 = '750/750_60s_b2x2-100_R.fit'\n",
    "        number_750 = name_750[19:20].replace(name_750[19],str(int(name_750[19])+i))\n",
    "        imagens_750.append('750/750_60s_b2x2-' + str(number_750) + '_R.fit' )\n",
    "\n",
    "imagens_750.append('750/750_60s_b2x2-118_R.fit')"
   ]
  },
  {
   "cell_type": "code",
   "execution_count": 5,
   "metadata": {},
   "outputs": [],
   "source": [
    "datas_750 = []                                                #Lista com as datas\n",
    "\n",
    "for i in imagens_750:                                         #Iterando dentro da lista com os nomes\n",
    "    with fits.open(i) as hdul:                                #Abrindo cada elemento da lista imagens\n",
    "        for hdu in hdul:                                      #Extraindo o header de cada imagem\n",
    "            datas_750.append(hdul[0].header['DATE-OBS'])\n",
    "            \n",
    "tempos_750 = Time(datas_750, format = 'isot', scale = 'utc')      #Instanciando a classe Time com os dados\n",
    "\n",
    "dt_750 = []                                                                 #Inicializando a lista com os pontos\n",
    "t_750 = np.empty(len(tempos_750))                                 #Inicializando array para plotar\n",
    "\n",
    "for i in range(len(tempos_750)):\n",
    "    dt_750.append(tempos_750[i] - itime)\n",
    "    t_750[i] = (dt_750[i].value)*24                               #Calculando os valores de dt em HORAS"
   ]
  },
  {
   "cell_type": "code",
   "execution_count": 6,
   "metadata": {},
   "outputs": [
    {
     "data": {
      "image/png": "[encoded data removed]",
      "text/plain": [
       "<Figure size 720x360 with 1 Axes>"
      ]
     },
     "metadata": {
      "needs_background": "light"
     },
     "output_type": "display_data"
    }
   ],
   "source": [
    "plt.figure(figsize=(10,5))\n",
    "plt.scatter(t_750, fwhm_750, color = 'grey')\n",
    "plt.plot(t_750, fwhm_750, color = 'grey', label  ='750')\n",
    "plt.yticks(np.arange(1, 4, 1)) \n",
    "plt.xticks(np.arange(0, 11, 1)) \n",
    "plt.title('2019-01-12' + ' '*83 + '60s de exposição - filtro R')\n",
    "plt.ylabel('Fwhm')\n",
    "plt.xlabel('Tempo (horas)')\n",
    "plt.legend()\n",
    "plt.show()"
   ]
  },
  {
   "cell_type": "markdown",
   "metadata": {},
   "source": [
    "<h1>1998NU</h1>"
   ]
  },
  {
   "cell_type": "code",
   "execution_count": 7,
   "metadata": {},
   "outputs": [],
   "source": [
    "#imagens usadas no psfmeasure = 20,40,60,80,100,120,140,160,180,200\n",
    "name_1998NU = '1998NU/1998NU_40s_b2x2-000_R.fit'\n",
    "imagens_1998NU = []                                                        #Lista com o nome das imagens\n",
    "\n",
    "for i in range(20,220,20):       \n",
    "    if i >= 20 and i <=80:                                       \n",
    "        number_1998NU = name_1998NU[24:25].replace(name_1998NU[24],str(int(name_1998NU[24])+i))\n",
    "        imagens_1998NU.append('1998NU/1998NU_40s_b2x2-0' + str(number_1998NU) + '_R.fit' )\n",
    "for i in range(100,220,20):                                           \n",
    "    if i > 80 :\n",
    "        name_1998NU = '1998NU/1998NU_40s_b2x2-000_R.fit'\n",
    "        number_1998NU = name_1998NU[23:24].replace(name_1998NU[23],str(int(name_1998NU[23])+i))\n",
    "        imagens_1998NU.append('1998NU/1998NU_40s_b2x2-' + str(number_1998NU) + '_R.fit' )"
   ]
  },
  {
   "cell_type": "code",
   "execution_count": 8,
   "metadata": {},
   "outputs": [],
   "source": [
    "datas_1998NU = []                                                #Lista com as datas\n",
    "\n",
    "for i in imagens_1998NU:                                        #Iterando dentro da lista com os nomes\n",
    "    with fits.open(i) as hdul:                           #Abrindo cada elemento da lista imagens\n",
    "        for hdu in hdul:                                 #Extraindo o header de cada imagem\n",
    "            datas_1998NU.append(hdul[0].header['DATE-OBS'])\n",
    "            \n",
    "tempos_1998NU = Time(datas_1998NU, format = 'isot', scale = 'utc')      #Instanciando a classe Time com os dados\n",
    "\n",
    "dt_1998NU = []                                                   #Inicializando a lista com os pontos\n",
    "t_1998NU = np.empty(len(tempos_1998NU))                                 #Inicializando array para plotar\n",
    "\n",
    "for i in range(len(tempos_1998NU)):\n",
    "    dt_1998NU.append(tempos_1998NU[i] - itime)\n",
    "    t_1998NU[i] = (dt_1998NU[i].value)*24                               #Calculando os valores de dt em HORAS\n",
    "    \n",
    "t_1998NU = sorted(t_1998NU)"
   ]
  },
  {
   "cell_type": "code",
   "execution_count": 9,
   "metadata": {},
   "outputs": [
    {
     "data": {
      "image/png": "[encoded data removed]",
      "text/plain": [
       "<Figure size 720x360 with 1 Axes>"
      ]
     },
     "metadata": {
      "needs_background": "light"
     },
     "output_type": "display_data"
    }
   ],
   "source": [
    "plt.figure(figsize=(10,5))\n",
    "plt.scatter(t_1998NU, fwhm_1998NU, color = 'green')\n",
    "plt.plot(t_1998NU, fwhm_1998NU, color = 'green', label='1998NU')\n",
    "plt.yticks(np.arange(1, 5, 1)) \n",
    "plt.xticks(np.arange(0, 11, 1)) \n",
    "plt.title('2019-01-12' + ' '*85 + '40s de exposição - filtro R')\n",
    "plt.ylabel('Fwhm')\n",
    "plt.xlabel('Tempo (horas)')\n",
    "plt.legend()\n",
    "plt.show()"
   ]
  },
  {
   "cell_type": "markdown",
   "metadata": {},
   "source": [
    "<h1>2000NG11</h1>"
   ]
  },
  {
   "cell_type": "code",
   "execution_count": 10,
   "metadata": {},
   "outputs": [],
   "source": [
    "#imagens usadas no psfmeasure = 1,2,3,4,5,6,7,8\n",
    "\n",
    "name_2000NG11 = '2000NG11/2000NG11_60s_b2x2-001_R.fit'\n",
    "imagens_2000NG11 = []                                                        #Lista com o nome das imagens\n",
    "\n",
    "for i in range(0,8,1):       \n",
    "    number_2000NG11 = name_2000NG11[27:30].replace(name_2000NG11[29],str(int(name_2000NG11[29])+i))   \n",
    "    imagens_2000NG11.append('2000NG11/2000NG11_60s_b2x2-' + str(number_2000NG11) + '_R.fit' )  "
   ]
  },
  {
   "cell_type": "code",
   "execution_count": 11,
   "metadata": {},
   "outputs": [],
   "source": [
    "datas_2000NG11 = []                                                #Lista com as datas\n",
    "\n",
    "for i in imagens_2000NG11:                                        #Iterando dentro da lista com os nomes\n",
    "    with fits.open(i) as hdul:                           #Abrindo cada elemento da lista imagens\n",
    "        for hdu in hdul:                                 #Extraindo o header de cada imagem\n",
    "            datas_2000NG11.append(hdul[0].header['DATE-OBS'])\n",
    "            \n",
    "tempos_2000NG11 = Time(datas_2000NG11, format = 'isot', scale = 'utc')      #Instanciando a classe Time com os dados\n",
    "\n",
    "dt_2000NG11 = []                                                   #Inicializando a lista com os pontos\n",
    "t_2000NG11 = np.empty(len(tempos_2000NG11))                                 #Inicializando array para plotar\n",
    "\n",
    "for i in range(len(tempos_2000NG11)):\n",
    "    dt_2000NG11.append(tempos_2000NG11[i] - itime)\n",
    "    t_2000NG11[i] = (dt_2000NG11[i].value)*24                               #Calculando os valores de dt em HORAS\n",
    "    \n",
    "t_2000NG11 = sorted(t_2000NG11)"
   ]
  },
  {
   "cell_type": "code",
   "execution_count": 12,
   "metadata": {},
   "outputs": [
    {
     "data": {
      "text/plain": [
       "8"
      ]
     },
     "execution_count": 12,
     "metadata": {},
     "output_type": "execute_result"
    }
   ],
   "source": [
    "len(t_2000NG11)"
   ]
  },
  {
   "cell_type": "code",
   "execution_count": 13,
   "metadata": {},
   "outputs": [
    {
     "data": {
      "image/png": "[encoded data removed]",
      "text/plain": [
       "<Figure size 720x360 with 1 Axes>"
      ]
     },
     "metadata": {
      "needs_background": "light"
     },
     "output_type": "display_data"
    }
   ],
   "source": [
    "plt.figure(figsize=(10,5))\n",
    "plt.scatter(t_2000NG11, fwhm_2000NG11, color = 'red')\n",
    "plt.plot(t_2000NG11, fwhm_2000NG11, color = 'red', label  ='2000NG11')\n",
    "plt.yticks(np.arange(1, 4, 1)) \n",
    "plt.xticks(np.arange(0, 11, 1)) \n",
    "plt.title('2019-01-12' + ' '*85 + '60s de exposição - filtro R')\n",
    "plt.ylabel('Fwhm')\n",
    "plt.xlabel('Tempo (horas)')\n",
    "plt.legend()\n",
    "plt.show()"
   ]
  },
  {
   "cell_type": "markdown",
   "metadata": {},
   "source": [
    "<h1>2003CP20</h1>"
   ]
  },
  {
   "cell_type": "code",
   "execution_count": 14,
   "metadata": {},
   "outputs": [],
   "source": [
    "#imagens usadas no psfmeasure = 1,2,3,4,5,6,7,8,9,10\n",
    "\n",
    "name_2003CP20 = '2003CP20/2003CP20_60s_b2x2-001_R.fit'\n",
    "imagens_2003CP20 = []                                                        #Lista com o nome das imagens\n",
    "\n",
    "for i in range(0,9,1):       \n",
    "        number_2003CP20 = name_2003CP20[27:30].replace(name_2003CP20[29],str(int(name_2003CP20[29])+i))   \n",
    "        imagens_2003CP20.append('2003CP20/2003CP20_60s_b2x2-' + str(number_2003CP20) + '_R.fit' )\n",
    "\n",
    "imagens_2003CP20.append('2003CP20/2003CP20_60s_b2x2-010_R.fit')"
   ]
  },
  {
   "cell_type": "code",
   "execution_count": 15,
   "metadata": {},
   "outputs": [],
   "source": [
    "datas_2003CP20 = []                                                #Lista com as datas\n",
    "\n",
    "for i in imagens_2003CP20:                                                       #Iterando dentro da lista com os nomes\n",
    "    with fits.open(i) as hdul:                                                        #Abrindo cada elemento da lista imagens\n",
    "        for hdu in hdul:                                                              #Extraindo o header de cada imagem\n",
    "            datas_2003CP20.append(hdul[0].header['DATE-OBS'])\n",
    "            \n",
    "tempos_2003CP20 = Time(datas_2003CP20, format = 'isot', scale = 'utc')      #Instanciando a classe Time com os dados\n",
    "\n",
    "dt_2003CP20 = []                                                                 #Inicializando a lista com os pontos\n",
    "t_2003CP20 = np.empty(len(tempos_2003CP20))                                 #Inicializando array para plotar\n",
    "\n",
    "for i in range(len(tempos_2003CP20)):\n",
    "    dt_2003CP20.append(tempos_2003CP20[i] - itime)\n",
    "    t_2003CP20[i] = (dt_2003CP20[i].value)*24                               #Calculando os valores de dt em HORAS"
   ]
  },
  {
   "cell_type": "code",
   "execution_count": 16,
   "metadata": {},
   "outputs": [
    {
     "data": {
      "image/png": "[encoded data removed]",
      "text/plain": [
       "<Figure size 720x360 with 1 Axes>"
      ]
     },
     "metadata": {
      "needs_background": "light"
     },
     "output_type": "display_data"
    }
   ],
   "source": [
    "plt.figure(figsize=(10,5))\n",
    "plt.scatter(t_2003CP20, fwhm_2003CP20, color = 'grey')\n",
    "plt.plot(t_2003CP20, fwhm_2003CP20, color = 'grey', label  ='2003CP20')\n",
    "plt.yticks(np.arange(1, 5, 1)) \n",
    "plt.xticks(np.arange(0, 12, 1)) \n",
    "plt.title('2019-01-12' + ' '*85 + '60s de exposição - filtro R')\n",
    "plt.ylabel('Fwhm')\n",
    "plt.xlabel('Tempo (horas)')\n",
    "plt.legend()\n",
    "plt.show()"
   ]
  },
  {
   "cell_type": "markdown",
   "metadata": {},
   "source": [
    "<h1>2009SV12</h1>"
   ]
  },
  {
   "cell_type": "code",
   "execution_count": 17,
   "metadata": {},
   "outputs": [],
   "source": [
    "#imagens usadas no psfmeasure = 1,2,3,4\n",
    "\n",
    "name_2009SV12 = '2009SV12/2009SV12_70s_b2x2-001_R.fit'\n",
    "imagens_2009SV12 = []                                                        #Lista com o nome das imagens\n",
    "\n",
    "for i in range(0,4,1):       \n",
    "    number_2009SV12 = name_2009SV12[27:30].replace(name_2009SV12[29],str(int(name_2009SV12[29])+i))   \n",
    "    imagens_2009SV12.append('2009SV12/2009SV12_70s_b2x2-' + str(number_2009SV12) + '_R.fit' )        "
   ]
  },
  {
   "cell_type": "code",
   "execution_count": 18,
   "metadata": {},
   "outputs": [],
   "source": [
    "datas_2009SV12 = []                                                #Lista com as datas\n",
    "\n",
    "for i in imagens_2009SV12:                                                       #Iterando dentro da lista com os nomes\n",
    "    with fits.open(i) as hdul:                                                        #Abrindo cada elemento da lista imagens\n",
    "        for hdu in hdul:                                                              #Extraindo o header de cada imagem\n",
    "            datas_2009SV12.append(hdul[0].header['DATE-OBS'])\n",
    "            \n",
    "tempos_2009SV12 = Time(datas_2009SV12, format = 'isot', scale = 'utc')      #Instanciando a classe Time com os dados\n",
    "\n",
    "dt_2009SV12 = []                                                                 #Inicializando a lista com os pontos\n",
    "t_2009SV12 = np.empty(len(tempos_2009SV12))                                 #Inicializando array para plotar\n",
    "\n",
    "for i in range(len(tempos_2009SV12)):\n",
    "    dt_2009SV12.append(tempos_2009SV12[i] - itime)\n",
    "    t_2009SV12[i] = (dt_2009SV12[i].value)*24                               #Calculando os valores de dt em HORAS"
   ]
  },
  {
   "cell_type": "code",
   "execution_count": 19,
   "metadata": {},
   "outputs": [
    {
     "data": {
      "image/png": "[encoded data removed]",
      "text/plain": [
       "<Figure size 720x360 with 1 Axes>"
      ]
     },
     "metadata": {
      "needs_background": "light"
     },
     "output_type": "display_data"
    }
   ],
   "source": [
    "plt.figure(figsize=(10,5))\n",
    "plt.scatter(t_2009SV12, fwhm_2009SV12, color = 'green')\n",
    "plt.plot(t_2009SV12, fwhm_2009SV12, color = 'green', label  ='2009SV12')\n",
    "plt.yticks(np.arange(1, 4, 1)) \n",
    "plt.xticks(np.arange(0, 11, 1)) \n",
    "plt.title('2019-01-12' + ' '*85 + '70s de exposição - filtro R')\n",
    "plt.ylabel('Fwhm')\n",
    "plt.xlabel('Tempo (horas)')\n",
    "plt.legend()\n",
    "plt.show()"
   ]
  },
  {
   "cell_type": "markdown",
   "metadata": {},
   "source": [
    "<h1>2009SV17</h1>"
   ]
  },
  {
   "cell_type": "code",
   "execution_count": 20,
   "metadata": {},
   "outputs": [],
   "source": [
    "#imagens usadas no psfmeasure = 1,2,3,4\n",
    "\n",
    "name_2009SV17 = '2009SV17/2009SV17_70s_b2x2-001_R.fit'\n",
    "imagens_2009SV17 = []                                                        #Lista com o nome das imagens\n",
    "\n",
    "for i in range(0,4,1):       \n",
    "    number_2009SV17 = name_2009SV17[27:30].replace(name_2009SV17[29],str(int(name_2009SV17[29])+i))   \n",
    "    imagens_2009SV17.append('2009SV17/2009SV17_70s_b2x2-' + str(number_2009SV17) + '_R.fit' )        "
   ]
  },
  {
   "cell_type": "code",
   "execution_count": 21,
   "metadata": {},
   "outputs": [],
   "source": [
    "datas_2009SV17 = []                                                #Lista com as datas\n",
    "\n",
    "for i in imagens_2009SV17:                                                       #Iterando dentro da lista com os nomes\n",
    "    with fits.open(i) as hdul:                                                        #Abrindo cada elemento da lista imagens\n",
    "        for hdu in hdul:                                                              #Extraindo o header de cada imagem\n",
    "            datas_2009SV17.append(hdul[0].header['DATE-OBS'])\n",
    "            \n",
    "tempos_2009SV17 = Time(datas_2009SV17, format = 'isot', scale = 'utc')      #Instanciando a classe Time com os dados\n",
    "\n",
    "dt_2009SV17 = []                                                                 #Inicializando a lista com os pontos\n",
    "t_2009SV17 = np.empty(len(tempos_2009SV17))                                 #Inicializando array para plotar\n",
    "\n",
    "for i in range(len(tempos_2009SV17)):\n",
    "    dt_2009SV17.append(tempos_2009SV17[i] - itime)\n",
    "    t_2009SV17[i] = (dt_2009SV17[i].value)*24                               #Calculando os valores de dt em HORAS\n",
    "\n",
    "t_2009SV17 = sorted(t_2009SV17)"
   ]
  },
  {
   "cell_type": "code",
   "execution_count": 22,
   "metadata": {},
   "outputs": [
    {
     "data": {
      "image/png": "[encoded data removed]",
      "text/plain": [
       "<Figure size 720x360 with 1 Axes>"
      ]
     },
     "metadata": {
      "needs_background": "light"
     },
     "output_type": "display_data"
    }
   ],
   "source": [
    "plt.figure(figsize=(10,5))\n",
    "plt.scatter(t_2009SV17, fwhm_2009SV17, color = 'yellow')\n",
    "plt.plot(t_2009SV17, fwhm_2009SV17, color = 'yellow', label  ='2009SV17')\n",
    "plt.yticks(np.arange(1, 4, 1)) \n",
    "plt.xticks(np.arange(0, 11, 1)) \n",
    "plt.title('2019-01-12' + ' '*85 + '70s de exposição - filtro R')\n",
    "plt.ylabel('Fwhm')\n",
    "plt.xlabel('Tempo (horas)')\n",
    "plt.legend()\n",
    "plt.show()"
   ]
  },
  {
   "cell_type": "markdown",
   "metadata": {},
   "source": [
    "<h1>2016TL18</h1>"
   ]
  },
  {
   "cell_type": "code",
   "execution_count": 23,
   "metadata": {},
   "outputs": [],
   "source": [
    "#imagens usadas no psfmeasure = 1,4,7,10,13,16,19,22\n",
    "\n",
    "name_2016TL18 = '2016TL18/2016TL18_40s_b2x2-001_NF.fit'\n",
    "imagens_2016TL18 = []                                                        #Lista com o nome das imagens\n",
    "\n",
    "for i in range(0,7,3):       \n",
    "    number_2016TL18 = name_2016TL18[27:30].replace(name_2016TL18[29],str(int(name_2016TL18[29])+i))   \n",
    "    imagens_2016TL18.append('2016TL18/2016TL18_40s_b2x2-' + str(number_2016TL18) + '_NF.fit' )\n",
    "for i in range(10,25,3):  \n",
    "    name_2016TL18 = '2016TL18/2016TL18_40s_b2x2-010_NF.fit'\n",
    "    number_2016TL18 = name_2016TL18[29:30].replace(name_2016TL18[29],str(int(name_2016TL18[29])+i))   \n",
    "    imagens_2016TL18.append('2016TL18/2016TL18_40s_b2x2-0' + str(number_2016TL18) + '_NF.fit' )        "
   ]
  },
  {
   "cell_type": "code",
   "execution_count": 24,
   "metadata": {},
   "outputs": [],
   "source": [
    "datas_2016TL18 = []                                                #Lista com as datas\n",
    "\n",
    "for i in imagens_2016TL18:                                                       #Iterando dentro da lista com os nomes\n",
    "    with fits.open(i) as hdul:                                                        #Abrindo cada elemento da lista imagens\n",
    "        for hdu in hdul:                                                              #Extraindo o header de cada imagem\n",
    "            datas_2016TL18.append(hdul[0].header['DATE-OBS'])\n",
    "            \n",
    "tempos_2016TL18 = Time(datas_2016TL18, format = 'isot', scale = 'utc')      #Instanciando a classe Time com os dados\n",
    "\n",
    "dt_2016TL18 = []                                                                 #Inicializando a lista com os pontos\n",
    "t_2016TL18 = np.empty(len(tempos_2016TL18))                                 #Inicializando array para plotar\n",
    "\n",
    "for i in range(len(tempos_2016TL18)):\n",
    "    dt_2016TL18.append(tempos_2016TL18[i] - itime)\n",
    "    t_2016TL18[i] = (dt_2016TL18[i].value)*24                               #Calculando os valores de dt em HORAS\n",
    "\n",
    "t_2016TL18 = sorted(t_2016TL18)"
   ]
  },
  {
   "cell_type": "code",
   "execution_count": 25,
   "metadata": {},
   "outputs": [
    {
     "data": {
      "image/png": "[encoded data removed]",
      "text/plain": [
       "<Figure size 720x360 with 1 Axes>"
      ]
     },
     "metadata": {
      "needs_background": "light"
     },
     "output_type": "display_data"
    }
   ],
   "source": [
    "plt.figure(figsize=(10,5))\n",
    "plt.scatter(t_2016TL18, fwhm_2016TL18, color = 'blue')\n",
    "plt.plot(t_2016TL18, fwhm_2016TL18, color = 'blue', label  ='2016TL18')\n",
    "plt.yticks(np.arange(1, 8, 1)) \n",
    "plt.xticks(np.arange(0, 11, 1)) \n",
    "plt.title('2019-01-12' + ' '*85 + '40s de exposição - NF')\n",
    "plt.ylabel('Fwhm')\n",
    "plt.xlabel('Tempo (horas)')\n",
    "plt.legend()\n",
    "plt.show()"
   ]
  },
  {
   "cell_type": "markdown",
   "metadata": {},
   "source": [
    "<h1>2017BL3</h1>"
   ]
  },
  {
   "cell_type": "code",
   "execution_count": 26,
   "metadata": {},
   "outputs": [],
   "source": [
    "#imagens usadas no psfmeasure = 3,6,9,12,15,18\n",
    "\n",
    "name_2017BL3 = '2017BL3/2017BL3_70s_b2x2-003_NF.fit'\n",
    "imagens_2017BL3 = []                                                        #Lista com o nome das imagens\n",
    "\n",
    "for i in range(0,9,3):       \n",
    "    number_2017BL3 = name_2017BL3[25:28].replace(name_2017BL3[27],str(int(name_2017BL3[27])+i))   \n",
    "    imagens_2017BL3.append('2017BL3/2017BL3_70s_b2x2-' + str(number_2017BL3) + '_NF.fit' )\n",
    "for i in range(12,20,3):  \n",
    "    name_2017BL3 = '2017BL3/2017BL3_70s_b2x2-010_NF.fit'\n",
    "    number_2017BL3 = name_2017BL3[25:26].replace(name_2017BL3[27],str(int(name_2017BL3[27])+i))   \n",
    "    imagens_2017BL3.append('2017BL3/2017BL3_70s_b2x2-0' + str(number_2017BL3) + '_NF.fit' )"
   ]
  },
  {
   "cell_type": "code",
   "execution_count": 27,
   "metadata": {},
   "outputs": [],
   "source": [
    "datas_2017BL3 = []                                                #Lista com as datas\n",
    "\n",
    "for i in imagens_2017BL3:                                                       #Iterando dentro da lista com os nomes\n",
    "    with fits.open(i) as hdul:                                                        #Abrindo cada elemento da lista imagens\n",
    "        for hdu in hdul:                                                              #Extraindo o header de cada imagem\n",
    "            datas_2017BL3.append(hdul[0].header['DATE-OBS'])\n",
    "            \n",
    "tempos_2017BL3 = Time(datas_2017BL3, format = 'isot', scale = 'utc')      #Instanciando a classe Time com os dados\n",
    "\n",
    "dt_2017BL3 = []                                                                 #Inicializando a lista com os pontos\n",
    "t_2017BL3 = np.empty(len(tempos_2017BL3))                                 #Inicializando array para plotar\n",
    "\n",
    "for i in range(len(tempos_2017BL3)):\n",
    "    dt_2017BL3.append(tempos_2017BL3[i] - itime)\n",
    "    t_2017BL3[i] = (dt_2017BL3[i].value)*24                               #Calculando os valores de dt em HORAS\n",
    "\n",
    "t_2017BL3 = sorted(t_2017BL3)"
   ]
  },
  {
   "cell_type": "code",
   "execution_count": 28,
   "metadata": {},
   "outputs": [
    {
     "data": {
      "image/png": "[encoded data removed]",
      "text/plain": [
       "<Figure size 720x360 with 1 Axes>"
      ]
     },
     "metadata": {
      "needs_background": "light"
     },
     "output_type": "display_data"
    }
   ],
   "source": [
    "plt.figure(figsize=(10,5))\n",
    "plt.scatter(t_2017BL3, fwhm_2017BL3, color = 'red')\n",
    "plt.plot(t_2017BL3, fwhm_2017BL3, color = 'red', label  ='2017BL3')\n",
    "plt.yticks(np.arange(1, 10, 1)) \n",
    "plt.xticks(np.arange(0, 11, 1)) \n",
    "plt.title('2019-01-12' + ' '*85 + '70s de exposição - filtro NF')\n",
    "plt.ylabel('Fwhm')\n",
    "plt.xlabel('Tempo (horas)')\n",
    "plt.legend()\n",
    "plt.show()"
   ]
  },
  {
   "cell_type": "markdown",
   "metadata": {},
   "source": [
    "<h1>GD108</h1>"
   ]
  },
  {
   "cell_type": "code",
   "execution_count": 29,
   "metadata": {},
   "outputs": [],
   "source": [
    "#imagens usadas no psfmeasure = 1,2,3,4,5,6,7,8,9,10\n",
    "\n",
    "name_GD108 = 'GD108/GD108_10s_b2x2-001_R.fit'\n",
    "imagens_GD108 = []                                                        #Lista com o nome das imagens\n",
    "\n",
    "for i in range(0,9,1):\n",
    "    if i < 9:                                                      #Para imagens 001 ate 009 \n",
    "        number_GD108 = name_GD108[22:24].replace(name_GD108[23],str(int(name_GD108[23])+i))   \n",
    "        imagens_GD108.append('GD108/GD108_10s_b2x2-0' + str(number_GD108) + '_R.fit' )\n",
    "imagens_GD108.append('GD108/GD108_10s_b2x2-010_R.fit')"
   ]
  },
  {
   "cell_type": "code",
   "execution_count": 30,
   "metadata": {},
   "outputs": [],
   "source": [
    "datas_GD108 = []                                                #Lista com as datas\n",
    "\n",
    "for i in imagens_GD108:                                                       #Iterando dentro da lista com os nomes\n",
    "    with fits.open(i) as hdul:                                                        #Abrindo cada elemento da lista imagens\n",
    "        for hdu in hdul:                                                              #Extraindo o header de cada imagem\n",
    "            datas_GD108.append(hdul[0].header['DATE-OBS'])\n",
    "            \n",
    "tempos_GD108 = Time(datas_GD108, format = 'isot', scale = 'utc')      #Instanciando a classe Time com os dados\n",
    "\n",
    "dt_GD108 = []                                                                 #Inicializando a lista com os pontos\n",
    "t_GD108 = np.empty(len(tempos_GD108))                                 #Inicializando array para plotar\n",
    "\n",
    "for i in range(len(tempos_GD108)):\n",
    "    dt_GD108.append(tempos_GD108[i] - itime)\n",
    "    t_GD108[i] = (dt_GD108[i].value)*24                               #Calculando os valores de dt em HORAS"
   ]
  },
  {
   "cell_type": "code",
   "execution_count": 31,
   "metadata": {},
   "outputs": [
    {
     "data": {
      "image/png": "[encoded data removed]",
      "text/plain": [
       "<Figure size 720x360 with 1 Axes>"
      ]
     },
     "metadata": {
      "needs_background": "light"
     },
     "output_type": "display_data"
    }
   ],
   "source": [
    "plt.figure(figsize=(10,5))\n",
    "plt.scatter(t_GD108, fwhm_GD108, color = 'brown')\n",
    "plt.plot(t_GD108, fwhm_GD108, color = 'brown', label  ='GD108')\n",
    "plt.yticks(np.arange(1, 4, 1)) \n",
    "plt.xticks(np.arange(0, 11, 1)) \n",
    "plt.title('2019-01-12' + ' '*85 + '10s de exposição - filtro R')\n",
    "plt.ylabel('Fwhm')\n",
    "plt.xlabel('Tempo (horas)')\n",
    "plt.legend()\n",
    "plt.show()"
   ]
  },
  {
   "cell_type": "code",
   "execution_count": 32,
   "metadata": {},
   "outputs": [
    {
     "data": {
      "image/png": "[encoded data removed]",
      "text/plain": [
       "<Figure size 720x360 with 1 Axes>"
      ]
     },
     "metadata": {
      "needs_background": "light"
     },
     "output_type": "display_data"
    }
   ],
   "source": [
    "plt.figure(figsize=(10,5))\n",
    "plt.scatter(t_750, fwhm_750, color = 'brown', label = '750')\n",
    "plt.scatter(t_GD108, fwhm_GD108, color = 'blue', label = 'GD108')\n",
    "plt.scatter(t_2009SV17, fwhm_2009SV17, color = 'yellow', label = '2009SV17')\n",
    "plt.scatter(t_2009SV12, fwhm_2009SV12, color = 'grey', label = '2009SV12')\n",
    "plt.scatter(t_2000NG11, fwhm_2000NG11, color = 'red', label = '2000NG11')\n",
    "plt.scatter(t_1998NU, fwhm_1998NU, color = 'green', label = '1998NU')\n",
    "plt.scatter(t_2003CP20, fwhm_2003CP20, color = 'black', label = '2003CP20')\n",
    "#plt.scatter(t_2016TL18, fwhm_2016TL18, color = 'silver', label = '2016TL18')  ESTRANHOS!!!!\n",
    "#plt.scatter(t_2017BL3, fwhm_2017BL3, color = 'coral', label = '2017BL3')\n",
    "\n",
    "plt.yticks(np.arange(1, 4, 1)) \n",
    "plt.xticks(np.arange(0, 12, 1)) \n",
    "plt.title('2019-01-12')\n",
    "plt.ylabel('Fwhm')\n",
    "plt.xlabel('Tempo (horas)')\n",
    "plt.savefig('2019-01-12_scatterfwhmxtime.png')\n",
    "plt.legend()\n",
    "plt.show()"
   ]
  },
  {
   "cell_type": "code",
   "execution_count": 33,
   "metadata": {},
   "outputs": [
    {
     "data": {
      "image/png": "[encoded data removed]",
      "text/plain": [
       "<Figure size 720x360 with 1 Axes>"
      ]
     },
     "metadata": {
      "needs_background": "light"
     },
     "output_type": "display_data"
    }
   ],
   "source": [
    "plt.figure(figsize=(10,5))\n",
    "plt.plot(t_750, fwhm_750, color = 'brown', label = '750')\n",
    "plt.plot(t_GD108, fwhm_GD108, color = 'blue', label = 'GD108')\n",
    "plt.plot(t_2009SV17, fwhm_2009SV17, color = 'yellow', label = '2009SV17')\n",
    "plt.plot(t_2009SV12, fwhm_2009SV12, color = 'grey', label = '2009SV12')\n",
    "plt.plot(t_2000NG11, fwhm_2000NG11, color = 'red', label = '2000NG11')\n",
    "plt.plot(t_1998NU, fwhm_1998NU, color = 'green', label = '1998NU')\n",
    "plt.plot(t_2003CP20, fwhm_2003CP20, color = 'black', label = '2003CP20')\n",
    "#plt.plot(t_2016TL18, fwhm_2016TL18, color = 'silver', label = '2016TL18')\n",
    "#plt.plot(t_2017BL3, fwhm_2017BL3, color = 'coral', label = '2017BL3')\n",
    "\n",
    "plt.yticks(np.arange(1, 4, 1)) \n",
    "plt.xticks(np.arange(0, 12, 1)) \n",
    "plt.title('2019-01-12')\n",
    "plt.ylabel('Fwhm')\n",
    "plt.xlabel('Tempo (horas)')\n",
    "plt.savefig('2019-01-12_plotfwhmxtime.png')\n",
    "plt.legend()\n",
    "plt.show()"
   ]
  },
  {
   "cell_type": "code",
   "execution_count": 34,
   "metadata": {},
   "outputs": [
    {
     "name": "stdout",
     "output_type": "stream",
     "text": [
      "3.146909589041096\n",
      "2.4597\n"
     ]
    }
   ],
   "source": [
    "fwhm = fwhm_1998NU + fwhm_2000NG11 + fwhm_2009SV17 + fwhm_2009SV12 + fwhm_GD108 + fwhm_2003CP20 + fwhm_2016TL18 + fwhm_2016TL18 + fwhm_750\n",
    "mean_fwhm = std.mean(fwhm)\n",
    "median_fwhm = std.median(fwhm)\n",
    "\n",
    "print(mean_fwhm)\n",
    "print(median_fwhm)"
   ]
  }
 ],
 "metadata": {
  "kernelspec": {
   "display_name": "Python 3",
   "language": "python",
   "name": "python3"
  },
  "language_info": {
   "codemirror_mode": {
    "name": "ipython",
    "version": 3
   },
   "file_extension": ".py",
   "mimetype": "text/x-python",
   "name": "python",
   "nbconvert_exporter": "python",
   "pygments_lexer": "ipython3",
   "version": "3.7.3"
  }
 },
 "nbformat": 4,
 "nbformat_minor": 4
}
