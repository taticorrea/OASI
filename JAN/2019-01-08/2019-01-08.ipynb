{
 "cells": [
  {
   "cell_type": "markdown",
   "metadata": {},
   "source": [
    "<h2>2019-01-08 - 1998NU</h2>"
   ]
  },
  {
   "cell_type": "code",
   "execution_count": 103,
   "metadata": {},
   "outputs": [],
   "source": [
    "import statistics as std\n",
    "import pandas as pd                                 \n",
    "import numpy as np                          #Importando os módulos necessários\n",
    "import matplotlib.pyplot as plt\n",
    "from astropy.io import fits\n",
    "from astropy.time import Time\n",
    "from astropy.io.fits import HDUList"
   ]
  },
  {
   "cell_type": "markdown",
   "metadata": {},
   "source": [
    "<h4>Dados brutos</h4>"
   ]
  },
  {
   "cell_type": "code",
   "execution_count": 122,
   "metadata": {},
   "outputs": [],
   "source": [
    "file = open('JAN/2019-01-08/logfile','r')                       #Abrindo o arquivo com os dados\n",
    "raw_fwhm = []                                       #Lista vazia para salvar os valores do fwhm\n",
    "\n",
    "for indice, linha in enumerate(file):            #Loop para ler as linhas apartir da 480 e pegar o fwhm\n",
    "    if indice < 134:\n",
    "        if linha[:47] == '  Average full width at half maximum (FWHM) of ': \n",
    "            raw_fwhm.append(float(linha[47:]))"
   ]
  },
  {
   "cell_type": "code",
   "execution_count": 120,
   "metadata": {},
   "outputs": [],
   "source": [
    "rimage1 = fits.open('JAN/2019-01-08/1998NU_40s_b2x2-001_R.fit')\n",
    "rimage2 = fits.open('JAN/2019-01-08/1998NU_40s_b2x2-051_R.fit')\n",
    "rimage3 = fits.open('JAN/2019-01-08/1998NU_40s_b2x2-101_R.fit')\n",
    "rimage4 = fits.open('JAN/2019-01-08/1998NU_40s_b2x2-151_R.fit')\n",
    "rimage5 = fits.open('JAN/2019-01-08/1998NU_40s_b2x2-201_R.fit')\n",
    "rimage6 = fits.open('JAN/2019-01-08/1998NU_40s_b2x2-251_R.fit')  #Abrindo as imagens (deve ter um outro jeito!)\n",
    "rimage7 = fits.open('JAN/2019-01-08/1998NU_40s_b2x2-301_R.fit')\n",
    "rimage8 = fits.open('JAN/2019-01-08/1998NU_40s_b2x2-351_R.fit')\n",
    "rimage9 = fits.open('JAN/2019-01-08/1998NU_40s_b2x2-401_R.fit')\n",
    "rimage10 = fits.open('JAN/2019-01-08/1998NU_40s_b2x2-501_R.fit')\n",
    "rimage11 = fits.open('JAN/2019-01-08/1998NU_40s_b2x2-551_R.fit')\n",
    "rimage12 = fits.open('JAN/2019-01-08/1998NU_40s_b2x2-565_R.fit')\n",
    "\n",
    "r1dados = []\n",
    "\n",
    "r1dados.append(rimage1[0].header['DATE-OBS'])\n",
    "r1dados.append(rimage2[0].header['DATE-OBS'])\n",
    "r1dados.append(rimage3[0].header['DATE-OBS'])\n",
    "r1dados.append(rimage4[0].header['DATE-OBS'])\n",
    "r1dados.append(rimage5[0].header['DATE-OBS'])\n",
    "r1dados.append(rimage6[0].header['DATE-OBS'])     #Salvandoos as datas na lista (deve ter um outro jeito!)\n",
    "r1dados.append(rimage7[0].header['DATE-OBS'])\n",
    "r1dados.append(rimage8[0].header['DATE-OBS'])\n",
    "r1dados.append(rimage9[0].header['DATE-OBS'])\n",
    "r1dados.append(rimage10[0].header['DATE-OBS'])\n",
    "r1dados.append(rimage11[0].header['DATE-OBS'])\n",
    "r1dados.append(rimage12[0].header['DATE-OBS'])\n",
    "\n",
    "r1times = Time(r1dados, format = 'isot', scale = 'utc')      #Instanciando a classe Time com os dados\n",
    "\n",
    "it = ['2019-01-08T21:00:00']\n",
    "itime = Time(it, format = 'isot', scale = 'utc' )\n",
    "\n",
    "r1dt = []                                                   #Inicializando a lista com os pontos\n",
    "r1t = np.empty(len(r1dados))                                 #Inicializando array para plotar\n",
    "\n",
    "for i in range(len(r1dados)):\n",
    "    r1dt.append(r1times[i] - itime)\n",
    "    r1t[i] = (r1dt[i].value)*24                              #Calculando os valores de dt em HORAS"
   ]
  },
  {
   "cell_type": "markdown",
   "metadata": {},
   "source": [
    "<h4>Dados calibrados</h4>"
   ]
  },
  {
   "cell_type": "code",
   "execution_count": 128,
   "metadata": {},
   "outputs": [],
   "source": [
    "file = open('JAN/2019-01-08/logfile','r')                       #Abrindo o arquivo com os dados\n",
    "calib_fwhm = []                                       #Lista vazia para salvar os valores do fwhm\n",
    "\n",
    "for indice, linha in enumerate(file):            #Loop para ler as linhas apartir da 480 e pegar o fwhm\n",
    "    if indice  > 134:\n",
    "        if linha[:47] == '  Average full width at half maximum (FWHM) of ': \n",
    "            calib_fwhm.append(float(linha[47:]))  \n",
    "        if linha[:39] == '  Full width at half maximum (FWHM) of ': \n",
    "            calib_fwhm.append(float(linha[39:]))  "
   ]
  },
  {
   "cell_type": "code",
   "execution_count": 125,
   "metadata": {},
   "outputs": [],
   "source": [
    "c1image1 = fits.open('JAN/2019-01-08/1998NU_40s_b2x2-001_R_c.fit')\n",
    "c1image2 = fits.open('JAN/2019-01-08/1998NU_40s_b2x2-051_R_c.fit')\n",
    "c1image3 = fits.open('JAN/2019-01-08/1998NU_40s_b2x2-101_R_c.fit')\n",
    "c1image4 = fits.open('JAN/2019-01-08/1998NU_40s_b2x2-151_R_c.fit')\n",
    "c1image5 = fits.open('JAN/2019-01-08/1998NU_40s_b2x2-201_R_c.fit')\n",
    "c1image6 = fits.open('JAN/2019-01-08/1998NU_40s_b2x2-251_R_c.fit')  #Abrindo as imagens (deve ter um outro jeito!)\n",
    "c1image7 = fits.open('JAN/2019-01-08/1998NU_40s_b2x2-301_R_c.fit')\n",
    "c1image8 = fits.open('JAN/2019-01-08/1998NU_40s_b2x2-351_R_c.fit')\n",
    "c1image9 = fits.open('JAN/2019-01-08/1998NU_40s_b2x2-401_R_c.fit')\n",
    "c1image10 = fits.open('JAN/2019-01-08/1998NU_40s_b2x2-501_R_c.fit')\n",
    "c1image11 = fits.open('JAN/2019-01-08/1998NU_40s_b2x2-551_R_c.fit')\n",
    "c1image12 = fits.open('JAN/2019-01-08/1998NU_40s_b2x2-565_R_c.fit')\n",
    "\n",
    "c1dados = []\n",
    "\n",
    "c1dados.append(c1image1[0].header['DATE-OBS'])\n",
    "c1dados.append(c1image2[0].header['DATE-OBS'])\n",
    "c1dados.append(c1image3[0].header['DATE-OBS'])\n",
    "c1dados.append(c1image4[0].header['DATE-OBS'])\n",
    "c1dados.append(c1image5[0].header['DATE-OBS'])\n",
    "c1dados.append(c1image6[0].header['DATE-OBS'])     #Salvandoos as datas na lista (deve ter um outro jeito!)\n",
    "c1dados.append(c1image7[0].header['DATE-OBS'])\n",
    "c1dados.append(c1image8[0].header['DATE-OBS'])\n",
    "c1dados.append(c1image9[0].header['DATE-OBS'])\n",
    "c1dados.append(c1image10[0].header['DATE-OBS'])\n",
    "c1dados.append(c1image11[0].header['DATE-OBS'])\n",
    "c1dados.append(c1image12[0].header['DATE-OBS'])\n",
    "\n",
    "c1times = Time(c1dados, format = 'isot', scale = 'utc')      #Instanciando a classe Time com os dados\n",
    "\n",
    "it = ['2019-01-08T21:00:00']\n",
    "itime = Time(it, format = 'isot', scale = 'utc' )\n",
    "\n",
    "c1dt = []                                                   #Inicializando a lista com os pontos\n",
    "c1t = np.empty(len(c1dados))                                 #Inicializando array para plotar\n",
    "\n",
    "for i in range(len(c1dados)):\n",
    "    c1dt.append(c1times[i] - itime)\n",
    "    c1t[i] = (c1dt[i].value)*24                              #Calculando os valores de dt em HORAS"
   ]
  },
  {
   "cell_type": "code",
   "execution_count": 130,
   "metadata": {},
   "outputs": [
    {
     "data": {
      "image/png": "[encoded data removed]",
      "text/plain": [
       "<Figure size 648x504 with 1 Axes>"
      ]
     },
     "metadata": {
      "needs_background": "light"
     },
     "output_type": "display_data"
    }
   ],
   "source": [
    "plt.figure(figsize=(9,7))\n",
    "plt.plot(c1t, calib_fwhm, color = 'red', label = 'Dados calibrados')            #Calibrated\n",
    "plt.plot(r1t, raw_fwhm, color = 'green', label  ='Dados brutos')                #Raw\n",
    "plt.yticks(np.arange(1, 4, 1)) \n",
    "plt.xticks(np.arange(0, 11, 1)) \n",
    "plt.ylabel('FWHM', size = 15)\n",
    "plt.xlabel('Tempo após 2019-01-08T21:00:00 (horas)', size = 15)\n",
    "plt.legend()\n",
    "plt.savefig('2019-01-08_plotfwhmxtime.png')\n",
    "plt.show()"
   ]
  },
  {
   "cell_type": "markdown",
   "metadata": {},
   "source": [
    "<h4>Estatística</h4>"
   ]
  },
  {
   "cell_type": "code",
   "execution_count": 111,
   "metadata": {},
   "outputs": [
    {
     "name": "stdout",
     "output_type": "stream",
     "text": [
      "2.0486833333333334\n",
      "2.0589\n"
     ]
    }
   ],
   "source": [
    "mean_fwhm = std.mean(raw_fwhm)\n",
    "median_fwhm = std.median(raw_fwhm)\n",
    "\n",
    "print(mean_fwhm)\n",
    "print(median_fwhm)"
   ]
  }
 ],
 "metadata": {
  "kernelspec": {
   "display_name": "Python 3",
   "language": "python",
   "name": "python3"
  },
  "language_info": {
   "codemirror_mode": {
    "name": "ipython",
    "version": 3
   },
   "file_extension": ".py",
   "mimetype": "text/x-python",
   "name": "python",
   "nbconvert_exporter": "python",
   "pygments_lexer": "ipython3",
   "version": "3.7.3"
  }
 },
 "nbformat": 4,
 "nbformat_minor": 4
}
