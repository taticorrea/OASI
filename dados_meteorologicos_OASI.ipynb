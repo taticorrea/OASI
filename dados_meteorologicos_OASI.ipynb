{
  "nbformat": 4,
  "nbformat_minor": 0,
  "metadata": {
    "colab": {
      "name": "dados_meteorologicos_OASI.ipynb",
      "provenance": [],
      "collapsed_sections": [],
      "toc_visible": true,
      "include_colab_link": true
    },
    "hide_input": false,
    "kernelspec": {
      "display_name": "Python 3",
      "language": "python",
      "name": "python3"
    },
    "language_info": {
      "codemirror_mode": {
        "name": "ipython",
        "version": 3
      },
      "file_extension": ".py",
      "mimetype": "text/x-python",
      "name": "python",
      "nbconvert_exporter": "python",
      "pygments_lexer": "ipython3",
      "version": "3.8.5"
    },
    "latex_envs": {
      "LaTeX_envs_menu_present": true,
      "autoclose": false,
      "autocomplete": true,
      "bibliofile": "biblio.bib",
      "cite_by": "apalike",
      "current_citInitial": 1,
      "eqLabelWithNumbers": true,
      "eqNumInitial": 1,
      "hotkeys": {
        "equation": "Ctrl-E",
        "itemize": "Ctrl-I"
      },
      "labels_anchors": false,
      "latex_user_defs": false,
      "report_style_numbering": false,
      "user_envs_cfg": false
    },
    "toc": {
      "base_numbering": 1,
      "nav_menu": {},
      "number_sections": true,
      "sideBar": true,
      "skip_h1_title": false,
      "title_cell": "Table of Contents",
      "title_sidebar": "Contents",
      "toc_cell": false,
      "toc_position": {
        "height": "calc(100% - 180px)",
        "left": "10px",
        "top": "150px",
        "width": "182.667px"
      },
      "toc_section_display": true,
      "toc_window_display": true
    }
  },
  "cells": [
    {
      "cell_type": "markdown",
      "metadata": {
        "id": "view-in-github",
        "colab_type": "text"
      },
      "source": [
        "<a href=\"https://colab.research.google.com/github/taticorrea/OASI/blob/master/dados_meteorologicos_OASI.ipynb\" target=\"_parent\"><img src=\"https://colab.research.google.com/assets/colab-badge.svg\" alt=\"Open In Colab\"/></a>"
      ]
    },
    {
      "cell_type": "code",
      "metadata": {
        "id": "S-4yW6CBTym5"
      },
      "source": [
        "!pip install chart-studio"
      ],
      "execution_count": null,
      "outputs": []
    },
    {
      "cell_type": "code",
      "metadata": {
        "id": "dR_KszGZT1mg"
      },
      "source": [
        "!pip install cufflinks"
      ],
      "execution_count": null,
      "outputs": []
    },
    {
      "cell_type": "code",
      "metadata": {
        "ExecuteTime": {
          "end_time": "2021-02-17T20:34:15.462738Z",
          "start_time": "2021-02-17T20:34:14.648808Z"
        },
        "id": "lCJImt_jN8Sd"
      },
      "source": [
        "#bibliotecas padrao\n",
        "import pandas as pd\n",
        "import numpy as np\n",
        "from scipy.stats import pearsonr, spearmanr\n",
        "\n",
        "#biblioteca para manipulacao de datas\n",
        "from astropy.time import Time\n",
        "\n",
        "#biblioteca para plot estatico\n",
        "import matplotlib.pyplot as plt\n",
        "import seaborn as sns\n",
        "#import matplotlib.ticker as mtick \n",
        "#from matplotlib.ticker import PercentFormatter \n",
        "\n",
        "#biblioteca para plot interativo\n",
        "import chart_studio.plotly as py \n",
        "import chart_studio.tools as tls\n",
        "import plotly.graph_objects as go\n",
        "import cufflinks as cf"
      ],
      "execution_count": 4,
      "outputs": []
    },
    {
      "cell_type": "code",
      "metadata": {
        "ExecuteTime": {
          "end_time": "2021-02-18T03:15:48.719642Z",
          "start_time": "2021-02-18T03:15:48.712944Z"
        },
        "id": "2B3nfMpLSQ-N"
      },
      "source": [
        "%matplotlib inline\n",
        "plt.rcParams['figure.figsize'] = 17,6  #tamanho da figura de todos os plots"
      ],
      "execution_count": 5,
      "outputs": []
    },
    {
      "cell_type": "code",
      "metadata": {
        "ExecuteTime": {
          "end_time": "2021-02-17T19:53:58.454498Z",
          "start_time": "2021-02-17T19:53:58.304996Z"
        },
        "id": "hHn_bexeSQ-O"
      },
      "source": [
        "tls.set_credentials_file(username = 'taaaticorrea', api_key = 'cVyxkyjPvCNzCDggVzsn')"
      ],
      "execution_count": 6,
      "outputs": []
    },
    {
      "cell_type": "code",
      "metadata": {
        "ExecuteTime": {
          "end_time": "2021-02-18T00:16:23.633897Z",
          "start_time": "2021-02-18T00:16:23.622974Z"
        },
        "scrolled": true,
        "colab": {
          "base_uri": "https://localhost:8080/",
          "height": 35
        },
        "id": "JL9ezeE3SQ-P",
        "outputId": "cbf255e8-ff49-4d3d-c9e1-e57fe9492b9b"
      },
      "source": [
        "%pwd"
      ],
      "execution_count": null,
      "outputs": [
        {
          "output_type": "execute_result",
          "data": {
            "application/vnd.google.colaboratory.intrinsic+json": {
              "type": "string"
            },
            "text/plain": [
              "'/content'"
            ]
          },
          "metadata": {
            "tags": []
          },
          "execution_count": 7
        }
      ]
    },
    {
      "cell_type": "code",
      "metadata": {
        "ExecuteTime": {
          "end_time": "2021-02-18T00:16:59.768317Z",
          "start_time": "2021-02-18T00:16:59.281632Z"
        },
        "colab": {
          "base_uri": "https://localhost:8080/"
        },
        "id": "qw9u5dmgSQ-U",
        "outputId": "a2f1410f-221a-488e-e691-00a712675ba3"
      },
      "source": [
        "%ls -d */"
      ],
      "execution_count": null,
      "outputs": [
        {
          "output_type": "stream",
          "text": [
            "\u001b[0m\u001b[01;34msample_data/\u001b[0m/\n"
          ],
          "name": "stdout"
        }
      ]
    },
    {
      "cell_type": "markdown",
      "metadata": {
        "heading_collapsed": true,
        "id": "-8sXBPt9a27N"
      },
      "source": [
        "# **INMT - FLORESTA A351 (2011-2019)**"
      ]
    },
    {
      "cell_type": "code",
      "metadata": {
        "ExecuteTime": {
          "end_time": "2021-02-18T03:19:45.242341Z",
          "start_time": "2021-02-18T03:19:45.120036Z"
        },
        "hidden": true,
        "colab": {
          "base_uri": "https://localhost:8080/",
          "height": 206
        },
        "id": "HSovYWT7SQ-X",
        "outputId": "1ffed0f5-d428-45b9-e915-ea304f241214"
      },
      "source": [
        "df = pd.read_csv('dados_A351_D_2011-01-01_2019-12-31.csv', \n",
        "                 sep = ';', skiprows = 10)\n",
        "df.head()"
      ],
      "execution_count": 7,
      "outputs": [
        {
          "output_type": "execute_result",
          "data": {
            "text/html": [
              "<div>\n",
              "<style scoped>\n",
              "    .dataframe tbody tr th:only-of-type {\n",
              "        vertical-align: middle;\n",
              "    }\n",
              "\n",
              "    .dataframe tbody tr th {\n",
              "        vertical-align: top;\n",
              "    }\n",
              "\n",
              "    .dataframe thead th {\n",
              "        text-align: right;\n",
              "    }\n",
              "</style>\n",
              "<table border=\"1\" class=\"dataframe\">\n",
              "  <thead>\n",
              "    <tr style=\"text-align: right;\">\n",
              "      <th></th>\n",
              "      <th>Data Medicao</th>\n",
              "      <th>PRECIPITACAO TOTAL, DIARIO (AUT)(mm)</th>\n",
              "      <th>UMIDADE RELATIVA DO AR, MEDIA DIARIA (AUT)(%)</th>\n",
              "      <th>Unnamed: 3</th>\n",
              "    </tr>\n",
              "  </thead>\n",
              "  <tbody>\n",
              "    <tr>\n",
              "      <th>0</th>\n",
              "      <td>2011-01-01</td>\n",
              "      <td>0</td>\n",
              "      <td>47,666667</td>\n",
              "      <td>NaN</td>\n",
              "    </tr>\n",
              "    <tr>\n",
              "      <th>1</th>\n",
              "      <td>2011-01-02</td>\n",
              "      <td>0</td>\n",
              "      <td>52,75</td>\n",
              "      <td>NaN</td>\n",
              "    </tr>\n",
              "    <tr>\n",
              "      <th>2</th>\n",
              "      <td>2011-01-03</td>\n",
              "      <td>11</td>\n",
              "      <td>68,833333</td>\n",
              "      <td>NaN</td>\n",
              "    </tr>\n",
              "    <tr>\n",
              "      <th>3</th>\n",
              "      <td>2011-01-04</td>\n",
              "      <td>0</td>\n",
              "      <td>58,166667</td>\n",
              "      <td>NaN</td>\n",
              "    </tr>\n",
              "    <tr>\n",
              "      <th>4</th>\n",
              "      <td>2011-01-05</td>\n",
              "      <td>0</td>\n",
              "      <td>51,75</td>\n",
              "      <td>NaN</td>\n",
              "    </tr>\n",
              "  </tbody>\n",
              "</table>\n",
              "</div>"
            ],
            "text/plain": [
              "  Data Medicao  ... Unnamed: 3\n",
              "0   2011-01-01  ...        NaN\n",
              "1   2011-01-02  ...        NaN\n",
              "2   2011-01-03  ...        NaN\n",
              "3   2011-01-04  ...        NaN\n",
              "4   2011-01-05  ...        NaN\n",
              "\n",
              "[5 rows x 4 columns]"
            ]
          },
          "metadata": {
            "tags": []
          },
          "execution_count": 7
        }
      ]
    },
    {
      "cell_type": "code",
      "metadata": {
        "ExecuteTime": {
          "end_time": "2021-02-18T03:19:46.217835Z",
          "start_time": "2021-02-18T03:19:46.198488Z"
        },
        "hidden": true,
        "scrolled": false,
        "colab": {
          "base_uri": "https://localhost:8080/"
        },
        "id": "svX7_7gZSQ-Y",
        "outputId": "505c6379-9d59-485c-e385-e6d0b23fa622"
      },
      "source": [
        "df.info()"
      ],
      "execution_count": 8,
      "outputs": [
        {
          "output_type": "stream",
          "text": [
            "<class 'pandas.core.frame.DataFrame'>\n",
            "RangeIndex: 3287 entries, 0 to 3286\n",
            "Data columns (total 4 columns):\n",
            " #   Column                                         Non-Null Count  Dtype  \n",
            "---  ------                                         --------------  -----  \n",
            " 0   Data Medicao                                   3287 non-null   object \n",
            " 1   PRECIPITACAO TOTAL, DIARIO (AUT)(mm)           3142 non-null   object \n",
            " 2   UMIDADE RELATIVA DO AR, MEDIA DIARIA (AUT)(%)  3093 non-null   object \n",
            " 3   Unnamed: 3                                     0 non-null      float64\n",
            "dtypes: float64(1), object(3)\n",
            "memory usage: 102.8+ KB\n"
          ],
          "name": "stdout"
        }
      ]
    },
    {
      "cell_type": "code",
      "metadata": {
        "ExecuteTime": {
          "end_time": "2021-02-18T03:19:46.899448Z",
          "start_time": "2021-02-18T03:19:46.890545Z"
        },
        "hidden": true,
        "id": "tjJMsPbcSQ-a"
      },
      "source": [
        "del df['Unnamed: 3']\n",
        "df.columns = ['Date','Rain','Hum']"
      ],
      "execution_count": 9,
      "outputs": []
    },
    {
      "cell_type": "code",
      "metadata": {
        "ExecuteTime": {
          "end_time": "2021-02-18T03:19:47.586189Z",
          "start_time": "2021-02-18T03:19:47.545248Z"
        },
        "hidden": true,
        "colab": {
          "base_uri": "https://localhost:8080/"
        },
        "id": "PrtPFTo4SQ-b",
        "outputId": "60637484-be18-4d96-9941-a5ea2c28fe26"
      },
      "source": [
        "df.dropna(inplace = True)\n",
        "df.info()"
      ],
      "execution_count": 10,
      "outputs": [
        {
          "output_type": "stream",
          "text": [
            "<class 'pandas.core.frame.DataFrame'>\n",
            "Int64Index: 3063 entries, 0 to 3286\n",
            "Data columns (total 3 columns):\n",
            " #   Column  Non-Null Count  Dtype \n",
            "---  ------  --------------  ----- \n",
            " 0   Date    3063 non-null   object\n",
            " 1   Rain    3063 non-null   object\n",
            " 2   Hum     3063 non-null   object\n",
            "dtypes: object(3)\n",
            "memory usage: 95.7+ KB\n"
          ],
          "name": "stdout"
        }
      ]
    },
    {
      "cell_type": "code",
      "metadata": {
        "ExecuteTime": {
          "end_time": "2021-02-18T03:19:48.567269Z",
          "start_time": "2021-02-18T03:19:48.214517Z"
        },
        "hidden": true,
        "id": "HeIasSgpSQ-e"
      },
      "source": [
        "df['Date'] = pd.to_datetime(df['Date'])\n",
        "#comentado para pegar os dados e salvar num arquivo com os dados do oasi\n",
        "#df['Date'] = Time(df['Date'], scale = 'utc', precision = 3) "
      ],
      "execution_count": 11,
      "outputs": []
    },
    {
      "cell_type": "code",
      "metadata": {
        "ExecuteTime": {
          "end_time": "2021-02-18T03:19:48.920126Z",
          "start_time": "2021-02-18T03:19:48.907621Z"
        },
        "hidden": true,
        "scrolled": true,
        "id": "UHkAR9-_SQ-e"
      },
      "source": [
        "df['Rain'] = [i.replace(',', '.') for i in df['Rain']]\n",
        "df['Rain'] = df['Rain'].astype('float64')"
      ],
      "execution_count": 12,
      "outputs": []
    },
    {
      "cell_type": "code",
      "metadata": {
        "ExecuteTime": {
          "end_time": "2021-02-18T03:19:50.281790Z",
          "start_time": "2021-02-18T03:19:50.272741Z"
        },
        "hidden": true,
        "id": "ZdIKxc4aSQ-g"
      },
      "source": [
        "df['Hum'] = [i.replace(',', '.') for i in df['Hum']]\n",
        "df['Hum'] = df['Hum'].astype('float64')"
      ],
      "execution_count": 13,
      "outputs": []
    },
    {
      "cell_type": "code",
      "metadata": {
        "ExecuteTime": {
          "end_time": "2021-02-18T03:19:51.076571Z",
          "start_time": "2021-02-18T03:19:51.065966Z"
        },
        "hidden": true,
        "scrolled": false,
        "colab": {
          "base_uri": "https://localhost:8080/"
        },
        "id": "RBcHgWElSQ-g",
        "outputId": "82a6309c-4f81-47e5-e72b-e7e74231462e"
      },
      "source": [
        "df.info()"
      ],
      "execution_count": 14,
      "outputs": [
        {
          "output_type": "stream",
          "text": [
            "<class 'pandas.core.frame.DataFrame'>\n",
            "Int64Index: 3063 entries, 0 to 3286\n",
            "Data columns (total 3 columns):\n",
            " #   Column  Non-Null Count  Dtype         \n",
            "---  ------  --------------  -----         \n",
            " 0   Date    3063 non-null   datetime64[ns]\n",
            " 1   Rain    3063 non-null   float64       \n",
            " 2   Hum     3063 non-null   float64       \n",
            "dtypes: datetime64[ns](1), float64(2)\n",
            "memory usage: 95.7 KB\n"
          ],
          "name": "stdout"
        }
      ]
    },
    {
      "cell_type": "code",
      "metadata": {
        "ExecuteTime": {
          "end_time": "2021-02-18T03:19:52.197377Z",
          "start_time": "2021-02-18T03:19:52.150420Z"
        },
        "hidden": true,
        "colab": {
          "base_uri": "https://localhost:8080/",
          "height": 424
        },
        "id": "QFomgAVzSQ-h",
        "outputId": "448267f6-bb27-4e5c-ec73-ae1b95a3c82e"
      },
      "source": [
        "df"
      ],
      "execution_count": 15,
      "outputs": [
        {
          "output_type": "execute_result",
          "data": {
            "text/html": [
              "<div>\n",
              "<style scoped>\n",
              "    .dataframe tbody tr th:only-of-type {\n",
              "        vertical-align: middle;\n",
              "    }\n",
              "\n",
              "    .dataframe tbody tr th {\n",
              "        vertical-align: top;\n",
              "    }\n",
              "\n",
              "    .dataframe thead th {\n",
              "        text-align: right;\n",
              "    }\n",
              "</style>\n",
              "<table border=\"1\" class=\"dataframe\">\n",
              "  <thead>\n",
              "    <tr style=\"text-align: right;\">\n",
              "      <th></th>\n",
              "      <th>Date</th>\n",
              "      <th>Rain</th>\n",
              "      <th>Hum</th>\n",
              "    </tr>\n",
              "  </thead>\n",
              "  <tbody>\n",
              "    <tr>\n",
              "      <th>0</th>\n",
              "      <td>2011-01-01</td>\n",
              "      <td>0.0</td>\n",
              "      <td>47.666667</td>\n",
              "    </tr>\n",
              "    <tr>\n",
              "      <th>1</th>\n",
              "      <td>2011-01-02</td>\n",
              "      <td>0.0</td>\n",
              "      <td>52.750000</td>\n",
              "    </tr>\n",
              "    <tr>\n",
              "      <th>2</th>\n",
              "      <td>2011-01-03</td>\n",
              "      <td>11.0</td>\n",
              "      <td>68.833333</td>\n",
              "    </tr>\n",
              "    <tr>\n",
              "      <th>3</th>\n",
              "      <td>2011-01-04</td>\n",
              "      <td>0.0</td>\n",
              "      <td>58.166667</td>\n",
              "    </tr>\n",
              "    <tr>\n",
              "      <th>4</th>\n",
              "      <td>2011-01-05</td>\n",
              "      <td>0.0</td>\n",
              "      <td>51.750000</td>\n",
              "    </tr>\n",
              "    <tr>\n",
              "      <th>...</th>\n",
              "      <td>...</td>\n",
              "      <td>...</td>\n",
              "      <td>...</td>\n",
              "    </tr>\n",
              "    <tr>\n",
              "      <th>3282</th>\n",
              "      <td>2019-12-27</td>\n",
              "      <td>0.0</td>\n",
              "      <td>45.583333</td>\n",
              "    </tr>\n",
              "    <tr>\n",
              "      <th>3283</th>\n",
              "      <td>2019-12-28</td>\n",
              "      <td>0.0</td>\n",
              "      <td>46.791667</td>\n",
              "    </tr>\n",
              "    <tr>\n",
              "      <th>3284</th>\n",
              "      <td>2019-12-29</td>\n",
              "      <td>0.0</td>\n",
              "      <td>46.083333</td>\n",
              "    </tr>\n",
              "    <tr>\n",
              "      <th>3285</th>\n",
              "      <td>2019-12-30</td>\n",
              "      <td>0.0</td>\n",
              "      <td>49.041667</td>\n",
              "    </tr>\n",
              "    <tr>\n",
              "      <th>3286</th>\n",
              "      <td>2019-12-31</td>\n",
              "      <td>0.0</td>\n",
              "      <td>68.791667</td>\n",
              "    </tr>\n",
              "  </tbody>\n",
              "</table>\n",
              "<p>3063 rows × 3 columns</p>\n",
              "</div>"
            ],
            "text/plain": [
              "           Date  Rain        Hum\n",
              "0    2011-01-01   0.0  47.666667\n",
              "1    2011-01-02   0.0  52.750000\n",
              "2    2011-01-03  11.0  68.833333\n",
              "3    2011-01-04   0.0  58.166667\n",
              "4    2011-01-05   0.0  51.750000\n",
              "...         ...   ...        ...\n",
              "3282 2019-12-27   0.0  45.583333\n",
              "3283 2019-12-28   0.0  46.791667\n",
              "3284 2019-12-29   0.0  46.083333\n",
              "3285 2019-12-30   0.0  49.041667\n",
              "3286 2019-12-31   0.0  68.791667\n",
              "\n",
              "[3063 rows x 3 columns]"
            ]
          },
          "metadata": {
            "tags": []
          },
          "execution_count": 15
        }
      ]
    },
    {
      "cell_type": "markdown",
      "metadata": {
        "hidden": true,
        "id": "ySqcpcj76OIZ"
      },
      "source": [
        "## **TODAS**"
      ]
    },
    {
      "cell_type": "code",
      "metadata": {
        "ExecuteTime": {
          "end_time": "2021-02-18T03:19:54.202881Z",
          "start_time": "2021-02-18T03:19:53.366453Z"
        },
        "hidden": true,
        "id": "hbvcUYp-SQ-i"
      },
      "source": [
        "df_2011 = df.set_index('Date').filter(like = '2011', axis = 0).reset_index()\n",
        "df_2012 = df.set_index('Date').filter(like = '2012', axis = 0).reset_index()\n",
        "df_2013 = df.set_index('Date').filter(like = '2013', axis = 0).reset_index()\n",
        "df_2014 = df.set_index('Date').filter(like = '2014', axis = 0).reset_index()\n",
        "df_2015 = df.set_index('Date').filter(like = '2015', axis = 0).reset_index()\n",
        "df_2016 = df.set_index('Date').filter(like = '2016', axis = 0).reset_index()\n",
        "df_2017 = df.set_index('Date').filter(like = '2017', axis = 0).reset_index()\n",
        "df_2018 = df.set_index('Date').filter(like = '2018', axis = 0).reset_index()\n",
        "df_2019 = df.set_index('Date').filter(like = '2019', axis = 0).reset_index()"
      ],
      "execution_count": null,
      "outputs": []
    },
    {
      "cell_type": "code",
      "metadata": {
        "ExecuteTime": {
          "end_time": "2021-02-18T03:20:05.642929Z",
          "start_time": "2021-02-18T03:20:04.365421Z"
        },
        "hidden": true,
        "id": "_JUab05PvQgE"
      },
      "source": [
        "### criando objeto datetime para cado ano individualmente\n",
        "\n",
        "#Inicio das observaçoes\n",
        "it    = '2011-01-01 00:00:00'\n",
        "#transformando em objeto Time do astropy\n",
        "itime = Time(it, format = 'iso', scale = 'utc', precision = 3 )\n",
        "\n",
        "#inicializando listas vazias\n",
        "dt_2011 = []\n",
        "dt_2012 = []\n",
        "dt_2013 = []\n",
        "dt_2014 = []\n",
        "dt_2015 = []\n",
        "dt_2016 = []\n",
        "dt_2017 = []\n",
        "dt_2018 = []\n",
        "dt_2019 = []\n",
        "\n",
        "dt_2011 = [ (i - itime)/365 for i in df_2011['Date']]\n",
        "dt_2012 = [ (i - itime)/365 for i in df_2012['Date']]\n",
        "dt_2013 = [ (i - itime)/365 for i in df_2013['Date']]\n",
        "dt_2014 = [ (i - itime)/365 for i in df_2014['Date']]\n",
        "dt_2015 = [ (i - itime)/365 for i in df_2015['Date']]\n",
        "dt_2016 = [ (i - itime)/365 for i in df_2016['Date']]\n",
        "dt_2017 = [ (i - itime)/365 for i in df_2017['Date']]\n",
        "dt_2018 = [ (i - itime)/365 for i in df_2018['Date']]\n",
        "dt_2019 = [ (i - itime)/365 for i in df_2019['Date']]"
      ],
      "execution_count": null,
      "outputs": []
    },
    {
      "cell_type": "code",
      "metadata": {
        "ExecuteTime": {
          "end_time": "2021-02-18T03:20:08.879572Z",
          "start_time": "2021-02-18T03:20:08.525800Z"
        },
        "hidden": true,
        "id": "RpuxWqMWSQ-k"
      },
      "source": [
        "#transformando float object para fazer o plot\n",
        "dt_2011 = [dt_2011[i].value for i in range(len(dt_2011))]\n",
        "dt_2012 = [dt_2012[i].value for i in range(len(dt_2012))]\n",
        "dt_2013 = [dt_2013[i].value for i in range(len(dt_2013))]\n",
        "dt_2014 = [dt_2014[i].value for i in range(len(dt_2014))]\n",
        "dt_2015 = [dt_2015[i].value for i in range(len(dt_2015))]\n",
        "dt_2016 = [dt_2016[i].value for i in range(len(dt_2016))]\n",
        "dt_2017 = [dt_2017[i].value for i in range(len(dt_2017))]\n",
        "dt_2018 = [dt_2018[i].value for i in range(len(dt_2018))]\n",
        "dt_2019 = [dt_2019[i].value for i in range(len(dt_2019))]"
      ],
      "execution_count": null,
      "outputs": []
    },
    {
      "cell_type": "code",
      "metadata": {
        "ExecuteTime": {
          "end_time": "2021-02-18T03:22:07.458940Z",
          "start_time": "2021-02-18T03:22:03.473624Z"
        },
        "colab": {
          "base_uri": "https://localhost:8080/",
          "height": 360
        },
        "hidden": true,
        "id": "TZQyCiKDh0KJ",
        "scrolled": false,
        "outputId": "d61bafe6-0eeb-4cbc-e87f-61277f6a05f5"
      },
      "source": [
        "plt.subplot(121)\n",
        "plt.scatter(dt_2011,df_2011['Rain'], label = 2011, color = 'navy')\n",
        "plt.scatter(dt_2012,df_2012['Rain'], label = 2012, color = 'navy')\n",
        "plt.scatter(dt_2013,df_2013['Rain'], label = 2013, color = 'navy')\n",
        "plt.scatter(dt_2014,df_2014['Rain'], label = 2014, color = 'navy')\n",
        "plt.scatter(dt_2015,df_2015['Rain'], label = 2015, color = 'blue')\n",
        "plt.scatter(dt_2016,df_2016['Rain'], label = 2016, color = 'darkcyan')\n",
        "plt.scatter(dt_2017,df_2017['Rain'], label = 2017, color = 'darkturquoise')\n",
        "plt.scatter(dt_2018,df_2018['Rain'], label = 2018, color = 'royalblue')\n",
        "plt.scatter(dt_2019,df_2019['Rain'], label = 2019, color = 'darkblue')\n",
        "plt.xlabel('Tempo de observação ' + '(início ' + str(df['Date'][0]) + ')' ,size = 13)\n",
        "plt.ylabel('PRECIPITACAO TOTAL (AUT) (mm)',size = 13)\n",
        "plt.xticks(np.arange(0,9,1),['2011','2012','2013','2014','2015','2016','2017','2018','2019'], rotation = 0, size = 13)\n",
        "plt.yticks(size = 13)\n",
        "plt.xlim(0,9)\n",
        "plt.ylim(bottom = 0)\n",
        "plt.grid(axis = 'x')\n",
        "plt.legend()\n",
        "plt.savefig('precipitacao_2011-2019.png')\n",
        "\n",
        "plt.subplot(122)\n",
        "plt.scatter(dt_2011,df_2011['Hum'], label = 2011, color = 'navy')\n",
        "plt.scatter(dt_2012,df_2012['Hum'], label = 2012, color = 'navy')\n",
        "plt.scatter(dt_2013,df_2013['Hum'], label = 2013, color = 'navy')\n",
        "plt.scatter(dt_2014,df_2014['Hum'], label = 2014, color = 'navy')\n",
        "plt.scatter(dt_2015,df_2015['Hum'], label = 2015, color = 'blue')\n",
        "plt.scatter(dt_2016,df_2016['Hum'], label = 2016, color = 'darkcyan')\n",
        "plt.scatter(dt_2017,df_2017['Hum'], label = 2017, color = 'darkturquoise')\n",
        "plt.scatter(dt_2018,df_2018['Hum'], label = 2018, color = 'royalblue')\n",
        "plt.scatter(dt_2019,df_2019['Hum'], label = 2019, color = 'darkblue')\n",
        "plt.gca().set_yticklabels(['{:.0f}%'.format(x) for x in plt.gca().get_yticks()])  #porcentagem\n",
        "plt.xlabel('Tempo de observação ' + '(início ' + str(df['Date'][0]) + ')', size = 13)\n",
        "plt.ylabel('UMIDADE RELATIVA DO AR (AUT)', size = 13)\n",
        "plt.xlim(0,9)\n",
        "plt.xticks(np.arange(0,9,1),['2011','2012','2013','2014','2015','2016','2017','2018','2019'], rotation = 0, size = 13)\n",
        "plt.yticks(size  = 13)\n",
        "plt.grid(axis = 'x')\n",
        "plt.legend()\n",
        "\n",
        "plt.suptitle('INMET - Floresta A351', size = 17)\n",
        "plt.savefig('umidade_2011-2019.png')\n",
        "\n",
        "\n",
        "\n",
        "plt.savefig('floresta_2011-2019.png')\n",
        "plt.show()"
      ],
      "execution_count": null,
      "outputs": [
        {
          "output_type": "stream",
          "text": [
            "<ipython-input-543-11975d2c3dcd>:31: UserWarning:\n",
            "\n",
            "FixedFormatter should only be used together with FixedLocator\n",
            "\n"
          ],
          "name": "stderr"
        },
        {
          "output_type": "display_data",
          "data": {
            "image/png": "[encoded data removed]",
            "text/plain": [
              "<Figure size 1224x432 with 2 Axes>"
            ]
          },
          "metadata": {
            "tags": [],
            "needs_background": "light"
          }
        }
      ]
    },
    {
      "cell_type": "markdown",
      "metadata": {
        "heading_collapsed": true,
        "id": "PLYaU5DkSQ-l"
      },
      "source": [
        "# **INMT - FLORESTA A351 (2011-2019) (PLOTLY)**"
      ]
    },
    {
      "cell_type": "markdown",
      "metadata": {
        "hidden": true,
        "id": "fWAkYJbPSQ-l"
      },
      "source": [
        "## **TODAS**"
      ]
    },
    {
      "cell_type": "code",
      "metadata": {
        "ExecuteTime": {
          "end_time": "2021-02-18T03:26:05.432668Z",
          "start_time": "2021-02-18T03:26:05.402157Z"
        },
        "hidden": true,
        "id": "IzGYQESFSQ-m",
        "outputId": "c9401b4b-9818-41b0-b1a9-32b3aec9e59e"
      },
      "source": [
        "df = pd.read_csv('dados-meteorologicos/diario/dados_A351_D_2011-01-01_2019-12-31.csv', \n",
        "                 sep = ';', skiprows = 10)\n",
        "df.head()"
      ],
      "execution_count": null,
      "outputs": [
        {
          "output_type": "execute_result",
          "data": {
            "text/html": [
              "<div>\n",
              "<style scoped>\n",
              "    .dataframe tbody tr th:only-of-type {\n",
              "        vertical-align: middle;\n",
              "    }\n",
              "\n",
              "    .dataframe tbody tr th {\n",
              "        vertical-align: top;\n",
              "    }\n",
              "\n",
              "    .dataframe thead th {\n",
              "        text-align: right;\n",
              "    }\n",
              "</style>\n",
              "<table border=\"1\" class=\"dataframe\">\n",
              "  <thead>\n",
              "    <tr style=\"text-align: right;\">\n",
              "      <th></th>\n",
              "      <th>Data Medicao</th>\n",
              "      <th>PRECIPITACAO TOTAL, DIARIO (AUT)(mm)</th>\n",
              "      <th>UMIDADE RELATIVA DO AR, MEDIA DIARIA (AUT)(%)</th>\n",
              "      <th>Unnamed: 3</th>\n",
              "    </tr>\n",
              "  </thead>\n",
              "  <tbody>\n",
              "    <tr>\n",
              "      <th>0</th>\n",
              "      <td>2011-01-01</td>\n",
              "      <td>0</td>\n",
              "      <td>47,666667</td>\n",
              "      <td>NaN</td>\n",
              "    </tr>\n",
              "    <tr>\n",
              "      <th>1</th>\n",
              "      <td>2011-01-02</td>\n",
              "      <td>0</td>\n",
              "      <td>52,75</td>\n",
              "      <td>NaN</td>\n",
              "    </tr>\n",
              "    <tr>\n",
              "      <th>2</th>\n",
              "      <td>2011-01-03</td>\n",
              "      <td>11</td>\n",
              "      <td>68,833333</td>\n",
              "      <td>NaN</td>\n",
              "    </tr>\n",
              "    <tr>\n",
              "      <th>3</th>\n",
              "      <td>2011-01-04</td>\n",
              "      <td>0</td>\n",
              "      <td>58,166667</td>\n",
              "      <td>NaN</td>\n",
              "    </tr>\n",
              "    <tr>\n",
              "      <th>4</th>\n",
              "      <td>2011-01-05</td>\n",
              "      <td>0</td>\n",
              "      <td>51,75</td>\n",
              "      <td>NaN</td>\n",
              "    </tr>\n",
              "  </tbody>\n",
              "</table>\n",
              "</div>"
            ],
            "text/plain": [
              "  Data Medicao PRECIPITACAO TOTAL, DIARIO (AUT)(mm)  \\\n",
              "0   2011-01-01                                    0   \n",
              "1   2011-01-02                                    0   \n",
              "2   2011-01-03                                   11   \n",
              "3   2011-01-04                                    0   \n",
              "4   2011-01-05                                    0   \n",
              "\n",
              "  UMIDADE RELATIVA DO AR, MEDIA DIARIA (AUT)(%)  Unnamed: 3  \n",
              "0                                     47,666667         NaN  \n",
              "1                                         52,75         NaN  \n",
              "2                                     68,833333         NaN  \n",
              "3                                     58,166667         NaN  \n",
              "4                                         51,75         NaN  "
            ]
          },
          "metadata": {
            "tags": []
          },
          "execution_count": 551
        }
      ]
    },
    {
      "cell_type": "code",
      "metadata": {
        "ExecuteTime": {
          "end_time": "2021-02-18T03:26:07.355632Z",
          "start_time": "2021-02-18T03:26:07.331813Z"
        },
        "hidden": true,
        "scrolled": false,
        "id": "UU3p3GH5SQ-n",
        "outputId": "dec7cb5e-c85f-48cf-d6b2-bf6a6bfbfeca"
      },
      "source": [
        "df.info()"
      ],
      "execution_count": null,
      "outputs": [
        {
          "output_type": "stream",
          "text": [
            "<class 'pandas.core.frame.DataFrame'>\n",
            "RangeIndex: 3287 entries, 0 to 3286\n",
            "Data columns (total 4 columns):\n",
            " #   Column                                         Non-Null Count  Dtype  \n",
            "---  ------                                         --------------  -----  \n",
            " 0   Data Medicao                                   3287 non-null   object \n",
            " 1   PRECIPITACAO TOTAL, DIARIO (AUT)(mm)           3142 non-null   object \n",
            " 2   UMIDADE RELATIVA DO AR, MEDIA DIARIA (AUT)(%)  3093 non-null   object \n",
            " 3   Unnamed: 3                                     0 non-null      float64\n",
            "dtypes: float64(1), object(3)\n",
            "memory usage: 102.8+ KB\n"
          ],
          "name": "stdout"
        }
      ]
    },
    {
      "cell_type": "code",
      "metadata": {
        "ExecuteTime": {
          "end_time": "2021-02-18T03:26:10.079506Z",
          "start_time": "2021-02-18T03:26:10.070472Z"
        },
        "hidden": true,
        "id": "qWB-wtE8SQ-n"
      },
      "source": [
        "del df['Unnamed: 3']\n",
        "df.columns = ['Date','Rain','Hum']"
      ],
      "execution_count": null,
      "outputs": []
    },
    {
      "cell_type": "code",
      "metadata": {
        "ExecuteTime": {
          "end_time": "2021-02-18T03:26:13.825529Z",
          "start_time": "2021-02-18T03:26:13.808390Z"
        },
        "hidden": true,
        "id": "ZghyOtiESQ-o",
        "outputId": "6611d080-cf3d-4882-e6c0-19f69ff2b381"
      },
      "source": [
        "df.dropna(inplace = True)\n",
        "df.info()"
      ],
      "execution_count": null,
      "outputs": [
        {
          "output_type": "stream",
          "text": [
            "<class 'pandas.core.frame.DataFrame'>\n",
            "Int64Index: 3063 entries, 0 to 3286\n",
            "Data columns (total 3 columns):\n",
            " #   Column  Non-Null Count  Dtype \n",
            "---  ------  --------------  ----- \n",
            " 0   Date    3063 non-null   object\n",
            " 1   Rain    3063 non-null   object\n",
            " 2   Hum     3063 non-null   object\n",
            "dtypes: object(3)\n",
            "memory usage: 95.7+ KB\n"
          ],
          "name": "stdout"
        }
      ]
    },
    {
      "cell_type": "code",
      "metadata": {
        "ExecuteTime": {
          "end_time": "2021-02-18T03:26:16.754302Z",
          "start_time": "2021-02-18T03:26:16.748721Z"
        },
        "hidden": true,
        "id": "1CEVFdV7SQ-p"
      },
      "source": [
        "df['Date'] = pd.to_datetime(df['Date'])"
      ],
      "execution_count": null,
      "outputs": []
    },
    {
      "cell_type": "code",
      "metadata": {
        "ExecuteTime": {
          "end_time": "2021-02-18T03:26:18.493930Z",
          "start_time": "2021-02-18T03:26:18.485931Z"
        },
        "hidden": true,
        "scrolled": true,
        "id": "mQi2N_2eSQ-q"
      },
      "source": [
        "df['Rain'] = [i.replace(',', '.') for i in df['Rain']]\n",
        "df['Rain'] = df['Rain'].astype('float64')"
      ],
      "execution_count": null,
      "outputs": []
    },
    {
      "cell_type": "code",
      "metadata": {
        "ExecuteTime": {
          "end_time": "2021-02-18T03:26:27.207851Z",
          "start_time": "2021-02-18T03:26:27.189966Z"
        },
        "hidden": true,
        "id": "w46Ao4zuSQ-q"
      },
      "source": [
        "df['Hum'] = [i.replace(',', '.') for i in df['Hum']]\n",
        "df['Hum'] = df['Hum'].astype('float64')"
      ],
      "execution_count": null,
      "outputs": []
    },
    {
      "cell_type": "code",
      "metadata": {
        "ExecuteTime": {
          "end_time": "2021-02-18T03:26:34.686003Z",
          "start_time": "2021-02-18T03:26:34.669967Z"
        },
        "hidden": true,
        "id": "n4oox0XiSQ-q",
        "outputId": "e56b6b1a-89b5-4506-8832-2462706c805c"
      },
      "source": [
        "df.info()"
      ],
      "execution_count": null,
      "outputs": [
        {
          "output_type": "stream",
          "text": [
            "<class 'pandas.core.frame.DataFrame'>\n",
            "Int64Index: 3063 entries, 0 to 3286\n",
            "Data columns (total 3 columns):\n",
            " #   Column  Non-Null Count  Dtype         \n",
            "---  ------  --------------  -----         \n",
            " 0   Date    3063 non-null   datetime64[ns]\n",
            " 1   Rain    3063 non-null   float64       \n",
            " 2   Hum     3063 non-null   float64       \n",
            "dtypes: datetime64[ns](1), float64(2)\n",
            "memory usage: 95.7 KB\n"
          ],
          "name": "stdout"
        }
      ]
    },
    {
      "cell_type": "code",
      "metadata": {
        "ExecuteTime": {
          "end_time": "2021-02-18T03:26:41.190159Z",
          "start_time": "2021-02-18T03:26:41.175694Z"
        },
        "hidden": true,
        "id": "I7SzaBcASQ-s",
        "outputId": "975a6689-ce63-4753-ea22-4ef3a2575d7a"
      },
      "source": [
        "df.set_index('Date', inplace = True)\n",
        "df.head()"
      ],
      "execution_count": null,
      "outputs": [
        {
          "output_type": "execute_result",
          "data": {
            "text/html": [
              "<div>\n",
              "<style scoped>\n",
              "    .dataframe tbody tr th:only-of-type {\n",
              "        vertical-align: middle;\n",
              "    }\n",
              "\n",
              "    .dataframe tbody tr th {\n",
              "        vertical-align: top;\n",
              "    }\n",
              "\n",
              "    .dataframe thead th {\n",
              "        text-align: right;\n",
              "    }\n",
              "</style>\n",
              "<table border=\"1\" class=\"dataframe\">\n",
              "  <thead>\n",
              "    <tr style=\"text-align: right;\">\n",
              "      <th></th>\n",
              "      <th>Rain</th>\n",
              "      <th>Hum</th>\n",
              "    </tr>\n",
              "    <tr>\n",
              "      <th>Date</th>\n",
              "      <th></th>\n",
              "      <th></th>\n",
              "    </tr>\n",
              "  </thead>\n",
              "  <tbody>\n",
              "    <tr>\n",
              "      <th>2011-01-01</th>\n",
              "      <td>0.0</td>\n",
              "      <td>47.666667</td>\n",
              "    </tr>\n",
              "    <tr>\n",
              "      <th>2011-01-02</th>\n",
              "      <td>0.0</td>\n",
              "      <td>52.750000</td>\n",
              "    </tr>\n",
              "    <tr>\n",
              "      <th>2011-01-03</th>\n",
              "      <td>11.0</td>\n",
              "      <td>68.833333</td>\n",
              "    </tr>\n",
              "    <tr>\n",
              "      <th>2011-01-04</th>\n",
              "      <td>0.0</td>\n",
              "      <td>58.166667</td>\n",
              "    </tr>\n",
              "    <tr>\n",
              "      <th>2011-01-05</th>\n",
              "      <td>0.0</td>\n",
              "      <td>51.750000</td>\n",
              "    </tr>\n",
              "  </tbody>\n",
              "</table>\n",
              "</div>"
            ],
            "text/plain": [
              "            Rain        Hum\n",
              "Date                       \n",
              "2011-01-01   0.0  47.666667\n",
              "2011-01-02   0.0  52.750000\n",
              "2011-01-03  11.0  68.833333\n",
              "2011-01-04   0.0  58.166667\n",
              "2011-01-05   0.0  51.750000"
            ]
          },
          "metadata": {
            "tags": []
          },
          "execution_count": 559
        }
      ]
    },
    {
      "cell_type": "code",
      "metadata": {
        "ExecuteTime": {
          "end_time": "2021-02-18T03:35:08.877701Z",
          "start_time": "2021-02-18T03:35:03.332476Z"
        },
        "hidden": true,
        "scrolled": false,
        "id": "Arw7kNNtSQ-s",
        "outputId": "20953694-e30b-439c-b681-c99110fd2f75"
      },
      "source": [
        "df['Rain'].iplot(kind = 'scatter', \n",
        "                mode = 'markers',\n",
        "                title = 'INMET - Estação Floresta A351', \n",
        "                xTitle = 'Data da observação',\n",
        "                yTitle = 'Precipitação total (AUT) (mm)', )"
      ],
      "execution_count": null,
      "outputs": [
        {
          "output_type": "execute_result",
          "data": {
            "text/html": [
              "\n",
              "        <iframe\n",
              "            width=\"100%\"\n",
              "            height=\"525px\"\n",
              "            src=\"https://plotly.com/~taaaticorrea/129.embed\"\n",
              "            frameborder=\"0\"\n",
              "            allowfullscreen\n",
              "        ></iframe>\n",
              "        "
            ],
            "text/plain": [
              "<IPython.lib.display.IFrame at 0x7f815e9d1af0>"
            ]
          },
          "metadata": {
            "tags": []
          },
          "execution_count": 564
        }
      ]
    },
    {
      "cell_type": "code",
      "metadata": {
        "ExecuteTime": {
          "end_time": "2021-02-18T03:34:33.359288Z",
          "start_time": "2021-02-18T03:34:27.301821Z"
        },
        "hidden": true,
        "id": "YtRJGe11SQ-s",
        "outputId": "7cabe484-19ac-4294-c658-0a58f74b7abe"
      },
      "source": [
        "df['Hum'].iplot(kind = 'scatter', \n",
        "                mode = 'markers',\n",
        "                title = 'INMET - Estação Floresta A351', \n",
        "                xTitle = 'Data da observação',\n",
        "                yTitle = 'Umidade Relativa do Ar (AUT) %', )"
      ],
      "execution_count": null,
      "outputs": [
        {
          "output_type": "execute_result",
          "data": {
            "text/html": [
              "\n",
              "        <iframe\n",
              "            width=\"100%\"\n",
              "            height=\"525px\"\n",
              "            src=\"https://plotly.com/~taaaticorrea/129.embed\"\n",
              "            frameborder=\"0\"\n",
              "            allowfullscreen\n",
              "        ></iframe>\n",
              "        "
            ],
            "text/plain": [
              "<IPython.lib.display.IFrame at 0x7f815e5b7c10>"
            ]
          },
          "metadata": {
            "tags": []
          },
          "execution_count": 563
        }
      ]
    },
    {
      "cell_type": "code",
      "metadata": {
        "ExecuteTime": {
          "end_time": "2021-02-18T03:37:33.886484Z",
          "start_time": "2021-02-18T03:37:33.485504Z"
        },
        "hidden": true,
        "id": "LOREM76eSQ-s"
      },
      "source": [
        "df_2011 = df.filter(like = '2011', axis = 0)\n",
        "df_2012 = df.filter(like = '2012', axis = 0)\n",
        "df_2013 = df.filter(like = '2013', axis = 0)\n",
        "df_2014 = df.filter(like = '2014', axis = 0)\n",
        "df_2015 = df.filter(like = '2015', axis = 0)\n",
        "df_2016 = df.filter(like = '2016', axis = 0)\n",
        "df_2017 = df.filter(like = '2017', axis = 0)\n",
        "df_2018 = df.filter(like = '2018', axis = 0)\n",
        "df_2019 = df.filter(like = '2019', axis = 0)"
      ],
      "execution_count": null,
      "outputs": []
    },
    {
      "cell_type": "markdown",
      "metadata": {
        "id": "SAdOBP99cTlZ"
      },
      "source": [
        "# **Dados OASI**"
      ]
    },
    {
      "cell_type": "code",
      "metadata": {
        "ExecuteTime": {
          "end_time": "2021-02-18T03:41:38.499342Z",
          "start_time": "2021-02-18T03:41:37.262951Z"
        },
        "id": "Fk8mze1PP3j5",
        "colab": {
          "base_uri": "https://localhost:8080/",
          "height": 414
        },
        "outputId": "0ce78327-7429-48ec-e1e6-5b409b8ba03f"
      },
      "source": [
        "#importando dados\n",
        "df_OASI = pd.read_csv('Data_Todo.txt',delimiter = '\\t', skiprows = 1, \n",
        "                      usecols = ['Date','Unnamed: 1','Hum','Rain'])\n",
        "print(df_OASI.info())\n",
        "df_OASI.head()"
      ],
      "execution_count": 16,
      "outputs": [
        {
          "output_type": "stream",
          "text": [
            "<class 'pandas.core.frame.DataFrame'>\n",
            "RangeIndex: 235640 entries, 0 to 235639\n",
            "Data columns (total 4 columns):\n",
            " #   Column      Non-Null Count   Dtype  \n",
            "---  ------      --------------   -----  \n",
            " 0   Date        235640 non-null  object \n",
            " 1   Unnamed: 1  235640 non-null  object \n",
            " 2   Hum         235640 non-null  object \n",
            " 3   Rain        235640 non-null  float64\n",
            "dtypes: float64(1), object(3)\n",
            "memory usage: 7.2+ MB\n",
            "None\n"
          ],
          "name": "stdout"
        },
        {
          "output_type": "execute_result",
          "data": {
            "text/html": [
              "<div>\n",
              "<style scoped>\n",
              "    .dataframe tbody tr th:only-of-type {\n",
              "        vertical-align: middle;\n",
              "    }\n",
              "\n",
              "    .dataframe tbody tr th {\n",
              "        vertical-align: top;\n",
              "    }\n",
              "\n",
              "    .dataframe thead th {\n",
              "        text-align: right;\n",
              "    }\n",
              "</style>\n",
              "<table border=\"1\" class=\"dataframe\">\n",
              "  <thead>\n",
              "    <tr style=\"text-align: right;\">\n",
              "      <th></th>\n",
              "      <th>Date</th>\n",
              "      <th>Unnamed: 1</th>\n",
              "      <th>Hum</th>\n",
              "      <th>Rain</th>\n",
              "    </tr>\n",
              "  </thead>\n",
              "  <tbody>\n",
              "    <tr>\n",
              "      <th>0</th>\n",
              "      <td>03/09/14</td>\n",
              "      <td>7:02</td>\n",
              "      <td>20.6</td>\n",
              "      <td>0.0</td>\n",
              "    </tr>\n",
              "    <tr>\n",
              "      <th>1</th>\n",
              "      <td>03/09/14</td>\n",
              "      <td>7:03</td>\n",
              "      <td>20.6</td>\n",
              "      <td>0.0</td>\n",
              "    </tr>\n",
              "    <tr>\n",
              "      <th>2</th>\n",
              "      <td>03/09/14</td>\n",
              "      <td>7:04</td>\n",
              "      <td>20.6</td>\n",
              "      <td>0.0</td>\n",
              "    </tr>\n",
              "    <tr>\n",
              "      <th>3</th>\n",
              "      <td>03/09/14</td>\n",
              "      <td>7:05</td>\n",
              "      <td>20.6</td>\n",
              "      <td>0.0</td>\n",
              "    </tr>\n",
              "    <tr>\n",
              "      <th>4</th>\n",
              "      <td>03/09/14</td>\n",
              "      <td>7:06</td>\n",
              "      <td>20.6</td>\n",
              "      <td>0.0</td>\n",
              "    </tr>\n",
              "  </tbody>\n",
              "</table>\n",
              "</div>"
            ],
            "text/plain": [
              "       Date Unnamed: 1   Hum  Rain\n",
              "0  03/09/14       7:02  20.6   0.0\n",
              "1  03/09/14       7:03  20.6   0.0\n",
              "2  03/09/14       7:04  20.6   0.0\n",
              "3  03/09/14       7:05  20.6   0.0\n",
              "4  03/09/14       7:06  20.6   0.0"
            ]
          },
          "metadata": {
            "tags": []
          },
          "execution_count": 16
        }
      ]
    },
    {
      "cell_type": "code",
      "metadata": {
        "ExecuteTime": {
          "end_time": "2021-02-18T03:41:39.905702Z",
          "start_time": "2021-02-18T03:41:39.804094Z"
        },
        "id": "jySl8NnDXnA0"
      },
      "source": [
        "# arrumando especificidades do arquivo\n",
        "df_OASI['Datetime'] = df_OASI['Date'] + ' ' + df_OASI['Unnamed: 1']\n",
        "del df_OASI['Unnamed: 1']\n",
        "del df_OASI['Date']"
      ],
      "execution_count": 17,
      "outputs": []
    },
    {
      "cell_type": "code",
      "metadata": {
        "ExecuteTime": {
          "end_time": "2021-02-18T03:45:56.291653Z",
          "start_time": "2021-02-18T03:41:41.977717Z"
        },
        "id": "jdWxkffDYDVd",
        "scrolled": true
      },
      "source": [
        "#convertendo a data em um objeto datetime do pandas\n",
        "df_OASI['Datetime'] = pd.to_datetime(df_OASI['Datetime'], format = '%d/%m/%y %H:%M')\n",
        "\n",
        "#convertendo a data em um objeto datetime do astropy\n",
        "df_OASI['Datetime'] = Time(df_OASI['Datetime'], scale = 'utc')"
      ],
      "execution_count": 18,
      "outputs": []
    },
    {
      "cell_type": "code",
      "metadata": {
        "ExecuteTime": {
          "end_time": "2021-02-18T03:46:40.305249Z",
          "start_time": "2021-02-18T03:46:38.797052Z"
        },
        "id": "h0MlnwfAksJM"
      },
      "source": [
        "#transformando valores de umidade em float\n",
        "#df_OASI['Hum'] = df_OASI['Hum'].astype('float64')\n",
        "\n",
        "#pegando apenas os valores de umidade diferentes de '---'\n",
        "df_OASI = df_OASI.loc[(df_OASI['Hum']) != '---', :]\n",
        "\n",
        "#transformando a coluna de humidade em float\n",
        "df_OASI.Hum = df_OASI.Hum.astype('float64')"
      ],
      "execution_count": 19,
      "outputs": []
    },
    {
      "cell_type": "code",
      "metadata": {
        "ExecuteTime": {
          "end_time": "2021-02-18T03:46:43.952199Z",
          "start_time": "2021-02-18T03:46:43.320813Z"
        },
        "colab": {
          "base_uri": "https://localhost:8080/"
        },
        "id": "kEKZvIntSQ-w",
        "outputId": "a6de22f0-d7dd-4a74-9f6d-4d1c5e343268"
      },
      "source": [
        "df_OASI.info()"
      ],
      "execution_count": 20,
      "outputs": [
        {
          "output_type": "stream",
          "text": [
            "<class 'pandas.core.frame.DataFrame'>\n",
            "Int64Index: 191622 entries, 0 to 235639\n",
            "Data columns (total 3 columns):\n",
            " #   Column    Non-Null Count   Dtype  \n",
            "---  ------    --------------   -----  \n",
            " 0   Hum       191622 non-null  float64\n",
            " 1   Rain      191622 non-null  float64\n",
            " 2   Datetime  191622 non-null  object \n",
            "dtypes: float64(2), object(1)\n",
            "memory usage: 5.8+ MB\n"
          ],
          "name": "stdout"
        }
      ]
    },
    {
      "cell_type": "code",
      "metadata": {
        "id": "1jXnK6fyhuMU"
      },
      "source": [
        "df_OASI.to_csv('dados_2014-2018_OASI')"
      ],
      "execution_count": 21,
      "outputs": []
    },
    {
      "cell_type": "markdown",
      "metadata": {
        "id": "T5dahYGFSQ-z"
      },
      "source": [
        "## **TODAS**"
      ]
    },
    {
      "cell_type": "code",
      "metadata": {
        "ExecuteTime": {
          "end_time": "2021-02-18T03:47:36.805100Z",
          "start_time": "2021-02-18T03:47:05.091734Z"
        },
        "id": "UG-prlvFXpni"
      },
      "source": [
        "#filtrando dados por ano -- o método .filter() filtra por indice\n",
        "df_OASI_2014 = df_OASI.set_index('Datetime').filter(like='2014-',axis=0).reset_index()\n",
        "df_OASI_2015 = df_OASI.set_index('Datetime').filter(like='2015-',axis=0).reset_index()\n",
        "df_OASI_2016 = df_OASI.set_index('Datetime').filter(like='2016-',axis=0).reset_index()\n",
        "df_OASI_2017 = df_OASI.set_index('Datetime').filter(like='2017-',axis=0).reset_index()\n",
        "df_OASI_2018 = df_OASI.set_index('Datetime').filter(like='2018-',axis=0).reset_index()"
      ],
      "execution_count": null,
      "outputs": []
    },
    {
      "cell_type": "code",
      "metadata": {
        "ExecuteTime": {
          "end_time": "2021-02-18T03:47:59.537612Z",
          "start_time": "2021-02-18T03:47:59.521162Z"
        },
        "colab": {
          "base_uri": "https://localhost:8080/",
          "height": 424
        },
        "id": "heKy3aeoSQ-w",
        "outputId": "8874fc87-9681-4fc3-fa3c-22f64e7a6457"
      },
      "source": [
        "df_OASI_2014"
      ],
      "execution_count": null,
      "outputs": [
        {
          "output_type": "execute_result",
          "data": {
            "text/html": [
              "<div>\n",
              "<style scoped>\n",
              "    .dataframe tbody tr th:only-of-type {\n",
              "        vertical-align: middle;\n",
              "    }\n",
              "\n",
              "    .dataframe tbody tr th {\n",
              "        vertical-align: top;\n",
              "    }\n",
              "\n",
              "    .dataframe thead th {\n",
              "        text-align: right;\n",
              "    }\n",
              "</style>\n",
              "<table border=\"1\" class=\"dataframe\">\n",
              "  <thead>\n",
              "    <tr style=\"text-align: right;\">\n",
              "      <th></th>\n",
              "      <th>Datetime</th>\n",
              "      <th>Hum</th>\n",
              "      <th>Rain</th>\n",
              "    </tr>\n",
              "  </thead>\n",
              "  <tbody>\n",
              "    <tr>\n",
              "      <th>0</th>\n",
              "      <td>2014-09-03T07:02:00.000000000</td>\n",
              "      <td>20.6</td>\n",
              "      <td>0.0</td>\n",
              "    </tr>\n",
              "    <tr>\n",
              "      <th>1</th>\n",
              "      <td>2014-09-03T07:03:00.000000000</td>\n",
              "      <td>20.6</td>\n",
              "      <td>0.0</td>\n",
              "    </tr>\n",
              "    <tr>\n",
              "      <th>2</th>\n",
              "      <td>2014-09-03T07:04:00.000000000</td>\n",
              "      <td>20.6</td>\n",
              "      <td>0.0</td>\n",
              "    </tr>\n",
              "    <tr>\n",
              "      <th>3</th>\n",
              "      <td>2014-09-03T07:05:00.000000000</td>\n",
              "      <td>20.6</td>\n",
              "      <td>0.0</td>\n",
              "    </tr>\n",
              "    <tr>\n",
              "      <th>4</th>\n",
              "      <td>2014-09-03T07:06:00.000000000</td>\n",
              "      <td>20.6</td>\n",
              "      <td>0.0</td>\n",
              "    </tr>\n",
              "    <tr>\n",
              "      <th>...</th>\n",
              "      <td>...</td>\n",
              "      <td>...</td>\n",
              "      <td>...</td>\n",
              "    </tr>\n",
              "    <tr>\n",
              "      <th>29100</th>\n",
              "      <td>2014-12-17T10:53:00.000000000</td>\n",
              "      <td>18.3</td>\n",
              "      <td>0.0</td>\n",
              "    </tr>\n",
              "    <tr>\n",
              "      <th>29101</th>\n",
              "      <td>2014-12-17T10:54:00.000000000</td>\n",
              "      <td>18.3</td>\n",
              "      <td>0.0</td>\n",
              "    </tr>\n",
              "    <tr>\n",
              "      <th>29102</th>\n",
              "      <td>2014-12-17T10:55:00.000000000</td>\n",
              "      <td>18.3</td>\n",
              "      <td>0.0</td>\n",
              "    </tr>\n",
              "    <tr>\n",
              "      <th>29103</th>\n",
              "      <td>2014-12-17T10:56:00.000000000</td>\n",
              "      <td>18.3</td>\n",
              "      <td>0.0</td>\n",
              "    </tr>\n",
              "    <tr>\n",
              "      <th>29104</th>\n",
              "      <td>2014-12-17T10:57:00.000000000</td>\n",
              "      <td>18.3</td>\n",
              "      <td>0.0</td>\n",
              "    </tr>\n",
              "  </tbody>\n",
              "</table>\n",
              "<p>29105 rows × 3 columns</p>\n",
              "</div>"
            ],
            "text/plain": [
              "                            Datetime   Hum  Rain\n",
              "0      2014-09-03T07:02:00.000000000  20.6   0.0\n",
              "1      2014-09-03T07:03:00.000000000  20.6   0.0\n",
              "2      2014-09-03T07:04:00.000000000  20.6   0.0\n",
              "3      2014-09-03T07:05:00.000000000  20.6   0.0\n",
              "4      2014-09-03T07:06:00.000000000  20.6   0.0\n",
              "...                              ...   ...   ...\n",
              "29100  2014-12-17T10:53:00.000000000  18.3   0.0\n",
              "29101  2014-12-17T10:54:00.000000000  18.3   0.0\n",
              "29102  2014-12-17T10:55:00.000000000  18.3   0.0\n",
              "29103  2014-12-17T10:56:00.000000000  18.3   0.0\n",
              "29104  2014-12-17T10:57:00.000000000  18.3   0.0\n",
              "\n",
              "[29105 rows x 3 columns]"
            ]
          },
          "metadata": {
            "tags": []
          },
          "execution_count": 30
        }
      ]
    },
    {
      "cell_type": "code",
      "metadata": {
        "ExecuteTime": {
          "end_time": "2021-02-17T23:39:49.490381Z",
          "start_time": "2021-02-17T23:37:55.234315Z"
        },
        "id": "tVRqzYb1SQ-x"
      },
      "source": [
        "### criando objeto datetime para cado ano individualmente\n",
        "\n",
        "#Inicio das observaçoes\n",
        "it    = '2014-01-01 00:00:00'\n",
        "#transformando em objeto Time do astropy\n",
        "itime = Time(it, format = 'iso', scale = 'utc' )\n",
        "\n",
        "#inicializando listas vazias\n",
        "dt_2014 = []\n",
        "dt_2015 = []\n",
        "dt_2016 = []\n",
        "dt_2017 = []\n",
        "dt_2018 = []\n",
        "\n",
        "dt_2014 = [ (i - itime)/365 for i in df_OASI_2014['Datetime']]\n",
        "dt_2015 = [ (i - itime)/365 for i in df_OASI_2015['Datetime']]\n",
        "dt_2016 = [ (i - itime)/365 for i in df_OASI_2016['Datetime']]\n",
        "dt_2017 = [ (i - itime)/365 for i in df_OASI_2017['Datetime']]\n",
        "dt_2018 = [ (i - itime)/365 for i in df_OASI_2018['Datetime']]"
      ],
      "execution_count": null,
      "outputs": []
    },
    {
      "cell_type": "code",
      "metadata": {
        "ExecuteTime": {
          "end_time": "2021-02-17T23:42:56.783042Z",
          "start_time": "2021-02-17T23:42:56.669720Z"
        },
        "colab": {
          "base_uri": "https://localhost:8080/"
        },
        "id": "jxDsSfsVSQ-y",
        "outputId": "ff7dcb51-e6d1-4639-fad0-5a9ce2ada119"
      },
      "source": [
        "dt_2014[0]"
      ],
      "execution_count": null,
      "outputs": [
        {
          "output_type": "execute_result",
          "data": {
            "text/plain": [
              "<TimeDelta object: scale='tai' format='jd' value=0.6720357686453577>"
            ]
          },
          "metadata": {
            "tags": []
          },
          "execution_count": 32
        }
      ]
    },
    {
      "cell_type": "code",
      "metadata": {
        "ExecuteTime": {
          "end_time": "2021-02-17T23:43:08.358057Z",
          "start_time": "2021-02-17T23:42:59.470399Z"
        },
        "id": "5m50KrLQSQ-y"
      },
      "source": [
        "#transformando float object para fazer o plot\n",
        "dt_2014 = [dt_2014[i].value for i in range(len(dt_2014))]\n",
        "dt_2015 = [dt_2015[i].value for i in range(len(dt_2015))]\n",
        "dt_2016 = [dt_2016[i].value for i in range(len(dt_2016))]\n",
        "dt_2017 = [dt_2017[i].value for i in range(len(dt_2017))]\n",
        "dt_2018 = [dt_2018[i].value for i in range(len(dt_2018))]"
      ],
      "execution_count": null,
      "outputs": []
    },
    {
      "cell_type": "code",
      "metadata": {
        "ExecuteTime": {
          "end_time": "2021-02-17T23:43:10.503953Z",
          "start_time": "2021-02-17T23:43:10.467405Z"
        },
        "colab": {
          "base_uri": "https://localhost:8080/"
        },
        "id": "9pibqk5bSQ-y",
        "outputId": "c5d22f5c-7bf2-4ab3-b83e-28840bd6cd05"
      },
      "source": [
        "dt_2014[0]"
      ],
      "execution_count": null,
      "outputs": [
        {
          "output_type": "execute_result",
          "data": {
            "text/plain": [
              "0.6720357686453577"
            ]
          },
          "metadata": {
            "tags": []
          },
          "execution_count": 34
        }
      ]
    },
    {
      "cell_type": "code",
      "metadata": {
        "ExecuteTime": {
          "end_time": "2021-02-17T23:48:31.533320Z",
          "start_time": "2021-02-17T23:48:18.841891Z"
        },
        "colab": {
          "base_uri": "https://localhost:8080/",
          "height": 360
        },
        "scrolled": false,
        "id": "_WEIt999SQ-z",
        "outputId": "d61bafe6-0eeb-4cbc-e87f-61277f6a05f5"
      },
      "source": [
        "plt.subplot(121)\n",
        "plt.scatter(dt_2014,df_OASI_2014['Rain'], label = 2014, color = 'navy')\n",
        "plt.scatter(dt_2015,df_OASI_2015['Rain'], label = 2015, color = 'blue')\n",
        "plt.scatter(dt_2016,df_OASI_2016['Rain'], label = 2016, color = 'darkcyan')\n",
        "plt.scatter(dt_2017,df_OASI_2017['Rain'], label = 2017, color = 'darkturquoise')\n",
        "plt.scatter(dt_2018,df_OASI_2018['Rain'], label = 2018, color = 'royalblue')\n",
        "plt.title(r'Precipitação', size = 13)\n",
        "plt.xlabel('Tempo de observação ' + '(início ' + str(df_OASI['Datetime'][0]) + ')' ,size = 13)\n",
        "plt.ylabel('PRECIPITACAO TOTAL (AUT) (mm)',size = 13)\n",
        "plt.xticks(np.arange(0,6),['2014','2015','2016','2017','2018','2019'], rotation = 0, size = 13)\n",
        "plt.yticks(size = 13)\n",
        "plt.xlim(0,5)\n",
        "plt.ylim(bottom = 0)\n",
        "plt.grid(axis = 'x')\n",
        "plt.legend()\n",
        "plt.savefig('precipitacao_2014-2018_OASI.png')\n",
        "\n",
        "plt.subplot(122)\n",
        "plt.scatter(dt_2014,df_OASI_2014['Hum'], label = 2014, color = 'navy')\n",
        "plt.scatter(dt_2015,df_OASI_2015['Hum'], label = 2015, color = 'blue')\n",
        "plt.scatter(dt_2016,df_OASI_2016['Hum'], label = 2016, color = 'darkcyan')\n",
        "plt.scatter(dt_2017,df_OASI_2017['Hum'], label = 2017, color = 'darkturquoise')\n",
        "plt.scatter(dt_2018,df_OASI_2018['Hum'], label = 2018, color = 'royalblue')\n",
        "#plt.gca().set_yticklabels(['{:.0f}%'.format(x) for x in plt.gca().get_yticks()])  #porcentagem\n",
        "plt.title(r'Umidade relativa', size = 13)\n",
        "plt.xlabel('Tempo de observação ' + '(início ' + str(df_OASI['Datetime'][0]) + ')', size = 13)\n",
        "plt.ylabel('UMIDADE RELATIVA DO AR (AUT)', size = 13)\n",
        "plt.xlim(0,5)\n",
        "plt.xticks(np.arange(0,6,1),['2014','2015','2016','2017','2018','2019'], rotation = 0, size = 13)\n",
        "plt.yticks(size  = 13)\n",
        "plt.grid(axis = 'x')\n",
        "plt.legend()\n",
        "\n",
        "plt.suptitle('OASI', size = 17)\n",
        "plt.savefig('umidade_2014-2018_OASI.png')\n",
        "\n",
        "plt.show()"
      ],
      "execution_count": null,
      "outputs": [
        {
          "output_type": "display_data",
          "data": {
            "image/png": "[encoded data removed]",
            "text/plain": [
              "<Figure size 1224x432 with 2 Axes>"
            ]
          },
          "metadata": {
            "tags": [],
            "needs_background": "light"
          }
        }
      ]
    },
    {
      "cell_type": "markdown",
      "metadata": {
        "id": "B4T9efZgSQ-0"
      },
      "source": [
        "## **INDIVIDUAL**"
      ]
    },
    {
      "cell_type": "markdown",
      "metadata": {
        "id": "_ZgcxOAMvTtG"
      },
      "source": [
        "### **2014**"
      ]
    },
    {
      "cell_type": "code",
      "metadata": {
        "ExecuteTime": {
          "end_time": "2021-02-17T23:49:29.608868Z",
          "start_time": "2021-02-17T23:49:29.562283Z"
        },
        "id": "73FG8hxVw6lQ"
      },
      "source": [
        "#tempos para plotar apenas o ano de 2014\n",
        "dt_2014 = [dt_2014[i]*365/30 for i in range(len(dt_2014))]"
      ],
      "execution_count": null,
      "outputs": []
    },
    {
      "cell_type": "code",
      "metadata": {
        "ExecuteTime": {
          "end_time": "2021-02-18T00:10:07.217463Z",
          "start_time": "2021-02-18T00:10:02.461341Z"
        },
        "colab": {
          "base_uri": "https://localhost:8080/",
          "height": 431
        },
        "id": "6iTl8czNvEbH",
        "outputId": "f32a45e8-8f65-4102-b04a-a4bc56db50bb"
      },
      "source": [
        "plt.subplot(121)\n",
        "plt.scatter(dt_2014,df_OASI_2014['Rain'], label = '2014', color = 'navy')\n",
        "plt.xlabel('Tempo de observação ' + '(início ' + str(df_OASI_2014['Datetime'][0]) + ')', size = 13)\n",
        "plt.ylabel('PRECIPITACAO TOTAL (AUT) (mm)',size=13)\n",
        "plt.ylim(bottom = 0, top = 120)\n",
        "plt.xlim(-1,11)\n",
        "plt.xticks(np.arange(-1,11),('Jan','Fev','Mar','Abr','Mai','Jun','Jul','Ago','Set','Out','Nov','Dez'), rotation = 0, size = 13)\n",
        "plt.yticks(size = 13)\n",
        "plt.grid(axis = 'x')\n",
        "plt.legend()\n",
        "plt.savefig('precipitacao_OASI-2014.png')\n",
        "\n",
        "plt.subplot(122)\n",
        "plt.scatter(dt_2014,df_OASI_2014['Hum'], label = '2014', color = 'navy')\n",
        "plt.xlabel('Tempo de observação ' + '(início ' + str(df_OASI_2014['Datetime'][0]) + ')',size = 13)\n",
        "plt.ylabel('UMIDADE',size=13)\n",
        "#plt.ylim(bottom = 0, top = 120)\n",
        "plt.xlim(-1,11)\n",
        "plt.xticks(np.arange(-1,11),('Jan','Fev','Mar','Abr','Mai','Jun','Jul','Ago','Set','Out','Nov','Dez'), rotation = 0, size = 13)\n",
        "plt.grid(axis = 'x')\n",
        "plt.legend()\n",
        "\n",
        "plt.suptitle('OASI - 2014', size = 17)\n",
        "plt.savefig('umidade_OASI-2014.png')\n",
        "\n",
        "\n",
        "plt.savefig('OASI-2014.png')\n",
        "plt.show"
      ],
      "execution_count": null,
      "outputs": [
        {
          "output_type": "execute_result",
          "data": {
            "text/plain": [
              "<function matplotlib.pyplot.show(close=None, block=None)>"
            ]
          },
          "metadata": {
            "tags": []
          },
          "execution_count": 271
        },
        {
          "output_type": "display_data",
          "data": {
            "image/png": "[encoded data removed]",
            "text/plain": [
              "<Figure size 1224x432 with 2 Axes>"
            ]
          },
          "metadata": {
            "tags": [],
            "needs_background": "light"
          }
        }
      ]
    },
    {
      "cell_type": "code",
      "metadata": {
        "ExecuteTime": {
          "end_time": "2021-02-17T23:55:54.306773Z",
          "start_time": "2021-02-17T23:50:17.171938Z"
        },
        "id": "a06gRym19UfB"
      },
      "source": [
        "#inicializando listas\n",
        "dt_2015 = []\n",
        "dt_2016 = []\n",
        "dt_2017 = []\n",
        "dt_2018 = []\n",
        "\n",
        "#Inicio das observaçoes\n",
        "it = '2015-01-01 00:00:00'\n",
        "itime = Time(it, format = 'iso', scale = 'utc' )\n",
        "dt_2015 = [ (i - itime)/30 for i in df_OASI_2015['Datetime']]\n",
        "\n",
        "#Inicio das observaçoes\n",
        "it = '2016-01-01 00:00:00'\n",
        "itime = Time(it, format = 'iso', scale = 'utc' )\n",
        "dt_2016 = [ (i - itime)/30 for i in df_OASI_2016['Datetime']]\n",
        "\n",
        "#Inicio das observaçoes\n",
        "it = '2017-01-01 00:00:00'\n",
        "itime = Time(it, format = 'iso', scale = 'utc' )\n",
        "dt_2017 = [ (i - itime)/30 for i in df_OASI_2017['Datetime']]\n",
        "\n",
        "#Inicio das observaçoes\n",
        "it = '2018-01-01 00:00:00'\n",
        "itime = Time(it, format = 'iso', scale = 'utc' )\n",
        "dt_2018 = [ (i - itime)/30 for i in df_OASI_2018['Datetime']]\n",
        "\n",
        "\n",
        "dt_2015 = [dt_2015[i].value for i in range(len(dt_2015))]\n",
        "dt_2016 = [dt_2016[i].value for i in range(len(dt_2016))]\n",
        "dt_2017 = [dt_2017[i].value for i in range(len(dt_2017))]\n",
        "dt_2018 = [dt_2018[i].value for i in range(len(dt_2018))]"
      ],
      "execution_count": null,
      "outputs": []
    },
    {
      "cell_type": "markdown",
      "metadata": {
        "id": "3CYpSvC9jS0x"
      },
      "source": [
        "### **2015**"
      ]
    },
    {
      "cell_type": "code",
      "metadata": {
        "ExecuteTime": {
          "end_time": "2021-02-18T00:11:02.310297Z",
          "start_time": "2021-02-18T00:10:57.400965Z"
        },
        "colab": {
          "base_uri": "https://localhost:8080/",
          "height": 431
        },
        "id": "KM5AKNDPjS1P",
        "outputId": "1817239c-a518-4b86-b28f-736074e454f4"
      },
      "source": [
        "plt.subplot(121)\n",
        "plt.scatter(dt_2015,df_OASI_2015['Rain'], label = '2015', color = 'blue')\n",
        "plt.xlabel('Tempo de observação ' + '(início ' + str(df_OASI_2015['Datetime'][0]) + ')',size = 13)\n",
        "plt.ylabel('PRECIPITACAO TOTAL (AUT) (mm)',size=13)\n",
        "plt.ylim(bottom = 0, top = 5)\n",
        "plt.xlim(-1,11)\n",
        "plt.xticks(np.arange(-1,11),('Jan','Fev','Mar','Abr','Mai','Jun','Jul','Ago','Set','Out','Nov','Dez'), rotation = 0, size = 13)\n",
        "plt.yticks(size = 13)\n",
        "plt.grid(axis = 'x')\n",
        "plt.legend()\n",
        "plt.savefig('precipitacao_OASI-2015.png')\n",
        "\n",
        "\n",
        "plt.subplot(122)\n",
        "plt.scatter(dt_2015,df_OASI_2015['Hum'], label = '2015', color = 'blue')\n",
        "plt.xlabel('Tempo de observação ' + '(início ' + str(df_OASI_2015['Datetime'][0]) + ')',size = 13)\n",
        "plt.ylabel('UMIDADE',size = 13)\n",
        "#plt.ylim(bottom = 0, top = 120)\n",
        "plt.xlim(-1,11)\n",
        "plt.xticks(np.arange(-1,11),('Jan','Fev','Mar','Abr','Mai','Jun','Jul','Ago','Set','Out','Nov','Dez'), rotation = 0, size = 13)\n",
        "plt.yticks(size = 13)\n",
        "plt.grid(axis = 'x')\n",
        "plt.legend()\n",
        "\n",
        "\n",
        "plt.suptitle('OASI', size = 17)\n",
        "plt.savefig('umidade_OASI-2015.png')\n",
        "\n",
        "plt.savefig('OASI-2015.png')\n",
        "plt.show"
      ],
      "execution_count": null,
      "outputs": [
        {
          "output_type": "execute_result",
          "data": {
            "text/plain": [
              "<function matplotlib.pyplot.show(close=None, block=None)>"
            ]
          },
          "metadata": {
            "tags": []
          },
          "execution_count": 272
        },
        {
          "output_type": "display_data",
          "data": {
            "image/png": "[encoded data removed]",
            "text/plain": [
              "<Figure size 1224x432 with 2 Axes>"
            ]
          },
          "metadata": {
            "tags": [],
            "needs_background": "light"
          }
        }
      ]
    },
    {
      "cell_type": "markdown",
      "metadata": {
        "id": "pdvDoqqxjSqB"
      },
      "source": [
        "### **2016**"
      ]
    },
    {
      "cell_type": "code",
      "metadata": {
        "ExecuteTime": {
          "end_time": "2021-02-18T00:11:12.326795Z",
          "start_time": "2021-02-18T00:11:09.481405Z"
        },
        "colab": {
          "base_uri": "https://localhost:8080/",
          "height": 432
        },
        "id": "Eypf5dfWjSq5",
        "outputId": "ec7465df-3017-4b1b-f76c-a5c67ea70f12"
      },
      "source": [
        "plt.subplot(121)\n",
        "plt.scatter(dt_2016,df_OASI_2016['Rain'], label = '2016', color = 'darkcyan')\n",
        "plt.xlabel('Tempo de observação ' + '(início ' + str(df_OASI_2016['Datetime'][0]) + ')',size = 13)\n",
        "plt.ylabel('PRECIPITACAO TOTAL (AUT) (mm)',size=13)\n",
        "plt.ylim(0)\n",
        "plt.xlim(-1,11)\n",
        "plt.xticks(np.arange(-1,11),('Jan','Fev','Mar','Abr','Mai','Jun','Jul','Ago','Set','Out','Nov','Dez'), rotation = 0, size = 13)\n",
        "plt.yticks(size = 13)\n",
        "plt.grid(axis = 'x')\n",
        "plt.legend()\n",
        "plt.savefig('precipitacao_OASI-2016.png')\n",
        "\n",
        "\n",
        "plt.subplot(122)\n",
        "plt.scatter(dt_2016,df_OASI_2016['Hum'], label = '2016', color = 'darkcyan')\n",
        "plt.xlabel('Tempo de observação ' + '(início ' + str(df_OASI_2016['Datetime'][0]) + ')',size = 13)\n",
        "plt.ylabel('UMIDADE',size=13)\n",
        "#plt.ylim(bottom = 0, top = 120)\n",
        "plt.xlim(-1,11)\n",
        "plt.xticks(np.arange(-1,11),('Jan','Fev','Mar','Abr','Mai','Jun','Jul','Ago','Set','Out','Nov','Dez'), rotation = 0, size = 13)\n",
        "plt.yticks(size = 13)\n",
        "plt.grid(axis = 'x')\n",
        "plt.legend()\n",
        "plt.savefig('umidade_OASI-2016.png')\n",
        "\n",
        "plt.suptitle('OASI - 2016', size = 17)\n",
        "\n",
        "plt.savefig('OASI-2016.png')\n",
        "plt.show"
      ],
      "execution_count": null,
      "outputs": [
        {
          "output_type": "execute_result",
          "data": {
            "text/plain": [
              "<function matplotlib.pyplot.show(close=None, block=None)>"
            ]
          },
          "metadata": {
            "tags": []
          },
          "execution_count": 273
        },
        {
          "output_type": "display_data",
          "data": {
            "image/png": "[encoded data removed]",
            "text/plain": [
              "<Figure size 1224x432 with 2 Axes>"
            ]
          },
          "metadata": {
            "tags": [],
            "needs_background": "light"
          }
        }
      ]
    },
    {
      "cell_type": "markdown",
      "metadata": {
        "id": "8uyYAE41jVAL"
      },
      "source": [
        "### **2017**"
      ]
    },
    {
      "cell_type": "code",
      "metadata": {
        "ExecuteTime": {
          "end_time": "2021-02-18T00:11:21.799962Z",
          "start_time": "2021-02-18T00:11:19.544283Z"
        },
        "colab": {
          "base_uri": "https://localhost:8080/",
          "height": 431
        },
        "id": "hSgt7aRpjVBX",
        "outputId": "a00f3dd0-a44f-4601-b98c-38c37f52b5dc"
      },
      "source": [
        "plt.subplot(121)\n",
        "plt.scatter(dt_2017,df_OASI_2017['Rain'], label = '2017', color = 'darkturquoise')\n",
        "plt.xlabel('Tempo de observação ' + '(início ' + str(df_OASI_2017['Datetime'][0]) + ')', size = 13)\n",
        "plt.ylabel('PRECIPITACAO TOTAL (AUT) (mm)',size=13)\n",
        "plt.ylim(bottom = 0, top = 1)\n",
        "plt.xlim(-1,11)\n",
        "plt.xticks(np.arange(-1,11),('Jan','Fev','Mar','Abr','Mai','Jun','Jul','Ago','Set','Out','Nov','Dez'), rotation = 0, size = 13)\n",
        "plt.yticks(size = 13)\n",
        "plt.grid(axis = 'x')\n",
        "plt.legend()\n",
        "plt.savefig('precipitacao_OASI-2017.png')\n",
        "\n",
        "\n",
        "plt.subplot(122)\n",
        "plt.scatter(dt_2017,df_OASI_2017['Hum'], label = '2017', color = 'darkturquoise')\n",
        "plt.xlabel('Tempo de observação ' + '(início ' + str(df_OASI_2017['Datetime'][0]) + ')',size = 13)\n",
        "plt.ylabel('UMIDADE',size=13)\n",
        "#plt.ylim(bottom = 0, top = 120)\n",
        "plt.xlim(-1,11)\n",
        "plt.xticks(np.arange(-1,11),('Jan','Fev','Mar','Abr','Mai','Jun','Jul','Ago','Set','Out','Nov','Dez'), rotation = 0, size = 13)\n",
        "plt.yticks(size = 13)\n",
        "plt.grid(axis = 'x')lecyccs@hotmail.com\n",
        "plt.legend()\n",
        "plt.savefig('umidade_OASI-2017.png')\n",
        "\n",
        "\n",
        "plt.suptitle('OASI - 2017', size = 17)\n",
        "\n",
        "plt.savefig('OASI-2017.png')\n",
        "plt.show"
      ],
      "execution_count": null,
      "outputs": [
        {
          "output_type": "execute_result",
          "data": {
            "text/plain": [
              "<function matplotlib.pyplot.show(close=None, block=None)>"
            ]
          },
          "metadata": {
            "tags": []
          },
          "execution_count": 274
        },
        {
          "output_type": "display_data",
          "data": {
            "image/png": "[encoded data removed]",
            "text/plain": [
              "<Figure size 1224x432 with 2 Axes>"
            ]
          },
          "metadata": {
            "tags": [],
            "needs_background": "light"
          }
        }
      ]
    },
    {
      "cell_type": "markdown",
      "metadata": {
        "id": "Xf6voc-1jVmD"
      },
      "source": [
        "### **2018**"
      ]
    },
    {
      "cell_type": "code",
      "metadata": {
        "ExecuteTime": {
          "end_time": "2021-02-18T00:11:40.431446Z",
          "start_time": "2021-02-18T00:11:33.124344Z"
        },
        "colab": {
          "base_uri": "https://localhost:8080/",
          "height": 431
        },
        "id": "bJqOYKXD2vfV",
        "outputId": "15408428-ac3f-496b-d407-4999bb367705"
      },
      "source": [
        "plt.subplot(121)\n",
        "plt.scatter(dt_2018,df_OASI_2018['Hum'], label = '2018', color = 'royalblue')\n",
        "plt.xlabel('Tempo de observação ' + '(início ' + str(df_OASI_2018['Datetime'][0]) + ')',size = 13)\n",
        "plt.ylabel('UMIDADE',size=13)\n",
        "#plt.ylim(bottom = 0, top = 120)\n",
        "plt.xlim(-1,11)\n",
        "plt.xticks(np.arange(-1,11),('Jan','Fev','Mar','Abr','Mai','Jun','Jul','Ago','Set','Out','Nov','Dez'), rotation = 0, size = 13)\n",
        "plt.yticks(size = 13)\n",
        "plt.grid(axis = 'x')\n",
        "plt.legend()\n",
        "plt.savefig('umidade_OASI-2018.png')\n",
        "\n",
        "plt.subplot(122)\n",
        "plt.scatter(dt_2018,df_OASI_2018['Rain'], label = '2018', color = 'royalblue')\n",
        "plt.xlabel('Tempo de observação ' + '(início ' + str(df_OASI_2018['Datetime'][0]) + ')',size = 13)\n",
        "plt.ylabel('PRECIPITACAO TOTAL (AUT) (mm)',size=13)\n",
        "plt.ylim(bottom = 0, top = 30)\n",
        "plt.xlim(-1,11)\n",
        "plt.xticks(np.arange(-1,11),('Jan','Fev','Mar','Abr','Mai','Jun','Jul','Ago','Set','Out','Nov','Dez'), rotation = 0, size = 13)\n",
        "plt.yticks(size = 13)\n",
        "plt.grid(axis = 'x')\n",
        "plt.legend()\n",
        "plt.savefig('precipitacao_OASI-2018.png')\n",
        "\n",
        "plt.suptitle('OASI - 2018', size = 17)\n",
        "\n",
        "plt.savefig('OASI-2018.png')\n",
        "plt.show"
      ],
      "execution_count": null,
      "outputs": [
        {
          "output_type": "execute_result",
          "data": {
            "text/plain": [
              "<function matplotlib.pyplot.show(close=None, block=None)>"
            ]
          },
          "metadata": {
            "tags": []
          },
          "execution_count": 275
        },
        {
          "output_type": "display_data",
          "data": {
            "image/png": "[encoded data removed]",
            "text/plain": [
              "<Figure size 1224x432 with 2 Axes>"
            ]
          },
          "metadata": {
            "tags": [],
            "needs_background": "light"
          }
        }
      ]
    },
    {
      "cell_type": "markdown",
      "metadata": {
        "id": "kMrw6mG82vex"
      },
      "source": [
        "## **MÉDIA DIÁRIA**"
      ]
    },
    {
      "cell_type": "code",
      "metadata": {
        "ExecuteTime": {
          "end_time": "2021-02-18T03:49:27.357908Z",
          "start_time": "2021-02-18T03:49:27.334619Z"
        },
        "colab": {
          "base_uri": "https://localhost:8080/",
          "height": 206
        },
        "id": "-g3qA31DDpZL",
        "outputId": "4cf7ed83-e6ee-40d2-c012-e63670eef2c2"
      },
      "source": [
        "df_OASI.head()"
      ],
      "execution_count": 23,
      "outputs": [
        {
          "output_type": "execute_result",
          "data": {
            "text/html": [
              "<div>\n",
              "<style scoped>\n",
              "    .dataframe tbody tr th:only-of-type {\n",
              "        vertical-align: middle;\n",
              "    }\n",
              "\n",
              "    .dataframe tbody tr th {\n",
              "        vertical-align: top;\n",
              "    }\n",
              "\n",
              "    .dataframe thead th {\n",
              "        text-align: right;\n",
              "    }\n",
              "</style>\n",
              "<table border=\"1\" class=\"dataframe\">\n",
              "  <thead>\n",
              "    <tr style=\"text-align: right;\">\n",
              "      <th></th>\n",
              "      <th>Hum</th>\n",
              "      <th>Rain</th>\n",
              "      <th>Datetime</th>\n",
              "    </tr>\n",
              "  </thead>\n",
              "  <tbody>\n",
              "    <tr>\n",
              "      <th>0</th>\n",
              "      <td>20.6</td>\n",
              "      <td>0.0</td>\n",
              "      <td>2014-09-03T07:02:00.000000000</td>\n",
              "    </tr>\n",
              "    <tr>\n",
              "      <th>1</th>\n",
              "      <td>20.6</td>\n",
              "      <td>0.0</td>\n",
              "      <td>2014-09-03T07:03:00.000000000</td>\n",
              "    </tr>\n",
              "    <tr>\n",
              "      <th>2</th>\n",
              "      <td>20.6</td>\n",
              "      <td>0.0</td>\n",
              "      <td>2014-09-03T07:04:00.000000000</td>\n",
              "    </tr>\n",
              "    <tr>\n",
              "      <th>3</th>\n",
              "      <td>20.6</td>\n",
              "      <td>0.0</td>\n",
              "      <td>2014-09-03T07:05:00.000000000</td>\n",
              "    </tr>\n",
              "    <tr>\n",
              "      <th>4</th>\n",
              "      <td>20.6</td>\n",
              "      <td>0.0</td>\n",
              "      <td>2014-09-03T07:06:00.000000000</td>\n",
              "    </tr>\n",
              "  </tbody>\n",
              "</table>\n",
              "</div>"
            ],
            "text/plain": [
              "    Hum  Rain                       Datetime\n",
              "0  20.6   0.0  2014-09-03T07:02:00.000000000\n",
              "1  20.6   0.0  2014-09-03T07:03:00.000000000\n",
              "2  20.6   0.0  2014-09-03T07:04:00.000000000\n",
              "3  20.6   0.0  2014-09-03T07:05:00.000000000\n",
              "4  20.6   0.0  2014-09-03T07:06:00.000000000"
            ]
          },
          "metadata": {
            "tags": []
          },
          "execution_count": 23
        }
      ]
    },
    {
      "cell_type": "code",
      "metadata": {
        "ExecuteTime": {
          "end_time": "2021-02-18T03:49:57.868407Z",
          "start_time": "2021-02-18T03:49:57.736950Z"
        },
        "colab": {
          "base_uri": "https://localhost:8080/"
        },
        "id": "RDHGEBB0SQ-9",
        "outputId": "e6793b0c-b53c-4e4e-cfe9-696652efda34"
      },
      "source": [
        "df_OASI['Datetime'][0]"
      ],
      "execution_count": 24,
      "outputs": [
        {
          "output_type": "execute_result",
          "data": {
            "text/plain": [
              "<Time object: scale='utc' format='datetime64' value=2014-09-03T07:02:00.000000000>"
            ]
          },
          "metadata": {
            "tags": []
          },
          "execution_count": 24
        }
      ]
    },
    {
      "cell_type": "code",
      "metadata": {
        "ExecuteTime": {
          "end_time": "2021-02-18T05:58:11.918885Z",
          "start_time": "2021-02-18T05:58:00.742191Z"
        },
        "colab": {
          "base_uri": "https://localhost:8080/"
        },
        "id": "B7aaDw5d2vfG",
        "outputId": "d8616c75-7c59-4d59-ea99-c4aac33494a3"
      },
      "source": [
        "#df_OASI['Datetime'] = pd.to_datetime(df_OASI['Datetime'], utc = True) \n",
        "\n",
        "df_OASI['Datetime'] = pd.to_datetime(df_OASI['Datetime'].astype(str))\n",
        "df_OASI.info()"
      ],
      "execution_count": 25,
      "outputs": [
        {
          "output_type": "stream",
          "text": [
            "<class 'pandas.core.frame.DataFrame'>\n",
            "Int64Index: 191622 entries, 0 to 235639\n",
            "Data columns (total 3 columns):\n",
            " #   Column    Non-Null Count   Dtype         \n",
            "---  ------    --------------   -----         \n",
            " 0   Hum       191622 non-null  float64       \n",
            " 1   Rain      191622 non-null  float64       \n",
            " 2   Datetime  191622 non-null  datetime64[ns]\n",
            "dtypes: datetime64[ns](1), float64(2)\n",
            "memory usage: 10.8 MB\n"
          ],
          "name": "stdout"
        }
      ]
    },
    {
      "cell_type": "code",
      "metadata": {
        "ExecuteTime": {
          "end_time": "2021-02-18T05:58:20.027828Z",
          "start_time": "2021-02-18T05:58:18.027549Z"
        },
        "colab": {
          "base_uri": "https://localhost:8080/",
          "height": 237
        },
        "id": "ezNQEoWa2vfK",
        "outputId": "d1c2be5f-c156-4797-9fd7-523a0467e518"
      },
      "source": [
        "#media anual\n",
        "dados_ano = df_OASI[['Hum','Rain']].groupby(by = df_OASI.Datetime.dt.year).mean()\n",
        "dados_ano"
      ],
      "execution_count": 26,
      "outputs": [
        {
          "output_type": "execute_result",
          "data": {
            "text/html": [
              "<div>\n",
              "<style scoped>\n",
              "    .dataframe tbody tr th:only-of-type {\n",
              "        vertical-align: middle;\n",
              "    }\n",
              "\n",
              "    .dataframe tbody tr th {\n",
              "        vertical-align: top;\n",
              "    }\n",
              "\n",
              "    .dataframe thead th {\n",
              "        text-align: right;\n",
              "    }\n",
              "</style>\n",
              "<table border=\"1\" class=\"dataframe\">\n",
              "  <thead>\n",
              "    <tr style=\"text-align: right;\">\n",
              "      <th></th>\n",
              "      <th>Hum</th>\n",
              "      <th>Rain</th>\n",
              "    </tr>\n",
              "    <tr>\n",
              "      <th>Datetime</th>\n",
              "      <th></th>\n",
              "      <th></th>\n",
              "    </tr>\n",
              "  </thead>\n",
              "  <tbody>\n",
              "    <tr>\n",
              "      <th>2014</th>\n",
              "      <td>18.335265</td>\n",
              "      <td>0.092098</td>\n",
              "    </tr>\n",
              "    <tr>\n",
              "      <th>2015</th>\n",
              "      <td>18.662533</td>\n",
              "      <td>0.002265</td>\n",
              "    </tr>\n",
              "    <tr>\n",
              "      <th>2016</th>\n",
              "      <td>18.361734</td>\n",
              "      <td>0.000000</td>\n",
              "    </tr>\n",
              "    <tr>\n",
              "      <th>2017</th>\n",
              "      <td>18.930721</td>\n",
              "      <td>0.000000</td>\n",
              "    </tr>\n",
              "    <tr>\n",
              "      <th>2018</th>\n",
              "      <td>19.552497</td>\n",
              "      <td>0.033323</td>\n",
              "    </tr>\n",
              "  </tbody>\n",
              "</table>\n",
              "</div>"
            ],
            "text/plain": [
              "                Hum      Rain\n",
              "Datetime                     \n",
              "2014      18.335265  0.092098\n",
              "2015      18.662533  0.002265\n",
              "2016      18.361734  0.000000\n",
              "2017      18.930721  0.000000\n",
              "2018      19.552497  0.033323"
            ]
          },
          "metadata": {
            "tags": []
          },
          "execution_count": 26
        }
      ]
    },
    {
      "cell_type": "code",
      "metadata": {
        "ExecuteTime": {
          "end_time": "2021-02-18T05:58:31.948530Z",
          "start_time": "2021-02-18T05:58:31.497516Z"
        },
        "colab": {
          "base_uri": "https://localhost:8080/",
          "height": 237
        },
        "id": "hKhcxHbb2vfM",
        "outputId": "1dab3874-17c0-4dcf-c81d-f6c42d88a9ac"
      },
      "source": [
        "#media diaria\n",
        "dados_dia = df_OASI.groupby(by = df_OASI.Datetime.dt.date).mean()\n",
        "dados_dia.head()"
      ],
      "execution_count": 28,
      "outputs": [
        {
          "output_type": "execute_result",
          "data": {
            "text/html": [
              "<div>\n",
              "<style scoped>\n",
              "    .dataframe tbody tr th:only-of-type {\n",
              "        vertical-align: middle;\n",
              "    }\n",
              "\n",
              "    .dataframe tbody tr th {\n",
              "        vertical-align: top;\n",
              "    }\n",
              "\n",
              "    .dataframe thead th {\n",
              "        text-align: right;\n",
              "    }\n",
              "</style>\n",
              "<table border=\"1\" class=\"dataframe\">\n",
              "  <thead>\n",
              "    <tr style=\"text-align: right;\">\n",
              "      <th></th>\n",
              "      <th>Hum</th>\n",
              "      <th>Rain</th>\n",
              "    </tr>\n",
              "    <tr>\n",
              "      <th>Datetime</th>\n",
              "      <th></th>\n",
              "      <th></th>\n",
              "    </tr>\n",
              "  </thead>\n",
              "  <tbody>\n",
              "    <tr>\n",
              "      <th>2014-09-03</th>\n",
              "      <td>19.632025</td>\n",
              "      <td>0.0</td>\n",
              "    </tr>\n",
              "    <tr>\n",
              "      <th>2014-09-04</th>\n",
              "      <td>18.822053</td>\n",
              "      <td>0.0</td>\n",
              "    </tr>\n",
              "    <tr>\n",
              "      <th>2014-09-05</th>\n",
              "      <td>17.611506</td>\n",
              "      <td>0.0</td>\n",
              "    </tr>\n",
              "    <tr>\n",
              "      <th>2014-09-06</th>\n",
              "      <td>17.684167</td>\n",
              "      <td>0.0</td>\n",
              "    </tr>\n",
              "    <tr>\n",
              "      <th>2014-09-07</th>\n",
              "      <td>17.304258</td>\n",
              "      <td>0.0</td>\n",
              "    </tr>\n",
              "  </tbody>\n",
              "</table>\n",
              "</div>"
            ],
            "text/plain": [
              "                  Hum  Rain\n",
              "Datetime                   \n",
              "2014-09-03  19.632025   0.0\n",
              "2014-09-04  18.822053   0.0\n",
              "2014-09-05  17.611506   0.0\n",
              "2014-09-06  17.684167   0.0\n",
              "2014-09-07  17.304258   0.0"
            ]
          },
          "metadata": {
            "tags": []
          },
          "execution_count": 28
        }
      ]
    },
    {
      "cell_type": "code",
      "metadata": {
        "id": "WkafvN8Or7SZ"
      },
      "source": [
        "dados_dia.to_csv('dados_media-diaria_OASI')"
      ],
      "execution_count": 29,
      "outputs": []
    },
    {
      "cell_type": "code",
      "metadata": {
        "ExecuteTime": {
          "end_time": "2021-02-18T07:27:56.292584Z",
          "start_time": "2021-02-18T07:27:55.593129Z"
        },
        "colab": {
          "base_uri": "https://localhost:8080/",
          "height": 459
        },
        "id": "MvyODxxBSQ_M",
        "outputId": "4c83efb0-43b6-4664-a62f-4528dcf79f86"
      },
      "source": [
        "plt.subplot(121)\n",
        "plt.scatter(dados_dia.index.values,dados_dia['Rain'])\n",
        "plt.yticks(size = 13)\n",
        "plt.xticks(rotation = 25, size = 13)\n",
        "plt.ylim(0,1.0)\n",
        "plt.ylabel('PRECIPITACAO TOTAL (AUT) (mm)', size = 13)\n",
        "plt.xlabel('Tempo de observação' + ' (Início ' + str(df_OASI['Datetime'][0]) + ')', size = 13)\n",
        "\n",
        "\n",
        "plt.subplot(122)\n",
        "plt.yticks(size = 13)\n",
        "plt.scatter(dados_dia.index, dados_dia['Hum'])\n",
        "plt.xticks(rotation = 25, size = 13)\n",
        "plt.ylabel('UMIDADE RELATIVA TOTAL (AUT) %', size = 13)\n",
        "plt.xlabel('Tempo de observação' + ' (Início ' + str(df_OASI['Datetime'][0]) + ')', size = 13)\n",
        "\n",
        "\n",
        "plt.suptitle('OASI - Média diária', size = 17)\n",
        "plt.show()"
      ],
      "execution_count": 30,
      "outputs": [
        {
          "output_type": "display_data",
          "data": {
            "image/png": "[encoded data removed]",
            "text/plain": [
              "<Figure size 1224x432 with 2 Axes>"
            ]
          },
          "metadata": {
            "tags": [],
            "needs_background": "light"
          }
        }
      ]
    },
    {
      "cell_type": "code",
      "metadata": {
        "colab": {
          "base_uri": "https://localhost:8080/",
          "height": 206
        },
        "id": "yYx7AW4t6sO-",
        "outputId": "49b8d3d7-a2cb-4cc4-cae1-a3c0c045a428"
      },
      "source": [
        "df.head()"
      ],
      "execution_count": 31,
      "outputs": [
        {
          "output_type": "execute_result",
          "data": {
            "text/html": [
              "<div>\n",
              "<style scoped>\n",
              "    .dataframe tbody tr th:only-of-type {\n",
              "        vertical-align: middle;\n",
              "    }\n",
              "\n",
              "    .dataframe tbody tr th {\n",
              "        vertical-align: top;\n",
              "    }\n",
              "\n",
              "    .dataframe thead th {\n",
              "        text-align: right;\n",
              "    }\n",
              "</style>\n",
              "<table border=\"1\" class=\"dataframe\">\n",
              "  <thead>\n",
              "    <tr style=\"text-align: right;\">\n",
              "      <th></th>\n",
              "      <th>Date</th>\n",
              "      <th>Rain</th>\n",
              "      <th>Hum</th>\n",
              "    </tr>\n",
              "  </thead>\n",
              "  <tbody>\n",
              "    <tr>\n",
              "      <th>0</th>\n",
              "      <td>2011-01-01</td>\n",
              "      <td>0.0</td>\n",
              "      <td>47.666667</td>\n",
              "    </tr>\n",
              "    <tr>\n",
              "      <th>1</th>\n",
              "      <td>2011-01-02</td>\n",
              "      <td>0.0</td>\n",
              "      <td>52.750000</td>\n",
              "    </tr>\n",
              "    <tr>\n",
              "      <th>2</th>\n",
              "      <td>2011-01-03</td>\n",
              "      <td>11.0</td>\n",
              "      <td>68.833333</td>\n",
              "    </tr>\n",
              "    <tr>\n",
              "      <th>3</th>\n",
              "      <td>2011-01-04</td>\n",
              "      <td>0.0</td>\n",
              "      <td>58.166667</td>\n",
              "    </tr>\n",
              "    <tr>\n",
              "      <th>4</th>\n",
              "      <td>2011-01-05</td>\n",
              "      <td>0.0</td>\n",
              "      <td>51.750000</td>\n",
              "    </tr>\n",
              "  </tbody>\n",
              "</table>\n",
              "</div>"
            ],
            "text/plain": [
              "        Date  Rain        Hum\n",
              "0 2011-01-01   0.0  47.666667\n",
              "1 2011-01-02   0.0  52.750000\n",
              "2 2011-01-03  11.0  68.833333\n",
              "3 2011-01-04   0.0  58.166667\n",
              "4 2011-01-05   0.0  51.750000"
            ]
          },
          "metadata": {
            "tags": []
          },
          "execution_count": 31
        }
      ]
    },
    {
      "cell_type": "code",
      "metadata": {
        "id": "Jv_DAjku8bVg",
        "colab": {
          "base_uri": "https://localhost:8080/",
          "height": 206
        },
        "outputId": "a9c8657d-3dae-4adf-eceb-4ff661f01465"
      },
      "source": [
        "df.columns = ['Datetime', 'Rain (Floresta)', 'Hum (Floresta)']\n",
        "df.head()"
      ],
      "execution_count": 32,
      "outputs": [
        {
          "output_type": "execute_result",
          "data": {
            "text/html": [
              "<div>\n",
              "<style scoped>\n",
              "    .dataframe tbody tr th:only-of-type {\n",
              "        vertical-align: middle;\n",
              "    }\n",
              "\n",
              "    .dataframe tbody tr th {\n",
              "        vertical-align: top;\n",
              "    }\n",
              "\n",
              "    .dataframe thead th {\n",
              "        text-align: right;\n",
              "    }\n",
              "</style>\n",
              "<table border=\"1\" class=\"dataframe\">\n",
              "  <thead>\n",
              "    <tr style=\"text-align: right;\">\n",
              "      <th></th>\n",
              "      <th>Datetime</th>\n",
              "      <th>Rain (Floresta)</th>\n",
              "      <th>Hum (Floresta)</th>\n",
              "    </tr>\n",
              "  </thead>\n",
              "  <tbody>\n",
              "    <tr>\n",
              "      <th>0</th>\n",
              "      <td>2011-01-01</td>\n",
              "      <td>0.0</td>\n",
              "      <td>47.666667</td>\n",
              "    </tr>\n",
              "    <tr>\n",
              "      <th>1</th>\n",
              "      <td>2011-01-02</td>\n",
              "      <td>0.0</td>\n",
              "      <td>52.750000</td>\n",
              "    </tr>\n",
              "    <tr>\n",
              "      <th>2</th>\n",
              "      <td>2011-01-03</td>\n",
              "      <td>11.0</td>\n",
              "      <td>68.833333</td>\n",
              "    </tr>\n",
              "    <tr>\n",
              "      <th>3</th>\n",
              "      <td>2011-01-04</td>\n",
              "      <td>0.0</td>\n",
              "      <td>58.166667</td>\n",
              "    </tr>\n",
              "    <tr>\n",
              "      <th>4</th>\n",
              "      <td>2011-01-05</td>\n",
              "      <td>0.0</td>\n",
              "      <td>51.750000</td>\n",
              "    </tr>\n",
              "  </tbody>\n",
              "</table>\n",
              "</div>"
            ],
            "text/plain": [
              "    Datetime  Rain (Floresta)  Hum (Floresta)\n",
              "0 2011-01-01              0.0       47.666667\n",
              "1 2011-01-02              0.0       52.750000\n",
              "2 2011-01-03             11.0       68.833333\n",
              "3 2011-01-04              0.0       58.166667\n",
              "4 2011-01-05              0.0       51.750000"
            ]
          },
          "metadata": {
            "tags": []
          },
          "execution_count": 32
        }
      ]
    },
    {
      "cell_type": "code",
      "metadata": {
        "colab": {
          "base_uri": "https://localhost:8080/",
          "height": 237
        },
        "id": "82tsjRm2U_VM",
        "outputId": "d425ed7c-36df-441a-d3af-b1db5b0182a2"
      },
      "source": [
        "dados_dia.head()"
      ],
      "execution_count": 33,
      "outputs": [
        {
          "output_type": "execute_result",
          "data": {
            "text/html": [
              "<div>\n",
              "<style scoped>\n",
              "    .dataframe tbody tr th:only-of-type {\n",
              "        vertical-align: middle;\n",
              "    }\n",
              "\n",
              "    .dataframe tbody tr th {\n",
              "        vertical-align: top;\n",
              "    }\n",
              "\n",
              "    .dataframe thead th {\n",
              "        text-align: right;\n",
              "    }\n",
              "</style>\n",
              "<table border=\"1\" class=\"dataframe\">\n",
              "  <thead>\n",
              "    <tr style=\"text-align: right;\">\n",
              "      <th></th>\n",
              "      <th>Hum</th>\n",
              "      <th>Rain</th>\n",
              "    </tr>\n",
              "    <tr>\n",
              "      <th>Datetime</th>\n",
              "      <th></th>\n",
              "      <th></th>\n",
              "    </tr>\n",
              "  </thead>\n",
              "  <tbody>\n",
              "    <tr>\n",
              "      <th>2014-09-03</th>\n",
              "      <td>19.632025</td>\n",
              "      <td>0.0</td>\n",
              "    </tr>\n",
              "    <tr>\n",
              "      <th>2014-09-04</th>\n",
              "      <td>18.822053</td>\n",
              "      <td>0.0</td>\n",
              "    </tr>\n",
              "    <tr>\n",
              "      <th>2014-09-05</th>\n",
              "      <td>17.611506</td>\n",
              "      <td>0.0</td>\n",
              "    </tr>\n",
              "    <tr>\n",
              "      <th>2014-09-06</th>\n",
              "      <td>17.684167</td>\n",
              "      <td>0.0</td>\n",
              "    </tr>\n",
              "    <tr>\n",
              "      <th>2014-09-07</th>\n",
              "      <td>17.304258</td>\n",
              "      <td>0.0</td>\n",
              "    </tr>\n",
              "  </tbody>\n",
              "</table>\n",
              "</div>"
            ],
            "text/plain": [
              "                  Hum  Rain\n",
              "Datetime                   \n",
              "2014-09-03  19.632025   0.0\n",
              "2014-09-04  18.822053   0.0\n",
              "2014-09-05  17.611506   0.0\n",
              "2014-09-06  17.684167   0.0\n",
              "2014-09-07  17.304258   0.0"
            ]
          },
          "metadata": {
            "tags": []
          },
          "execution_count": 33
        }
      ]
    },
    {
      "cell_type": "code",
      "metadata": {
        "colab": {
          "base_uri": "https://localhost:8080/",
          "height": 206
        },
        "id": "oK2vUS4l7vCL",
        "outputId": "03bda9f4-5dae-4957-a195-3d877b0fae62"
      },
      "source": [
        "dados_dia = dados_dia.reset_index()\n",
        "dados_dia.head()"
      ],
      "execution_count": 34,
      "outputs": [
        {
          "output_type": "execute_result",
          "data": {
            "text/html": [
              "<div>\n",
              "<style scoped>\n",
              "    .dataframe tbody tr th:only-of-type {\n",
              "        vertical-align: middle;\n",
              "    }\n",
              "\n",
              "    .dataframe tbody tr th {\n",
              "        vertical-align: top;\n",
              "    }\n",
              "\n",
              "    .dataframe thead th {\n",
              "        text-align: right;\n",
              "    }\n",
              "</style>\n",
              "<table border=\"1\" class=\"dataframe\">\n",
              "  <thead>\n",
              "    <tr style=\"text-align: right;\">\n",
              "      <th></th>\n",
              "      <th>Datetime</th>\n",
              "      <th>Hum</th>\n",
              "      <th>Rain</th>\n",
              "    </tr>\n",
              "  </thead>\n",
              "  <tbody>\n",
              "    <tr>\n",
              "      <th>0</th>\n",
              "      <td>2014-09-03</td>\n",
              "      <td>19.632025</td>\n",
              "      <td>0.0</td>\n",
              "    </tr>\n",
              "    <tr>\n",
              "      <th>1</th>\n",
              "      <td>2014-09-04</td>\n",
              "      <td>18.822053</td>\n",
              "      <td>0.0</td>\n",
              "    </tr>\n",
              "    <tr>\n",
              "      <th>2</th>\n",
              "      <td>2014-09-05</td>\n",
              "      <td>17.611506</td>\n",
              "      <td>0.0</td>\n",
              "    </tr>\n",
              "    <tr>\n",
              "      <th>3</th>\n",
              "      <td>2014-09-06</td>\n",
              "      <td>17.684167</td>\n",
              "      <td>0.0</td>\n",
              "    </tr>\n",
              "    <tr>\n",
              "      <th>4</th>\n",
              "      <td>2014-09-07</td>\n",
              "      <td>17.304258</td>\n",
              "      <td>0.0</td>\n",
              "    </tr>\n",
              "  </tbody>\n",
              "</table>\n",
              "</div>"
            ],
            "text/plain": [
              "     Datetime        Hum  Rain\n",
              "0  2014-09-03  19.632025   0.0\n",
              "1  2014-09-04  18.822053   0.0\n",
              "2  2014-09-05  17.611506   0.0\n",
              "3  2014-09-06  17.684167   0.0\n",
              "4  2014-09-07  17.304258   0.0"
            ]
          },
          "metadata": {
            "tags": []
          },
          "execution_count": 34
        }
      ]
    },
    {
      "cell_type": "code",
      "metadata": {
        "colab": {
          "base_uri": "https://localhost:8080/",
          "height": 206
        },
        "id": "FrQuK1wD9DxW",
        "outputId": "fa8e4966-01b7-4820-8aa9-883b147587e4"
      },
      "source": [
        "dados_dia.columns = ['Datetime', 'Hum (OASI)', 'Rain (OASI)']\n",
        "dados_dia.head()"
      ],
      "execution_count": 35,
      "outputs": [
        {
          "output_type": "execute_result",
          "data": {
            "text/html": [
              "<div>\n",
              "<style scoped>\n",
              "    .dataframe tbody tr th:only-of-type {\n",
              "        vertical-align: middle;\n",
              "    }\n",
              "\n",
              "    .dataframe tbody tr th {\n",
              "        vertical-align: top;\n",
              "    }\n",
              "\n",
              "    .dataframe thead th {\n",
              "        text-align: right;\n",
              "    }\n",
              "</style>\n",
              "<table border=\"1\" class=\"dataframe\">\n",
              "  <thead>\n",
              "    <tr style=\"text-align: right;\">\n",
              "      <th></th>\n",
              "      <th>Datetime</th>\n",
              "      <th>Hum (OASI)</th>\n",
              "      <th>Rain (OASI)</th>\n",
              "    </tr>\n",
              "  </thead>\n",
              "  <tbody>\n",
              "    <tr>\n",
              "      <th>0</th>\n",
              "      <td>2014-09-03</td>\n",
              "      <td>19.632025</td>\n",
              "      <td>0.0</td>\n",
              "    </tr>\n",
              "    <tr>\n",
              "      <th>1</th>\n",
              "      <td>2014-09-04</td>\n",
              "      <td>18.822053</td>\n",
              "      <td>0.0</td>\n",
              "    </tr>\n",
              "    <tr>\n",
              "      <th>2</th>\n",
              "      <td>2014-09-05</td>\n",
              "      <td>17.611506</td>\n",
              "      <td>0.0</td>\n",
              "    </tr>\n",
              "    <tr>\n",
              "      <th>3</th>\n",
              "      <td>2014-09-06</td>\n",
              "      <td>17.684167</td>\n",
              "      <td>0.0</td>\n",
              "    </tr>\n",
              "    <tr>\n",
              "      <th>4</th>\n",
              "      <td>2014-09-07</td>\n",
              "      <td>17.304258</td>\n",
              "      <td>0.0</td>\n",
              "    </tr>\n",
              "  </tbody>\n",
              "</table>\n",
              "</div>"
            ],
            "text/plain": [
              "     Datetime  Hum (OASI)  Rain (OASI)\n",
              "0  2014-09-03   19.632025          0.0\n",
              "1  2014-09-04   18.822053          0.0\n",
              "2  2014-09-05   17.611506          0.0\n",
              "3  2014-09-06   17.684167          0.0\n",
              "4  2014-09-07   17.304258          0.0"
            ]
          },
          "metadata": {
            "tags": []
          },
          "execution_count": 35
        }
      ]
    },
    {
      "cell_type": "code",
      "metadata": {
        "colab": {
          "base_uri": "https://localhost:8080/"
        },
        "id": "yzEYa47l9em-",
        "outputId": "65862835-c46f-494c-f0db-1714c997c358"
      },
      "source": [
        "dados_dia['Datetime'] = pd.to_datetime(dados_dia['Datetime'])\n",
        "dados_dia.dtypes"
      ],
      "execution_count": 36,
      "outputs": [
        {
          "output_type": "execute_result",
          "data": {
            "text/plain": [
              "Datetime       datetime64[ns]\n",
              "Hum (OASI)            float64\n",
              "Rain (OASI)           float64\n",
              "dtype: object"
            ]
          },
          "metadata": {
            "tags": []
          },
          "execution_count": 36
        }
      ]
    },
    {
      "cell_type": "code",
      "metadata": {
        "colab": {
          "base_uri": "https://localhost:8080/",
          "height": 206
        },
        "id": "ysQyxeUT9RA4",
        "outputId": "81ff8ac6-14a1-469d-cf8b-dc0b12d427f8"
      },
      "source": [
        "df_diario_OASI_Floresta = dados_dia.merge(df, on = 'Datetime')\n",
        "df_diario_OASI_Floresta.head()"
      ],
      "execution_count": 37,
      "outputs": [
        {
          "output_type": "execute_result",
          "data": {
            "text/html": [
              "<div>\n",
              "<style scoped>\n",
              "    .dataframe tbody tr th:only-of-type {\n",
              "        vertical-align: middle;\n",
              "    }\n",
              "\n",
              "    .dataframe tbody tr th {\n",
              "        vertical-align: top;\n",
              "    }\n",
              "\n",
              "    .dataframe thead th {\n",
              "        text-align: right;\n",
              "    }\n",
              "</style>\n",
              "<table border=\"1\" class=\"dataframe\">\n",
              "  <thead>\n",
              "    <tr style=\"text-align: right;\">\n",
              "      <th></th>\n",
              "      <th>Datetime</th>\n",
              "      <th>Hum (OASI)</th>\n",
              "      <th>Rain (OASI)</th>\n",
              "      <th>Rain (Floresta)</th>\n",
              "      <th>Hum (Floresta)</th>\n",
              "    </tr>\n",
              "  </thead>\n",
              "  <tbody>\n",
              "    <tr>\n",
              "      <th>0</th>\n",
              "      <td>2014-09-03</td>\n",
              "      <td>19.632025</td>\n",
              "      <td>0.0</td>\n",
              "      <td>0.0</td>\n",
              "      <td>45.041667</td>\n",
              "    </tr>\n",
              "    <tr>\n",
              "      <th>1</th>\n",
              "      <td>2014-09-04</td>\n",
              "      <td>18.822053</td>\n",
              "      <td>0.0</td>\n",
              "      <td>0.0</td>\n",
              "      <td>47.708333</td>\n",
              "    </tr>\n",
              "    <tr>\n",
              "      <th>2</th>\n",
              "      <td>2014-09-05</td>\n",
              "      <td>17.611506</td>\n",
              "      <td>0.0</td>\n",
              "      <td>0.0</td>\n",
              "      <td>62.750000</td>\n",
              "    </tr>\n",
              "    <tr>\n",
              "      <th>3</th>\n",
              "      <td>2014-09-06</td>\n",
              "      <td>17.684167</td>\n",
              "      <td>0.0</td>\n",
              "      <td>0.4</td>\n",
              "      <td>67.625000</td>\n",
              "    </tr>\n",
              "    <tr>\n",
              "      <th>4</th>\n",
              "      <td>2014-09-07</td>\n",
              "      <td>17.304258</td>\n",
              "      <td>0.0</td>\n",
              "      <td>0.0</td>\n",
              "      <td>63.208333</td>\n",
              "    </tr>\n",
              "  </tbody>\n",
              "</table>\n",
              "</div>"
            ],
            "text/plain": [
              "    Datetime  Hum (OASI)  Rain (OASI)  Rain (Floresta)  Hum (Floresta)\n",
              "0 2014-09-03   19.632025          0.0              0.0       45.041667\n",
              "1 2014-09-04   18.822053          0.0              0.0       47.708333\n",
              "2 2014-09-05   17.611506          0.0              0.0       62.750000\n",
              "3 2014-09-06   17.684167          0.0              0.4       67.625000\n",
              "4 2014-09-07   17.304258          0.0              0.0       63.208333"
            ]
          },
          "metadata": {
            "tags": []
          },
          "execution_count": 37
        }
      ]
    },
    {
      "cell_type": "code",
      "metadata": {
        "colab": {
          "base_uri": "https://localhost:8080/"
        },
        "id": "9c9IJC73AbwX",
        "outputId": "8cb83cc2-a10a-453f-dcb8-e6fab0ed76d4"
      },
      "source": [
        "df_diario_OASI_Floresta.info()"
      ],
      "execution_count": 38,
      "outputs": [
        {
          "output_type": "stream",
          "text": [
            "<class 'pandas.core.frame.DataFrame'>\n",
            "Int64Index: 187 entries, 0 to 186\n",
            "Data columns (total 5 columns):\n",
            " #   Column           Non-Null Count  Dtype         \n",
            "---  ------           --------------  -----         \n",
            " 0   Datetime         187 non-null    datetime64[ns]\n",
            " 1   Hum (OASI)       187 non-null    float64       \n",
            " 2   Rain (OASI)      187 non-null    float64       \n",
            " 3   Rain (Floresta)  187 non-null    float64       \n",
            " 4   Hum (Floresta)   187 non-null    float64       \n",
            "dtypes: datetime64[ns](1), float64(4)\n",
            "memory usage: 8.8 KB\n"
          ],
          "name": "stdout"
        }
      ]
    },
    {
      "cell_type": "code",
      "metadata": {
        "colab": {
          "base_uri": "https://localhost:8080/"
        },
        "id": "kurwV0LgXF5L",
        "outputId": "b9cb603c-3b38-4438-fd56-76ceae08e59a"
      },
      "source": [
        "df_diario_OASI_Floresta['Hum (OASI)'].max()"
      ],
      "execution_count": 39,
      "outputs": [
        {
          "output_type": "execute_result",
          "data": {
            "text/plain": [
              "21.920763888888892"
            ]
          },
          "metadata": {
            "tags": []
          },
          "execution_count": 39
        }
      ]
    },
    {
      "cell_type": "code",
      "metadata": {
        "colab": {
          "base_uri": "https://localhost:8080/"
        },
        "id": "aSJzQyxcXK2y",
        "outputId": "6426dc0a-cf0e-4ac2-de09-d9a9bca85bb4"
      },
      "source": [
        "df_diario_OASI_Floresta['Hum (Floresta)'].max()"
      ],
      "execution_count": 40,
      "outputs": [
        {
          "output_type": "execute_result",
          "data": {
            "text/plain": [
              "77.25"
            ]
          },
          "metadata": {
            "tags": []
          },
          "execution_count": 40
        }
      ]
    },
    {
      "cell_type": "code",
      "metadata": {
        "id": "QBORCHnRAfWl"
      },
      "source": [
        "df_diario_OASI_Floresta.to_csv('dados_media_diaria-OASI-Floresta')"
      ],
      "execution_count": 41,
      "outputs": []
    },
    {
      "cell_type": "code",
      "metadata": {
        "colab": {
          "base_uri": "https://localhost:8080/",
          "height": 459
        },
        "id": "_YTLQ1TIL5oc",
        "outputId": "7e7485d9-59f8-4ecd-ee38-199a48287d44"
      },
      "source": [
        "plt.subplot(121)\n",
        "plt.scatter(df_diario_OASI_Floresta['Datetime'], df_diario_OASI_Floresta['Hum (OASI)'], label = 'OASI',color = 'blue')\n",
        "plt.scatter(df_diario_OASI_Floresta['Datetime'], df_diario_OASI_Floresta['Hum (Floresta)'], label = 'Floresta A351',color = 'red')\n",
        "plt.xticks(rotation = 25, size = 13)\n",
        "plt.ylabel('UMIDADE RELATIVA TOTAL (AUT) %', size = 13)\n",
        "plt.xlabel('Tempo de observação' + ' (Início ' + str(df_diario_OASI_Floresta['Datetime'][0]) + ')', size = 13)\n",
        "plt.ylim(0,80)\n",
        "plt.legend()\n",
        "\n",
        "plt.subplot(122)\n",
        "plt.scatter(df_diario_OASI_Floresta['Datetime'], df_diario_OASI_Floresta['Rain (OASI)'], label = 'OASI',color = 'blue')\n",
        "plt.scatter(df_diario_OASI_Floresta['Datetime'], df_diario_OASI_Floresta['Rain (Floresta)'], label = 'Floresta A351',color = 'red')\n",
        "plt.xticks(rotation = 25, size = 13)\n",
        "plt.ylabel('PRECIPITACAO TOTAL (AUT) (mm)', size = 13)\n",
        "plt.xlabel('Tempo de observação' + ' (Início ' + str(df_diario_OASI_Floresta['Datetime'][0]) + ')', size = 13)\n",
        "plt.ylim(0,60)\n",
        "plt.legend()\n",
        "\n",
        "plt.suptitle('Média diária - OASI e Floresta A351', size = 17)\n",
        "\n",
        "plt.savefig('media_diaria_OASI-Floresta.png')\n",
        "plt.show()"
      ],
      "execution_count": 42,
      "outputs": [
        {
          "output_type": "display_data",
          "data": {
            "image/png": "[encoded data removed]",
            "text/plain": [
              "<Figure size 1224x432 with 2 Axes>"
            ]
          },
          "metadata": {
            "tags": [],
            "needs_background": "light"
          }
        }
      ]
    },
    {
      "cell_type": "code",
      "metadata": {
        "colab": {
          "base_uri": "https://localhost:8080/",
          "height": 445
        },
        "id": "4mYZ1WDBbZsQ",
        "outputId": "ddffb850-4b4a-4eb8-e2f5-02e17997e9c8"
      },
      "source": [
        "#correlacao de pearson pelo scipy\n",
        "corr_pearson_scipy, p_value_pearson = pearsonr(df_diario_OASI_Floresta['Hum (Floresta)'],\n",
        "                               df_diario_OASI_Floresta['Hum (OASI)'])\n",
        "\n",
        "#correlacao de spearman pelo scipy\n",
        "corr_spearman_scipy, p_value_spearman = spearmanr(df_diario_OASI_Floresta['Hum (Floresta)'],\n",
        "                               df_diario_OASI_Floresta['Hum (OASI)'])\n",
        "\n",
        "corr_pearson_scipy = int(corr_pearson_scipy*100)/100\n",
        "corr_spearman_scipy = int(corr_spearman_scipy*100)/100\n",
        "\n",
        "#print('Correlacao de Pearson: {}'.format(corr_pearson_scipy))\n",
        "#print('Correlacao de Spearman: {}'.format(corr_spearman_scipy))\n",
        "\n",
        "plt.figure(figsize = (11,7))\n",
        "plt.scatter(df_diario_OASI_Floresta['Hum (Floresta)'], df_diario_OASI_Floresta['Hum (OASI)'], color = 'blue')\n",
        "pearson = 'Correlacao de Pearson: ' + str(corr_pearson_scipy)\n",
        "spearman = 'Correlacao de Spearman: ' + str(corr_spearman_scipy)\n",
        "plt.text(60,16, pearson, fontsize = 12)\n",
        "plt.text(60,15.7, spearman, fontsize = 12)\n",
        "plt.ylabel('UMIDADE RELATIVA TOTAL (AUT) %  - OASI', size = 13)\n",
        "plt.xlabel('UMIDADE RELATIVA TOTAL (AUT) % - Floresta A351', size = 13)\n",
        "plt.savefig('umidade-OASIxFloresta.png')\n",
        "plt.show()"
      ],
      "execution_count": 44,
      "outputs": [
        {
          "output_type": "display_data",
          "data": {
            "image/png": "[encoded data removed]",
            "text/plain": [
              "<Figure size 792x504 with 1 Axes>"
            ]
          },
          "metadata": {
            "tags": [],
            "needs_background": "light"
          }
        }
      ]
    },
    {
      "cell_type": "code",
      "metadata": {
        "id": "VVWtnJt3CqR_",
        "colab": {
          "base_uri": "https://localhost:8080/",
          "height": 542
        },
        "outputId": "5b2c25e7-630f-4129-a734-483f9faf73c0"
      },
      "source": [
        "# correlacao de pearson pelo pandas\n",
        "corr = df_diario_OASI_Floresta.corr()\n",
        "corr.to_csv('coeficiente_pearson_OASI-Floresta')\n",
        "print(corr.head())\n",
        "\n",
        "#diagrama de correlacao\n",
        "plt.figure(figsize = (10,5))\n",
        "plt.imshow(corr, cmap = 'Blues', interpolation = 'none', aspect = 'auto')\n",
        "plt.colorbar()\n",
        "\n",
        "corr.columns = ['Umidade relativa (OASI)', 'Precipitação (mm) (OASI)', 'Precipitação (mm) (Floresta)', 'Umidade relativa (Floresta)', ]\n",
        "plt.xticks(range(len(corr)), corr.columns, rotation = 'vertical')\n",
        "plt.yticks(range(len(corr)), corr.columns)\n",
        "\n",
        "plt.savefig('correlacao_OASI-Floresta.png')\n",
        "plt.show()"
      ],
      "execution_count": 46,
      "outputs": [
        {
          "output_type": "stream",
          "text": [
            "                 Hum (OASI)  Rain (OASI)  Rain (Floresta)  Hum (Floresta)\n",
            "Hum (OASI)         1.000000     0.230847         0.201362        0.326819\n",
            "Rain (OASI)        0.230847     1.000000         0.288256        0.150350\n",
            "Rain (Floresta)    0.201362     0.288256         1.000000        0.312086\n",
            "Hum (Floresta)     0.326819     0.150350         0.312086        1.000000\n"
          ],
          "name": "stdout"
        },
        {
          "output_type": "display_data",
          "data": {
            "image/png": "[encoded data removed]",
            "text/plain": [
              "<Figure size 720x360 with 2 Axes>"
            ]
          },
          "metadata": {
            "tags": [],
            "needs_background": "light"
          }
        }
      ]
    },
    {
      "cell_type": "code",
      "metadata": {
        "colab": {
          "base_uri": "https://localhost:8080/",
          "height": 206
        },
        "id": "KvRxReGqwQAI",
        "outputId": "ec55d25c-2d35-40d4-a9e8-93c3b8bc9007"
      },
      "source": [
        "seeing_30 = pd.read_csv('seeing_30s.csv', usecols = ['DATE-OBS','SEEING'])\n",
        "\n",
        "seeing_30.columns = ['Datetime', 'Seeing']\n",
        "seeing_30.to_csv('seeing-data_30s_R')\n",
        "\n",
        "seeing_30.head()"
      ],
      "execution_count": 47,
      "outputs": [
        {
          "output_type": "execute_result",
          "data": {
            "text/html": [
              "<div>\n",
              "<style scoped>\n",
              "    .dataframe tbody tr th:only-of-type {\n",
              "        vertical-align: middle;\n",
              "    }\n",
              "\n",
              "    .dataframe tbody tr th {\n",
              "        vertical-align: top;\n",
              "    }\n",
              "\n",
              "    .dataframe thead th {\n",
              "        text-align: right;\n",
              "    }\n",
              "</style>\n",
              "<table border=\"1\" class=\"dataframe\">\n",
              "  <thead>\n",
              "    <tr style=\"text-align: right;\">\n",
              "      <th></th>\n",
              "      <th>Datetime</th>\n",
              "      <th>Seeing</th>\n",
              "    </tr>\n",
              "  </thead>\n",
              "  <tbody>\n",
              "    <tr>\n",
              "      <th>0</th>\n",
              "      <td>2019-04-05T23:25:06</td>\n",
              "      <td>1.181833</td>\n",
              "    </tr>\n",
              "    <tr>\n",
              "      <th>1</th>\n",
              "      <td>2019-04-06T00:00:20</td>\n",
              "      <td>1.203707</td>\n",
              "    </tr>\n",
              "    <tr>\n",
              "      <th>2</th>\n",
              "      <td>2019-04-06T01:00:28</td>\n",
              "      <td>1.181152</td>\n",
              "    </tr>\n",
              "    <tr>\n",
              "      <th>3</th>\n",
              "      <td>2019-04-06T02:14:52</td>\n",
              "      <td>1.477593</td>\n",
              "    </tr>\n",
              "    <tr>\n",
              "      <th>4</th>\n",
              "      <td>2019-04-06T02:47:09</td>\n",
              "      <td>1.200506</td>\n",
              "    </tr>\n",
              "  </tbody>\n",
              "</table>\n",
              "</div>"
            ],
            "text/plain": [
              "              Datetime    Seeing\n",
              "0  2019-04-05T23:25:06  1.181833\n",
              "1  2019-04-06T00:00:20  1.203707\n",
              "2  2019-04-06T01:00:28  1.181152\n",
              "3  2019-04-06T02:14:52  1.477593\n",
              "4  2019-04-06T02:47:09  1.200506"
            ]
          },
          "metadata": {
            "tags": []
          },
          "execution_count": 47
        }
      ]
    },
    {
      "cell_type": "code",
      "metadata": {
        "colab": {
          "base_uri": "https://localhost:8080/",
          "height": 206
        },
        "id": "FJK1EWR1wSDG",
        "outputId": "f2440e13-79f5-4974-bf47-c5c10c9984f0"
      },
      "source": [
        "seeing_40 = pd.read_csv('seeing_40s.csv', usecols = ['DATE-OBS','SEEING'])\n",
        "\n",
        "seeing_40.columns = ['Datetime', 'Seeing']\n",
        "\n",
        "seeing_40.to_csv('seeing-data_40s_R')\n",
        "seeing_40.head()"
      ],
      "execution_count": 48,
      "outputs": [
        {
          "output_type": "execute_result",
          "data": {
            "text/html": [
              "<div>\n",
              "<style scoped>\n",
              "    .dataframe tbody tr th:only-of-type {\n",
              "        vertical-align: middle;\n",
              "    }\n",
              "\n",
              "    .dataframe tbody tr th {\n",
              "        vertical-align: top;\n",
              "    }\n",
              "\n",
              "    .dataframe thead th {\n",
              "        text-align: right;\n",
              "    }\n",
              "</style>\n",
              "<table border=\"1\" class=\"dataframe\">\n",
              "  <thead>\n",
              "    <tr style=\"text-align: right;\">\n",
              "      <th></th>\n",
              "      <th>Datetime</th>\n",
              "      <th>Seeing</th>\n",
              "    </tr>\n",
              "  </thead>\n",
              "  <tbody>\n",
              "    <tr>\n",
              "      <th>0</th>\n",
              "      <td>2019-01-08T23:11:50</td>\n",
              "      <td>0.754727</td>\n",
              "    </tr>\n",
              "    <tr>\n",
              "      <th>1</th>\n",
              "      <td>2019-01-09T00:00:41</td>\n",
              "      <td>0.869891</td>\n",
              "    </tr>\n",
              "    <tr>\n",
              "      <th>2</th>\n",
              "      <td>2019-01-09T01:00:31</td>\n",
              "      <td>1.158670</td>\n",
              "    </tr>\n",
              "    <tr>\n",
              "      <th>3</th>\n",
              "      <td>2019-01-09T02:00:28</td>\n",
              "      <td>1.150532</td>\n",
              "    </tr>\n",
              "    <tr>\n",
              "      <th>4</th>\n",
              "      <td>2019-01-09T03:00:21</td>\n",
              "      <td>1.048416</td>\n",
              "    </tr>\n",
              "  </tbody>\n",
              "</table>\n",
              "</div>"
            ],
            "text/plain": [
              "              Datetime    Seeing\n",
              "0  2019-01-08T23:11:50  0.754727\n",
              "1  2019-01-09T00:00:41  0.869891\n",
              "2  2019-01-09T01:00:31  1.158670\n",
              "3  2019-01-09T02:00:28  1.150532\n",
              "4  2019-01-09T03:00:21  1.048416"
            ]
          },
          "metadata": {
            "tags": []
          },
          "execution_count": 48
        }
      ]
    },
    {
      "cell_type": "code",
      "metadata": {
        "id": "EVsumNgfy-KF"
      },
      "source": [
        "seeing_30.Datetime = pd.to_datetime(seeing_30.Datetime)\n",
        "seeing_40.Datetime = pd.to_datetime(seeing_40.Datetime)"
      ],
      "execution_count": 49,
      "outputs": []
    },
    {
      "cell_type": "code",
      "metadata": {
        "id": "6ZLlWDo7y0iC"
      },
      "source": [
        "seeing_30_diario = seeing_30.groupby(by = seeing_30.Datetime.dt.date).mean()\n",
        "seeing_40_diario = seeing_40.groupby(by = seeing_40.Datetime.dt.date).mean()\n",
        "\n",
        "\n",
        "seeing_30_diario.to_csv('seeing-data_diario_30s_R')\n",
        "seeing_40_diario.to_csv('seeing-data_diario_40s_R')"
      ],
      "execution_count": 54,
      "outputs": []
    },
    {
      "cell_type": "code",
      "metadata": {
        "colab": {
          "base_uri": "https://localhost:8080/",
          "height": 376
        },
        "id": "nP229RMEzL5p",
        "outputId": "fdd4c61d-f2ad-47dc-b2ff-63aa695f3ab0"
      },
      "source": [
        "(seeing_30_diario.info())\n",
        "seeing_30_diario.head()"
      ],
      "execution_count": 52,
      "outputs": [
        {
          "output_type": "stream",
          "text": [
            "<class 'pandas.core.frame.DataFrame'>\n",
            "Index: 25 entries, 2019-04-05 to 2019-12-04\n",
            "Data columns (total 1 columns):\n",
            " #   Column  Non-Null Count  Dtype  \n",
            "---  ------  --------------  -----  \n",
            " 0   Seeing  25 non-null     float64\n",
            "dtypes: float64(1)\n",
            "memory usage: 400.0+ bytes\n"
          ],
          "name": "stdout"
        },
        {
          "output_type": "execute_result",
          "data": {
            "text/html": [
              "<div>\n",
              "<style scoped>\n",
              "    .dataframe tbody tr th:only-of-type {\n",
              "        vertical-align: middle;\n",
              "    }\n",
              "\n",
              "    .dataframe tbody tr th {\n",
              "        vertical-align: top;\n",
              "    }\n",
              "\n",
              "    .dataframe thead th {\n",
              "        text-align: right;\n",
              "    }\n",
              "</style>\n",
              "<table border=\"1\" class=\"dataframe\">\n",
              "  <thead>\n",
              "    <tr style=\"text-align: right;\">\n",
              "      <th></th>\n",
              "      <th>Seeing</th>\n",
              "    </tr>\n",
              "    <tr>\n",
              "      <th>Datetime</th>\n",
              "      <th></th>\n",
              "    </tr>\n",
              "  </thead>\n",
              "  <tbody>\n",
              "    <tr>\n",
              "      <th>2019-04-05</th>\n",
              "      <td>1.181833</td>\n",
              "    </tr>\n",
              "    <tr>\n",
              "      <th>2019-04-06</th>\n",
              "      <td>1.265739</td>\n",
              "    </tr>\n",
              "    <tr>\n",
              "      <th>2019-04-08</th>\n",
              "      <td>1.123272</td>\n",
              "    </tr>\n",
              "    <tr>\n",
              "      <th>2019-07-05</th>\n",
              "      <td>1.401407</td>\n",
              "    </tr>\n",
              "    <tr>\n",
              "      <th>2019-07-06</th>\n",
              "      <td>1.157226</td>\n",
              "    </tr>\n",
              "  </tbody>\n",
              "</table>\n",
              "</div>"
            ],
            "text/plain": [
              "              Seeing\n",
              "Datetime            \n",
              "2019-04-05  1.181833\n",
              "2019-04-06  1.265739\n",
              "2019-04-08  1.123272\n",
              "2019-07-05  1.401407\n",
              "2019-07-06  1.157226"
            ]
          },
          "metadata": {
            "tags": []
          },
          "execution_count": 52
        }
      ]
    },
    {
      "cell_type": "code",
      "metadata": {
        "colab": {
          "base_uri": "https://localhost:8080/",
          "height": 376
        },
        "id": "p0jGxZ1FzR1B",
        "outputId": "e234ea33-266d-40ad-fbfd-ea83ddce9bde"
      },
      "source": [
        "(seeing_40_diario.info())\n",
        "seeing_40_diario.head()"
      ],
      "execution_count": 53,
      "outputs": [
        {
          "output_type": "stream",
          "text": [
            "<class 'pandas.core.frame.DataFrame'>\n",
            "Index: 34 entries, 2019-01-08 to 2019-10-26\n",
            "Data columns (total 1 columns):\n",
            " #   Column  Non-Null Count  Dtype  \n",
            "---  ------  --------------  -----  \n",
            " 0   Seeing  34 non-null     float64\n",
            "dtypes: float64(1)\n",
            "memory usage: 544.0+ bytes\n"
          ],
          "name": "stdout"
        },
        {
          "output_type": "execute_result",
          "data": {
            "text/html": [
              "<div>\n",
              "<style scoped>\n",
              "    .dataframe tbody tr th:only-of-type {\n",
              "        vertical-align: middle;\n",
              "    }\n",
              "\n",
              "    .dataframe tbody tr th {\n",
              "        vertical-align: top;\n",
              "    }\n",
              "\n",
              "    .dataframe thead th {\n",
              "        text-align: right;\n",
              "    }\n",
              "</style>\n",
              "<table border=\"1\" class=\"dataframe\">\n",
              "  <thead>\n",
              "    <tr style=\"text-align: right;\">\n",
              "      <th></th>\n",
              "      <th>Seeing</th>\n",
              "    </tr>\n",
              "    <tr>\n",
              "      <th>Datetime</th>\n",
              "      <th></th>\n",
              "    </tr>\n",
              "  </thead>\n",
              "  <tbody>\n",
              "    <tr>\n",
              "      <th>2019-01-08</th>\n",
              "      <td>0.754727</td>\n",
              "    </tr>\n",
              "    <tr>\n",
              "      <th>2019-01-09</th>\n",
              "      <td>1.067362</td>\n",
              "    </tr>\n",
              "    <tr>\n",
              "      <th>2019-01-10</th>\n",
              "      <td>0.899092</td>\n",
              "    </tr>\n",
              "    <tr>\n",
              "      <th>2019-01-11</th>\n",
              "      <td>1.047945</td>\n",
              "    </tr>\n",
              "    <tr>\n",
              "      <th>2019-01-13</th>\n",
              "      <td>1.222681</td>\n",
              "    </tr>\n",
              "  </tbody>\n",
              "</table>\n",
              "</div>"
            ],
            "text/plain": [
              "              Seeing\n",
              "Datetime            \n",
              "2019-01-08  0.754727\n",
              "2019-01-09  1.067362\n",
              "2019-01-10  0.899092\n",
              "2019-01-11  1.047945\n",
              "2019-01-13  1.222681"
            ]
          },
          "metadata": {
            "tags": []
          },
          "execution_count": 53
        }
      ]
    },
    {
      "cell_type": "code",
      "metadata": {
        "colab": {
          "base_uri": "https://localhost:8080/",
          "height": 380
        },
        "id": "HgAI7yBwwUPq",
        "outputId": "f9b309d5-3521-42d5-9104-86395fe4b3f2"
      },
      "source": [
        "seeing_OASI = pd.read_csv('FWHMTotal_Total_Prueba.txt', delim_whitespace = True,\n",
        "                               names = ['Datetime', '?', 'Objeto', 'FWHM', 'Seeing'])\n",
        "\n",
        "del seeing_OASI['?']\n",
        "del seeing_OASI['Objeto']\n",
        "del seeing_OASI['FWHM']\n",
        "\n",
        "seeing_OASI.to_csv('seeing_OASI_2011-2018')\n",
        "\n",
        "print(seeing_OASI.info())\n",
        "seeing_OASI.head()"
      ],
      "execution_count": 57,
      "outputs": [
        {
          "output_type": "stream",
          "text": [
            "<class 'pandas.core.frame.DataFrame'>\n",
            "RangeIndex: 22078 entries, 0 to 22077\n",
            "Data columns (total 2 columns):\n",
            " #   Column    Non-Null Count  Dtype  \n",
            "---  ------    --------------  -----  \n",
            " 0   Datetime  22078 non-null  object \n",
            " 1   Seeing    22078 non-null  float64\n",
            "dtypes: float64(1), object(1)\n",
            "memory usage: 345.1+ KB\n",
            "None\n"
          ],
          "name": "stdout"
        },
        {
          "output_type": "execute_result",
          "data": {
            "text/html": [
              "<div>\n",
              "<style scoped>\n",
              "    .dataframe tbody tr th:only-of-type {\n",
              "        vertical-align: middle;\n",
              "    }\n",
              "\n",
              "    .dataframe tbody tr th {\n",
              "        vertical-align: top;\n",
              "    }\n",
              "\n",
              "    .dataframe thead th {\n",
              "        text-align: right;\n",
              "    }\n",
              "</style>\n",
              "<table border=\"1\" class=\"dataframe\">\n",
              "  <thead>\n",
              "    <tr style=\"text-align: right;\">\n",
              "      <th></th>\n",
              "      <th>Datetime</th>\n",
              "      <th>Seeing</th>\n",
              "    </tr>\n",
              "  </thead>\n",
              "  <tbody>\n",
              "    <tr>\n",
              "      <th>0</th>\n",
              "      <td>2011-05-12T01:14:37</td>\n",
              "      <td>1.503684</td>\n",
              "    </tr>\n",
              "    <tr>\n",
              "      <th>1</th>\n",
              "      <td>2011-05-12T01:15:10</td>\n",
              "      <td>1.487708</td>\n",
              "    </tr>\n",
              "    <tr>\n",
              "      <th>2</th>\n",
              "      <td>2011-05-12T01:15:43</td>\n",
              "      <td>1.519978</td>\n",
              "    </tr>\n",
              "    <tr>\n",
              "      <th>3</th>\n",
              "      <td>2011-05-12T01:16:16</td>\n",
              "      <td>1.474059</td>\n",
              "    </tr>\n",
              "    <tr>\n",
              "      <th>4</th>\n",
              "      <td>2011-05-12T01:16:49</td>\n",
              "      <td>1.568380</td>\n",
              "    </tr>\n",
              "  </tbody>\n",
              "</table>\n",
              "</div>"
            ],
            "text/plain": [
              "              Datetime    Seeing\n",
              "0  2011-05-12T01:14:37  1.503684\n",
              "1  2011-05-12T01:15:10  1.487708\n",
              "2  2011-05-12T01:15:43  1.519978\n",
              "3  2011-05-12T01:16:16  1.474059\n",
              "4  2011-05-12T01:16:49  1.568380"
            ]
          },
          "metadata": {
            "tags": []
          },
          "execution_count": 57
        }
      ]
    },
    {
      "cell_type": "code",
      "metadata": {
        "colab": {
          "base_uri": "https://localhost:8080/"
        },
        "id": "KmxDbb0iwWFz",
        "outputId": "45d8ec2e-d21a-4b52-f5af-5040d937accb"
      },
      "source": [
        "seeing_OASI.Datetime = pd.to_datetime(seeing_OASI.Datetime)\n",
        "\n",
        "seeing_OASI.info()"
      ],
      "execution_count": 58,
      "outputs": [
        {
          "output_type": "stream",
          "text": [
            "<class 'pandas.core.frame.DataFrame'>\n",
            "RangeIndex: 22078 entries, 0 to 22077\n",
            "Data columns (total 2 columns):\n",
            " #   Column    Non-Null Count  Dtype         \n",
            "---  ------    --------------  -----         \n",
            " 0   Datetime  22078 non-null  datetime64[ns]\n",
            " 1   Seeing    22078 non-null  float64       \n",
            "dtypes: datetime64[ns](1), float64(1)\n",
            "memory usage: 345.1 KB\n"
          ],
          "name": "stdout"
        }
      ]
    },
    {
      "cell_type": "code",
      "metadata": {
        "colab": {
          "base_uri": "https://localhost:8080/",
          "height": 237
        },
        "id": "IL2F064VwXRZ",
        "outputId": "849d8dfa-0821-4835-ead2-bafbdd7ad3e2"
      },
      "source": [
        "seeing_OASI_diario = seeing_OASI.groupby(by = seeing_OASI.Datetime.dt.date).mean()\n",
        "seeing_OASI_diario.head()"
      ],
      "execution_count": 59,
      "outputs": [
        {
          "output_type": "execute_result",
          "data": {
            "text/html": [
              "<div>\n",
              "<style scoped>\n",
              "    .dataframe tbody tr th:only-of-type {\n",
              "        vertical-align: middle;\n",
              "    }\n",
              "\n",
              "    .dataframe tbody tr th {\n",
              "        vertical-align: top;\n",
              "    }\n",
              "\n",
              "    .dataframe thead th {\n",
              "        text-align: right;\n",
              "    }\n",
              "</style>\n",
              "<table border=\"1\" class=\"dataframe\">\n",
              "  <thead>\n",
              "    <tr style=\"text-align: right;\">\n",
              "      <th></th>\n",
              "      <th>Seeing</th>\n",
              "    </tr>\n",
              "    <tr>\n",
              "      <th>Datetime</th>\n",
              "      <th></th>\n",
              "    </tr>\n",
              "  </thead>\n",
              "  <tbody>\n",
              "    <tr>\n",
              "      <th>2011-05-12</th>\n",
              "      <td>1.496963</td>\n",
              "    </tr>\n",
              "    <tr>\n",
              "      <th>2011-06-24</th>\n",
              "      <td>0.954734</td>\n",
              "    </tr>\n",
              "    <tr>\n",
              "      <th>2011-06-25</th>\n",
              "      <td>0.907572</td>\n",
              "    </tr>\n",
              "    <tr>\n",
              "      <th>2011-06-27</th>\n",
              "      <td>2.034281</td>\n",
              "    </tr>\n",
              "    <tr>\n",
              "      <th>2011-06-28</th>\n",
              "      <td>0.917489</td>\n",
              "    </tr>\n",
              "  </tbody>\n",
              "</table>\n",
              "</div>"
            ],
            "text/plain": [
              "              Seeing\n",
              "Datetime            \n",
              "2011-05-12  1.496963\n",
              "2011-06-24  0.954734\n",
              "2011-06-25  0.907572\n",
              "2011-06-27  2.034281\n",
              "2011-06-28  0.917489"
            ]
          },
          "metadata": {
            "tags": []
          },
          "execution_count": 59
        }
      ]
    },
    {
      "cell_type": "code",
      "metadata": {
        "colab": {
          "base_uri": "https://localhost:8080/",
          "height": 380
        },
        "id": "xrh5s2FgwYd1",
        "outputId": "a9de9246-2867-4854-eb17-9a90c7a7c28e"
      },
      "source": [
        "seeing_OASI_diario = seeing_OASI_diario.reset_index()\n",
        "\n",
        "seeing_OASI_diario.Datetime = pd.to_datetime(seeing_OASI_diario.Datetime)\n",
        "print(seeing_OASI_diario.info())\n",
        "\n",
        "seeing_OASI_diario.to_csv('seeing_data_OASI')\n",
        "\n",
        "seeing_OASI_diario.head()"
      ],
      "execution_count": 60,
      "outputs": [
        {
          "output_type": "stream",
          "text": [
            "<class 'pandas.core.frame.DataFrame'>\n",
            "RangeIndex: 230 entries, 0 to 229\n",
            "Data columns (total 2 columns):\n",
            " #   Column    Non-Null Count  Dtype         \n",
            "---  ------    --------------  -----         \n",
            " 0   Datetime  230 non-null    datetime64[ns]\n",
            " 1   Seeing    230 non-null    float64       \n",
            "dtypes: datetime64[ns](1), float64(1)\n",
            "memory usage: 3.7 KB\n",
            "None\n"
          ],
          "name": "stdout"
        },
        {
          "output_type": "execute_result",
          "data": {
            "text/html": [
              "<div>\n",
              "<style scoped>\n",
              "    .dataframe tbody tr th:only-of-type {\n",
              "        vertical-align: middle;\n",
              "    }\n",
              "\n",
              "    .dataframe tbody tr th {\n",
              "        vertical-align: top;\n",
              "    }\n",
              "\n",
              "    .dataframe thead th {\n",
              "        text-align: right;\n",
              "    }\n",
              "</style>\n",
              "<table border=\"1\" class=\"dataframe\">\n",
              "  <thead>\n",
              "    <tr style=\"text-align: right;\">\n",
              "      <th></th>\n",
              "      <th>Datetime</th>\n",
              "      <th>Seeing</th>\n",
              "    </tr>\n",
              "  </thead>\n",
              "  <tbody>\n",
              "    <tr>\n",
              "      <th>0</th>\n",
              "      <td>2011-05-12</td>\n",
              "      <td>1.496963</td>\n",
              "    </tr>\n",
              "    <tr>\n",
              "      <th>1</th>\n",
              "      <td>2011-06-24</td>\n",
              "      <td>0.954734</td>\n",
              "    </tr>\n",
              "    <tr>\n",
              "      <th>2</th>\n",
              "      <td>2011-06-25</td>\n",
              "      <td>0.907572</td>\n",
              "    </tr>\n",
              "    <tr>\n",
              "      <th>3</th>\n",
              "      <td>2011-06-27</td>\n",
              "      <td>2.034281</td>\n",
              "    </tr>\n",
              "    <tr>\n",
              "      <th>4</th>\n",
              "      <td>2011-06-28</td>\n",
              "      <td>0.917489</td>\n",
              "    </tr>\n",
              "  </tbody>\n",
              "</table>\n",
              "</div>"
            ],
            "text/plain": [
              "    Datetime    Seeing\n",
              "0 2011-05-12  1.496963\n",
              "1 2011-06-24  0.954734\n",
              "2 2011-06-25  0.907572\n",
              "3 2011-06-27  2.034281\n",
              "4 2011-06-28  0.917489"
            ]
          },
          "metadata": {
            "tags": []
          },
          "execution_count": 60
        }
      ]
    },
    {
      "cell_type": "code",
      "metadata": {
        "colab": {
          "base_uri": "https://localhost:8080/",
          "height": 397
        },
        "id": "nyZFcqjzwZ3Z",
        "outputId": "1020830a-556a-4e4a-a999-8817bd0df397"
      },
      "source": [
        "print(dados_dia.info())\n",
        "dados_dia.head()"
      ],
      "execution_count": 61,
      "outputs": [
        {
          "output_type": "stream",
          "text": [
            "<class 'pandas.core.frame.DataFrame'>\n",
            "RangeIndex: 200 entries, 0 to 199\n",
            "Data columns (total 3 columns):\n",
            " #   Column       Non-Null Count  Dtype         \n",
            "---  ------       --------------  -----         \n",
            " 0   Datetime     200 non-null    datetime64[ns]\n",
            " 1   Hum (OASI)   200 non-null    float64       \n",
            " 2   Rain (OASI)  200 non-null    float64       \n",
            "dtypes: datetime64[ns](1), float64(2)\n",
            "memory usage: 4.8 KB\n",
            "None\n"
          ],
          "name": "stdout"
        },
        {
          "output_type": "execute_result",
          "data": {
            "text/html": [
              "<div>\n",
              "<style scoped>\n",
              "    .dataframe tbody tr th:only-of-type {\n",
              "        vertical-align: middle;\n",
              "    }\n",
              "\n",
              "    .dataframe tbody tr th {\n",
              "        vertical-align: top;\n",
              "    }\n",
              "\n",
              "    .dataframe thead th {\n",
              "        text-align: right;\n",
              "    }\n",
              "</style>\n",
              "<table border=\"1\" class=\"dataframe\">\n",
              "  <thead>\n",
              "    <tr style=\"text-align: right;\">\n",
              "      <th></th>\n",
              "      <th>Datetime</th>\n",
              "      <th>Hum (OASI)</th>\n",
              "      <th>Rain (OASI)</th>\n",
              "    </tr>\n",
              "  </thead>\n",
              "  <tbody>\n",
              "    <tr>\n",
              "      <th>0</th>\n",
              "      <td>2014-09-03</td>\n",
              "      <td>19.632025</td>\n",
              "      <td>0.0</td>\n",
              "    </tr>\n",
              "    <tr>\n",
              "      <th>1</th>\n",
              "      <td>2014-09-04</td>\n",
              "      <td>18.822053</td>\n",
              "      <td>0.0</td>\n",
              "    </tr>\n",
              "    <tr>\n",
              "      <th>2</th>\n",
              "      <td>2014-09-05</td>\n",
              "      <td>17.611506</td>\n",
              "      <td>0.0</td>\n",
              "    </tr>\n",
              "    <tr>\n",
              "      <th>3</th>\n",
              "      <td>2014-09-06</td>\n",
              "      <td>17.684167</td>\n",
              "      <td>0.0</td>\n",
              "    </tr>\n",
              "    <tr>\n",
              "      <th>4</th>\n",
              "      <td>2014-09-07</td>\n",
              "      <td>17.304258</td>\n",
              "      <td>0.0</td>\n",
              "    </tr>\n",
              "  </tbody>\n",
              "</table>\n",
              "</div>"
            ],
            "text/plain": [
              "    Datetime  Hum (OASI)  Rain (OASI)\n",
              "0 2014-09-03   19.632025          0.0\n",
              "1 2014-09-04   18.822053          0.0\n",
              "2 2014-09-05   17.611506          0.0\n",
              "3 2014-09-06   17.684167          0.0\n",
              "4 2014-09-07   17.304258          0.0"
            ]
          },
          "metadata": {
            "tags": []
          },
          "execution_count": 61
        }
      ]
    },
    {
      "cell_type": "code",
      "metadata": {
        "colab": {
          "base_uri": "https://localhost:8080/",
          "height": 414
        },
        "id": "Y5JoTZfEwbM_",
        "outputId": "f79fe69e-f4d8-4b80-ff2c-ca197360216b"
      },
      "source": [
        "df_meteo_seeing = seeing_OASI_diario.merge(dados_dia, on = 'Datetime')\n",
        "df_meteo_seeing.to_csv('seeing_dados-meteor_OASI')\n",
        "\n",
        "print(df_meteo_seeing.info())\n",
        "df_meteo_seeing.head()"
      ],
      "execution_count": 62,
      "outputs": [
        {
          "output_type": "stream",
          "text": [
            "<class 'pandas.core.frame.DataFrame'>\n",
            "Int64Index: 20 entries, 0 to 19\n",
            "Data columns (total 4 columns):\n",
            " #   Column       Non-Null Count  Dtype         \n",
            "---  ------       --------------  -----         \n",
            " 0   Datetime     20 non-null     datetime64[ns]\n",
            " 1   Seeing       20 non-null     float64       \n",
            " 2   Hum (OASI)   20 non-null     float64       \n",
            " 3   Rain (OASI)  20 non-null     float64       \n",
            "dtypes: datetime64[ns](1), float64(3)\n",
            "memory usage: 800.0 bytes\n",
            "None\n"
          ],
          "name": "stdout"
        },
        {
          "output_type": "execute_result",
          "data": {
            "text/html": [
              "<div>\n",
              "<style scoped>\n",
              "    .dataframe tbody tr th:only-of-type {\n",
              "        vertical-align: middle;\n",
              "    }\n",
              "\n",
              "    .dataframe tbody tr th {\n",
              "        vertical-align: top;\n",
              "    }\n",
              "\n",
              "    .dataframe thead th {\n",
              "        text-align: right;\n",
              "    }\n",
              "</style>\n",
              "<table border=\"1\" class=\"dataframe\">\n",
              "  <thead>\n",
              "    <tr style=\"text-align: right;\">\n",
              "      <th></th>\n",
              "      <th>Datetime</th>\n",
              "      <th>Seeing</th>\n",
              "      <th>Hum (OASI)</th>\n",
              "      <th>Rain (OASI)</th>\n",
              "    </tr>\n",
              "  </thead>\n",
              "  <tbody>\n",
              "    <tr>\n",
              "      <th>0</th>\n",
              "      <td>2014-09-03</td>\n",
              "      <td>1.092224</td>\n",
              "      <td>19.632025</td>\n",
              "      <td>0.0</td>\n",
              "    </tr>\n",
              "    <tr>\n",
              "      <th>1</th>\n",
              "      <td>2014-09-04</td>\n",
              "      <td>1.698317</td>\n",
              "      <td>18.822053</td>\n",
              "      <td>0.0</td>\n",
              "    </tr>\n",
              "    <tr>\n",
              "      <th>2</th>\n",
              "      <td>2015-03-14</td>\n",
              "      <td>0.859240</td>\n",
              "      <td>21.475000</td>\n",
              "      <td>0.0</td>\n",
              "    </tr>\n",
              "    <tr>\n",
              "      <th>3</th>\n",
              "      <td>2015-04-13</td>\n",
              "      <td>2.041861</td>\n",
              "      <td>20.785740</td>\n",
              "      <td>0.0</td>\n",
              "    </tr>\n",
              "    <tr>\n",
              "      <th>4</th>\n",
              "      <td>2015-04-14</td>\n",
              "      <td>1.034545</td>\n",
              "      <td>20.382462</td>\n",
              "      <td>0.0</td>\n",
              "    </tr>\n",
              "  </tbody>\n",
              "</table>\n",
              "</div>"
            ],
            "text/plain": [
              "    Datetime    Seeing  Hum (OASI)  Rain (OASI)\n",
              "0 2014-09-03  1.092224   19.632025          0.0\n",
              "1 2014-09-04  1.698317   18.822053          0.0\n",
              "2 2015-03-14  0.859240   21.475000          0.0\n",
              "3 2015-04-13  2.041861   20.785740          0.0\n",
              "4 2015-04-14  1.034545   20.382462          0.0"
            ]
          },
          "metadata": {
            "tags": []
          },
          "execution_count": 62
        }
      ]
    },
    {
      "cell_type": "markdown",
      "metadata": {
        "id": "y0rzsg3-SQ_P"
      },
      "source": [
        "# **Dados OASI (PLOTLY)**"
      ]
    },
    {
      "cell_type": "code",
      "metadata": {
        "ExecuteTime": {
          "end_time": "2021-02-17T21:20:01.322604Z",
          "start_time": "2021-02-17T21:19:56.961035Z"
        },
        "scrolled": false,
        "id": "CfBw2BvdSQ_N",
        "outputId": "ba1b187e-fc5c-4fd7-b933-c41cb58a7810"
      },
      "source": [
        "dados_dia['Rain'].iplot(kind = 'scatter', \n",
        "                        title = 'OASI - Média diária', \n",
        "                        xTitle = 'Data da observação',\n",
        "                        yTitle = 'Precipitação total (AUT) (mm)', \n",
        "                        mode = 'markers')\n",
        "#dados_dia['Hum'].plot()"
      ],
      "execution_count": null,
      "outputs": [
        {
          "output_type": "execute_result",
          "data": {
            "text/html": [
              "\n",
              "        <iframe\n",
              "            width=\"100%\"\n",
              "            height=\"525px\"\n",
              "            src=\"https://plotly.com/~taaaticorrea/121.embed\"\n",
              "            frameborder=\"0\"\n",
              "            allowfullscreen\n",
              "        ></iframe>\n",
              "        "
            ],
            "text/plain": [
              "<IPython.lib.display.IFrame at 0x7f817048b4c0>"
            ]
          },
          "metadata": {
            "tags": []
          },
          "execution_count": 214
        }
      ]
    },
    {
      "cell_type": "code",
      "metadata": {
        "id": "zwKBdWGkSQ_Q"
      },
      "source": [
        ""
      ],
      "execution_count": null,
      "outputs": []
    }
  ]
}