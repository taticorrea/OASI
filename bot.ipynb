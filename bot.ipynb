{
 "cells": [
  {
   "cell_type": "code",
   "execution_count": 108,
   "metadata": {},
   "outputs": [],
   "source": [
    "%matplotlib inline\n",
    "import statistics as std\n",
    "import pandas as pd                                 \n",
    "import numpy as np                          #Importando os módulos necessários\n",
    "import matplotlib.pyplot as plt\n",
    "from astropy.io import fits\n",
    "from astropy.time import Time\n",
    "from astropy.io.fits import HDUList"
   ]
  },
  {
   "cell_type": "code",
   "execution_count": 109,
   "metadata": {},
   "outputs": [],
   "source": [
    "it = ['2019-02-03T21:00:00']                             #Inicio das observaçoes\n",
    "itime = Time(it, format = 'isot', scale = 'utc' )"
   ]
  },
  {
   "cell_type": "code",
   "execution_count": null,
   "metadata": {},
   "outputs": [],
   "source": []
  },
  {
   "cell_type": "code",
   "execution_count": 25,
   "metadata": {},
   "outputs": [
    {
     "name": "stdin",
     "output_type": "stream",
     "text": [
      "digite o nome do objeto:  2003CP20\n"
     ]
    }
   ],
   "source": [
    "objeto = input('digite o nome do objeto: ')"
   ]
  },
  {
   "cell_type": "code",
   "execution_count": 23,
   "metadata": {},
   "outputs": [
    {
     "name": "stdin",
     "output_type": "stream",
     "text": [
      "digite o nome da primeira imagem 2019-02-28/2003CP20_90s_b2x2-010_R.fit\n"
     ]
    },
    {
     "data": {
      "text/plain": [
       "['2019-02-28/2003CP20_90s_b2x2-010_R.fit']"
      ]
     },
     "execution_count": 23,
     "metadata": {},
     "output_type": "execute_result"
    }
   ],
   "source": [
    "name_objeto = []\n",
    "name_objeto.append(input('digite o nome da primeira imagem'))\n",
    "name_objeto"
   ]
  },
  {
   "cell_type": "code",
   "execution_count": 24,
   "metadata": {},
   "outputs": [
    {
     "data": {
      "text/plain": [
       "['2019-02-28/2003CP20_90s_b2x2-010_R.fit',\n",
       " '2019-02-28/2003CP20_90s_b2x2-020_R.fit',\n",
       " '2019-02-28/2003CP20_90s_b2x2-030_R.fit',\n",
       " '2019-02-28/2003CP20_90s_b2x2-040_R.fit',\n",
       " '2019-02-28/2003CP20_90s_b2x2-050_R.fit',\n",
       " '2019-02-28/2003CP20_90s_b2x2-060_R.fit',\n",
       " '2019-02-28/2003CP20_90s_b2x2-070_R.fit',\n",
       " '2019-02-28/2003CP20_90s_b2x2-080_R.fit',\n",
       " '2019-02-28/2003CP20_90s_b2x2-090_R.fit']"
      ]
     },
     "execution_count": 24,
     "metadata": {},
     "output_type": "execute_result"
    }
   ],
   "source": [
    "for i in range(10,90,10):       \n",
    "        number = first_name[29:32].replace(first_name[30:32],str(int(first_name[30:32])+i))   \n",
    "        name_objeto.append(first_name[:29] + str(number) + first_name[32:] )\n",
    "name_objeto"
   ]
  }
 ],
 "metadata": {
  "kernelspec": {
   "display_name": "Python 3",
   "language": "python",
   "name": "python3"
  },
  "language_info": {
   "codemirror_mode": {
    "name": "ipython",
    "version": 3
   },
   "file_extension": ".py",
   "mimetype": "text/x-python",
   "name": "python",
   "nbconvert_exporter": "python",
   "pygments_lexer": "ipython3",
   "version": "3.7.3"
  }
 },
 "nbformat": 4,
 "nbformat_minor": 4
}
